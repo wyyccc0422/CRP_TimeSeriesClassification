{
 "cells": [
  {
   "cell_type": "code",
   "execution_count": 1,
   "metadata": {},
   "outputs": [],
   "source": [
    "import pandas as pd\n",
    "import numpy as np\n",
    "import time\n",
    "from utils import dfwellgr,marker_ssig,extract_signature_Xy,get_classifier,plot_simple\n",
    "from sklearn.model_selection import train_test_split\n",
    "import random\n",
    "import matplotlib.pyplot as plt\n",
    "from tqdm import tqdm\n",
    "\n",
    "random.seed(42)"
   ]
  },
  {
   "cell_type": "code",
   "execution_count": 2,
   "metadata": {},
   "outputs": [],
   "source": [
    "#Import For Classification \n",
    "from sklearn.linear_model import RidgeClassifierCV\n",
    "from sklearn.linear_model import LogisticRegression\n",
    "import xgboost as xgb\n",
    "\n",
    "#Import For Testing \n",
    "from utils import window, plot_pred_distribution\n",
    "from constraints import apply_process,get_markers_rocket_order_with_constraint\n",
    "from utils import apply_evaluate\n",
    "\n",
    "from IPython.display import clear_output\n",
    "import statistics"
   ]
  },
  {
   "cell_type": "code",
   "execution_count": 11,
   "metadata": {},
   "outputs": [],
   "source": [
    "def run_prediction(myrocket,use_constraint=False,use_xgb=True,confidence_level=0.96):\n",
    "    start = time.time()\n",
    "    df_tops_pred = pd.DataFrame(pd.DataFrame(columns = ['wellName','MARCEL', 'SYLVAIN', 'CONRAD']))\n",
    "    intervals = apply_process(df_tops,confidence_level,log=True)\n",
    "    for well in tqdm(df_test_tops.index, desc=f\"Processing Wells\"):\n",
    "        pred_m, df_wm = get_markers_rocket_order_with_constraint(well,f_mean, f_std,intervals, df_test_log, pred_column, wsize, input_variable, \n",
    "                                             s2s = False,\n",
    "                                             model = None, \n",
    "                                             xgb = use_xgb,\n",
    "                                             rocket = myrocket, \n",
    "                                             classifier_xgb = classifier_xgb, \n",
    "                                             classifier = classifier,\n",
    "                                             constraint = use_constraint,\n",
    "                                            )\n",
    "        row = {'wellName':well, 'MARCEL':pred_m[0], 'SYLVAIN':pred_m[1], 'CONRAD':pred_m[2]}\n",
    "        row_df = pd.DataFrame([row])\n",
    "        df_tops_pred = pd.concat([df_tops_pred, row_df], axis = 0, ignore_index = \"True\")\n",
    "        \n",
    "    ext = time.time() - start\n",
    "    print(f'🍺 Total prediction time {ext}')\n",
    "    df_tops_pred['wellName']  = df_tops_pred['wellName'].astype(float)\n",
    "    df_tops_pred = df_tops_pred.sort_values(by = ['wellName']).reset_index().drop(['index'], axis = 1)\n",
    "    df_tops_pred = df_tops_pred.set_index('wellName')\n",
    "    return df_tops_pred"
   ]
  },
  {
   "cell_type": "markdown",
   "metadata": {},
   "source": [
    "### LOAD Data and Testing Data"
   ]
  },
  {
   "cell_type": "code",
   "execution_count": 5,
   "metadata": {},
   "outputs": [],
   "source": [
    "#Load Testing Data\n",
    "df_test_log = pd.read_parquet('testdata/logs_50.parquet', engine='fastparquet')\n",
    "df_test_log.loc[df_test_log['GR'] < -1, 'GR' ] = -1\n",
    "df_test_log.loc[df_test_log['GR'] > 400, 'GR' ] = 400\n",
    "\n",
    "df_test_loc = pd.read_parquet('testdata/loc_50.parquet', engine='fastparquet')\n",
    "df_test_loc = df_test_loc.reset_index()\n",
    "\n",
    "df_test_log = df_test_loc.merge(df_test_log, how = 'inner', left_on = 'wellName', right_on = 'wellName')\n",
    "\n",
    "df_test_tops = pd.read_csv('testdata/tops_50.csv')\n",
    "df_test_tops = df_test_tops.set_index('wellName')\n",
    "cols = ['MARCEL', 'SYLVAIN', 'CONRAD']\n",
    "df_test_tops = df_test_tops[cols]"
   ]
  },
  {
   "cell_type": "code",
   "execution_count": 6,
   "metadata": {},
   "outputs": [],
   "source": [
    "df_tops = pd.read_parquet('Training/tops.parquet', engine='fastparquet')\n",
    "cols = ['MARCEL', 'SYLVAIN', 'CONRAD']\n",
    "df_tops = df_tops[cols]\n",
    "df_tops.dropna(inplace = True)\n",
    "df_tops[df_tops['CONRAD'] - df_tops['SYLVAIN'] < 0] #Here we can see incorrect data\n",
    "\n",
    "well_array = np.load('hackaton_training_well_one.npy', allow_pickle=True)\n",
    "df_tops = df_tops[df_tops.index.isin(well_array[0][0])]"
   ]
  },
  {
   "cell_type": "markdown",
   "metadata": {},
   "source": [
    "### "
   ]
  },
  {
   "cell_type": "markdown",
   "metadata": {},
   "source": [
    "### Mini ROCKET"
   ]
  },
  {
   "cell_type": "markdown",
   "metadata": {},
   "source": [
    "The evolution of ROCKET, MINIROCKET [6], is proposed as the new default variant of ROCKET by its authors and utilizes only one feature per kernel (percentage of positive values), thereby halving the features. It also utilizes other optimizations to speed up ROCKET in general and follows a minimally random approach with a given set of kernels"
   ]
  },
  {
   "cell_type": "code",
   "execution_count": 20,
   "metadata": {},
   "outputs": [],
   "source": [
    "from sktime.transformations.panel.rocket import MiniRocket"
   ]
  },
  {
   "cell_type": "code",
   "execution_count": 21,
   "metadata": {},
   "outputs": [
    {
     "name": "stdout",
     "output_type": "stream",
     "text": [
      "Transforming time for mini ROCKET: 1.8457438945770264\n"
     ]
    }
   ],
   "source": [
    "#Load Prepared Data\n",
    "X = np.load('prepared_data/X_201.npy')\n",
    "y = np.load('prepared_data/y_201.npy')\n",
    "\n",
    "X_train, X_test, y_train, y_test = train_test_split(X, y, test_size=0.2, random_state=42)\n",
    "X_train,y_train = X,y\n",
    "minirocket = MiniRocket(num_kernels=10000) \n",
    "minirocket.fit(X_train) \n",
    "\n",
    "start = time.time()\n",
    "X_train_transformed = minirocket.transform(X_train) \n",
    "et = time.time() - start\n",
    "print(f'Transforming time for mini ROCKET: {et}')\n",
    "\n",
    "X_test_transformed = minirocket.transform(X_test) "
   ]
  },
  {
   "cell_type": "code",
   "execution_count": null,
   "metadata": {},
   "outputs": [],
   "source": [
    "f_mean, f_std, classifier_xgb, classifier = get_classifier(X_train_transformed,y_train,X_test_transformed,y_test)\n",
    "\n",
    "wsize = 201\n",
    "input_variable=['GR']\n",
    "pred_column = ['None','Marcel', 'Sylvain', 'Conrad']\n",
    "print('-'*10,'Prediction With Constraint','-'*10)\n",
    "df_tops_pred = run_prediction(minirocket,use_constraint=True,use_xgb=use_xgb)\n",
    "optimal_tolerance,_ = apply_evaluate(df_test_tops,df_tops_pred)"
   ]
  },
  {
   "cell_type": "markdown",
   "metadata": {},
   "source": [
    "### MultiROCKET"
   ]
  },
  {
   "cell_type": "code",
   "execution_count": 15,
   "metadata": {},
   "outputs": [],
   "source": [
    "from rocket.multi_rocket.multirocket import MultiRocket"
   ]
  },
  {
   "cell_type": "code",
   "execution_count": 16,
   "metadata": {},
   "outputs": [],
   "source": [
    "X = np.load('prepared_data/X_201.npy')\n",
    "y = np.load('prepared_data/y_201.npy')\n",
    "\n",
    "X_train, X_test, y_train, y_test = train_test_split(X, y, test_size=0.2, random_state=42)\n",
    "\n",
    "X_train = X_train.reshape((X_train.shape[0], X_train.shape[2]))\n",
    "X_test = X_test.reshape((X_test.shape[0], X_test.shape[2]))"
   ]
  },
  {
   "cell_type": "code",
   "execution_count": null,
   "metadata": {},
   "outputs": [],
   "source": [
    "num_kernels = [500,1000,2000]\n",
    "xgb = [True, False]\n",
    "\n",
    "wsize = 201\n",
    "input_variable=['GR']\n",
    "pred_column = ['None','Marcel', 'Sylvain', 'Conrad']\n",
    "\n",
    "for i in num_feat:\n",
    "    for use_xgb in xgb:\n",
    "        print(\"=\"*60)\n",
    "        print(f\"\\033[1mTesting Num_features:{i},Use_Xgb:{use_xgb}\\033[0m\")\n",
    "        print(\"\"*40)\n",
    "\n",
    "        multirocket = MultiRocket(\n",
    "            num_kernels=1000\n",
    "        )\n",
    "        multirocket.fit(X_train)\n",
    "        \n",
    "        start = time.time()\n",
    "        X_train_transformed = multirocket.transform(X_train)\n",
    "        et = time.time() - start\n",
    "        print(f'Transforming time for ROCKET: {et}')\n",
    "\n",
    "        X_test_transformed = multirocket.transform(X_test) \n",
    "\n",
    "        f_mean, f_std, classifier_xgb, classifier = get_classifier(X_train_transformed,y_train,X_test_transformed,y_test)\n",
    "        print('-'*10,'Prediction With Constraint','-'*10)\n",
    "        df_tops_pred = run_prediction(multirocket,use_constraint=True,use_xgb=use_xgb)\n",
    "        optimal_tolerance,_ = apply_evaluate(df_test_tops,df_tops_pred)\n"
   ]
  },
  {
   "cell_type": "markdown",
   "metadata": {},
   "source": [
    "### LightWaveS"
   ]
  },
  {
   "cell_type": "code",
   "execution_count": 7,
   "metadata": {},
   "outputs": [
    {
     "name": "stderr",
     "output_type": "stream",
     "text": [
      "[wangyuchens-MBP.lan:61592] shmem: mmap: an error occurred while determining whether or not /var/folders/gj/m7pys2v95k19_b1dkf01nl5r0000gn/T//ompi.wangyuchens-MBP.501/jf.0/2344026112/sm_segment.wangyuchens-MBP.501.8bb70000.0 could be created.\n"
     ]
    }
   ],
   "source": [
    "from rocket.lightwaves.lightwaves import LightWaveS"
   ]
  },
  {
   "cell_type": "code",
   "execution_count": 8,
   "metadata": {},
   "outputs": [],
   "source": [
    "X = np.load('prepared_data/X_201.npy')\n",
    "y = np.load('prepared_data/y_201.npy')\n",
    "\n",
    "X_train, X_test, y_train, y_test = train_test_split(X, y, test_size=0.2, random_state=42)"
   ]
  },
  {
   "cell_type": "code",
   "execution_count": 14,
   "metadata": {},
   "outputs": [
    {
     "name": "stdout",
     "output_type": "stream",
     "text": [
      "============================================================\n",
      "\u001b[1mTesting Num_features:500,Use_Xgb:True\u001b[0m\n",
      "\n",
      "Transforming time for ROCKET: 0.47490692138671875\n",
      "XGBoost 0.996437054631829\n",
      "Logistic  1 eps: 1.00E-06  C: 1.00E-02   train_acc: 0.99851  valid_acc: 0.99287\n",
      "---------- Prediction With Constraint ----------\n",
      "MARCEL 6212.0 6764.0\n",
      "SYLVAIN 6441.0 7010.0\n",
      "CONRAD 6464.0 7033.0\n"
     ]
    },
    {
     "name": "stderr",
     "output_type": "stream",
     "text": [
      "Processing Wells: 100%|██████████| 50/50 [00:49<00:00,  1.01it/s]\n"
     ]
    },
    {
     "name": "stdout",
     "output_type": "stream",
     "text": [
      "🍺 Total prediction time 52.08404588699341\n",
      "tolerance 20, recall 0.9933333333333333, mae 3.8033333333333332\n",
      "tolerance 15, recall 0.9666666666666667, mae 3.8033333333333332\n",
      "tolerance 10, recall 0.9066666666666666, mae 3.8033333333333332\n",
      "tolerance 5, recall 0.7866666666666666, mae 3.8033333333333332\n",
      "Largest Error MARCEL: 26.0\n",
      "Largest Error SYLVAIN: 18.0\n",
      "Largest Error CONRAD: 14.0\n",
      "🍺 Optimal Tolerance : 26\n",
      "============================================================\n",
      "\u001b[1mTesting Num_features:500,Use_Xgb:False\u001b[0m\n",
      "\n",
      "Transforming time for ROCKET: 0.54575514793396\n",
      "XGBoost 0.996437054631829\n",
      "Logistic  1 eps: 1.00E-06  C: 1.00E-02   train_acc: 0.99851  valid_acc: 0.99287\n",
      "---------- Prediction With Constraint ----------\n",
      "MARCEL 6212.0 6764.0\n",
      "SYLVAIN 6441.0 7010.0\n",
      "CONRAD 6464.0 7033.0\n"
     ]
    },
    {
     "name": "stderr",
     "output_type": "stream",
     "text": [
      "Processing Wells: 100%|██████████| 50/50 [01:01<00:00,  1.23s/it]\n"
     ]
    },
    {
     "name": "stdout",
     "output_type": "stream",
     "text": [
      "🍺 Total prediction time 63.703397274017334\n",
      "tolerance 20, recall 0.9933333333333333, mae 2.6433333333333335\n",
      "tolerance 15, recall 0.9866666666666667, mae 2.6433333333333335\n",
      "tolerance 10, recall 0.9666666666666667, mae 2.6433333333333335\n",
      "tolerance 5, recall 0.9266666666666666, mae 2.6433333333333335\n",
      "Largest Error MARCEL: 22.0\n",
      "Largest Error SYLVAIN: 10.0\n",
      "Largest Error CONRAD: 12.0\n",
      "🍺 Optimal Tolerance : 22\n",
      "============================================================\n",
      "\u001b[1mTesting Num_features:1000,Use_Xgb:True\u001b[0m\n",
      "\n",
      "Transforming time for ROCKET: 0.7517540454864502\n",
      "XGBoost 0.997624703087886\n",
      "Logistic  1 eps: 1.00E-06  C: 1.00E-02   train_acc: 0.99851  valid_acc: 0.99525\n",
      "---------- Prediction With Constraint ----------\n",
      "MARCEL 6212.0 6764.0\n",
      "SYLVAIN 6441.0 7010.0\n",
      "CONRAD 6464.0 7033.0\n"
     ]
    },
    {
     "name": "stderr",
     "output_type": "stream",
     "text": [
      "Processing Wells: 100%|██████████| 50/50 [01:26<00:00,  1.72s/it]\n"
     ]
    },
    {
     "name": "stdout",
     "output_type": "stream",
     "text": [
      "🍺 Total prediction time 88.0812201499939\n",
      "tolerance 20, recall 0.9866666666666667, mae 3.34\n",
      "tolerance 15, recall 0.9866666666666667, mae 3.34\n",
      "tolerance 10, recall 0.96, mae 3.34\n",
      "tolerance 5, recall 0.8066666666666666, mae 3.34\n",
      "Largest Error MARCEL: 26.0\n",
      "Largest Error SYLVAIN: 21.0\n",
      "Largest Error CONRAD: 14.0\n",
      "🍺 Optimal Tolerance : 26\n",
      "============================================================\n",
      "\u001b[1mTesting Num_features:1000,Use_Xgb:False\u001b[0m\n",
      "\n",
      "Transforming time for ROCKET: 0.7328143119812012\n",
      "XGBoost 0.997624703087886\n",
      "Logistic  1 eps: 1.00E-06  C: 1.00E-02   train_acc: 0.99851  valid_acc: 0.99525\n",
      "---------- Prediction With Constraint ----------\n",
      "MARCEL 6212.0 6764.0\n",
      "SYLVAIN 6441.0 7010.0\n",
      "CONRAD 6464.0 7033.0\n"
     ]
    },
    {
     "name": "stderr",
     "output_type": "stream",
     "text": [
      "Processing Wells: 100%|██████████| 50/50 [01:18<00:00,  1.58s/it]\n"
     ]
    },
    {
     "name": "stdout",
     "output_type": "stream",
     "text": [
      "🍺 Total prediction time 80.27910923957825\n",
      "tolerance 20, recall 0.9933333333333333, mae 2.6766666666666667\n",
      "tolerance 15, recall 0.9866666666666667, mae 2.6766666666666667\n",
      "tolerance 10, recall 0.9733333333333334, mae 2.6766666666666667\n",
      "tolerance 5, recall 0.9133333333333333, mae 2.6766666666666667\n",
      "Largest Error MARCEL: 22.0\n",
      "Largest Error SYLVAIN: 10.0\n",
      "Largest Error CONRAD: 12.0\n",
      "🍺 Optimal Tolerance : 22\n",
      "============================================================\n",
      "\u001b[1mTesting Num_features:2000,Use_Xgb:True\u001b[0m\n",
      "\n",
      "Transforming time for ROCKET: 1.0187959671020508\n",
      "XGBoost 0.998812351543943\n",
      "Logistic  1 eps: 1.00E-06  C: 1.00E-02   train_acc: 1.00000  valid_acc: 0.99644\n",
      "---------- Prediction With Constraint ----------\n",
      "MARCEL 6212.0 6764.0\n",
      "SYLVAIN 6441.0 7010.0\n",
      "CONRAD 6464.0 7033.0\n"
     ]
    },
    {
     "name": "stderr",
     "output_type": "stream",
     "text": [
      "Processing Wells: 100%|██████████| 50/50 [01:46<00:00,  2.14s/it]\n"
     ]
    },
    {
     "name": "stdout",
     "output_type": "stream",
     "text": [
      "🍺 Total prediction time 108.2645480632782\n",
      "tolerance 20, recall 0.9666666666666667, mae 5.55\n",
      "tolerance 15, recall 0.96, mae 5.55\n",
      "tolerance 10, recall 0.9333333333333333, mae 5.55\n",
      "tolerance 5, recall 0.78, mae 5.55\n",
      "Largest Error MARCEL: 67.0\n",
      "Largest Error SYLVAIN: 110.0\n",
      "Largest Error CONRAD: 112.0\n",
      "🍺 Optimal Tolerance : 112\n",
      "============================================================\n",
      "\u001b[1mTesting Num_features:2000,Use_Xgb:False\u001b[0m\n",
      "\n",
      "Transforming time for ROCKET: 1.0273609161376953\n",
      "XGBoost 0.998812351543943\n",
      "Logistic  1 eps: 1.00E-06  C: 1.00E-02   train_acc: 1.00000  valid_acc: 0.99644\n",
      "---------- Prediction With Constraint ----------\n",
      "MARCEL 6212.0 6764.0\n",
      "SYLVAIN 6441.0 7010.0\n",
      "CONRAD 6464.0 7033.0\n"
     ]
    },
    {
     "name": "stderr",
     "output_type": "stream",
     "text": [
      "Processing Wells: 100%|██████████| 50/50 [02:03<00:00,  2.47s/it]\n"
     ]
    },
    {
     "name": "stdout",
     "output_type": "stream",
     "text": [
      "🍺 Total prediction time 125.60870099067688\n",
      "tolerance 20, recall 1.0, mae 2.45\n",
      "tolerance 15, recall 0.9933333333333333, mae 2.45\n",
      "tolerance 10, recall 0.98, mae 2.45\n",
      "tolerance 5, recall 0.9133333333333333, mae 2.45\n",
      "Largest Error MARCEL: 18.0\n",
      "Largest Error SYLVAIN: 10.0\n",
      "Largest Error CONRAD: 14.0\n",
      "🍺 Optimal Tolerance : 18\n",
      "============================================================\n",
      "\u001b[1mTesting Num_features:5000,Use_Xgb:True\u001b[0m\n",
      "\n",
      "Transforming time for ROCKET: 1.029573917388916\n",
      "XGBoost 0.996437054631829\n",
      "Logistic  1 eps: 1.00E-06  C: 1.00E-02   train_acc: 1.00000  valid_acc: 0.99762\n",
      "---------- Prediction With Constraint ----------\n",
      "MARCEL 6212.0 6764.0\n",
      "SYLVAIN 6441.0 7010.0\n",
      "CONRAD 6464.0 7033.0\n"
     ]
    },
    {
     "name": "stderr",
     "output_type": "stream",
     "text": [
      "Processing Wells: 100%|██████████| 50/50 [01:47<00:00,  2.16s/it]\n"
     ]
    },
    {
     "name": "stdout",
     "output_type": "stream",
     "text": [
      "🍺 Total prediction time 109.00038695335388\n",
      "tolerance 20, recall 0.98, mae 4.486666666666666\n",
      "tolerance 15, recall 0.9466666666666667, mae 4.486666666666666\n",
      "tolerance 10, recall 0.92, mae 4.486666666666666\n",
      "tolerance 5, recall 0.7466666666666667, mae 4.486666666666666\n",
      "Largest Error MARCEL: 67.0\n",
      "Largest Error SYLVAIN: 20.0\n",
      "Largest Error CONRAD: 14.0\n",
      "🍺 Optimal Tolerance : 67\n",
      "============================================================\n",
      "\u001b[1mTesting Num_features:5000,Use_Xgb:False\u001b[0m\n",
      "\n",
      "Transforming time for ROCKET: 1.2681992053985596\n",
      "XGBoost 0.996437054631829\n",
      "Logistic  1 eps: 1.00E-06  C: 1.00E-02   train_acc: 1.00000  valid_acc: 0.99762\n",
      "---------- Prediction With Constraint ----------\n",
      "MARCEL 6212.0 6764.0\n",
      "SYLVAIN 6441.0 7010.0\n",
      "CONRAD 6464.0 7033.0\n"
     ]
    },
    {
     "name": "stderr",
     "output_type": "stream",
     "text": [
      "Processing Wells: 100%|██████████| 50/50 [02:24<00:00,  2.89s/it]\n"
     ]
    },
    {
     "name": "stdout",
     "output_type": "stream",
     "text": [
      "🍺 Total prediction time 148.4964406490326\n",
      "tolerance 20, recall 0.9933333333333333, mae 2.95\n",
      "tolerance 15, recall 0.98, mae 2.95\n",
      "tolerance 10, recall 0.9533333333333334, mae 2.95\n",
      "tolerance 5, recall 0.9, mae 2.95\n",
      "Largest Error MARCEL: 40.0\n",
      "Largest Error SYLVAIN: 10.0\n",
      "Largest Error CONRAD: 17.0\n",
      "🍺 Optimal Tolerance : 40\n"
     ]
    }
   ],
   "source": [
    "num_feat = [500,1000,2000,5000]\n",
    "xgb = [True, False]\n",
    "\n",
    "wsize = 201\n",
    "input_variable=['GR']\n",
    "pred_column = ['None','Marcel', 'Sylvain', 'Conrad']\n",
    "\n",
    "for i in num_feat:\n",
    "    for use_xgb in xgb:\n",
    "        print(\"=\"*60)\n",
    "        print(f\"\\033[1mTesting Num_features:{i},Use_Xgb:{use_xgb}\\033[0m\")\n",
    "        print(\"\"*40)\n",
    "\n",
    "        lightwaves = LightWaveS(final_num_feat=i)\n",
    "        lightwaves.fit(X_train.astype(np.float32),y_train)\n",
    "        \n",
    "        start = time.time()\n",
    "        X_train_transformed = lightwaves.transform(X_train)\n",
    "        et = time.time() - start\n",
    "        print(f'Transforming time for ROCKET: {et}')\n",
    "\n",
    "        X_test_transformed = lightwaves.transform(X_test) \n",
    "\n",
    "        f_mean, f_std, classifier_xgb, classifier = get_classifier(X_train_transformed,y_train,X_test_transformed,y_test)\n",
    "        print('-'*10,'Prediction With Constraint','-'*10)\n",
    "        df_tops_pred = run_prediction(lightwaves,use_constraint=True,use_xgb=use_xgb)\n",
    "        optimal_tolerance,_ = apply_evaluate(df_test_tops,df_tops_pred)\n"
   ]
  }
 ],
 "metadata": {
  "kernelspec": {
   "display_name": "Python 3",
   "language": "python",
   "name": "python3"
  },
  "language_info": {
   "codemirror_mode": {
    "name": "ipython",
    "version": 3
   },
   "file_extension": ".py",
   "mimetype": "text/x-python",
   "name": "python",
   "nbconvert_exporter": "python",
   "pygments_lexer": "ipython3",
   "version": "3.10.7"
  }
 },
 "nbformat": 4,
 "nbformat_minor": 2
}
