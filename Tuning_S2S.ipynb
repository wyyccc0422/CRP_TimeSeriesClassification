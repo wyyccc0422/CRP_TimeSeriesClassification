{
 "cells": [
  {
   "cell_type": "code",
   "execution_count": 1,
   "metadata": {},
   "outputs": [],
   "source": [
    "import pandas as pd\n",
    "import numpy as np\n",
    "import time\n",
    "from sklearn.model_selection import train_test_split\n",
    "import random\n",
    "import matplotlib.pyplot as plt\n",
    "import torch\n",
    "from torch.utils.data import TensorDataset, DataLoader\n",
    "from IPython.display import clear_output\n",
    "from tqdm import tqdm\n",
    "\n",
    "#Import Testing Functions \n",
    "from utils import plot_pred_distribution,apply_evaluate\n",
    "from constraints import apply_process,get_markers_rocket_order_with_constraint\n",
    "\n",
    "torch.manual_seed(42)\n",
    "np.random.seed(42)\n"
   ]
  },
  {
   "cell_type": "code",
   "execution_count": 2,
   "metadata": {},
   "outputs": [],
   "source": [
    "## Testing Function -- Loop Through Each Well in Testing Data\n",
    "def run_prediction(mymodel,use_constraint=True,confidence_level=0.96,verbose=0):\n",
    "    start = time.time()\n",
    "    intervals = apply_process(df_tops,confidence_level,log=True)\n",
    "    df_tops_pred = pd.DataFrame(pd.DataFrame(columns = ['wellName','MARCEL', 'SYLVAIN', 'CONRAD']))\n",
    "    for well in tqdm(df_test_tops.index, desc=f\"Processing Wells\"):\n",
    "        pred_m, df_wm = get_markers_rocket_order_with_constraint(well,f_mean, f_std,intervals, df_test_log, pred_column, wsize, input_variable, \n",
    "                                             s2s = True,\n",
    "                                             model = mymodel, \n",
    "                                             xgb = False,\n",
    "                                             rocket = None, \n",
    "                                             classifier_xgb = None, \n",
    "                                             classifier = None,\n",
    "                                             constraint = use_constraint)\n",
    "        if verbose:\n",
    "            print(well,pred_m)\n",
    "        row = {'wellName':well, 'MARCEL':pred_m[0], 'SYLVAIN':pred_m[1], 'CONRAD':pred_m[2]}\n",
    "        row_df = pd.DataFrame([row])\n",
    "        df_tops_pred = pd.concat([df_tops_pred, row_df], axis = 0, ignore_index = \"True\")\n",
    "        \n",
    "    ext = time.time() - start\n",
    "    print(f'🍺 Total prediction time {ext}')\n",
    "    df_tops_pred['wellName']  = df_tops_pred['wellName'].astype(float)\n",
    "    df_tops_pred = df_tops_pred.sort_values(by = ['wellName']).reset_index().drop(['index'], axis = 1)\n",
    "    df_tops_pred = df_tops_pred.set_index('wellName')\n",
    "    return df_tops_pred"
   ]
  },
  {
   "cell_type": "markdown",
   "metadata": {},
   "source": [
    "### LOAD Traing and Testing Data"
   ]
  },
  {
   "cell_type": "code",
   "execution_count": 3,
   "metadata": {},
   "outputs": [],
   "source": [
    "#Load Prepared Training Data\n",
    "\n",
    "X = np.load('prepared_data/X_201.npy')\n",
    "y= np.load('prepared_data/y_201.npy')\n",
    "\n",
    "# X = np.load('prepared_data/X_101.npy')\n",
    "# y= np.load('prepared_data/y_101.npy')\n",
    "\n",
    "# X = np.load('prepared_data/X_51.npy')\n",
    "# y= np.load('prepared_data/y_51.npy')\n"
   ]
  },
  {
   "cell_type": "code",
   "execution_count": 4,
   "metadata": {},
   "outputs": [],
   "source": [
    "#Load Testing Data\n",
    "df_test_log = pd.read_parquet('testdata/logs_50.parquet', engine='fastparquet')\n",
    "df_test_log.loc[df_test_log['GR'] < -1, 'GR' ] = -1\n",
    "df_test_log.loc[df_test_log['GR'] > 400, 'GR' ] = 400\n",
    "\n",
    "df_test_loc = pd.read_parquet('testdata/loc_50.parquet', engine='fastparquet')\n",
    "df_test_loc = df_test_loc.reset_index()\n",
    "\n",
    "df_test_log = df_test_loc.merge(df_test_log, how = 'inner', left_on = 'wellName', right_on = 'wellName')\n",
    "\n",
    "df_test_tops = pd.read_csv('testdata/tops_50.csv')\n",
    "df_test_tops = df_test_tops.set_index('wellName')\n",
    "cols = ['MARCEL', 'SYLVAIN', 'CONRAD']\n",
    "df_test_tops = df_test_tops[cols]"
   ]
  },
  {
   "cell_type": "code",
   "execution_count": 5,
   "metadata": {},
   "outputs": [],
   "source": [
    "df_tops = pd.read_parquet('Training/tops.parquet', engine='fastparquet')\n",
    "cols = ['MARCEL', 'SYLVAIN', 'CONRAD']\n",
    "df_tops = df_tops[cols]\n",
    "df_tops.dropna(inplace = True)\n",
    "df_tops[df_tops['CONRAD'] - df_tops['SYLVAIN'] < 0] #Here we can see incorrect data\n",
    "\n",
    "well_array = np.load('hackaton_training_well_one.npy', allow_pickle=True)\n",
    "df_tops = df_tops[df_tops.index.isin(well_array[0][0])]"
   ]
  },
  {
   "cell_type": "markdown",
   "metadata": {},
   "source": [
    "### Create DataLoader"
   ]
  },
  {
   "cell_type": "code",
   "execution_count": 6,
   "metadata": {},
   "outputs": [],
   "source": [
    "#one hot for y \n",
    "y = np.eye(np.max(y) + 1)[y]\n",
    "\n",
    "#nomralization for X\n",
    "eps = 1e-6\n",
    "f_mean = X.mean(axis=0)\n",
    "f_std = X.std(axis=0) + eps  \n",
    "X_norm= (X - f_mean) / f_std\n",
    "\n",
    "#Split train & validation set\n",
    "X_train, X_valid, y_train, y_valid = train_test_split(X_norm, y, test_size=0.2, random_state=42)\n",
    "\n",
    "#Create dataloader\n",
    "X_train_tensor = torch.tensor(X_train, dtype=torch.float32)  \n",
    "y_train_tensor = torch.tensor(y_train, dtype=torch.long)  \n",
    "\n",
    "X_valid_tensor = torch.tensor(X_valid, dtype=torch.float32) \n",
    "y_valid_tensor = torch.tensor(y_valid, dtype=torch.long)  \n",
    "\n",
    "dataset_train = TensorDataset(X_train_tensor, y_train_tensor)\n",
    "dataloader_train = DataLoader(dataset_train, batch_size=64, shuffle=False)  \n",
    "\n",
    "dataset_test = TensorDataset(X_valid_tensor, y_valid_tensor)\n",
    "dataloader_test = DataLoader(dataset_test, batch_size=64, shuffle=False) "
   ]
  },
  {
   "cell_type": "markdown",
   "metadata": {},
   "source": [
    "### Training FUNCTION"
   ]
  },
  {
   "cell_type": "code",
   "execution_count": 7,
   "metadata": {},
   "outputs": [],
   "source": [
    "class EarlyStopper:\n",
    "    def __init__(self, patience=1, min_delta=0):\n",
    "        self.patience = patience\n",
    "        self.min_delta = min_delta\n",
    "        self.counter = 0\n",
    "        self.min_loss = float('inf')\n",
    "\n",
    "    def early_stop(self, validation_loss):\n",
    "        improvement = self.min_loss - validation_loss\n",
    "        if improvement > self.min_delta:\n",
    "            self.min_loss = validation_loss\n",
    "            self.counter = 0\n",
    "            return False\n",
    "        else:\n",
    "            self.counter += 1\n",
    "            if self.counter >= self.patience:\n",
    "                return True\n",
    "            return False"
   ]
  },
  {
   "cell_type": "code",
   "execution_count": 16,
   "metadata": {},
   "outputs": [],
   "source": [
    "def train(num_epochs,model,patience=2,verbose=0,lr=0.0001):\n",
    "   \n",
    "    start = time.time()\n",
    "       \n",
    "    optimizer = torch.optim.Adam(model.parameters(), lr=lr)\n",
    "    criterion = torch.nn.CrossEntropyLoss()\n",
    "    early_stopper = EarlyStopper(patience,min_delta= 1e-4)\n",
    "\n",
    "    for epoch in range(num_epochs):\n",
    "\n",
    "        #========================TRAIN===========================#\n",
    "        model.train()\n",
    "        for i, (input_tensor, target_tensor) in enumerate(dataloader_train):\n",
    "            input_tensor = input_tensor\n",
    "            target_tensor = target_tensor.float()\n",
    "            optimizer.zero_grad()\n",
    "\n",
    "            output = model(input_tensor) \n",
    "            train_loss = criterion(output, target_tensor)\n",
    "\n",
    "            train_loss.backward()\n",
    "            \n",
    "            optimizer.step()\n",
    "\n",
    "        #========================EVALUATE===========================#\n",
    "        num_correct = 0\n",
    "        num_samples = 0\n",
    "        model.eval()\n",
    "\n",
    "        with torch.no_grad():\n",
    "            for i, (input_tensor, target_tensor) in enumerate(dataloader_test):\n",
    "                \n",
    "                input_tensor = input_tensor\n",
    "                target_tensor = target_tensor.float()\n",
    "                output = model(input_tensor) \n",
    "  \n",
    "                validation_loss = criterion(output, target_tensor)\n",
    "\n",
    "                target_classes = target_tensor.long()\n",
    "                target_classes = torch.argmax(target_classes, dim=1)\n",
    "      \n",
    "                pred_classes = torch.argmax(output, dim=1)\n",
    "\n",
    "                num_correct += torch.sum(pred_classes == target_classes).item()\n",
    "                current_batch_size = input_tensor.size(0) \n",
    "                num_samples += current_batch_size\n",
    "            \n",
    "            accuracy = num_correct / num_samples\n",
    "            if verbose:\n",
    "                print(f'Epoch {epoch+1}/{num_epochs},   Training Loss:{train_loss.item():.5f},   Accuracy: {accuracy * 100:.2f}%,    Validation Loss: {validation_loss.item():.5f}')\n",
    "            if epoch+1 > 5:\n",
    "                if early_stopper.early_stop(validation_loss):  \n",
    "                    print(f\"Early Stop Triggered, Final Accuracy {accuracy * 100:.2f}\")           \n",
    "                    break\n",
    "\n",
    "    ext = time.time() - start\n",
    "    print('Total training time',ext)\n",
    "    return model"
   ]
  },
  {
   "cell_type": "markdown",
   "metadata": {},
   "source": [
    "### FOUR S2S Models"
   ]
  },
  {
   "cell_type": "code",
   "execution_count": 9,
   "metadata": {},
   "outputs": [],
   "source": [
    "#import model\n",
    "\n",
    "from s2s_model.LSTMA import LSTMAttn \n",
    "from s2s_model.BiGRUA import BiGRUAttn\n",
    "from s2s_model.ConvgruA_simple import Attention,Encoder,Decoder,CONVGRUA_SIMPLE ## without skip connection and chanel attention\n",
    "from s2s_model.ConvgruA import CONVGRUA "
   ]
  },
  {
   "cell_type": "markdown",
   "metadata": {},
   "source": [
    "#### BIGUA MODEL"
   ]
  },
  {
   "cell_type": "code",
   "execution_count": 10,
   "metadata": {},
   "outputs": [],
   "source": [
    "input_size = X.shape[2]"
   ]
  },
  {
   "cell_type": "code",
   "execution_count": 12,
   "metadata": {},
   "outputs": [
    {
     "name": "stdout",
     "output_type": "stream",
     "text": [
      "============================================================\n",
      "\u001b[1mTesting Hidden_Size:64\u001b[0m\n",
      "\n",
      "Training model...\n",
      "Early Stop Triggered, Final Accuracy 99.41\n",
      "Total training time 10.89880108833313\n",
      "---------- Prediction With Constraint ----------\n",
      "MARCEL 6212.0 6764.0\n",
      "SYLVAIN 6441.0 7010.0\n",
      "CONRAD 6464.0 7033.0\n"
     ]
    },
    {
     "name": "stderr",
     "output_type": "stream",
     "text": [
      "Processing Wells: 100%|██████████| 50/50 [00:08<00:00,  5.69it/s]\n"
     ]
    },
    {
     "name": "stdout",
     "output_type": "stream",
     "text": [
      "🍺 Total prediction time 9.612766981124878\n",
      "tolerance 20, recall 1.0, mae 3.203333333333333\n",
      "tolerance 15, recall 0.98, mae 3.203333333333333\n",
      "tolerance 10, recall 0.9533333333333334, mae 3.203333333333333\n",
      "tolerance 5, recall 0.8333333333333334, mae 3.203333333333333\n",
      "Largest Error MARCEL: 16.0\n",
      "Largest Error SYLVAIN: 17.0\n",
      "Largest Error CONRAD: 12.0\n",
      "🍺 Optimal Tolerance : 17\n",
      "---------- Prediction Without Constraint ----------\n",
      "MARCEL 6212.0 6764.0\n",
      "SYLVAIN 6441.0 7010.0\n",
      "CONRAD 6464.0 7033.0\n"
     ]
    },
    {
     "name": "stderr",
     "output_type": "stream",
     "text": [
      "Processing Wells: 100%|██████████| 50/50 [00:11<00:00,  4.32it/s]\n"
     ]
    },
    {
     "name": "stdout",
     "output_type": "stream",
     "text": [
      "🍺 Total prediction time 12.506213188171387\n",
      "tolerance 20, recall 1.0, mae 3.203333333333333\n",
      "tolerance 15, recall 0.98, mae 3.203333333333333\n",
      "tolerance 10, recall 0.9533333333333334, mae 3.203333333333333\n",
      "tolerance 5, recall 0.8333333333333334, mae 3.203333333333333\n",
      "Largest Error MARCEL: 16.0\n",
      "Largest Error SYLVAIN: 17.0\n",
      "Largest Error CONRAD: 12.0\n",
      "🍺 Optimal Tolerance : 17\n",
      "============================================================\n",
      "\u001b[1mTesting Hidden_Size:128\u001b[0m\n",
      "\n",
      "Training model...\n",
      "Early Stop Triggered, Final Accuracy 99.41\n",
      "Total training time 3.657831907272339\n",
      "---------- Prediction With Constraint ----------\n",
      "MARCEL 6212.0 6764.0\n",
      "SYLVAIN 6441.0 7010.0\n",
      "CONRAD 6464.0 7033.0\n"
     ]
    },
    {
     "name": "stderr",
     "output_type": "stream",
     "text": [
      "Processing Wells: 100%|██████████| 50/50 [00:16<00:00,  3.12it/s]\n"
     ]
    },
    {
     "name": "stdout",
     "output_type": "stream",
     "text": [
      "🍺 Total prediction time 17.69671106338501\n",
      "tolerance 20, recall 0.9866666666666667, mae 2.97\n",
      "tolerance 15, recall 0.98, mae 2.97\n",
      "tolerance 10, recall 0.96, mae 2.97\n",
      "tolerance 5, recall 0.8733333333333333, mae 2.97\n",
      "Largest Error MARCEL: 29.0\n",
      "Largest Error SYLVAIN: 16.0\n",
      "Largest Error CONRAD: 13.0\n",
      "🍺 Optimal Tolerance : 29\n",
      "---------- Prediction Without Constraint ----------\n",
      "MARCEL 6212.0 6764.0\n",
      "SYLVAIN 6441.0 7010.0\n",
      "CONRAD 6464.0 7033.0\n"
     ]
    },
    {
     "name": "stderr",
     "output_type": "stream",
     "text": [
      "Processing Wells: 100%|██████████| 50/50 [00:15<00:00,  3.17it/s]\n"
     ]
    },
    {
     "name": "stdout",
     "output_type": "stream",
     "text": [
      "🍺 Total prediction time 16.697445154190063\n",
      "tolerance 20, recall 0.9733333333333334, mae 18.99\n",
      "tolerance 15, recall 0.9666666666666667, mae 18.99\n",
      "tolerance 10, recall 0.96, mae 18.99\n",
      "tolerance 5, recall 0.8733333333333333, mae 18.99\n",
      "Largest Error MARCEL: 29.0\n",
      "Largest Error SYLVAIN: 16.0\n",
      "Largest Error CONRAD: 2341.0\n",
      "🍺 Optimal Tolerance : 2341\n",
      "============================================================\n",
      "\u001b[1mTesting Hidden_Size:256\u001b[0m\n",
      "\n",
      "Training model...\n",
      "Early Stop Triggered, Final Accuracy 99.52\n",
      "Total training time 12.814902782440186\n",
      "---------- Prediction With Constraint ----------\n",
      "MARCEL 6212.0 6764.0\n",
      "SYLVAIN 6441.0 7010.0\n",
      "CONRAD 6464.0 7033.0\n"
     ]
    },
    {
     "name": "stderr",
     "output_type": "stream",
     "text": [
      "Processing Wells: 100%|██████████| 50/50 [00:31<00:00,  1.57it/s]\n"
     ]
    },
    {
     "name": "stdout",
     "output_type": "stream",
     "text": [
      "🍺 Total prediction time 33.08477592468262\n",
      "tolerance 20, recall 0.9733333333333334, mae 3.6633333333333336\n",
      "tolerance 15, recall 0.96, mae 3.6633333333333336\n",
      "tolerance 10, recall 0.9266666666666666, mae 3.6633333333333336\n",
      "tolerance 5, recall 0.8066666666666666, mae 3.6633333333333336\n",
      "Largest Error MARCEL: 24.0\n",
      "Largest Error SYLVAIN: 18.0\n",
      "Largest Error CONRAD: 12.0\n",
      "🍺 Optimal Tolerance : 24\n",
      "---------- Prediction Without Constraint ----------\n",
      "MARCEL 6212.0 6764.0\n",
      "SYLVAIN 6441.0 7010.0\n",
      "CONRAD 6464.0 7033.0\n"
     ]
    },
    {
     "name": "stderr",
     "output_type": "stream",
     "text": [
      "Processing Wells: 100%|██████████| 50/50 [00:30<00:00,  1.66it/s]\n"
     ]
    },
    {
     "name": "stdout",
     "output_type": "stream",
     "text": [
      "🍺 Total prediction time 31.577054262161255\n",
      "tolerance 20, recall 0.9733333333333334, mae 3.6633333333333336\n",
      "tolerance 15, recall 0.96, mae 3.6633333333333336\n",
      "tolerance 10, recall 0.9266666666666666, mae 3.6633333333333336\n",
      "tolerance 5, recall 0.8066666666666666, mae 3.6633333333333336\n",
      "Largest Error MARCEL: 24.0\n",
      "Largest Error SYLVAIN: 18.0\n",
      "Largest Error CONRAD: 12.0\n",
      "🍺 Optimal Tolerance : 24\n",
      "============================================================\n",
      "\u001b[1mTesting Hidden_Size:512\u001b[0m\n",
      "\n",
      "Training model...\n",
      "Early Stop Triggered, Final Accuracy 99.52\n",
      "Total training time 15.89171314239502\n",
      "---------- Prediction With Constraint ----------\n",
      "MARCEL 6212.0 6764.0\n",
      "SYLVAIN 6441.0 7010.0\n",
      "CONRAD 6464.0 7033.0\n"
     ]
    },
    {
     "name": "stderr",
     "output_type": "stream",
     "text": [
      "Processing Wells: 100%|██████████| 50/50 [00:45<00:00,  1.10it/s]\n"
     ]
    },
    {
     "name": "stdout",
     "output_type": "stream",
     "text": [
      "🍺 Total prediction time 47.03188991546631\n",
      "tolerance 20, recall 0.96, mae 5.363333333333333\n",
      "tolerance 15, recall 0.92, mae 5.363333333333333\n",
      "tolerance 10, recall 0.86, mae 5.363333333333333\n",
      "tolerance 5, recall 0.7066666666666667, mae 5.363333333333333\n",
      "Largest Error MARCEL: 37.0\n",
      "Largest Error SYLVAIN: 15.0\n",
      "Largest Error CONRAD: 12.0\n",
      "🍺 Optimal Tolerance : 37\n",
      "---------- Prediction Without Constraint ----------\n",
      "MARCEL 6212.0 6764.0\n",
      "SYLVAIN 6441.0 7010.0\n",
      "CONRAD 6464.0 7033.0\n"
     ]
    },
    {
     "name": "stderr",
     "output_type": "stream",
     "text": [
      "Processing Wells: 100%|██████████| 50/50 [00:41<00:00,  1.20it/s]"
     ]
    },
    {
     "name": "stdout",
     "output_type": "stream",
     "text": [
      "🍺 Total prediction time 42.63044786453247\n",
      "tolerance 20, recall 0.94, mae 7.983333333333333\n",
      "tolerance 15, recall 0.9, mae 7.983333333333333\n",
      "tolerance 10, recall 0.84, mae 7.983333333333333\n",
      "tolerance 5, recall 0.6866666666666666, mae 7.983333333333333\n",
      "Largest Error MARCEL: 37.0\n",
      "Largest Error SYLVAIN: 15.0\n",
      "Largest Error CONRAD: 156.0\n",
      "🍺 Optimal Tolerance : 156\n",
      "============================================================\n",
      "\u001b[1m🍺🍺Tuning Completed, Best Result is\u001b[0m\n",
      "hidden_size 64\n",
      "optimal_tolerance 17\n"
     ]
    },
    {
     "name": "stderr",
     "output_type": "stream",
     "text": [
      "\n"
     ]
    }
   ],
   "source": [
    "#BIGUA HYPER PARAMETER\n",
    "hidden_size = [64,128,256,512]\n",
    "\n",
    "\n",
    "#TUNING\n",
    "wsize = 201\n",
    "input_variable=['GR']\n",
    "pred_column = ['None','Marcel', 'Sylvain', 'Conrad']\n",
    "best_optimal_tolerance = float('inf')\n",
    "for i in hidden_size:\n",
    "    print(\"=\"*60)\n",
    "    print(f\"\\033[1mTesting Hidden_Size:{i}\\033[0m\")\n",
    "    print(\"\"*40)\n",
    "\n",
    "    model = BiGRUAttn(input_size,i)\n",
    "    print('Training model...')\n",
    "    model=train(100,model,verbose=0)\n",
    "\n",
    "    print('-'*10,'Prediction With Constraint','-'*10)\n",
    "    df_tops_pred = run_prediction(model,use_constraint=True)\n",
    "    optimal_tolerance,_ = apply_evaluate(df_test_tops,df_tops_pred)\n",
    "    \n",
    "    if optimal_tolerance < best_optimal_tolerance:\n",
    "            best_optimal_tolerance = optimal_tolerance\n",
    "            #Save Best Model\n",
    "            torch.save(model, 'saved_model/bigu_model.pth')\n",
    "            torch.save(model.state_dict(), 'saved_model/bigu_model_state.pth')\n",
    "            #Save Best Configuration\n",
    "            best_combination = {\n",
    "                'hidden_size': i,\n",
    "                'optimal_tolerance': best_optimal_tolerance\n",
    "            }\n",
    "\n",
    "    print('-'*10,'Prediction Without Constraint','-'*10)\n",
    "    df_tops_pred = run_prediction(model,use_constraint=False)\n",
    "    optimal_tolerance = apply_evaluate(df_test_tops,df_tops_pred)\n",
    "\n",
    "print(\"=\"*60)\n",
    "print(\"\\033[1m🍺🍺Tuning Completed, Best Result is\\033[0m\")\n",
    "for k,v in best_combination.items():\n",
    "    print(k,v)"
   ]
  },
  {
   "cell_type": "markdown",
   "metadata": {},
   "source": [
    "#### LSTM Model "
   ]
  },
  {
   "cell_type": "code",
   "execution_count": 13,
   "metadata": {},
   "outputs": [],
   "source": [
    "input_size = X.shape[2]"
   ]
  },
  {
   "cell_type": "code",
   "execution_count": 16,
   "metadata": {},
   "outputs": [
    {
     "name": "stdout",
     "output_type": "stream",
     "text": [
      "============================================================\n",
      "\u001b[1mTesting Hidden_Size:64 Output_Dim:50\u001b[0m\n",
      "\n",
      "Training model...\n",
      "Early Stop Triggered, Final Accuracy 99.41\n",
      "Total training time 8.307817935943604\n",
      "---------- Prediction With Constraint ----------\n",
      "MARCEL 6212.0 6764.0\n",
      "SYLVAIN 6441.0 7010.0\n",
      "CONRAD 6464.0 7033.0\n"
     ]
    },
    {
     "name": "stderr",
     "output_type": "stream",
     "text": [
      "Processing Wells: 100%|██████████| 50/50 [00:18<00:00,  2.67it/s]\n"
     ]
    },
    {
     "name": "stdout",
     "output_type": "stream",
     "text": [
      "🍺 Total prediction time 20.63109803199768\n",
      "tolerance 20, recall 0.9933333333333333, mae 2.703333333333333\n",
      "tolerance 15, recall 0.98, mae 2.703333333333333\n",
      "tolerance 10, recall 0.96, mae 2.703333333333333\n",
      "tolerance 5, recall 0.8466666666666667, mae 2.703333333333333\n",
      "Largest Error MARCEL: 29.0\n",
      "Largest Error SYLVAIN: 10.0\n",
      "Largest Error CONRAD: 12.0\n",
      "🍺 Optimal Tolerance : 29\n",
      "============================================================\n",
      "\u001b[1mTesting Hidden_Size:64 Output_Dim:100\u001b[0m\n",
      "\n",
      "Training model...\n",
      "Early Stop Triggered, Final Accuracy 99.52\n",
      "Total training time 9.575665950775146\n",
      "---------- Prediction With Constraint ----------\n",
      "MARCEL 6212.0 6764.0\n",
      "SYLVAIN 6441.0 7010.0\n",
      "CONRAD 6464.0 7033.0\n"
     ]
    },
    {
     "name": "stderr",
     "output_type": "stream",
     "text": [
      "Processing Wells: 100%|██████████| 50/50 [00:19<00:00,  2.52it/s]\n"
     ]
    },
    {
     "name": "stdout",
     "output_type": "stream",
     "text": [
      "🍺 Total prediction time 21.274296045303345\n",
      "tolerance 20, recall 0.9933333333333333, mae 3.16\n",
      "tolerance 15, recall 0.9933333333333333, mae 3.16\n",
      "tolerance 10, recall 0.96, mae 3.16\n",
      "tolerance 5, recall 0.82, mae 3.16\n",
      "Largest Error MARCEL: 25.0\n",
      "Largest Error SYLVAIN: 14.0\n",
      "Largest Error CONRAD: 12.0\n",
      "🍺 Optimal Tolerance : 25\n",
      "============================================================\n",
      "\u001b[1mTesting Hidden_Size:64 Output_Dim:150\u001b[0m\n",
      "\n",
      "Training model...\n",
      "Early Stop Triggered, Final Accuracy 99.41\n",
      "Total training time 11.399055004119873\n",
      "---------- Prediction With Constraint ----------\n",
      "MARCEL 6212.0 6764.0\n",
      "SYLVAIN 6441.0 7010.0\n",
      "CONRAD 6464.0 7033.0\n"
     ]
    },
    {
     "name": "stderr",
     "output_type": "stream",
     "text": [
      "Processing Wells: 100%|██████████| 50/50 [00:27<00:00,  1.82it/s]\n"
     ]
    },
    {
     "name": "stdout",
     "output_type": "stream",
     "text": [
      "🍺 Total prediction time 28.573715925216675\n",
      "tolerance 20, recall 0.9933333333333333, mae 3.31\n",
      "tolerance 15, recall 0.9933333333333333, mae 3.31\n",
      "tolerance 10, recall 0.96, mae 3.31\n",
      "tolerance 5, recall 0.8266666666666667, mae 3.31\n",
      "Largest Error MARCEL: 45.0\n",
      "Largest Error SYLVAIN: 13.0\n",
      "Largest Error CONRAD: 12.0\n",
      "🍺 Optimal Tolerance : 45\n",
      "============================================================\n",
      "\u001b[1mTesting Hidden_Size:64 Output_Dim:200\u001b[0m\n",
      "\n",
      "Training model...\n",
      "Early Stop Triggered, Final Accuracy 99.41\n",
      "Total training time 19.261622190475464\n",
      "---------- Prediction With Constraint ----------\n",
      "MARCEL 6212.0 6764.0\n",
      "SYLVAIN 6441.0 7010.0\n",
      "CONRAD 6464.0 7033.0\n"
     ]
    },
    {
     "name": "stderr",
     "output_type": "stream",
     "text": [
      "Processing Wells: 100%|██████████| 50/50 [00:33<00:00,  1.49it/s]\n"
     ]
    },
    {
     "name": "stdout",
     "output_type": "stream",
     "text": [
      "🍺 Total prediction time 35.14967608451843\n",
      "tolerance 20, recall 0.9933333333333333, mae 3.3533333333333335\n",
      "tolerance 15, recall 0.9933333333333333, mae 3.3533333333333335\n",
      "tolerance 10, recall 0.9133333333333333, mae 3.3533333333333335\n",
      "tolerance 5, recall 0.8, mae 3.3533333333333335\n",
      "Largest Error MARCEL: 28.0\n",
      "Largest Error SYLVAIN: 12.0\n",
      "Largest Error CONRAD: 12.0\n",
      "🍺 Optimal Tolerance : 28\n",
      "============================================================\n",
      "\u001b[1mTesting Hidden_Size:128 Output_Dim:50\u001b[0m\n",
      "\n",
      "Training model...\n",
      "Early Stop Triggered, Final Accuracy 99.29\n",
      "Total training time 7.598791122436523\n",
      "---------- Prediction With Constraint ----------\n",
      "MARCEL 6212.0 6764.0\n",
      "SYLVAIN 6441.0 7010.0\n",
      "CONRAD 6464.0 7033.0\n"
     ]
    },
    {
     "name": "stderr",
     "output_type": "stream",
     "text": [
      "Processing Wells: 100%|██████████| 50/50 [00:18<00:00,  2.74it/s]\n"
     ]
    },
    {
     "name": "stdout",
     "output_type": "stream",
     "text": [
      "🍺 Total prediction time 19.400075912475586\n",
      "tolerance 20, recall 0.9866666666666667, mae 3.6233333333333335\n",
      "tolerance 15, recall 0.9866666666666667, mae 3.6233333333333335\n",
      "tolerance 10, recall 0.9666666666666667, mae 3.6233333333333335\n",
      "tolerance 5, recall 0.88, mae 3.6233333333333335\n",
      "Largest Error MARCEL: 126.0\n",
      "Largest Error SYLVAIN: 12.0\n",
      "Largest Error CONRAD: 15.0\n",
      "🍺 Optimal Tolerance : 126\n",
      "============================================================\n",
      "\u001b[1mTesting Hidden_Size:128 Output_Dim:100\u001b[0m\n",
      "\n",
      "Training model...\n",
      "Early Stop Triggered, Final Accuracy 99.41\n",
      "Total training time 10.206721067428589\n",
      "---------- Prediction With Constraint ----------\n",
      "MARCEL 6212.0 6764.0\n",
      "SYLVAIN 6441.0 7010.0\n",
      "CONRAD 6464.0 7033.0\n"
     ]
    },
    {
     "name": "stderr",
     "output_type": "stream",
     "text": [
      "Processing Wells: 100%|██████████| 50/50 [00:20<00:00,  2.43it/s]\n"
     ]
    },
    {
     "name": "stdout",
     "output_type": "stream",
     "text": [
      "🍺 Total prediction time 21.782998085021973\n",
      "tolerance 20, recall 0.98, mae 3.5566666666666666\n",
      "tolerance 15, recall 0.9733333333333334, mae 3.5566666666666666\n",
      "tolerance 10, recall 0.92, mae 3.5566666666666666\n",
      "tolerance 5, recall 0.7933333333333333, mae 3.5566666666666666\n",
      "Largest Error MARCEL: 29.0\n",
      "Largest Error SYLVAIN: 13.0\n",
      "Largest Error CONRAD: 13.0\n",
      "🍺 Optimal Tolerance : 29\n",
      "============================================================\n",
      "\u001b[1mTesting Hidden_Size:128 Output_Dim:150\u001b[0m\n",
      "\n",
      "Training model...\n",
      "Early Stop Triggered, Final Accuracy 99.52\n",
      "Total training time 18.424386978149414\n",
      "---------- Prediction With Constraint ----------\n",
      "MARCEL 6212.0 6764.0\n",
      "SYLVAIN 6441.0 7010.0\n",
      "CONRAD 6464.0 7033.0\n"
     ]
    },
    {
     "name": "stderr",
     "output_type": "stream",
     "text": [
      "Processing Wells: 100%|██████████| 50/50 [00:29<00:00,  1.71it/s]\n"
     ]
    },
    {
     "name": "stdout",
     "output_type": "stream",
     "text": [
      "🍺 Total prediction time 30.802958011627197\n",
      "tolerance 20, recall 0.9933333333333333, mae 3.76\n",
      "tolerance 15, recall 0.9933333333333333, mae 3.76\n",
      "tolerance 10, recall 0.9466666666666667, mae 3.76\n",
      "tolerance 5, recall 0.7666666666666667, mae 3.76\n",
      "Largest Error MARCEL: 45.0\n",
      "Largest Error SYLVAIN: 13.0\n",
      "Largest Error CONRAD: 12.0\n",
      "🍺 Optimal Tolerance : 45\n",
      "============================================================\n",
      "\u001b[1mTesting Hidden_Size:128 Output_Dim:200\u001b[0m\n",
      "\n",
      "Training model...\n",
      "Early Stop Triggered, Final Accuracy 99.52\n",
      "Total training time 18.72466516494751\n",
      "---------- Prediction With Constraint ----------\n",
      "MARCEL 6212.0 6764.0\n",
      "SYLVAIN 6441.0 7010.0\n",
      "CONRAD 6464.0 7033.0\n"
     ]
    },
    {
     "name": "stderr",
     "output_type": "stream",
     "text": [
      "Processing Wells: 100%|██████████| 50/50 [00:36<00:00,  1.36it/s]\n"
     ]
    },
    {
     "name": "stdout",
     "output_type": "stream",
     "text": [
      "🍺 Total prediction time 38.40859270095825\n",
      "tolerance 20, recall 1.0, mae 2.6533333333333333\n",
      "tolerance 15, recall 1.0, mae 2.6533333333333333\n",
      "tolerance 10, recall 0.96, mae 2.6533333333333333\n",
      "tolerance 5, recall 0.88, mae 2.6533333333333333\n",
      "Largest Error MARCEL: 14.0\n",
      "Largest Error SYLVAIN: 13.0\n",
      "Largest Error CONRAD: 12.0\n",
      "🍺 Optimal Tolerance : 14\n",
      "============================================================\n",
      "\u001b[1mTesting Hidden_Size:256 Output_Dim:50\u001b[0m\n",
      "\n",
      "Training model...\n",
      "Early Stop Triggered, Final Accuracy 99.29\n",
      "Total training time 8.082841873168945\n",
      "---------- Prediction With Constraint ----------\n",
      "MARCEL 6212.0 6764.0\n",
      "SYLVAIN 6441.0 7010.0\n",
      "CONRAD 6464.0 7033.0\n"
     ]
    },
    {
     "name": "stderr",
     "output_type": "stream",
     "text": [
      "Processing Wells: 100%|██████████| 50/50 [00:16<00:00,  2.96it/s]\n"
     ]
    },
    {
     "name": "stdout",
     "output_type": "stream",
     "text": [
      "🍺 Total prediction time 18.485815048217773\n",
      "tolerance 20, recall 1.0, mae 3.5766666666666667\n",
      "tolerance 15, recall 0.98, mae 3.5766666666666667\n",
      "tolerance 10, recall 0.9666666666666667, mae 3.5766666666666667\n",
      "tolerance 5, recall 0.76, mae 3.5766666666666667\n",
      "Largest Error MARCEL: 16.0\n",
      "Largest Error SYLVAIN: 16.0\n",
      "Largest Error CONRAD: 14.0\n",
      "🍺 Optimal Tolerance : 16\n",
      "============================================================\n",
      "\u001b[1mTesting Hidden_Size:256 Output_Dim:100\u001b[0m\n",
      "\n",
      "Training model...\n",
      "Early Stop Triggered, Final Accuracy 99.41\n",
      "Total training time 10.221112251281738\n",
      "---------- Prediction With Constraint ----------\n",
      "MARCEL 6212.0 6764.0\n",
      "SYLVAIN 6441.0 7010.0\n",
      "CONRAD 6464.0 7033.0\n"
     ]
    },
    {
     "name": "stderr",
     "output_type": "stream",
     "text": [
      "Processing Wells: 100%|██████████| 50/50 [00:19<00:00,  2.58it/s]\n"
     ]
    },
    {
     "name": "stdout",
     "output_type": "stream",
     "text": [
      "🍺 Total prediction time 20.489337921142578\n",
      "tolerance 20, recall 0.9866666666666667, mae 3.8466666666666667\n",
      "tolerance 15, recall 0.9866666666666667, mae 3.8466666666666667\n",
      "tolerance 10, recall 0.9333333333333333, mae 3.8466666666666667\n",
      "tolerance 5, recall 0.7, mae 3.8466666666666667\n",
      "Largest Error MARCEL: 25.0\n",
      "Largest Error SYLVAIN: 11.0\n",
      "Largest Error CONRAD: 14.0\n",
      "🍺 Optimal Tolerance : 25\n",
      "============================================================\n",
      "\u001b[1mTesting Hidden_Size:256 Output_Dim:150\u001b[0m\n",
      "\n",
      "Training model...\n",
      "Early Stop Triggered, Final Accuracy 99.41\n",
      "Total training time 17.52289390563965\n",
      "---------- Prediction With Constraint ----------\n",
      "MARCEL 6212.0 6764.0\n",
      "SYLVAIN 6441.0 7010.0\n",
      "CONRAD 6464.0 7033.0\n"
     ]
    },
    {
     "name": "stderr",
     "output_type": "stream",
     "text": [
      "Processing Wells: 100%|██████████| 50/50 [00:31<00:00,  1.58it/s]\n"
     ]
    },
    {
     "name": "stdout",
     "output_type": "stream",
     "text": [
      "🍺 Total prediction time 32.697479009628296\n",
      "tolerance 20, recall 1.0, mae 2.723333333333333\n",
      "tolerance 15, recall 1.0, mae 2.723333333333333\n",
      "tolerance 10, recall 0.9733333333333334, mae 2.723333333333333\n",
      "tolerance 5, recall 0.8733333333333333, mae 2.723333333333333\n",
      "Largest Error MARCEL: 15.0\n",
      "Largest Error SYLVAIN: 10.0\n",
      "Largest Error CONRAD: 12.0\n",
      "🍺 Optimal Tolerance : 15\n",
      "============================================================\n",
      "\u001b[1mTesting Hidden_Size:256 Output_Dim:200\u001b[0m\n",
      "\n",
      "Training model...\n",
      "Early Stop Triggered, Final Accuracy 99.64\n",
      "Total training time 21.83017873764038\n",
      "---------- Prediction With Constraint ----------\n",
      "MARCEL 6212.0 6764.0\n",
      "SYLVAIN 6441.0 7010.0\n",
      "CONRAD 6464.0 7033.0\n"
     ]
    },
    {
     "name": "stderr",
     "output_type": "stream",
     "text": [
      "Processing Wells: 100%|██████████| 50/50 [00:29<00:00,  1.71it/s]\n"
     ]
    },
    {
     "name": "stdout",
     "output_type": "stream",
     "text": [
      "🍺 Total prediction time 30.339040994644165\n",
      "tolerance 20, recall 1.0, mae 2.81\n",
      "tolerance 15, recall 1.0, mae 2.81\n",
      "tolerance 10, recall 0.96, mae 2.81\n",
      "tolerance 5, recall 0.8533333333333334, mae 2.81\n",
      "Largest Error MARCEL: 15.0\n",
      "Largest Error SYLVAIN: 13.0\n",
      "Largest Error CONRAD: 12.0\n",
      "🍺 Optimal Tolerance : 15\n",
      "============================================================\n",
      "\u001b[1mTesting Hidden_Size:512 Output_Dim:50\u001b[0m\n",
      "\n",
      "Training model...\n",
      "Early Stop Triggered, Final Accuracy 99.41\n",
      "Total training time 8.736537218093872\n",
      "---------- Prediction With Constraint ----------\n",
      "MARCEL 6212.0 6764.0\n",
      "SYLVAIN 6441.0 7010.0\n",
      "CONRAD 6464.0 7033.0\n"
     ]
    },
    {
     "name": "stderr",
     "output_type": "stream",
     "text": [
      "Processing Wells: 100%|██████████| 50/50 [00:17<00:00,  2.81it/s]\n"
     ]
    },
    {
     "name": "stdout",
     "output_type": "stream",
     "text": [
      "🍺 Total prediction time 18.73595118522644\n",
      "tolerance 20, recall 0.9933333333333333, mae 3.6966666666666668\n",
      "tolerance 15, recall 0.98, mae 3.6966666666666668\n",
      "tolerance 10, recall 0.9066666666666666, mae 3.6966666666666668\n",
      "tolerance 5, recall 0.78, mae 3.6966666666666668\n",
      "Largest Error MARCEL: 29.0\n",
      "Largest Error SYLVAIN: 19.0\n",
      "Largest Error CONRAD: 13.0\n",
      "🍺 Optimal Tolerance : 29\n",
      "============================================================\n",
      "\u001b[1mTesting Hidden_Size:512 Output_Dim:100\u001b[0m\n",
      "\n",
      "Training model...\n",
      "Early Stop Triggered, Final Accuracy 99.52\n",
      "Total training time 11.314863204956055\n",
      "---------- Prediction With Constraint ----------\n",
      "MARCEL 6212.0 6764.0\n",
      "SYLVAIN 6441.0 7010.0\n",
      "CONRAD 6464.0 7033.0\n"
     ]
    },
    {
     "name": "stderr",
     "output_type": "stream",
     "text": [
      "Processing Wells: 100%|██████████| 50/50 [00:21<00:00,  2.28it/s]\n"
     ]
    },
    {
     "name": "stdout",
     "output_type": "stream",
     "text": [
      "🍺 Total prediction time 23.0091450214386\n",
      "tolerance 20, recall 1.0, mae 3.263333333333333\n",
      "tolerance 15, recall 1.0, mae 3.263333333333333\n",
      "tolerance 10, recall 0.9666666666666667, mae 3.263333333333333\n",
      "tolerance 5, recall 0.84, mae 3.263333333333333\n",
      "Largest Error MARCEL: 15.0\n",
      "Largest Error SYLVAIN: 11.0\n",
      "Largest Error CONRAD: 13.0\n",
      "🍺 Optimal Tolerance : 15\n",
      "============================================================\n",
      "\u001b[1mTesting Hidden_Size:512 Output_Dim:150\u001b[0m\n",
      "\n",
      "Training model...\n",
      "Early Stop Triggered, Final Accuracy 99.52\n",
      "Total training time 19.437301874160767\n",
      "---------- Prediction With Constraint ----------\n",
      "MARCEL 6212.0 6764.0\n",
      "SYLVAIN 6441.0 7010.0\n",
      "CONRAD 6464.0 7033.0\n"
     ]
    },
    {
     "name": "stderr",
     "output_type": "stream",
     "text": [
      "Processing Wells: 100%|██████████| 50/50 [00:27<00:00,  1.82it/s]\n"
     ]
    },
    {
     "name": "stdout",
     "output_type": "stream",
     "text": [
      "🍺 Total prediction time 29.320560216903687\n",
      "tolerance 20, recall 1.0, mae 2.5966666666666667\n",
      "tolerance 15, recall 0.9933333333333333, mae 2.5966666666666667\n",
      "tolerance 10, recall 0.96, mae 2.5966666666666667\n",
      "tolerance 5, recall 0.88, mae 2.5966666666666667\n",
      "Largest Error MARCEL: 19.0\n",
      "Largest Error SYLVAIN: 11.0\n",
      "Largest Error CONRAD: 13.0\n",
      "🍺 Optimal Tolerance : 19\n",
      "============================================================\n",
      "\u001b[1mTesting Hidden_Size:512 Output_Dim:200\u001b[0m\n",
      "\n",
      "Training model...\n",
      "Early Stop Triggered, Final Accuracy 99.41\n",
      "Total training time 17.856985092163086\n",
      "---------- Prediction With Constraint ----------\n",
      "MARCEL 6212.0 6764.0\n",
      "SYLVAIN 6441.0 7010.0\n",
      "CONRAD 6464.0 7033.0\n"
     ]
    },
    {
     "name": "stderr",
     "output_type": "stream",
     "text": [
      "Processing Wells: 100%|██████████| 50/50 [00:29<00:00,  1.68it/s]"
     ]
    },
    {
     "name": "stdout",
     "output_type": "stream",
     "text": [
      "🍺 Total prediction time 30.851239919662476\n",
      "tolerance 20, recall 0.9933333333333333, mae 2.9766666666666666\n",
      "tolerance 15, recall 0.9933333333333333, mae 2.9766666666666666\n",
      "tolerance 10, recall 0.9733333333333334, mae 2.9766666666666666\n",
      "tolerance 5, recall 0.8266666666666667, mae 2.9766666666666666\n",
      "Largest Error MARCEL: 27.0\n",
      "Largest Error SYLVAIN: 12.0\n",
      "Largest Error CONRAD: 14.0\n",
      "🍺 Optimal Tolerance : 27\n",
      "============================================================\n",
      "\u001b[1m🍺🍺Tuning Completed, Best Result is\u001b[0m\n",
      "hidden_size 128\n",
      "output_dim 200\n",
      "optimal_tolerance 14\n"
     ]
    },
    {
     "name": "stderr",
     "output_type": "stream",
     "text": [
      "\n"
     ]
    }
   ],
   "source": [
    "hidden_size = [64,128,256,512]\n",
    "output_dim = [50,100,150,200]\n",
    "\n",
    "wsize = 201\n",
    "input_variable=['GR']\n",
    "pred_column = ['None','Marcel', 'Sylvain', 'Conrad']\n",
    "\n",
    "best_optimal_tolerance = float('inf')\n",
    "for i in hidden_size:\n",
    "    for d in output_dim:\n",
    "        print(\"=\"*60)\n",
    "        print(f\"\\033[1mTesting Hidden_Size:{i} Output_Dim:{d}\\033[0m\")\n",
    "        print(\"\"*40)\n",
    "\n",
    "        model = LSTMAttn(input_size,i,d)\n",
    "        print('Training model...')\n",
    "        model=train(100,model,verbose=0)\n",
    "\n",
    "        print('-'*10,'Prediction With Constraint','-'*10)\n",
    "        df_tops_pred = run_prediction(model,use_constraint=True)\n",
    "        optimal_tolerance,_= apply_evaluate(df_test_tops,df_tops_pred)\n",
    "        \n",
    "        if optimal_tolerance < best_optimal_tolerance:\n",
    "                best_optimal_tolerance = optimal_tolerance\n",
    "                #Save Best Model\n",
    "                torch.save(model, 'saved_model/lstm_model.pth')\n",
    "                torch.save(model.state_dict(), 'saved_model/lstm_model_state.pth')\n",
    "                #Save Best Configuration\n",
    "                best_combination = {\n",
    "                    'hidden_size': i,\n",
    "                    'output_dim' : d,\n",
    "                    'optimal_tolerance': best_optimal_tolerance\n",
    "                }\n",
    "print(\"=\"*60)\n",
    "print(\"\\033[1m🍺🍺Tuning Completed, Best Result is\\033[0m\")\n",
    "for k,v in best_combination.items():\n",
    "    print(k,v)"
   ]
  },
  {
   "cell_type": "markdown",
   "metadata": {},
   "source": [
    "#### CONVGRUA SIMPLE "
   ]
  },
  {
   "cell_type": "code",
   "execution_count": 10,
   "metadata": {},
   "outputs": [],
   "source": [
    "input_size = X.shape[2]\n",
    "device = torch.device('cuda' if torch.cuda.is_available() else 'cpu')\n"
   ]
  },
  {
   "cell_type": "code",
   "execution_count": 25,
   "metadata": {},
   "outputs": [],
   "source": [
    "# \n",
    "hidden_size = [64,128,256]\n",
    "output_size = [100,150,200]\n",
    "conv_output_dim = [64,128,256]\n",
    "dense_output_dim = [256,128,64]"
   ]
  },
  {
   "cell_type": "code",
   "execution_count": 30,
   "metadata": {},
   "outputs": [
    {
     "name": "stdout",
     "output_type": "stream",
     "text": [
      "============================================================\n",
      "\u001b[1mTesting Hidden_Size:64 Output_Size:100 Conv_Output_Dim:64 Dense_Output_Dim:256\u001b[0m\n",
      "\n",
      "Training model...\n",
      "Early Stop Triggered, Final Accuracy 99.29\n",
      "Total training time 10.875372648239136\n",
      "---------- Prediction With Constraint ----------\n",
      "MARCEL 6212.0 6764.0\n",
      "SYLVAIN 6441.0 7010.0\n",
      "CONRAD 6464.0 7033.0\n"
     ]
    },
    {
     "name": "stderr",
     "output_type": "stream",
     "text": [
      "Processing Wells: 100%|██████████| 50/50 [00:41<00:00,  1.20it/s]\n"
     ]
    },
    {
     "name": "stdout",
     "output_type": "stream",
     "text": [
      "🍺 Total prediction time 42.461669921875\n",
      "tolerance 20, recall 0.9933333333333333, mae 2.9466666666666668\n",
      "tolerance 15, recall 0.9733333333333334, mae 2.9466666666666668\n",
      "tolerance 10, recall 0.96, mae 2.9466666666666668\n",
      "tolerance 5, recall 0.8666666666666667, mae 2.9466666666666668\n",
      "Largest Error MARCEL: 23.0\n",
      "Largest Error SYLVAIN: 14.0\n",
      "Largest Error CONRAD: 12.0\n",
      "🍺 Optimal Tolerance : 23\n",
      "============================================================\n",
      "\u001b[1mTesting Hidden_Size:64 Output_Size:100 Conv_Output_Dim:64 Dense_Output_Dim:128\u001b[0m\n",
      "\n",
      "Training model...\n",
      "Early Stop Triggered, Final Accuracy 99.29\n",
      "Total training time 13.9880690574646\n",
      "---------- Prediction With Constraint ----------\n",
      "MARCEL 6212.0 6764.0\n",
      "SYLVAIN 6441.0 7010.0\n",
      "CONRAD 6464.0 7033.0\n"
     ]
    },
    {
     "name": "stderr",
     "output_type": "stream",
     "text": [
      "Processing Wells: 100%|██████████| 50/50 [00:38<00:00,  1.29it/s]\n"
     ]
    },
    {
     "name": "stdout",
     "output_type": "stream",
     "text": [
      "🍺 Total prediction time 39.6936571598053\n",
      "tolerance 20, recall 0.9866666666666667, mae 3.83\n",
      "tolerance 15, recall 0.9666666666666667, mae 3.83\n",
      "tolerance 10, recall 0.92, mae 3.83\n",
      "tolerance 5, recall 0.8066666666666666, mae 3.83\n",
      "Largest Error MARCEL: 30.0\n",
      "Largest Error SYLVAIN: 80.0\n",
      "Largest Error CONRAD: 13.0\n",
      "🍺 Optimal Tolerance : 80\n",
      "============================================================\n",
      "\u001b[1mTesting Hidden_Size:64 Output_Size:100 Conv_Output_Dim:64 Dense_Output_Dim:64\u001b[0m\n",
      "\n",
      "Training model...\n",
      "Early Stop Triggered, Final Accuracy 99.41\n",
      "Total training time 18.639523029327393\n",
      "---------- Prediction With Constraint ----------\n",
      "MARCEL 6212.0 6764.0\n",
      "SYLVAIN 6441.0 7010.0\n",
      "CONRAD 6464.0 7033.0\n"
     ]
    },
    {
     "name": "stderr",
     "output_type": "stream",
     "text": [
      "Processing Wells: 100%|██████████| 50/50 [00:38<00:00,  1.30it/s]\n"
     ]
    },
    {
     "name": "stdout",
     "output_type": "stream",
     "text": [
      "🍺 Total prediction time 39.4127471446991\n",
      "tolerance 20, recall 0.98, mae 4.266666666666667\n",
      "tolerance 15, recall 0.9666666666666667, mae 4.266666666666667\n",
      "tolerance 10, recall 0.9, mae 4.266666666666667\n",
      "tolerance 5, recall 0.8066666666666666, mae 4.266666666666667\n",
      "Largest Error MARCEL: 45.0\n",
      "Largest Error SYLVAIN: 17.0\n",
      "Largest Error CONRAD: 12.0\n",
      "🍺 Optimal Tolerance : 45\n",
      "============================================================\n",
      "\u001b[1mTesting Hidden_Size:64 Output_Size:100 Conv_Output_Dim:128 Dense_Output_Dim:256\u001b[0m\n",
      "\n",
      "Training model...\n",
      "Early Stop Triggered, Final Accuracy 99.52\n",
      "Total training time 9.508713960647583\n",
      "---------- Prediction With Constraint ----------\n",
      "MARCEL 6212.0 6764.0\n",
      "SYLVAIN 6441.0 7010.0\n",
      "CONRAD 6464.0 7033.0\n"
     ]
    },
    {
     "name": "stderr",
     "output_type": "stream",
     "text": [
      "Processing Wells: 100%|██████████| 50/50 [00:50<00:00,  1.01s/it]\n"
     ]
    },
    {
     "name": "stdout",
     "output_type": "stream",
     "text": [
      "🍺 Total prediction time 51.42333388328552\n",
      "tolerance 20, recall 1.0, mae 3.506666666666667\n",
      "tolerance 15, recall 0.9933333333333333, mae 3.506666666666667\n",
      "tolerance 10, recall 0.9133333333333333, mae 3.506666666666667\n",
      "tolerance 5, recall 0.82, mae 3.506666666666667\n",
      "Largest Error MARCEL: 18.0\n",
      "Largest Error SYLVAIN: 14.0\n",
      "Largest Error CONRAD: 13.0\n",
      "🍺 Optimal Tolerance : 18\n",
      "============================================================\n",
      "\u001b[1mTesting Hidden_Size:64 Output_Size:100 Conv_Output_Dim:128 Dense_Output_Dim:128\u001b[0m\n",
      "\n",
      "Training model...\n",
      "Early Stop Triggered, Final Accuracy 99.52\n",
      "Total training time 8.382673740386963\n",
      "---------- Prediction With Constraint ----------\n",
      "MARCEL 6212.0 6764.0\n",
      "SYLVAIN 6441.0 7010.0\n",
      "CONRAD 6464.0 7033.0\n"
     ]
    },
    {
     "name": "stderr",
     "output_type": "stream",
     "text": [
      "Processing Wells: 100%|██████████| 50/50 [00:49<00:00,  1.00it/s]\n"
     ]
    },
    {
     "name": "stdout",
     "output_type": "stream",
     "text": [
      "🍺 Total prediction time 50.6852810382843\n",
      "tolerance 20, recall 0.9866666666666667, mae 3.4966666666666666\n",
      "tolerance 15, recall 0.9733333333333334, mae 3.4966666666666666\n",
      "tolerance 10, recall 0.96, mae 3.4966666666666666\n",
      "tolerance 5, recall 0.8466666666666667, mae 3.4966666666666666\n",
      "Largest Error MARCEL: 37.0\n",
      "Largest Error SYLVAIN: 9.0\n",
      "Largest Error CONRAD: 12.0\n",
      "🍺 Optimal Tolerance : 37\n",
      "============================================================\n",
      "\u001b[1mTesting Hidden_Size:64 Output_Size:100 Conv_Output_Dim:128 Dense_Output_Dim:64\u001b[0m\n",
      "\n",
      "Training model...\n",
      "Early Stop Triggered, Final Accuracy 99.41\n",
      "Total training time 23.951507806777954\n",
      "---------- Prediction With Constraint ----------\n",
      "MARCEL 6212.0 6764.0\n",
      "SYLVAIN 6441.0 7010.0\n",
      "CONRAD 6464.0 7033.0\n"
     ]
    },
    {
     "name": "stderr",
     "output_type": "stream",
     "text": [
      "Processing Wells: 100%|██████████| 50/50 [01:10<00:00,  1.40s/it]\n"
     ]
    },
    {
     "name": "stdout",
     "output_type": "stream",
     "text": [
      "🍺 Total prediction time 70.99261522293091\n",
      "tolerance 20, recall 1.0, mae 3.3766666666666665\n",
      "tolerance 15, recall 0.98, mae 3.3766666666666665\n",
      "tolerance 10, recall 0.96, mae 3.3766666666666665\n",
      "tolerance 5, recall 0.8533333333333334, mae 3.3766666666666665\n",
      "Largest Error MARCEL: 16.0\n",
      "Largest Error SYLVAIN: 16.0\n",
      "Largest Error CONRAD: 12.0\n",
      "🍺 Optimal Tolerance : 16\n",
      "============================================================\n",
      "\u001b[1mTesting Hidden_Size:64 Output_Size:100 Conv_Output_Dim:256 Dense_Output_Dim:256\u001b[0m\n",
      "\n",
      "Training model...\n",
      "Early Stop Triggered, Final Accuracy 99.17\n",
      "Total training time 15.907968044281006\n",
      "---------- Prediction With Constraint ----------\n",
      "MARCEL 6212.0 6764.0\n",
      "SYLVAIN 6441.0 7010.0\n",
      "CONRAD 6464.0 7033.0\n"
     ]
    },
    {
     "name": "stderr",
     "output_type": "stream",
     "text": [
      "Processing Wells: 100%|██████████| 50/50 [01:52<00:00,  2.26s/it]\n"
     ]
    },
    {
     "name": "stdout",
     "output_type": "stream",
     "text": [
      "🍺 Total prediction time 114.71717405319214\n",
      "tolerance 20, recall 0.9933333333333333, mae 3.54\n",
      "tolerance 15, recall 0.9733333333333334, mae 3.54\n",
      "tolerance 10, recall 0.9066666666666666, mae 3.54\n",
      "tolerance 5, recall 0.8, mae 3.54\n",
      "Largest Error MARCEL: 21.0\n",
      "Largest Error SYLVAIN: 11.0\n",
      "Largest Error CONRAD: 12.0\n",
      "🍺 Optimal Tolerance : 21\n",
      "============================================================\n",
      "\u001b[1mTesting Hidden_Size:64 Output_Size:100 Conv_Output_Dim:256 Dense_Output_Dim:128\u001b[0m\n",
      "\n",
      "Training model...\n",
      "Early Stop Triggered, Final Accuracy 99.41\n",
      "Total training time 30.443959951400757\n",
      "---------- Prediction With Constraint ----------\n",
      "MARCEL 6212.0 6764.0\n",
      "SYLVAIN 6441.0 7010.0\n",
      "CONRAD 6464.0 7033.0\n"
     ]
    },
    {
     "name": "stderr",
     "output_type": "stream",
     "text": [
      "Processing Wells: 100%|██████████| 50/50 [01:30<00:00,  1.82s/it]\n"
     ]
    },
    {
     "name": "stdout",
     "output_type": "stream",
     "text": [
      "🍺 Total prediction time 93.11745381355286\n",
      "tolerance 20, recall 0.9866666666666667, mae 3.87\n",
      "tolerance 15, recall 0.98, mae 3.87\n",
      "tolerance 10, recall 0.9066666666666666, mae 3.87\n",
      "tolerance 5, recall 0.8133333333333334, mae 3.87\n",
      "Largest Error MARCEL: 26.0\n",
      "Largest Error SYLVAIN: 13.0\n",
      "Largest Error CONRAD: 23.0\n",
      "🍺 Optimal Tolerance : 26\n",
      "============================================================\n",
      "\u001b[1mTesting Hidden_Size:64 Output_Size:100 Conv_Output_Dim:256 Dense_Output_Dim:64\u001b[0m\n",
      "\n",
      "Training model...\n",
      "Early Stop Triggered, Final Accuracy 99.52\n",
      "Total training time 36.996726989746094\n",
      "---------- Prediction With Constraint ----------\n",
      "MARCEL 6212.0 6764.0\n",
      "SYLVAIN 6441.0 7010.0\n",
      "CONRAD 6464.0 7033.0\n"
     ]
    },
    {
     "name": "stderr",
     "output_type": "stream",
     "text": [
      "Processing Wells: 100%|██████████| 50/50 [01:22<00:00,  1.65s/it]\n"
     ]
    },
    {
     "name": "stdout",
     "output_type": "stream",
     "text": [
      "🍺 Total prediction time 83.32105612754822\n",
      "tolerance 20, recall 0.98, mae 2.9166666666666665\n",
      "tolerance 15, recall 0.9666666666666667, mae 2.9166666666666665\n",
      "tolerance 10, recall 0.96, mae 2.9166666666666665\n",
      "tolerance 5, recall 0.9, mae 2.9166666666666665\n",
      "Largest Error MARCEL: 34.0\n",
      "Largest Error SYLVAIN: 23.0\n",
      "Largest Error CONRAD: 12.0\n",
      "🍺 Optimal Tolerance : 34\n",
      "============================================================\n",
      "\u001b[1mTesting Hidden_Size:64 Output_Size:150 Conv_Output_Dim:64 Dense_Output_Dim:256\u001b[0m\n",
      "\n",
      "Training model...\n",
      "Early Stop Triggered, Final Accuracy 99.05\n",
      "Total training time 12.91682481765747\n",
      "---------- Prediction With Constraint ----------\n",
      "MARCEL 6212.0 6764.0\n",
      "SYLVAIN 6441.0 7010.0\n",
      "CONRAD 6464.0 7033.0\n"
     ]
    },
    {
     "name": "stderr",
     "output_type": "stream",
     "text": [
      "Processing Wells: 100%|██████████| 50/50 [00:54<00:00,  1.10s/it]\n"
     ]
    },
    {
     "name": "stdout",
     "output_type": "stream",
     "text": [
      "🍺 Total prediction time 56.665632009506226\n",
      "tolerance 20, recall 0.9733333333333334, mae 3.53\n",
      "tolerance 15, recall 0.9666666666666667, mae 3.53\n",
      "tolerance 10, recall 0.9466666666666667, mae 3.53\n",
      "tolerance 5, recall 0.86, mae 3.53\n",
      "Largest Error MARCEL: 41.0\n",
      "Largest Error SYLVAIN: 14.0\n",
      "Largest Error CONRAD: 23.0\n",
      "🍺 Optimal Tolerance : 41\n",
      "============================================================\n",
      "\u001b[1mTesting Hidden_Size:64 Output_Size:150 Conv_Output_Dim:64 Dense_Output_Dim:128\u001b[0m\n",
      "\n",
      "Training model...\n",
      "Early Stop Triggered, Final Accuracy 99.41\n",
      "Total training time 13.753446102142334\n",
      "---------- Prediction With Constraint ----------\n",
      "MARCEL 6212.0 6764.0\n",
      "SYLVAIN 6441.0 7010.0\n",
      "CONRAD 6464.0 7033.0\n"
     ]
    },
    {
     "name": "stderr",
     "output_type": "stream",
     "text": [
      "Processing Wells: 100%|██████████| 50/50 [00:50<00:00,  1.00s/it]\n"
     ]
    },
    {
     "name": "stdout",
     "output_type": "stream",
     "text": [
      "🍺 Total prediction time 52.09682893753052\n",
      "tolerance 20, recall 0.98, mae 5.706666666666667\n",
      "tolerance 15, recall 0.94, mae 5.706666666666667\n",
      "tolerance 10, recall 0.82, mae 5.706666666666667\n",
      "tolerance 5, recall 0.72, mae 5.706666666666667\n",
      "Largest Error MARCEL: 27.0\n",
      "Largest Error SYLVAIN: 86.0\n",
      "Largest Error CONRAD: 89.0\n",
      "🍺 Optimal Tolerance : 89\n",
      "============================================================\n",
      "\u001b[1mTesting Hidden_Size:64 Output_Size:150 Conv_Output_Dim:64 Dense_Output_Dim:64\u001b[0m\n",
      "\n",
      "Training model...\n",
      "Early Stop Triggered, Final Accuracy 99.64\n",
      "Total training time 18.613823175430298\n",
      "---------- Prediction With Constraint ----------\n",
      "MARCEL 6212.0 6764.0\n",
      "SYLVAIN 6441.0 7010.0\n",
      "CONRAD 6464.0 7033.0\n"
     ]
    },
    {
     "name": "stderr",
     "output_type": "stream",
     "text": [
      "Processing Wells: 100%|██████████| 50/50 [00:43<00:00,  1.14it/s]\n"
     ]
    },
    {
     "name": "stdout",
     "output_type": "stream",
     "text": [
      "🍺 Total prediction time 44.72234010696411\n",
      "tolerance 20, recall 0.9866666666666667, mae 4.116666666666666\n",
      "tolerance 15, recall 0.98, mae 4.116666666666666\n",
      "tolerance 10, recall 0.9266666666666666, mae 4.116666666666666\n",
      "tolerance 5, recall 0.76, mae 4.116666666666666\n",
      "Largest Error MARCEL: 51.0\n",
      "Largest Error SYLVAIN: 10.0\n",
      "Largest Error CONRAD: 12.0\n",
      "🍺 Optimal Tolerance : 51\n",
      "============================================================\n",
      "\u001b[1mTesting Hidden_Size:64 Output_Size:150 Conv_Output_Dim:128 Dense_Output_Dim:256\u001b[0m\n",
      "\n",
      "Training model...\n",
      "Early Stop Triggered, Final Accuracy 99.52\n",
      "Total training time 9.661900043487549\n",
      "---------- Prediction With Constraint ----------\n",
      "MARCEL 6212.0 6764.0\n",
      "SYLVAIN 6441.0 7010.0\n",
      "CONRAD 6464.0 7033.0\n"
     ]
    },
    {
     "name": "stderr",
     "output_type": "stream",
     "text": [
      "Processing Wells: 100%|██████████| 50/50 [00:57<00:00,  1.16s/it]\n"
     ]
    },
    {
     "name": "stdout",
     "output_type": "stream",
     "text": [
      "🍺 Total prediction time 59.04042100906372\n",
      "tolerance 20, recall 0.9933333333333333, mae 2.91\n",
      "tolerance 15, recall 0.9933333333333333, mae 2.91\n",
      "tolerance 10, recall 0.96, mae 2.91\n",
      "tolerance 5, recall 0.9, mae 2.91\n",
      "Largest Error MARCEL: 33.0\n",
      "Largest Error SYLVAIN: 15.0\n",
      "Largest Error CONRAD: 12.0\n",
      "🍺 Optimal Tolerance : 33\n",
      "============================================================\n",
      "\u001b[1mTesting Hidden_Size:64 Output_Size:150 Conv_Output_Dim:128 Dense_Output_Dim:128\u001b[0m\n",
      "\n",
      "Training model...\n",
      "Early Stop Triggered, Final Accuracy 99.52\n",
      "Total training time 14.389797925949097\n",
      "---------- Prediction With Constraint ----------\n",
      "MARCEL 6212.0 6764.0\n",
      "SYLVAIN 6441.0 7010.0\n",
      "CONRAD 6464.0 7033.0\n"
     ]
    },
    {
     "name": "stderr",
     "output_type": "stream",
     "text": [
      "Processing Wells: 100%|██████████| 50/50 [00:55<00:00,  1.11s/it]\n"
     ]
    },
    {
     "name": "stdout",
     "output_type": "stream",
     "text": [
      "🍺 Total prediction time 56.294198751449585\n",
      "tolerance 20, recall 0.9866666666666667, mae 4.8933333333333335\n",
      "tolerance 15, recall 0.9533333333333334, mae 4.8933333333333335\n",
      "tolerance 10, recall 0.8666666666666667, mae 4.8933333333333335\n",
      "tolerance 5, recall 0.6866666666666666, mae 4.8933333333333335\n",
      "Largest Error MARCEL: 32.0\n",
      "Largest Error SYLVAIN: 12.0\n",
      "Largest Error CONRAD: 12.0\n",
      "🍺 Optimal Tolerance : 32\n",
      "============================================================\n",
      "\u001b[1mTesting Hidden_Size:64 Output_Size:150 Conv_Output_Dim:128 Dense_Output_Dim:64\u001b[0m\n",
      "\n",
      "Training model...\n",
      "Early Stop Triggered, Final Accuracy 99.64\n",
      "Total training time 21.77472996711731\n",
      "---------- Prediction With Constraint ----------\n",
      "MARCEL 6212.0 6764.0\n",
      "SYLVAIN 6441.0 7010.0\n",
      "CONRAD 6464.0 7033.0\n"
     ]
    },
    {
     "name": "stderr",
     "output_type": "stream",
     "text": [
      "Processing Wells: 100%|██████████| 50/50 [00:54<00:00,  1.09s/it]\n"
     ]
    },
    {
     "name": "stdout",
     "output_type": "stream",
     "text": [
      "🍺 Total prediction time 55.59142589569092\n",
      "tolerance 20, recall 0.9933333333333333, mae 3.4066666666666667\n",
      "tolerance 15, recall 0.9733333333333334, mae 3.4066666666666667\n",
      "tolerance 10, recall 0.9533333333333334, mae 3.4066666666666667\n",
      "tolerance 5, recall 0.8266666666666667, mae 3.4066666666666667\n",
      "Largest Error MARCEL: 22.0\n",
      "Largest Error SYLVAIN: 11.0\n",
      "Largest Error CONRAD: 14.0\n",
      "🍺 Optimal Tolerance : 22\n",
      "============================================================\n",
      "\u001b[1mTesting Hidden_Size:64 Output_Size:150 Conv_Output_Dim:256 Dense_Output_Dim:256\u001b[0m\n",
      "\n",
      "Training model...\n",
      "Early Stop Triggered, Final Accuracy 99.17\n",
      "Total training time 12.746674299240112\n",
      "---------- Prediction With Constraint ----------\n",
      "MARCEL 6212.0 6764.0\n",
      "SYLVAIN 6441.0 7010.0\n",
      "CONRAD 6464.0 7033.0\n"
     ]
    },
    {
     "name": "stderr",
     "output_type": "stream",
     "text": [
      "Processing Wells: 100%|██████████| 50/50 [01:28<00:00,  1.76s/it]\n"
     ]
    },
    {
     "name": "stdout",
     "output_type": "stream",
     "text": [
      "🍺 Total prediction time 88.95350503921509\n",
      "tolerance 20, recall 0.98, mae 3.6766666666666667\n",
      "tolerance 15, recall 0.98, mae 3.6766666666666667\n",
      "tolerance 10, recall 0.9533333333333334, mae 3.6766666666666667\n",
      "tolerance 5, recall 0.78, mae 3.6766666666666667\n",
      "Largest Error MARCEL: 27.0\n",
      "Largest Error SYLVAIN: 13.0\n",
      "Largest Error CONRAD: 26.0\n",
      "🍺 Optimal Tolerance : 27\n",
      "============================================================\n",
      "\u001b[1mTesting Hidden_Size:64 Output_Size:150 Conv_Output_Dim:256 Dense_Output_Dim:128\u001b[0m\n",
      "\n",
      "Training model...\n",
      "Early Stop Triggered, Final Accuracy 99.52\n",
      "Total training time 19.837008953094482\n",
      "---------- Prediction With Constraint ----------\n",
      "MARCEL 6212.0 6764.0\n",
      "SYLVAIN 6441.0 7010.0\n",
      "CONRAD 6464.0 7033.0\n"
     ]
    },
    {
     "name": "stderr",
     "output_type": "stream",
     "text": [
      "Processing Wells: 100%|██████████| 50/50 [01:26<00:00,  1.73s/it]\n"
     ]
    },
    {
     "name": "stdout",
     "output_type": "stream",
     "text": [
      "🍺 Total prediction time 87.46024894714355\n",
      "tolerance 20, recall 0.9866666666666667, mae 3.8033333333333332\n",
      "tolerance 15, recall 0.9733333333333334, mae 3.8033333333333332\n",
      "tolerance 10, recall 0.94, mae 3.8033333333333332\n",
      "tolerance 5, recall 0.7866666666666666, mae 3.8033333333333332\n",
      "Largest Error MARCEL: 32.0\n",
      "Largest Error SYLVAIN: 11.0\n",
      "Largest Error CONRAD: 16.0\n",
      "🍺 Optimal Tolerance : 32\n",
      "============================================================\n",
      "\u001b[1mTesting Hidden_Size:64 Output_Size:150 Conv_Output_Dim:256 Dense_Output_Dim:64\u001b[0m\n",
      "\n",
      "Training model...\n",
      "Early Stop Triggered, Final Accuracy 99.29\n",
      "Total training time 30.09254002571106\n",
      "---------- Prediction With Constraint ----------\n",
      "MARCEL 6212.0 6764.0\n",
      "SYLVAIN 6441.0 7010.0\n",
      "CONRAD 6464.0 7033.0\n"
     ]
    },
    {
     "name": "stderr",
     "output_type": "stream",
     "text": [
      "Processing Wells: 100%|██████████| 50/50 [01:26<00:00,  1.73s/it]\n"
     ]
    },
    {
     "name": "stdout",
     "output_type": "stream",
     "text": [
      "🍺 Total prediction time 87.29802298545837\n",
      "tolerance 20, recall 0.9933333333333333, mae 2.8866666666666667\n",
      "tolerance 15, recall 0.9866666666666667, mae 2.8866666666666667\n",
      "tolerance 10, recall 0.9733333333333334, mae 2.8866666666666667\n",
      "tolerance 5, recall 0.8666666666666667, mae 2.8866666666666667\n",
      "Largest Error MARCEL: 21.0\n",
      "Largest Error SYLVAIN: 9.0\n",
      "Largest Error CONRAD: 13.0\n",
      "🍺 Optimal Tolerance : 21\n",
      "============================================================\n",
      "\u001b[1mTesting Hidden_Size:64 Output_Size:200 Conv_Output_Dim:64 Dense_Output_Dim:256\u001b[0m\n",
      "\n",
      "Training model...\n",
      "Early Stop Triggered, Final Accuracy 99.64\n",
      "Total training time 9.506060123443604\n",
      "---------- Prediction With Constraint ----------\n",
      "MARCEL 6212.0 6764.0\n",
      "SYLVAIN 6441.0 7010.0\n",
      "CONRAD 6464.0 7033.0\n"
     ]
    },
    {
     "name": "stderr",
     "output_type": "stream",
     "text": [
      "Processing Wells: 100%|██████████| 50/50 [00:46<00:00,  1.08it/s]\n"
     ]
    },
    {
     "name": "stdout",
     "output_type": "stream",
     "text": [
      "🍺 Total prediction time 47.10919380187988\n",
      "tolerance 20, recall 0.98, mae 3.1366666666666667\n",
      "tolerance 15, recall 0.98, mae 3.1366666666666667\n",
      "tolerance 10, recall 0.96, mae 3.1366666666666667\n",
      "tolerance 5, recall 0.8666666666666667, mae 3.1366666666666667\n",
      "Largest Error MARCEL: 40.0\n",
      "Largest Error SYLVAIN: 15.0\n",
      "Largest Error CONRAD: 14.0\n",
      "🍺 Optimal Tolerance : 40\n",
      "============================================================\n",
      "\u001b[1mTesting Hidden_Size:64 Output_Size:200 Conv_Output_Dim:64 Dense_Output_Dim:128\u001b[0m\n",
      "\n",
      "Training model...\n",
      "Early Stop Triggered, Final Accuracy 99.41\n",
      "Total training time 12.44174575805664\n",
      "---------- Prediction With Constraint ----------\n",
      "MARCEL 6212.0 6764.0\n",
      "SYLVAIN 6441.0 7010.0\n",
      "CONRAD 6464.0 7033.0\n"
     ]
    },
    {
     "name": "stderr",
     "output_type": "stream",
     "text": [
      "Processing Wells: 100%|██████████| 50/50 [00:45<00:00,  1.11it/s]\n"
     ]
    },
    {
     "name": "stdout",
     "output_type": "stream",
     "text": [
      "🍺 Total prediction time 46.16529893875122\n",
      "tolerance 20, recall 1.0, mae 2.756666666666667\n",
      "tolerance 15, recall 0.9933333333333333, mae 2.756666666666667\n",
      "tolerance 10, recall 0.9533333333333334, mae 2.756666666666667\n",
      "tolerance 5, recall 0.88, mae 2.756666666666667\n",
      "Largest Error MARCEL: 20.0\n",
      "Largest Error SYLVAIN: 14.0\n",
      "Largest Error CONRAD: 12.0\n",
      "🍺 Optimal Tolerance : 20\n",
      "============================================================\n",
      "\u001b[1mTesting Hidden_Size:64 Output_Size:200 Conv_Output_Dim:64 Dense_Output_Dim:64\u001b[0m\n",
      "\n",
      "Training model...\n",
      "Early Stop Triggered, Final Accuracy 99.29\n",
      "Total training time 12.136999130249023\n",
      "---------- Prediction With Constraint ----------\n",
      "MARCEL 6212.0 6764.0\n",
      "SYLVAIN 6441.0 7010.0\n",
      "CONRAD 6464.0 7033.0\n"
     ]
    },
    {
     "name": "stderr",
     "output_type": "stream",
     "text": [
      "Processing Wells: 100%|██████████| 50/50 [00:45<00:00,  1.10it/s]\n"
     ]
    },
    {
     "name": "stdout",
     "output_type": "stream",
     "text": [
      "🍺 Total prediction time 46.49813985824585\n",
      "tolerance 20, recall 0.98, mae 3.5366666666666666\n",
      "tolerance 15, recall 0.98, mae 3.5366666666666666\n",
      "tolerance 10, recall 0.96, mae 3.5366666666666666\n",
      "tolerance 5, recall 0.8266666666666667, mae 3.5366666666666666\n",
      "Largest Error MARCEL: 35.0\n",
      "Largest Error SYLVAIN: 12.0\n",
      "Largest Error CONRAD: 13.0\n",
      "🍺 Optimal Tolerance : 35\n",
      "============================================================\n",
      "\u001b[1mTesting Hidden_Size:64 Output_Size:200 Conv_Output_Dim:128 Dense_Output_Dim:256\u001b[0m\n",
      "\n",
      "Training model...\n",
      "Early Stop Triggered, Final Accuracy 99.41\n",
      "Total training time 9.891538143157959\n",
      "---------- Prediction With Constraint ----------\n",
      "MARCEL 6212.0 6764.0\n",
      "SYLVAIN 6441.0 7010.0\n",
      "CONRAD 6464.0 7033.0\n"
     ]
    },
    {
     "name": "stderr",
     "output_type": "stream",
     "text": [
      "Processing Wells: 100%|██████████| 50/50 [00:58<00:00,  1.17s/it]\n"
     ]
    },
    {
     "name": "stdout",
     "output_type": "stream",
     "text": [
      "🍺 Total prediction time 59.38826894760132\n",
      "tolerance 20, recall 0.9866666666666667, mae 3.0033333333333334\n",
      "tolerance 15, recall 0.9866666666666667, mae 3.0033333333333334\n",
      "tolerance 10, recall 0.96, mae 3.0033333333333334\n",
      "tolerance 5, recall 0.8666666666666667, mae 3.0033333333333334\n",
      "Largest Error MARCEL: 26.0\n",
      "Largest Error SYLVAIN: 12.0\n",
      "Largest Error CONRAD: 12.0\n",
      "🍺 Optimal Tolerance : 26\n",
      "============================================================\n",
      "\u001b[1mTesting Hidden_Size:64 Output_Size:200 Conv_Output_Dim:128 Dense_Output_Dim:128\u001b[0m\n",
      "\n",
      "Training model...\n",
      "Early Stop Triggered, Final Accuracy 99.64\n",
      "Total training time 15.230297088623047\n",
      "---------- Prediction With Constraint ----------\n",
      "MARCEL 6212.0 6764.0\n",
      "SYLVAIN 6441.0 7010.0\n",
      "CONRAD 6464.0 7033.0\n"
     ]
    },
    {
     "name": "stderr",
     "output_type": "stream",
     "text": [
      "Processing Wells: 100%|██████████| 50/50 [00:57<00:00,  1.14s/it]\n"
     ]
    },
    {
     "name": "stdout",
     "output_type": "stream",
     "text": [
      "🍺 Total prediction time 58.10230898857117\n",
      "tolerance 20, recall 0.98, mae 3.95\n",
      "tolerance 15, recall 0.98, mae 3.95\n",
      "tolerance 10, recall 0.9066666666666666, mae 3.95\n",
      "tolerance 5, recall 0.7466666666666667, mae 3.95\n",
      "Largest Error MARCEL: 30.0\n",
      "Largest Error SYLVAIN: 23.0\n",
      "Largest Error CONRAD: 14.0\n",
      "🍺 Optimal Tolerance : 30\n",
      "============================================================\n",
      "\u001b[1mTesting Hidden_Size:64 Output_Size:200 Conv_Output_Dim:128 Dense_Output_Dim:64\u001b[0m\n",
      "\n",
      "Training model...\n",
      "Early Stop Triggered, Final Accuracy 99.64\n",
      "Total training time 19.710886240005493\n",
      "---------- Prediction With Constraint ----------\n",
      "MARCEL 6212.0 6764.0\n",
      "SYLVAIN 6441.0 7010.0\n",
      "CONRAD 6464.0 7033.0\n"
     ]
    },
    {
     "name": "stderr",
     "output_type": "stream",
     "text": [
      "Processing Wells: 100%|██████████| 50/50 [01:12<00:00,  1.44s/it]\n"
     ]
    },
    {
     "name": "stdout",
     "output_type": "stream",
     "text": [
      "🍺 Total prediction time 73.0145993232727\n",
      "tolerance 20, recall 0.9933333333333333, mae 3.17\n",
      "tolerance 15, recall 0.98, mae 3.17\n",
      "tolerance 10, recall 0.9533333333333334, mae 3.17\n",
      "tolerance 5, recall 0.82, mae 3.17\n",
      "Largest Error MARCEL: 22.0\n",
      "Largest Error SYLVAIN: 13.0\n",
      "Largest Error CONRAD: 16.0\n",
      "🍺 Optimal Tolerance : 22\n",
      "============================================================\n",
      "\u001b[1mTesting Hidden_Size:64 Output_Size:200 Conv_Output_Dim:256 Dense_Output_Dim:256\u001b[0m\n",
      "\n",
      "Training model...\n",
      "Early Stop Triggered, Final Accuracy 99.52\n",
      "Total training time 18.22694492340088\n",
      "---------- Prediction With Constraint ----------\n",
      "MARCEL 6212.0 6764.0\n",
      "SYLVAIN 6441.0 7010.0\n",
      "CONRAD 6464.0 7033.0\n"
     ]
    },
    {
     "name": "stderr",
     "output_type": "stream",
     "text": [
      "Processing Wells: 100%|██████████| 50/50 [01:52<00:00,  2.25s/it]\n"
     ]
    },
    {
     "name": "stdout",
     "output_type": "stream",
     "text": [
      "🍺 Total prediction time 114.16319918632507\n",
      "tolerance 20, recall 0.98, mae 3.8566666666666665\n",
      "tolerance 15, recall 0.98, mae 3.8566666666666665\n",
      "tolerance 10, recall 0.94, mae 3.8566666666666665\n",
      "tolerance 5, recall 0.8333333333333334, mae 3.8566666666666665\n",
      "Largest Error MARCEL: 29.0\n",
      "Largest Error SYLVAIN: 86.0\n",
      "Largest Error CONRAD: 12.0\n",
      "🍺 Optimal Tolerance : 86\n",
      "============================================================\n",
      "\u001b[1mTesting Hidden_Size:64 Output_Size:200 Conv_Output_Dim:256 Dense_Output_Dim:128\u001b[0m\n",
      "\n",
      "Training model...\n",
      "Early Stop Triggered, Final Accuracy 99.64\n",
      "Total training time 20.888505935668945\n",
      "---------- Prediction With Constraint ----------\n",
      "MARCEL 6212.0 6764.0\n",
      "SYLVAIN 6441.0 7010.0\n",
      "CONRAD 6464.0 7033.0\n"
     ]
    },
    {
     "name": "stderr",
     "output_type": "stream",
     "text": [
      "Processing Wells: 100%|██████████| 50/50 [01:36<00:00,  1.92s/it]\n"
     ]
    },
    {
     "name": "stdout",
     "output_type": "stream",
     "text": [
      "🍺 Total prediction time 96.97273588180542\n",
      "tolerance 20, recall 0.9866666666666667, mae 3.97\n",
      "tolerance 15, recall 0.98, mae 3.97\n",
      "tolerance 10, recall 0.9533333333333334, mae 3.97\n",
      "tolerance 5, recall 0.7666666666666667, mae 3.97\n",
      "Largest Error MARCEL: 26.0\n",
      "Largest Error SYLVAIN: 19.0\n",
      "Largest Error CONRAD: 14.0\n",
      "🍺 Optimal Tolerance : 26\n",
      "============================================================\n",
      "\u001b[1mTesting Hidden_Size:64 Output_Size:200 Conv_Output_Dim:256 Dense_Output_Dim:64\u001b[0m\n",
      "\n",
      "Training model...\n",
      "Early Stop Triggered, Final Accuracy 99.64\n",
      "Total training time 30.637758255004883\n",
      "---------- Prediction With Constraint ----------\n",
      "MARCEL 6212.0 6764.0\n",
      "SYLVAIN 6441.0 7010.0\n",
      "CONRAD 6464.0 7033.0\n"
     ]
    },
    {
     "name": "stderr",
     "output_type": "stream",
     "text": [
      "Processing Wells: 100%|██████████| 50/50 [01:33<00:00,  1.86s/it]\n"
     ]
    },
    {
     "name": "stdout",
     "output_type": "stream",
     "text": [
      "🍺 Total prediction time 93.87941312789917\n",
      "tolerance 20, recall 0.9933333333333333, mae 3.94\n",
      "tolerance 15, recall 0.9733333333333334, mae 3.94\n",
      "tolerance 10, recall 0.92, mae 3.94\n",
      "tolerance 5, recall 0.82, mae 3.94\n",
      "Largest Error MARCEL: 44.0\n",
      "Largest Error SYLVAIN: 19.0\n",
      "Largest Error CONRAD: 15.0\n",
      "🍺 Optimal Tolerance : 44\n",
      "============================================================\n",
      "\u001b[1mTesting Hidden_Size:128 Output_Size:100 Conv_Output_Dim:64 Dense_Output_Dim:256\u001b[0m\n",
      "\n",
      "Training model...\n",
      "Early Stop Triggered, Final Accuracy 99.29\n",
      "Total training time 12.370157241821289\n",
      "---------- Prediction With Constraint ----------\n",
      "MARCEL 6212.0 6764.0\n",
      "SYLVAIN 6441.0 7010.0\n",
      "CONRAD 6464.0 7033.0\n"
     ]
    },
    {
     "name": "stderr",
     "output_type": "stream",
     "text": [
      "Processing Wells: 100%|██████████| 50/50 [00:48<00:00,  1.04it/s]\n"
     ]
    },
    {
     "name": "stdout",
     "output_type": "stream",
     "text": [
      "🍺 Total prediction time 48.97934699058533\n",
      "tolerance 20, recall 0.9933333333333333, mae 3.4833333333333334\n",
      "tolerance 15, recall 0.9733333333333334, mae 3.4833333333333334\n",
      "tolerance 10, recall 0.9466666666666667, mae 3.4833333333333334\n",
      "tolerance 5, recall 0.8333333333333334, mae 3.4833333333333334\n",
      "Largest Error MARCEL: 42.0\n",
      "Largest Error SYLVAIN: 10.0\n",
      "Largest Error CONRAD: 12.0\n",
      "🍺 Optimal Tolerance : 42\n",
      "============================================================\n",
      "\u001b[1mTesting Hidden_Size:128 Output_Size:100 Conv_Output_Dim:64 Dense_Output_Dim:128\u001b[0m\n",
      "\n",
      "Training model...\n",
      "Early Stop Triggered, Final Accuracy 99.29\n",
      "Total training time 12.884361028671265\n",
      "---------- Prediction With Constraint ----------\n",
      "MARCEL 6212.0 6764.0\n",
      "SYLVAIN 6441.0 7010.0\n",
      "CONRAD 6464.0 7033.0\n"
     ]
    },
    {
     "name": "stderr",
     "output_type": "stream",
     "text": [
      "Processing Wells: 100%|██████████| 50/50 [00:47<00:00,  1.06it/s]\n"
     ]
    },
    {
     "name": "stdout",
     "output_type": "stream",
     "text": [
      "🍺 Total prediction time 48.079800844192505\n",
      "tolerance 20, recall 0.9933333333333333, mae 2.9966666666666666\n",
      "tolerance 15, recall 0.9933333333333333, mae 2.9966666666666666\n",
      "tolerance 10, recall 0.9666666666666667, mae 2.9966666666666666\n",
      "tolerance 5, recall 0.8466666666666667, mae 2.9966666666666666\n",
      "Largest Error MARCEL: 26.0\n",
      "Largest Error SYLVAIN: 11.0\n",
      "Largest Error CONRAD: 12.0\n",
      "🍺 Optimal Tolerance : 26\n",
      "============================================================\n",
      "\u001b[1mTesting Hidden_Size:128 Output_Size:100 Conv_Output_Dim:64 Dense_Output_Dim:64\u001b[0m\n",
      "\n",
      "Training model...\n",
      "Early Stop Triggered, Final Accuracy 99.29\n",
      "Total training time 23.055218935012817\n",
      "---------- Prediction With Constraint ----------\n",
      "MARCEL 6212.0 6764.0\n",
      "SYLVAIN 6441.0 7010.0\n",
      "CONRAD 6464.0 7033.0\n"
     ]
    },
    {
     "name": "stderr",
     "output_type": "stream",
     "text": [
      "Processing Wells: 100%|██████████| 50/50 [00:46<00:00,  1.07it/s]\n"
     ]
    },
    {
     "name": "stdout",
     "output_type": "stream",
     "text": [
      "🍺 Total prediction time 47.73388695716858\n",
      "tolerance 20, recall 0.98, mae 3.966666666666667\n",
      "tolerance 15, recall 0.9666666666666667, mae 3.966666666666667\n",
      "tolerance 10, recall 0.9066666666666666, mae 3.966666666666667\n",
      "tolerance 5, recall 0.78, mae 3.966666666666667\n",
      "Largest Error MARCEL: 41.0\n",
      "Largest Error SYLVAIN: 13.0\n",
      "Largest Error CONRAD: 13.0\n",
      "🍺 Optimal Tolerance : 41\n",
      "============================================================\n",
      "\u001b[1mTesting Hidden_Size:128 Output_Size:100 Conv_Output_Dim:128 Dense_Output_Dim:256\u001b[0m\n",
      "\n",
      "Training model...\n",
      "Early Stop Triggered, Final Accuracy 99.05\n",
      "Total training time 12.983342170715332\n",
      "---------- Prediction With Constraint ----------\n",
      "MARCEL 6212.0 6764.0\n",
      "SYLVAIN 6441.0 7010.0\n",
      "CONRAD 6464.0 7033.0\n"
     ]
    },
    {
     "name": "stderr",
     "output_type": "stream",
     "text": [
      "Processing Wells: 100%|██████████| 50/50 [00:58<00:00,  1.18s/it]\n"
     ]
    },
    {
     "name": "stdout",
     "output_type": "stream",
     "text": [
      "🍺 Total prediction time 59.73523306846619\n",
      "tolerance 20, recall 0.9933333333333333, mae 3.17\n",
      "tolerance 15, recall 0.9866666666666667, mae 3.17\n",
      "tolerance 10, recall 0.9533333333333334, mae 3.17\n",
      "tolerance 5, recall 0.8866666666666667, mae 3.17\n",
      "Largest Error MARCEL: 45.0\n",
      "Largest Error SYLVAIN: 17.0\n",
      "Largest Error CONRAD: 15.0\n",
      "🍺 Optimal Tolerance : 45\n",
      "============================================================\n",
      "\u001b[1mTesting Hidden_Size:128 Output_Size:100 Conv_Output_Dim:128 Dense_Output_Dim:128\u001b[0m\n",
      "\n",
      "Training model...\n",
      "Early Stop Triggered, Final Accuracy 99.41\n",
      "Total training time 18.15780806541443\n",
      "---------- Prediction With Constraint ----------\n",
      "MARCEL 6212.0 6764.0\n",
      "SYLVAIN 6441.0 7010.0\n",
      "CONRAD 6464.0 7033.0\n"
     ]
    },
    {
     "name": "stderr",
     "output_type": "stream",
     "text": [
      "Processing Wells: 100%|██████████| 50/50 [00:59<00:00,  1.19s/it]\n"
     ]
    },
    {
     "name": "stdout",
     "output_type": "stream",
     "text": [
      "🍺 Total prediction time 60.34841704368591\n",
      "tolerance 20, recall 0.9933333333333333, mae 3.27\n",
      "tolerance 15, recall 0.9933333333333333, mae 3.27\n",
      "tolerance 10, recall 0.9466666666666667, mae 3.27\n",
      "tolerance 5, recall 0.82, mae 3.27\n",
      "Largest Error MARCEL: 23.0\n",
      "Largest Error SYLVAIN: 11.0\n",
      "Largest Error CONRAD: 12.0\n",
      "🍺 Optimal Tolerance : 23\n",
      "============================================================\n",
      "\u001b[1mTesting Hidden_Size:128 Output_Size:100 Conv_Output_Dim:128 Dense_Output_Dim:64\u001b[0m\n",
      "\n",
      "Training model...\n",
      "Early Stop Triggered, Final Accuracy 99.41\n",
      "Total training time 11.5815110206604\n",
      "---------- Prediction With Constraint ----------\n",
      "MARCEL 6212.0 6764.0\n",
      "SYLVAIN 6441.0 7010.0\n",
      "CONRAD 6464.0 7033.0\n"
     ]
    },
    {
     "name": "stderr",
     "output_type": "stream",
     "text": [
      "Processing Wells: 100%|██████████| 50/50 [00:59<00:00,  1.19s/it]\n"
     ]
    },
    {
     "name": "stdout",
     "output_type": "stream",
     "text": [
      "🍺 Total prediction time 60.466716289520264\n",
      "tolerance 20, recall 0.9933333333333333, mae 3.16\n",
      "tolerance 15, recall 0.9866666666666667, mae 3.16\n",
      "tolerance 10, recall 0.96, mae 3.16\n",
      "tolerance 5, recall 0.8666666666666667, mae 3.16\n",
      "Largest Error MARCEL: 29.0\n",
      "Largest Error SYLVAIN: 11.0\n",
      "Largest Error CONRAD: 13.0\n",
      "🍺 Optimal Tolerance : 29\n",
      "============================================================\n",
      "\u001b[1mTesting Hidden_Size:128 Output_Size:100 Conv_Output_Dim:256 Dense_Output_Dim:256\u001b[0m\n",
      "\n",
      "Training model...\n",
      "Early Stop Triggered, Final Accuracy 99.52\n",
      "Total training time 20.440335035324097\n",
      "---------- Prediction With Constraint ----------\n",
      "MARCEL 6212.0 6764.0\n",
      "SYLVAIN 6441.0 7010.0\n",
      "CONRAD 6464.0 7033.0\n"
     ]
    },
    {
     "name": "stderr",
     "output_type": "stream",
     "text": [
      "Processing Wells: 100%|██████████| 50/50 [01:31<00:00,  1.83s/it]\n"
     ]
    },
    {
     "name": "stdout",
     "output_type": "stream",
     "text": [
      "🍺 Total prediction time 92.24928498268127\n",
      "tolerance 20, recall 0.9933333333333333, mae 3.723333333333333\n",
      "tolerance 15, recall 0.96, mae 3.723333333333333\n",
      "tolerance 10, recall 0.9133333333333333, mae 3.723333333333333\n",
      "tolerance 5, recall 0.7733333333333333, mae 3.723333333333333\n",
      "Largest Error MARCEL: 23.0\n",
      "Largest Error SYLVAIN: 11.0\n",
      "Largest Error CONRAD: 12.0\n",
      "🍺 Optimal Tolerance : 23\n",
      "============================================================\n",
      "\u001b[1mTesting Hidden_Size:128 Output_Size:100 Conv_Output_Dim:256 Dense_Output_Dim:128\u001b[0m\n",
      "\n",
      "Training model...\n",
      "Early Stop Triggered, Final Accuracy 99.29\n",
      "Total training time 27.231770992279053\n",
      "---------- Prediction With Constraint ----------\n",
      "MARCEL 6212.0 6764.0\n",
      "SYLVAIN 6441.0 7010.0\n",
      "CONRAD 6464.0 7033.0\n"
     ]
    },
    {
     "name": "stderr",
     "output_type": "stream",
     "text": [
      "Processing Wells: 100%|██████████| 50/50 [01:29<00:00,  1.80s/it]\n"
     ]
    },
    {
     "name": "stdout",
     "output_type": "stream",
     "text": [
      "🍺 Total prediction time 90.90119409561157\n",
      "tolerance 20, recall 0.9933333333333333, mae 3.783333333333333\n",
      "tolerance 15, recall 0.98, mae 3.783333333333333\n",
      "tolerance 10, recall 0.94, mae 3.783333333333333\n",
      "tolerance 5, recall 0.8133333333333334, mae 3.783333333333333\n",
      "Largest Error MARCEL: 46.0\n",
      "Largest Error SYLVAIN: 10.0\n",
      "Largest Error CONRAD: 13.0\n",
      "🍺 Optimal Tolerance : 46\n",
      "============================================================\n",
      "\u001b[1mTesting Hidden_Size:128 Output_Size:100 Conv_Output_Dim:256 Dense_Output_Dim:64\u001b[0m\n",
      "\n",
      "Training model...\n",
      "Early Stop Triggered, Final Accuracy 99.41\n",
      "Total training time 41.67776894569397\n",
      "---------- Prediction With Constraint ----------\n",
      "MARCEL 6212.0 6764.0\n",
      "SYLVAIN 6441.0 7010.0\n",
      "CONRAD 6464.0 7033.0\n"
     ]
    },
    {
     "name": "stderr",
     "output_type": "stream",
     "text": [
      "Processing Wells: 100%|██████████| 50/50 [01:34<00:00,  1.89s/it]\n"
     ]
    },
    {
     "name": "stdout",
     "output_type": "stream",
     "text": [
      "🍺 Total prediction time 95.50469398498535\n",
      "tolerance 20, recall 0.9933333333333333, mae 3.3466666666666667\n",
      "tolerance 15, recall 0.9866666666666667, mae 3.3466666666666667\n",
      "tolerance 10, recall 0.9533333333333334, mae 3.3466666666666667\n",
      "tolerance 5, recall 0.8266666666666667, mae 3.3466666666666667\n",
      "Largest Error MARCEL: 22.0\n",
      "Largest Error SYLVAIN: 14.0\n",
      "Largest Error CONRAD: 12.0\n",
      "🍺 Optimal Tolerance : 22\n",
      "============================================================\n",
      "\u001b[1mTesting Hidden_Size:128 Output_Size:150 Conv_Output_Dim:64 Dense_Output_Dim:256\u001b[0m\n",
      "\n",
      "Training model...\n",
      "Early Stop Triggered, Final Accuracy 98.93\n",
      "Total training time 11.729143857955933\n",
      "---------- Prediction With Constraint ----------\n",
      "MARCEL 6212.0 6764.0\n",
      "SYLVAIN 6441.0 7010.0\n",
      "CONRAD 6464.0 7033.0\n"
     ]
    },
    {
     "name": "stderr",
     "output_type": "stream",
     "text": [
      "Processing Wells: 100%|██████████| 50/50 [00:56<00:00,  1.14s/it]\n"
     ]
    },
    {
     "name": "stdout",
     "output_type": "stream",
     "text": [
      "🍺 Total prediction time 57.747605085372925\n",
      "tolerance 20, recall 0.9933333333333333, mae 3.2866666666666666\n",
      "tolerance 15, recall 0.98, mae 3.2866666666666666\n",
      "tolerance 10, recall 0.96, mae 3.2866666666666666\n",
      "tolerance 5, recall 0.8, mae 3.2866666666666666\n",
      "Largest Error MARCEL: 25.0\n",
      "Largest Error SYLVAIN: 16.0\n",
      "Largest Error CONRAD: 16.0\n",
      "🍺 Optimal Tolerance : 25\n",
      "============================================================\n",
      "\u001b[1mTesting Hidden_Size:128 Output_Size:150 Conv_Output_Dim:64 Dense_Output_Dim:128\u001b[0m\n",
      "\n",
      "Training model...\n",
      "Early Stop Triggered, Final Accuracy 99.17\n",
      "Total training time 17.623535871505737\n",
      "---------- Prediction With Constraint ----------\n",
      "MARCEL 6212.0 6764.0\n",
      "SYLVAIN 6441.0 7010.0\n",
      "CONRAD 6464.0 7033.0\n"
     ]
    },
    {
     "name": "stderr",
     "output_type": "stream",
     "text": [
      "Processing Wells: 100%|██████████| 50/50 [00:56<00:00,  1.12s/it]\n"
     ]
    },
    {
     "name": "stdout",
     "output_type": "stream",
     "text": [
      "🍺 Total prediction time 56.91084384918213\n",
      "tolerance 20, recall 0.9866666666666667, mae 3.3866666666666667\n",
      "tolerance 15, recall 0.98, mae 3.3866666666666667\n",
      "tolerance 10, recall 0.96, mae 3.3866666666666667\n",
      "tolerance 5, recall 0.8466666666666667, mae 3.3866666666666667\n",
      "Largest Error MARCEL: 26.0\n",
      "Largest Error SYLVAIN: 84.0\n",
      "Largest Error CONRAD: 17.0\n",
      "🍺 Optimal Tolerance : 84\n",
      "============================================================\n",
      "\u001b[1mTesting Hidden_Size:128 Output_Size:150 Conv_Output_Dim:64 Dense_Output_Dim:64\u001b[0m\n",
      "\n",
      "Training model...\n",
      "Early Stop Triggered, Final Accuracy 99.41\n",
      "Total training time 22.544041872024536\n",
      "---------- Prediction With Constraint ----------\n",
      "MARCEL 6212.0 6764.0\n",
      "SYLVAIN 6441.0 7010.0\n",
      "CONRAD 6464.0 7033.0\n"
     ]
    },
    {
     "name": "stderr",
     "output_type": "stream",
     "text": [
      "Processing Wells: 100%|██████████| 50/50 [00:56<00:00,  1.12s/it]\n"
     ]
    },
    {
     "name": "stdout",
     "output_type": "stream",
     "text": [
      "🍺 Total prediction time 56.93979096412659\n",
      "tolerance 20, recall 0.9933333333333333, mae 3.4566666666666666\n",
      "tolerance 15, recall 0.9866666666666667, mae 3.4566666666666666\n",
      "tolerance 10, recall 0.9666666666666667, mae 3.4566666666666666\n",
      "tolerance 5, recall 0.8133333333333334, mae 3.4566666666666666\n",
      "Largest Error MARCEL: 27.0\n",
      "Largest Error SYLVAIN: 14.0\n",
      "Largest Error CONRAD: 12.0\n",
      "🍺 Optimal Tolerance : 27\n",
      "============================================================\n",
      "\u001b[1mTesting Hidden_Size:128 Output_Size:150 Conv_Output_Dim:128 Dense_Output_Dim:256\u001b[0m\n",
      "\n",
      "Training model...\n",
      "Early Stop Triggered, Final Accuracy 99.52\n",
      "Total training time 12.412361145019531\n",
      "---------- Prediction With Constraint ----------\n",
      "MARCEL 6212.0 6764.0\n",
      "SYLVAIN 6441.0 7010.0\n",
      "CONRAD 6464.0 7033.0\n"
     ]
    },
    {
     "name": "stderr",
     "output_type": "stream",
     "text": [
      "Processing Wells: 100%|██████████| 50/50 [01:08<00:00,  1.37s/it]\n"
     ]
    },
    {
     "name": "stdout",
     "output_type": "stream",
     "text": [
      "🍺 Total prediction time 69.72445487976074\n",
      "tolerance 20, recall 0.9733333333333334, mae 4.366666666666666\n",
      "tolerance 15, recall 0.96, mae 4.366666666666666\n",
      "tolerance 10, recall 0.94, mae 4.366666666666666\n",
      "tolerance 5, recall 0.8933333333333333, mae 4.366666666666666\n",
      "Largest Error MARCEL: 28.0\n",
      "Largest Error SYLVAIN: 85.0\n",
      "Largest Error CONRAD: 103.0\n",
      "🍺 Optimal Tolerance : 103\n",
      "============================================================\n",
      "\u001b[1mTesting Hidden_Size:128 Output_Size:150 Conv_Output_Dim:128 Dense_Output_Dim:128\u001b[0m\n",
      "\n",
      "Training model...\n",
      "Early Stop Triggered, Final Accuracy 99.52\n",
      "Total training time 20.08688998222351\n",
      "---------- Prediction With Constraint ----------\n",
      "MARCEL 6212.0 6764.0\n",
      "SYLVAIN 6441.0 7010.0\n",
      "CONRAD 6464.0 7033.0\n"
     ]
    },
    {
     "name": "stderr",
     "output_type": "stream",
     "text": [
      "Processing Wells: 100%|██████████| 50/50 [01:09<00:00,  1.38s/it]\n"
     ]
    },
    {
     "name": "stdout",
     "output_type": "stream",
     "text": [
      "🍺 Total prediction time 69.98326086997986\n",
      "tolerance 20, recall 0.9933333333333333, mae 3.566666666666667\n",
      "tolerance 15, recall 0.98, mae 3.566666666666667\n",
      "tolerance 10, recall 0.9666666666666667, mae 3.566666666666667\n",
      "tolerance 5, recall 0.82, mae 3.566666666666667\n",
      "Largest Error MARCEL: 24.0\n",
      "Largest Error SYLVAIN: 10.0\n",
      "Largest Error CONRAD: 12.0\n",
      "🍺 Optimal Tolerance : 24\n",
      "============================================================\n",
      "\u001b[1mTesting Hidden_Size:128 Output_Size:150 Conv_Output_Dim:128 Dense_Output_Dim:64\u001b[0m\n",
      "\n",
      "Training model...\n",
      "Early Stop Triggered, Final Accuracy 99.52\n",
      "Total training time 29.10444474220276\n",
      "---------- Prediction With Constraint ----------\n",
      "MARCEL 6212.0 6764.0\n",
      "SYLVAIN 6441.0 7010.0\n",
      "CONRAD 6464.0 7033.0\n"
     ]
    },
    {
     "name": "stderr",
     "output_type": "stream",
     "text": [
      "Processing Wells: 100%|██████████| 50/50 [01:09<00:00,  1.38s/it]\n"
     ]
    },
    {
     "name": "stdout",
     "output_type": "stream",
     "text": [
      "🍺 Total prediction time 69.91240215301514\n",
      "tolerance 20, recall 1.0, mae 3.1166666666666667\n",
      "tolerance 15, recall 0.9933333333333333, mae 3.1166666666666667\n",
      "tolerance 10, recall 0.9666666666666667, mae 3.1166666666666667\n",
      "tolerance 5, recall 0.8333333333333334, mae 3.1166666666666667\n",
      "Largest Error MARCEL: 17.0\n",
      "Largest Error SYLVAIN: 12.0\n",
      "Largest Error CONRAD: 12.0\n",
      "🍺 Optimal Tolerance : 17\n",
      "============================================================\n",
      "\u001b[1mTesting Hidden_Size:128 Output_Size:150 Conv_Output_Dim:256 Dense_Output_Dim:256\u001b[0m\n",
      "\n",
      "Training model...\n",
      "Early Stop Triggered, Final Accuracy 99.05\n",
      "Total training time 15.228003740310669\n",
      "---------- Prediction With Constraint ----------\n",
      "MARCEL 6212.0 6764.0\n",
      "SYLVAIN 6441.0 7010.0\n",
      "CONRAD 6464.0 7033.0\n"
     ]
    },
    {
     "name": "stderr",
     "output_type": "stream",
     "text": [
      "Processing Wells: 100%|██████████| 50/50 [01:41<00:00,  2.03s/it]\n"
     ]
    },
    {
     "name": "stdout",
     "output_type": "stream",
     "text": [
      "🍺 Total prediction time 102.4220461845398\n",
      "tolerance 20, recall 0.9933333333333333, mae 2.96\n",
      "tolerance 15, recall 0.98, mae 2.96\n",
      "tolerance 10, recall 0.9666666666666667, mae 2.96\n",
      "tolerance 5, recall 0.86, mae 2.96\n",
      "Largest Error MARCEL: 24.0\n",
      "Largest Error SYLVAIN: 19.0\n",
      "Largest Error CONRAD: 12.0\n",
      "🍺 Optimal Tolerance : 24\n",
      "============================================================\n",
      "\u001b[1mTesting Hidden_Size:128 Output_Size:150 Conv_Output_Dim:256 Dense_Output_Dim:128\u001b[0m\n",
      "\n",
      "Training model...\n",
      "Early Stop Triggered, Final Accuracy 99.52\n",
      "Total training time 17.908356189727783\n",
      "---------- Prediction With Constraint ----------\n",
      "MARCEL 6212.0 6764.0\n",
      "SYLVAIN 6441.0 7010.0\n",
      "CONRAD 6464.0 7033.0\n"
     ]
    },
    {
     "name": "stderr",
     "output_type": "stream",
     "text": [
      "Processing Wells: 100%|██████████| 50/50 [01:40<00:00,  2.01s/it]\n"
     ]
    },
    {
     "name": "stdout",
     "output_type": "stream",
     "text": [
      "🍺 Total prediction time 101.67029404640198\n",
      "tolerance 20, recall 0.9933333333333333, mae 3.9\n",
      "tolerance 15, recall 0.98, mae 3.9\n",
      "tolerance 10, recall 0.9066666666666666, mae 3.9\n",
      "tolerance 5, recall 0.78, mae 3.9\n",
      "Largest Error MARCEL: 27.0\n",
      "Largest Error SYLVAIN: 17.0\n",
      "Largest Error CONRAD: 14.0\n",
      "🍺 Optimal Tolerance : 27\n",
      "============================================================\n",
      "\u001b[1mTesting Hidden_Size:128 Output_Size:150 Conv_Output_Dim:256 Dense_Output_Dim:64\u001b[0m\n",
      "\n",
      "Training model...\n",
      "Early Stop Triggered, Final Accuracy 99.64\n",
      "Total training time 34.13591194152832\n",
      "---------- Prediction With Constraint ----------\n",
      "MARCEL 6212.0 6764.0\n",
      "SYLVAIN 6441.0 7010.0\n",
      "CONRAD 6464.0 7033.0\n"
     ]
    },
    {
     "name": "stderr",
     "output_type": "stream",
     "text": [
      "Processing Wells: 100%|██████████| 50/50 [01:38<00:00,  1.97s/it]\n"
     ]
    },
    {
     "name": "stdout",
     "output_type": "stream",
     "text": [
      "🍺 Total prediction time 99.59579181671143\n",
      "tolerance 20, recall 1.0, mae 3.29\n",
      "tolerance 15, recall 0.9866666666666667, mae 3.29\n",
      "tolerance 10, recall 0.9533333333333334, mae 3.29\n",
      "tolerance 5, recall 0.78, mae 3.29\n",
      "Largest Error MARCEL: 19.0\n",
      "Largest Error SYLVAIN: 20.0\n",
      "Largest Error CONRAD: 13.0\n",
      "🍺 Optimal Tolerance : 20\n",
      "============================================================\n",
      "\u001b[1mTesting Hidden_Size:128 Output_Size:200 Conv_Output_Dim:64 Dense_Output_Dim:256\u001b[0m\n",
      "\n",
      "Training model...\n",
      "Early Stop Triggered, Final Accuracy 99.05\n",
      "Total training time 10.087825298309326\n",
      "---------- Prediction With Constraint ----------\n",
      "MARCEL 6212.0 6764.0\n",
      "SYLVAIN 6441.0 7010.0\n",
      "CONRAD 6464.0 7033.0\n"
     ]
    },
    {
     "name": "stderr",
     "output_type": "stream",
     "text": [
      "Processing Wells: 100%|██████████| 50/50 [00:59<00:00,  1.18s/it]\n"
     ]
    },
    {
     "name": "stdout",
     "output_type": "stream",
     "text": [
      "🍺 Total prediction time 60.079970836639404\n",
      "tolerance 20, recall 0.9866666666666667, mae 3.78\n",
      "tolerance 15, recall 0.9866666666666667, mae 3.78\n",
      "tolerance 10, recall 0.96, mae 3.78\n",
      "tolerance 5, recall 0.9, mae 3.78\n",
      "Largest Error MARCEL: 120.0\n",
      "Largest Error SYLVAIN: 13.0\n",
      "Largest Error CONRAD: 15.0\n",
      "🍺 Optimal Tolerance : 120\n",
      "============================================================\n",
      "\u001b[1mTesting Hidden_Size:128 Output_Size:200 Conv_Output_Dim:64 Dense_Output_Dim:128\u001b[0m\n",
      "\n",
      "Training model...\n",
      "Early Stop Triggered, Final Accuracy 99.29\n",
      "Total training time 15.358473062515259\n",
      "---------- Prediction With Constraint ----------\n",
      "MARCEL 6212.0 6764.0\n",
      "SYLVAIN 6441.0 7010.0\n",
      "CONRAD 6464.0 7033.0\n"
     ]
    },
    {
     "name": "stderr",
     "output_type": "stream",
     "text": [
      "Processing Wells: 100%|██████████| 50/50 [00:58<00:00,  1.18s/it]\n"
     ]
    },
    {
     "name": "stdout",
     "output_type": "stream",
     "text": [
      "🍺 Total prediction time 59.75901389122009\n",
      "tolerance 20, recall 0.98, mae 3.82\n",
      "tolerance 15, recall 0.9733333333333334, mae 3.82\n",
      "tolerance 10, recall 0.9266666666666666, mae 3.82\n",
      "tolerance 5, recall 0.8066666666666666, mae 3.82\n",
      "Largest Error MARCEL: 37.0\n",
      "Largest Error SYLVAIN: 13.0\n",
      "Largest Error CONRAD: 14.0\n",
      "🍺 Optimal Tolerance : 37\n",
      "============================================================\n",
      "\u001b[1mTesting Hidden_Size:128 Output_Size:200 Conv_Output_Dim:64 Dense_Output_Dim:64\u001b[0m\n",
      "\n",
      "Training model...\n",
      "Early Stop Triggered, Final Accuracy 99.41\n",
      "Total training time 21.603294849395752\n",
      "---------- Prediction With Constraint ----------\n",
      "MARCEL 6212.0 6764.0\n",
      "SYLVAIN 6441.0 7010.0\n",
      "CONRAD 6464.0 7033.0\n"
     ]
    },
    {
     "name": "stderr",
     "output_type": "stream",
     "text": [
      "Processing Wells: 100%|██████████| 50/50 [00:57<00:00,  1.15s/it]\n"
     ]
    },
    {
     "name": "stdout",
     "output_type": "stream",
     "text": [
      "🍺 Total prediction time 58.217432737350464\n",
      "tolerance 20, recall 1.0, mae 2.9033333333333333\n",
      "tolerance 15, recall 0.9933333333333333, mae 2.9033333333333333\n",
      "tolerance 10, recall 0.9666666666666667, mae 2.9033333333333333\n",
      "tolerance 5, recall 0.88, mae 2.9033333333333333\n",
      "Largest Error MARCEL: 16.0\n",
      "Largest Error SYLVAIN: 14.0\n",
      "Largest Error CONRAD: 12.0\n",
      "🍺 Optimal Tolerance : 16\n",
      "============================================================\n",
      "\u001b[1mTesting Hidden_Size:128 Output_Size:200 Conv_Output_Dim:128 Dense_Output_Dim:256\u001b[0m\n",
      "\n",
      "Training model...\n",
      "Early Stop Triggered, Final Accuracy 99.52\n",
      "Total training time 13.904546022415161\n",
      "---------- Prediction With Constraint ----------\n",
      "MARCEL 6212.0 6764.0\n",
      "SYLVAIN 6441.0 7010.0\n",
      "CONRAD 6464.0 7033.0\n"
     ]
    },
    {
     "name": "stderr",
     "output_type": "stream",
     "text": [
      "Processing Wells: 100%|██████████| 50/50 [01:12<00:00,  1.45s/it]\n"
     ]
    },
    {
     "name": "stdout",
     "output_type": "stream",
     "text": [
      "🍺 Total prediction time 73.59275126457214\n",
      "tolerance 20, recall 0.9933333333333333, mae 3.1233333333333335\n",
      "tolerance 15, recall 0.98, mae 3.1233333333333335\n",
      "tolerance 10, recall 0.9533333333333334, mae 3.1233333333333335\n",
      "tolerance 5, recall 0.8533333333333334, mae 3.1233333333333335\n",
      "Largest Error MARCEL: 28.0\n",
      "Largest Error SYLVAIN: 19.0\n",
      "Largest Error CONRAD: 12.0\n",
      "🍺 Optimal Tolerance : 28\n",
      "============================================================\n",
      "\u001b[1mTesting Hidden_Size:128 Output_Size:200 Conv_Output_Dim:128 Dense_Output_Dim:128\u001b[0m\n",
      "\n",
      "Training model...\n",
      "Early Stop Triggered, Final Accuracy 99.29\n",
      "Total training time 16.19552707672119\n",
      "---------- Prediction With Constraint ----------\n",
      "MARCEL 6212.0 6764.0\n",
      "SYLVAIN 6441.0 7010.0\n",
      "CONRAD 6464.0 7033.0\n"
     ]
    },
    {
     "name": "stderr",
     "output_type": "stream",
     "text": [
      "Processing Wells: 100%|██████████| 50/50 [01:11<00:00,  1.44s/it]\n"
     ]
    },
    {
     "name": "stdout",
     "output_type": "stream",
     "text": [
      "🍺 Total prediction time 72.80962705612183\n",
      "tolerance 20, recall 0.9933333333333333, mae 3.71\n",
      "tolerance 15, recall 0.98, mae 3.71\n",
      "tolerance 10, recall 0.94, mae 3.71\n",
      "tolerance 5, recall 0.8333333333333334, mae 3.71\n",
      "Largest Error MARCEL: 27.0\n",
      "Largest Error SYLVAIN: 13.0\n",
      "Largest Error CONRAD: 12.0\n",
      "🍺 Optimal Tolerance : 27\n",
      "============================================================\n",
      "\u001b[1mTesting Hidden_Size:128 Output_Size:200 Conv_Output_Dim:128 Dense_Output_Dim:64\u001b[0m\n",
      "\n",
      "Training model...\n",
      "Early Stop Triggered, Final Accuracy 99.64\n",
      "Total training time 24.485321044921875\n",
      "---------- Prediction With Constraint ----------\n",
      "MARCEL 6212.0 6764.0\n",
      "SYLVAIN 6441.0 7010.0\n",
      "CONRAD 6464.0 7033.0\n"
     ]
    },
    {
     "name": "stderr",
     "output_type": "stream",
     "text": [
      "Processing Wells: 100%|██████████| 50/50 [01:11<00:00,  1.43s/it]\n"
     ]
    },
    {
     "name": "stdout",
     "output_type": "stream",
     "text": [
      "🍺 Total prediction time 72.54430794715881\n",
      "tolerance 20, recall 0.9933333333333333, mae 3.17\n",
      "tolerance 15, recall 0.9933333333333333, mae 3.17\n",
      "tolerance 10, recall 0.9666666666666667, mae 3.17\n",
      "tolerance 5, recall 0.8466666666666667, mae 3.17\n",
      "Largest Error MARCEL: 27.0\n",
      "Largest Error SYLVAIN: 9.0\n",
      "Largest Error CONRAD: 12.0\n",
      "🍺 Optimal Tolerance : 27\n",
      "============================================================\n",
      "\u001b[1mTesting Hidden_Size:128 Output_Size:200 Conv_Output_Dim:256 Dense_Output_Dim:256\u001b[0m\n",
      "\n",
      "Training model...\n",
      "Early Stop Triggered, Final Accuracy 99.52\n",
      "Total training time 16.501512050628662\n",
      "---------- Prediction With Constraint ----------\n",
      "MARCEL 6212.0 6764.0\n",
      "SYLVAIN 6441.0 7010.0\n",
      "CONRAD 6464.0 7033.0\n"
     ]
    },
    {
     "name": "stderr",
     "output_type": "stream",
     "text": [
      "Processing Wells: 100%|██████████| 50/50 [01:47<00:00,  2.15s/it]\n"
     ]
    },
    {
     "name": "stdout",
     "output_type": "stream",
     "text": [
      "🍺 Total prediction time 108.49709010124207\n",
      "tolerance 20, recall 1.0, mae 2.96\n",
      "tolerance 15, recall 1.0, mae 2.96\n",
      "tolerance 10, recall 0.9666666666666667, mae 2.96\n",
      "tolerance 5, recall 0.8466666666666667, mae 2.96\n",
      "Largest Error MARCEL: 15.0\n",
      "Largest Error SYLVAIN: 11.0\n",
      "Largest Error CONRAD: 12.0\n",
      "🍺 Optimal Tolerance : 15\n",
      "============================================================\n",
      "\u001b[1mTesting Hidden_Size:128 Output_Size:200 Conv_Output_Dim:256 Dense_Output_Dim:128\u001b[0m\n",
      "\n",
      "Training model...\n",
      "Early Stop Triggered, Final Accuracy 99.41\n",
      "Total training time 24.39811086654663\n",
      "---------- Prediction With Constraint ----------\n",
      "MARCEL 6212.0 6764.0\n",
      "SYLVAIN 6441.0 7010.0\n",
      "CONRAD 6464.0 7033.0\n"
     ]
    },
    {
     "name": "stderr",
     "output_type": "stream",
     "text": [
      "Processing Wells: 100%|██████████| 50/50 [01:45<00:00,  2.12s/it]\n"
     ]
    },
    {
     "name": "stdout",
     "output_type": "stream",
     "text": [
      "🍺 Total prediction time 106.82521891593933\n",
      "tolerance 20, recall 0.9866666666666667, mae 3.8\n",
      "tolerance 15, recall 0.9866666666666667, mae 3.8\n",
      "tolerance 10, recall 0.9333333333333333, mae 3.8\n",
      "tolerance 5, recall 0.7733333333333333, mae 3.8\n",
      "Largest Error MARCEL: 31.0\n",
      "Largest Error SYLVAIN: 15.0\n",
      "Largest Error CONRAD: 12.0\n",
      "🍺 Optimal Tolerance : 31\n",
      "============================================================\n",
      "\u001b[1mTesting Hidden_Size:128 Output_Size:200 Conv_Output_Dim:256 Dense_Output_Dim:64\u001b[0m\n",
      "\n",
      "Training model...\n",
      "Early Stop Triggered, Final Accuracy 99.41\n",
      "Total training time 38.89947009086609\n",
      "---------- Prediction With Constraint ----------\n",
      "MARCEL 6212.0 6764.0\n",
      "SYLVAIN 6441.0 7010.0\n",
      "CONRAD 6464.0 7033.0\n"
     ]
    },
    {
     "name": "stderr",
     "output_type": "stream",
     "text": [
      "Processing Wells: 100%|██████████| 50/50 [01:46<00:00,  2.12s/it]\n"
     ]
    },
    {
     "name": "stdout",
     "output_type": "stream",
     "text": [
      "🍺 Total prediction time 106.93688488006592\n",
      "tolerance 20, recall 0.9933333333333333, mae 3.0166666666666666\n",
      "tolerance 15, recall 0.98, mae 3.0166666666666666\n",
      "tolerance 10, recall 0.9533333333333334, mae 3.0166666666666666\n",
      "tolerance 5, recall 0.8733333333333333, mae 3.0166666666666666\n",
      "Largest Error MARCEL: 28.0\n",
      "Largest Error SYLVAIN: 14.0\n",
      "Largest Error CONRAD: 12.0\n",
      "🍺 Optimal Tolerance : 28\n",
      "============================================================\n",
      "\u001b[1mTesting Hidden_Size:256 Output_Size:100 Conv_Output_Dim:64 Dense_Output_Dim:256\u001b[0m\n",
      "\n",
      "Training model...\n",
      "Early Stop Triggered, Final Accuracy 99.05\n",
      "Total training time 22.59996724128723\n",
      "---------- Prediction With Constraint ----------\n",
      "MARCEL 6212.0 6764.0\n",
      "SYLVAIN 6441.0 7010.0\n",
      "CONRAD 6464.0 7033.0\n"
     ]
    },
    {
     "name": "stderr",
     "output_type": "stream",
     "text": [
      "Processing Wells: 100%|██████████| 50/50 [01:22<00:00,  1.66s/it]\n"
     ]
    },
    {
     "name": "stdout",
     "output_type": "stream",
     "text": [
      "🍺 Total prediction time 83.80307698249817\n",
      "tolerance 20, recall 0.9733333333333334, mae 5.796666666666667\n",
      "tolerance 15, recall 0.9266666666666666, mae 5.796666666666667\n",
      "tolerance 10, recall 0.84, mae 5.796666666666667\n",
      "tolerance 5, recall 0.7133333333333334, mae 5.796666666666667\n",
      "Largest Error MARCEL: 29.0\n",
      "Largest Error SYLVAIN: 86.0\n",
      "Largest Error CONRAD: 103.0\n",
      "🍺 Optimal Tolerance : 103\n",
      "============================================================\n",
      "\u001b[1mTesting Hidden_Size:256 Output_Size:100 Conv_Output_Dim:64 Dense_Output_Dim:128\u001b[0m\n",
      "\n",
      "Training model...\n",
      "Early Stop Triggered, Final Accuracy 99.05\n",
      "Total training time 39.610849142074585\n",
      "---------- Prediction With Constraint ----------\n",
      "MARCEL 6212.0 6764.0\n",
      "SYLVAIN 6441.0 7010.0\n",
      "CONRAD 6464.0 7033.0\n"
     ]
    },
    {
     "name": "stderr",
     "output_type": "stream",
     "text": [
      "Processing Wells: 100%|██████████| 50/50 [01:23<00:00,  1.66s/it]\n"
     ]
    },
    {
     "name": "stdout",
     "output_type": "stream",
     "text": [
      "🍺 Total prediction time 84.13502383232117\n",
      "tolerance 20, recall 0.9933333333333333, mae 5.06\n",
      "tolerance 15, recall 0.9866666666666667, mae 5.06\n",
      "tolerance 10, recall 0.9, mae 5.06\n",
      "tolerance 5, recall 0.6933333333333334, mae 5.06\n",
      "Largest Error MARCEL: 133.0\n",
      "Largest Error SYLVAIN: 13.0\n",
      "Largest Error CONRAD: 15.0\n",
      "🍺 Optimal Tolerance : 133\n",
      "============================================================\n",
      "\u001b[1mTesting Hidden_Size:256 Output_Size:100 Conv_Output_Dim:64 Dense_Output_Dim:64\u001b[0m\n",
      "\n",
      "Training model...\n",
      "Early Stop Triggered, Final Accuracy 98.81\n",
      "Total training time 54.16665697097778\n",
      "---------- Prediction With Constraint ----------\n",
      "MARCEL 6212.0 6764.0\n",
      "SYLVAIN 6441.0 7010.0\n",
      "CONRAD 6464.0 7033.0\n"
     ]
    },
    {
     "name": "stderr",
     "output_type": "stream",
     "text": [
      "Processing Wells: 100%|██████████| 50/50 [01:23<00:00,  1.67s/it]\n"
     ]
    },
    {
     "name": "stdout",
     "output_type": "stream",
     "text": [
      "🍺 Total prediction time 84.64216494560242\n",
      "tolerance 20, recall 0.9866666666666667, mae 6.433333333333334\n",
      "tolerance 15, recall 0.9866666666666667, mae 6.433333333333334\n",
      "tolerance 10, recall 0.9666666666666667, mae 6.433333333333334\n",
      "tolerance 5, recall 0.58, mae 6.433333333333334\n",
      "Largest Error MARCEL: 118.0\n",
      "Largest Error SYLVAIN: 14.0\n",
      "Largest Error CONRAD: 13.0\n",
      "🍺 Optimal Tolerance : 118\n",
      "============================================================\n",
      "\u001b[1mTesting Hidden_Size:256 Output_Size:100 Conv_Output_Dim:128 Dense_Output_Dim:256\u001b[0m\n",
      "\n",
      "Training model...\n",
      "Early Stop Triggered, Final Accuracy 99.05\n",
      "Total training time 24.287539958953857\n",
      "---------- Prediction With Constraint ----------\n",
      "MARCEL 6212.0 6764.0\n",
      "SYLVAIN 6441.0 7010.0\n",
      "CONRAD 6464.0 7033.0\n"
     ]
    },
    {
     "name": "stderr",
     "output_type": "stream",
     "text": [
      "Processing Wells: 100%|██████████| 50/50 [01:35<00:00,  1.90s/it]\n"
     ]
    },
    {
     "name": "stdout",
     "output_type": "stream",
     "text": [
      "🍺 Total prediction time 95.92696118354797\n",
      "tolerance 20, recall 0.9933333333333333, mae 3.3133333333333335\n",
      "tolerance 15, recall 0.9933333333333333, mae 3.3133333333333335\n",
      "tolerance 10, recall 0.9333333333333333, mae 3.3133333333333335\n",
      "tolerance 5, recall 0.8333333333333334, mae 3.3133333333333335\n",
      "Largest Error MARCEL: 40.0\n",
      "Largest Error SYLVAIN: 12.0\n",
      "Largest Error CONRAD: 15.0\n",
      "🍺 Optimal Tolerance : 40\n",
      "============================================================\n",
      "\u001b[1mTesting Hidden_Size:256 Output_Size:100 Conv_Output_Dim:128 Dense_Output_Dim:128\u001b[0m\n",
      "\n",
      "Training model...\n",
      "Early Stop Triggered, Final Accuracy 99.52\n",
      "Total training time 45.335705041885376\n",
      "---------- Prediction With Constraint ----------\n",
      "MARCEL 6212.0 6764.0\n",
      "SYLVAIN 6441.0 7010.0\n",
      "CONRAD 6464.0 7033.0\n"
     ]
    },
    {
     "name": "stderr",
     "output_type": "stream",
     "text": [
      "Processing Wells: 100%|██████████| 50/50 [01:36<00:00,  1.92s/it]\n"
     ]
    },
    {
     "name": "stdout",
     "output_type": "stream",
     "text": [
      "🍺 Total prediction time 96.89987683296204\n",
      "tolerance 20, recall 1.0, mae 3.78\n",
      "tolerance 15, recall 0.9866666666666667, mae 3.78\n",
      "tolerance 10, recall 0.94, mae 3.78\n",
      "tolerance 5, recall 0.7733333333333333, mae 3.78\n",
      "Largest Error MARCEL: 16.0\n",
      "Largest Error SYLVAIN: 12.0\n",
      "Largest Error CONRAD: 18.0\n",
      "🍺 Optimal Tolerance : 18\n",
      "============================================================\n",
      "\u001b[1mTesting Hidden_Size:256 Output_Size:100 Conv_Output_Dim:128 Dense_Output_Dim:64\u001b[0m\n",
      "\n",
      "Training model...\n",
      "Early Stop Triggered, Final Accuracy 99.52\n",
      "Total training time 43.78156399726868\n",
      "---------- Prediction With Constraint ----------\n",
      "MARCEL 6212.0 6764.0\n",
      "SYLVAIN 6441.0 7010.0\n",
      "CONRAD 6464.0 7033.0\n"
     ]
    },
    {
     "name": "stderr",
     "output_type": "stream",
     "text": [
      "Processing Wells: 100%|██████████| 50/50 [01:36<00:00,  1.93s/it]\n"
     ]
    },
    {
     "name": "stdout",
     "output_type": "stream",
     "text": [
      "🍺 Total prediction time 97.10369205474854\n",
      "tolerance 20, recall 0.9866666666666667, mae 3.5\n",
      "tolerance 15, recall 0.98, mae 3.5\n",
      "tolerance 10, recall 0.9733333333333334, mae 3.5\n",
      "tolerance 5, recall 0.8133333333333334, mae 3.5\n",
      "Largest Error MARCEL: 26.0\n",
      "Largest Error SYLVAIN: 9.0\n",
      "Largest Error CONRAD: 12.0\n",
      "🍺 Optimal Tolerance : 26\n",
      "============================================================\n",
      "\u001b[1mTesting Hidden_Size:256 Output_Size:100 Conv_Output_Dim:256 Dense_Output_Dim:256\u001b[0m\n",
      "\n",
      "Training model...\n",
      "Early Stop Triggered, Final Accuracy 99.52\n",
      "Total training time 34.28763794898987\n",
      "---------- Prediction With Constraint ----------\n",
      "MARCEL 6212.0 6764.0\n",
      "SYLVAIN 6441.0 7010.0\n",
      "CONRAD 6464.0 7033.0\n"
     ]
    },
    {
     "name": "stderr",
     "output_type": "stream",
     "text": [
      "Processing Wells: 100%|██████████| 50/50 [02:05<00:00,  2.51s/it]\n"
     ]
    },
    {
     "name": "stdout",
     "output_type": "stream",
     "text": [
      "🍺 Total prediction time 126.52697396278381\n",
      "tolerance 20, recall 0.9933333333333333, mae 3.2333333333333334\n",
      "tolerance 15, recall 0.9933333333333333, mae 3.2333333333333334\n",
      "tolerance 10, recall 0.9666666666666667, mae 3.2333333333333334\n",
      "tolerance 5, recall 0.82, mae 3.2333333333333334\n",
      "Largest Error MARCEL: 26.0\n",
      "Largest Error SYLVAIN: 12.0\n",
      "Largest Error CONRAD: 12.0\n",
      "🍺 Optimal Tolerance : 26\n",
      "============================================================\n",
      "\u001b[1mTesting Hidden_Size:256 Output_Size:100 Conv_Output_Dim:256 Dense_Output_Dim:128\u001b[0m\n",
      "\n",
      "Training model...\n",
      "Early Stop Triggered, Final Accuracy 99.52\n",
      "Total training time 49.64093804359436\n",
      "---------- Prediction With Constraint ----------\n",
      "MARCEL 6212.0 6764.0\n",
      "SYLVAIN 6441.0 7010.0\n",
      "CONRAD 6464.0 7033.0\n"
     ]
    },
    {
     "name": "stderr",
     "output_type": "stream",
     "text": [
      "Processing Wells: 100%|██████████| 50/50 [02:04<00:00,  2.49s/it]\n"
     ]
    },
    {
     "name": "stdout",
     "output_type": "stream",
     "text": [
      "🍺 Total prediction time 125.54850196838379\n",
      "tolerance 20, recall 0.9933333333333333, mae 3.0633333333333335\n",
      "tolerance 15, recall 0.9866666666666667, mae 3.0633333333333335\n",
      "tolerance 10, recall 0.9666666666666667, mae 3.0633333333333335\n",
      "tolerance 5, recall 0.88, mae 3.0633333333333335\n",
      "Largest Error MARCEL: 24.0\n",
      "Largest Error SYLVAIN: 10.0\n",
      "Largest Error CONRAD: 13.0\n",
      "🍺 Optimal Tolerance : 24\n",
      "============================================================\n",
      "\u001b[1mTesting Hidden_Size:256 Output_Size:100 Conv_Output_Dim:256 Dense_Output_Dim:64\u001b[0m\n",
      "\n",
      "Training model...\n",
      "Early Stop Triggered, Final Accuracy 99.52\n",
      "Total training time 68.86933493614197\n",
      "---------- Prediction With Constraint ----------\n",
      "MARCEL 6212.0 6764.0\n",
      "SYLVAIN 6441.0 7010.0\n",
      "CONRAD 6464.0 7033.0\n"
     ]
    },
    {
     "name": "stderr",
     "output_type": "stream",
     "text": [
      "Processing Wells: 100%|██████████| 50/50 [02:03<00:00,  2.46s/it]\n"
     ]
    },
    {
     "name": "stdout",
     "output_type": "stream",
     "text": [
      "🍺 Total prediction time 123.9414930343628\n",
      "tolerance 20, recall 0.9933333333333333, mae 3.3666666666666667\n",
      "tolerance 15, recall 0.98, mae 3.3666666666666667\n",
      "tolerance 10, recall 0.9333333333333333, mae 3.3666666666666667\n",
      "tolerance 5, recall 0.82, mae 3.3666666666666667\n",
      "Largest Error MARCEL: 22.0\n",
      "Largest Error SYLVAIN: 12.0\n",
      "Largest Error CONRAD: 15.0\n",
      "🍺 Optimal Tolerance : 22\n",
      "============================================================\n",
      "\u001b[1mTesting Hidden_Size:256 Output_Size:150 Conv_Output_Dim:64 Dense_Output_Dim:256\u001b[0m\n",
      "\n",
      "Training model...\n",
      "Early Stop Triggered, Final Accuracy 99.29\n",
      "Total training time 24.54601502418518\n",
      "---------- Prediction With Constraint ----------\n",
      "MARCEL 6212.0 6764.0\n",
      "SYLVAIN 6441.0 7010.0\n",
      "CONRAD 6464.0 7033.0\n"
     ]
    },
    {
     "name": "stderr",
     "output_type": "stream",
     "text": [
      "Processing Wells: 100%|██████████| 50/50 [01:28<00:00,  1.76s/it]\n"
     ]
    },
    {
     "name": "stdout",
     "output_type": "stream",
     "text": [
      "🍺 Total prediction time 89.09481501579285\n",
      "tolerance 20, recall 0.9866666666666667, mae 4.343333333333334\n",
      "tolerance 15, recall 0.9866666666666667, mae 4.343333333333334\n",
      "tolerance 10, recall 0.9733333333333334, mae 4.343333333333334\n",
      "tolerance 5, recall 0.8266666666666667, mae 4.343333333333334\n",
      "Largest Error MARCEL: 121.0\n",
      "Largest Error SYLVAIN: 11.5\n",
      "Largest Error CONRAD: 12.0\n",
      "🍺 Optimal Tolerance : 121\n",
      "============================================================\n",
      "\u001b[1mTesting Hidden_Size:256 Output_Size:150 Conv_Output_Dim:64 Dense_Output_Dim:128\u001b[0m\n",
      "\n",
      "Training model...\n",
      "Early Stop Triggered, Final Accuracy 98.46\n",
      "Total training time 32.09541702270508\n",
      "---------- Prediction With Constraint ----------\n",
      "MARCEL 6212.0 6764.0\n",
      "SYLVAIN 6441.0 7010.0\n",
      "CONRAD 6464.0 7033.0\n"
     ]
    },
    {
     "name": "stderr",
     "output_type": "stream",
     "text": [
      "Processing Wells: 100%|██████████| 50/50 [01:27<00:00,  1.76s/it]\n"
     ]
    },
    {
     "name": "stdout",
     "output_type": "stream",
     "text": [
      "🍺 Total prediction time 88.78564476966858\n",
      "tolerance 20, recall 0.98, mae 4.82\n",
      "tolerance 15, recall 0.96, mae 4.82\n",
      "tolerance 10, recall 0.94, mae 4.82\n",
      "tolerance 5, recall 0.8266666666666667, mae 4.82\n",
      "Largest Error MARCEL: 27.0\n",
      "Largest Error SYLVAIN: 88.0\n",
      "Largest Error CONRAD: 101.0\n",
      "🍺 Optimal Tolerance : 101\n",
      "============================================================\n",
      "\u001b[1mTesting Hidden_Size:256 Output_Size:150 Conv_Output_Dim:64 Dense_Output_Dim:64\u001b[0m\n",
      "\n",
      "Training model...\n",
      "Early Stop Triggered, Final Accuracy 99.29\n",
      "Total training time 52.069517850875854\n",
      "---------- Prediction With Constraint ----------\n",
      "MARCEL 6212.0 6764.0\n",
      "SYLVAIN 6441.0 7010.0\n",
      "CONRAD 6464.0 7033.0\n"
     ]
    },
    {
     "name": "stderr",
     "output_type": "stream",
     "text": [
      "Processing Wells: 100%|██████████| 50/50 [01:27<00:00,  1.75s/it]\n"
     ]
    },
    {
     "name": "stdout",
     "output_type": "stream",
     "text": [
      "🍺 Total prediction time 88.18967604637146\n",
      "tolerance 20, recall 0.98, mae 4.01\n",
      "tolerance 15, recall 0.98, mae 4.01\n",
      "tolerance 10, recall 0.9466666666666667, mae 4.01\n",
      "tolerance 5, recall 0.88, mae 4.01\n",
      "Largest Error MARCEL: 25.0\n",
      "Largest Error SYLVAIN: 104.0\n",
      "Largest Error CONRAD: 95.0\n",
      "🍺 Optimal Tolerance : 104\n",
      "============================================================\n",
      "\u001b[1mTesting Hidden_Size:256 Output_Size:150 Conv_Output_Dim:128 Dense_Output_Dim:256\u001b[0m\n",
      "\n",
      "Training model...\n",
      "Early Stop Triggered, Final Accuracy 98.93\n",
      "Total training time 26.085103750228882\n",
      "---------- Prediction With Constraint ----------\n",
      "MARCEL 6212.0 6764.0\n",
      "SYLVAIN 6441.0 7010.0\n",
      "CONRAD 6464.0 7033.0\n"
     ]
    },
    {
     "name": "stderr",
     "output_type": "stream",
     "text": [
      "Processing Wells: 100%|██████████| 50/50 [01:40<00:00,  2.00s/it]\n"
     ]
    },
    {
     "name": "stdout",
     "output_type": "stream",
     "text": [
      "🍺 Total prediction time 100.9771659374237\n",
      "tolerance 20, recall 0.9866666666666667, mae 4.013333333333334\n",
      "tolerance 15, recall 0.9733333333333334, mae 4.013333333333334\n",
      "tolerance 10, recall 0.9133333333333333, mae 4.013333333333334\n",
      "tolerance 5, recall 0.7466666666666667, mae 4.013333333333334\n",
      "Largest Error MARCEL: 24.0\n",
      "Largest Error SYLVAIN: 24.0\n",
      "Largest Error CONRAD: 13.0\n",
      "🍺 Optimal Tolerance : 24\n",
      "============================================================\n",
      "\u001b[1mTesting Hidden_Size:256 Output_Size:150 Conv_Output_Dim:128 Dense_Output_Dim:128\u001b[0m\n",
      "\n",
      "Training model...\n",
      "Early Stop Triggered, Final Accuracy 99.29\n",
      "Total training time 31.55081605911255\n",
      "---------- Prediction With Constraint ----------\n",
      "MARCEL 6212.0 6764.0\n",
      "SYLVAIN 6441.0 7010.0\n",
      "CONRAD 6464.0 7033.0\n"
     ]
    },
    {
     "name": "stderr",
     "output_type": "stream",
     "text": [
      "Processing Wells: 100%|██████████| 50/50 [01:38<00:00,  1.98s/it]\n"
     ]
    },
    {
     "name": "stdout",
     "output_type": "stream",
     "text": [
      "🍺 Total prediction time 99.81573605537415\n",
      "tolerance 20, recall 0.9933333333333333, mae 3.0233333333333334\n",
      "tolerance 15, recall 0.9933333333333333, mae 3.0233333333333334\n",
      "tolerance 10, recall 0.96, mae 3.0233333333333334\n",
      "tolerance 5, recall 0.8466666666666667, mae 3.0233333333333334\n",
      "Largest Error MARCEL: 24.0\n",
      "Largest Error SYLVAIN: 13.0\n",
      "Largest Error CONRAD: 12.0\n",
      "🍺 Optimal Tolerance : 24\n",
      "============================================================\n",
      "\u001b[1mTesting Hidden_Size:256 Output_Size:150 Conv_Output_Dim:128 Dense_Output_Dim:64\u001b[0m\n",
      "\n",
      "Training model...\n",
      "Early Stop Triggered, Final Accuracy 99.29\n",
      "Total training time 34.73822212219238\n",
      "---------- Prediction With Constraint ----------\n",
      "MARCEL 6212.0 6764.0\n",
      "SYLVAIN 6441.0 7010.0\n",
      "CONRAD 6464.0 7033.0\n"
     ]
    },
    {
     "name": "stderr",
     "output_type": "stream",
     "text": [
      "Processing Wells: 100%|██████████| 50/50 [01:38<00:00,  1.97s/it]\n"
     ]
    },
    {
     "name": "stdout",
     "output_type": "stream",
     "text": [
      "🍺 Total prediction time 99.38745284080505\n",
      "tolerance 20, recall 0.96, mae 5.423333333333333\n",
      "tolerance 15, recall 0.94, mae 5.423333333333333\n",
      "tolerance 10, recall 0.8266666666666667, mae 5.423333333333333\n",
      "tolerance 5, recall 0.68, mae 5.423333333333333\n",
      "Largest Error MARCEL: 55.0\n",
      "Largest Error SYLVAIN: 22.0\n",
      "Largest Error CONRAD: 16.0\n",
      "🍺 Optimal Tolerance : 55\n",
      "============================================================\n",
      "\u001b[1mTesting Hidden_Size:256 Output_Size:150 Conv_Output_Dim:256 Dense_Output_Dim:256\u001b[0m\n",
      "\n",
      "Training model...\n",
      "Early Stop Triggered, Final Accuracy 99.29\n",
      "Total training time 24.01182985305786\n",
      "---------- Prediction With Constraint ----------\n",
      "MARCEL 6212.0 6764.0\n",
      "SYLVAIN 6441.0 7010.0\n",
      "CONRAD 6464.0 7033.0\n"
     ]
    },
    {
     "name": "stderr",
     "output_type": "stream",
     "text": [
      "Processing Wells: 100%|██████████| 50/50 [02:11<00:00,  2.64s/it]\n"
     ]
    },
    {
     "name": "stdout",
     "output_type": "stream",
     "text": [
      "🍺 Total prediction time 132.69828987121582\n",
      "tolerance 20, recall 0.9866666666666667, mae 4.633333333333334\n",
      "tolerance 15, recall 0.9333333333333333, mae 4.633333333333334\n",
      "tolerance 10, recall 0.8866666666666667, mae 4.633333333333334\n",
      "tolerance 5, recall 0.6866666666666666, mae 4.633333333333334\n",
      "Largest Error MARCEL: 33.0\n",
      "Largest Error SYLVAIN: 17.0\n",
      "Largest Error CONRAD: 13.0\n",
      "🍺 Optimal Tolerance : 33\n",
      "============================================================\n",
      "\u001b[1mTesting Hidden_Size:256 Output_Size:150 Conv_Output_Dim:256 Dense_Output_Dim:128\u001b[0m\n",
      "\n",
      "Training model...\n",
      "Early Stop Triggered, Final Accuracy 99.52\n",
      "Total training time 49.87640714645386\n",
      "---------- Prediction With Constraint ----------\n",
      "MARCEL 6212.0 6764.0\n",
      "SYLVAIN 6441.0 7010.0\n",
      "CONRAD 6464.0 7033.0\n"
     ]
    },
    {
     "name": "stderr",
     "output_type": "stream",
     "text": [
      "Processing Wells: 100%|██████████| 50/50 [02:11<00:00,  2.64s/it]\n"
     ]
    },
    {
     "name": "stdout",
     "output_type": "stream",
     "text": [
      "🍺 Total prediction time 132.68751788139343\n",
      "tolerance 20, recall 0.9933333333333333, mae 3.64\n",
      "tolerance 15, recall 0.96, mae 3.64\n",
      "tolerance 10, recall 0.9333333333333333, mae 3.64\n",
      "tolerance 5, recall 0.78, mae 3.64\n",
      "Largest Error MARCEL: 24.0\n",
      "Largest Error SYLVAIN: 17.0\n",
      "Largest Error CONRAD: 13.0\n",
      "🍺 Optimal Tolerance : 24\n",
      "============================================================\n",
      "\u001b[1mTesting Hidden_Size:256 Output_Size:150 Conv_Output_Dim:256 Dense_Output_Dim:64\u001b[0m\n",
      "\n",
      "Training model...\n",
      "Early Stop Triggered, Final Accuracy 99.41\n",
      "Total training time 59.430357933044434\n",
      "---------- Prediction With Constraint ----------\n",
      "MARCEL 6212.0 6764.0\n",
      "SYLVAIN 6441.0 7010.0\n",
      "CONRAD 6464.0 7033.0\n"
     ]
    },
    {
     "name": "stderr",
     "output_type": "stream",
     "text": [
      "Processing Wells: 100%|██████████| 50/50 [02:10<00:00,  2.61s/it]\n"
     ]
    },
    {
     "name": "stdout",
     "output_type": "stream",
     "text": [
      "🍺 Total prediction time 131.24556589126587\n",
      "tolerance 20, recall 0.98, mae 3.61\n",
      "tolerance 15, recall 0.9733333333333334, mae 3.61\n",
      "tolerance 10, recall 0.9533333333333334, mae 3.61\n",
      "tolerance 5, recall 0.8066666666666666, mae 3.61\n",
      "Largest Error MARCEL: 29.0\n",
      "Largest Error SYLVAIN: 11.0\n",
      "Largest Error CONRAD: 14.0\n",
      "🍺 Optimal Tolerance : 29\n",
      "============================================================\n",
      "\u001b[1mTesting Hidden_Size:256 Output_Size:200 Conv_Output_Dim:64 Dense_Output_Dim:256\u001b[0m\n",
      "\n",
      "Training model...\n",
      "Early Stop Triggered, Final Accuracy 99.52\n",
      "Total training time 19.501214027404785\n",
      "---------- Prediction With Constraint ----------\n",
      "MARCEL 6212.0 6764.0\n",
      "SYLVAIN 6441.0 7010.0\n",
      "CONRAD 6464.0 7033.0\n"
     ]
    },
    {
     "name": "stderr",
     "output_type": "stream",
     "text": [
      "Processing Wells: 100%|██████████| 50/50 [01:28<00:00,  1.77s/it]\n"
     ]
    },
    {
     "name": "stdout",
     "output_type": "stream",
     "text": [
      "🍺 Total prediction time 89.27836799621582\n",
      "tolerance 20, recall 1.0, mae 2.8466666666666667\n",
      "tolerance 15, recall 1.0, mae 2.8466666666666667\n",
      "tolerance 10, recall 0.96, mae 2.8466666666666667\n",
      "tolerance 5, recall 0.88, mae 2.8466666666666667\n",
      "Largest Error MARCEL: 14.0\n",
      "Largest Error SYLVAIN: 14.0\n",
      "Largest Error CONRAD: 14.0\n",
      "🍺 Optimal Tolerance : 14\n",
      "============================================================\n",
      "\u001b[1mTesting Hidden_Size:256 Output_Size:200 Conv_Output_Dim:64 Dense_Output_Dim:128\u001b[0m\n",
      "\n",
      "Training model...\n",
      "Early Stop Triggered, Final Accuracy 98.81\n",
      "Total training time 31.18445920944214\n",
      "---------- Prediction With Constraint ----------\n",
      "MARCEL 6212.0 6764.0\n",
      "SYLVAIN 6441.0 7010.0\n",
      "CONRAD 6464.0 7033.0\n"
     ]
    },
    {
     "name": "stderr",
     "output_type": "stream",
     "text": [
      "Processing Wells: 100%|██████████| 50/50 [01:26<00:00,  1.74s/it]\n"
     ]
    },
    {
     "name": "stdout",
     "output_type": "stream",
     "text": [
      "🍺 Total prediction time 87.71924591064453\n",
      "tolerance 20, recall 0.98, mae 3.68\n",
      "tolerance 15, recall 0.9733333333333334, mae 3.68\n",
      "tolerance 10, recall 0.94, mae 3.68\n",
      "tolerance 5, recall 0.8933333333333333, mae 3.68\n",
      "Largest Error MARCEL: 23.0\n",
      "Largest Error SYLVAIN: 86.0\n",
      "Largest Error CONRAD: 98.0\n",
      "🍺 Optimal Tolerance : 98\n",
      "============================================================\n",
      "\u001b[1mTesting Hidden_Size:256 Output_Size:200 Conv_Output_Dim:64 Dense_Output_Dim:64\u001b[0m\n",
      "\n",
      "Training model...\n",
      "Early Stop Triggered, Final Accuracy 98.81\n",
      "Total training time 40.9581298828125\n",
      "---------- Prediction With Constraint ----------\n",
      "MARCEL 6212.0 6764.0\n",
      "SYLVAIN 6441.0 7010.0\n",
      "CONRAD 6464.0 7033.0\n"
     ]
    },
    {
     "name": "stderr",
     "output_type": "stream",
     "text": [
      "Processing Wells: 100%|██████████| 50/50 [01:29<00:00,  1.79s/it]\n"
     ]
    },
    {
     "name": "stdout",
     "output_type": "stream",
     "text": [
      "🍺 Total prediction time 90.34310173988342\n",
      "tolerance 20, recall 0.9933333333333333, mae 3.1266666666666665\n",
      "tolerance 15, recall 0.9933333333333333, mae 3.1266666666666665\n",
      "tolerance 10, recall 0.9666666666666667, mae 3.1266666666666665\n",
      "tolerance 5, recall 0.8533333333333334, mae 3.1266666666666665\n",
      "Largest Error MARCEL: 47.0\n",
      "Largest Error SYLVAIN: 12.0\n",
      "Largest Error CONRAD: 12.0\n",
      "🍺 Optimal Tolerance : 47\n",
      "============================================================\n",
      "\u001b[1mTesting Hidden_Size:256 Output_Size:200 Conv_Output_Dim:128 Dense_Output_Dim:256\u001b[0m\n",
      "\n",
      "Training model...\n",
      "Early Stop Triggered, Final Accuracy 99.52\n",
      "Total training time 24.16085386276245\n",
      "---------- Prediction With Constraint ----------\n",
      "MARCEL 6212.0 6764.0\n",
      "SYLVAIN 6441.0 7010.0\n",
      "CONRAD 6464.0 7033.0\n"
     ]
    },
    {
     "name": "stderr",
     "output_type": "stream",
     "text": [
      "Processing Wells: 100%|██████████| 50/50 [01:42<00:00,  2.04s/it]\n"
     ]
    },
    {
     "name": "stdout",
     "output_type": "stream",
     "text": [
      "🍺 Total prediction time 102.92111587524414\n",
      "tolerance 20, recall 0.9866666666666667, mae 2.92\n",
      "tolerance 15, recall 0.9866666666666667, mae 2.92\n",
      "tolerance 10, recall 0.9533333333333334, mae 2.92\n",
      "tolerance 5, recall 0.8666666666666667, mae 2.92\n",
      "Largest Error MARCEL: 27.0\n",
      "Largest Error SYLVAIN: 26.0\n",
      "Largest Error CONRAD: 12.0\n",
      "🍺 Optimal Tolerance : 27\n",
      "============================================================\n",
      "\u001b[1mTesting Hidden_Size:256 Output_Size:200 Conv_Output_Dim:128 Dense_Output_Dim:128\u001b[0m\n",
      "\n",
      "Training model...\n",
      "Early Stop Triggered, Final Accuracy 99.17\n",
      "Total training time 31.767777919769287\n",
      "---------- Prediction With Constraint ----------\n",
      "MARCEL 6212.0 6764.0\n",
      "SYLVAIN 6441.0 7010.0\n",
      "CONRAD 6464.0 7033.0\n"
     ]
    },
    {
     "name": "stderr",
     "output_type": "stream",
     "text": [
      "Processing Wells: 100%|██████████| 50/50 [01:41<00:00,  2.04s/it]\n"
     ]
    },
    {
     "name": "stdout",
     "output_type": "stream",
     "text": [
      "🍺 Total prediction time 102.76499390602112\n",
      "tolerance 20, recall 0.9866666666666667, mae 3.6266666666666665\n",
      "tolerance 15, recall 0.9866666666666667, mae 3.6266666666666665\n",
      "tolerance 10, recall 0.9333333333333333, mae 3.6266666666666665\n",
      "tolerance 5, recall 0.84, mae 3.6266666666666665\n",
      "Largest Error MARCEL: 109.0\n",
      "Largest Error SYLVAIN: 12.0\n",
      "Largest Error CONRAD: 12.0\n",
      "🍺 Optimal Tolerance : 109\n",
      "============================================================\n",
      "\u001b[1mTesting Hidden_Size:256 Output_Size:200 Conv_Output_Dim:128 Dense_Output_Dim:64\u001b[0m\n",
      "\n",
      "Training model...\n",
      "Early Stop Triggered, Final Accuracy 99.52\n",
      "Total training time 43.325567960739136\n",
      "---------- Prediction With Constraint ----------\n",
      "MARCEL 6212.0 6764.0\n",
      "SYLVAIN 6441.0 7010.0\n",
      "CONRAD 6464.0 7033.0\n"
     ]
    },
    {
     "name": "stderr",
     "output_type": "stream",
     "text": [
      "Processing Wells: 100%|██████████| 50/50 [01:45<00:00,  2.10s/it]\n"
     ]
    },
    {
     "name": "stdout",
     "output_type": "stream",
     "text": [
      "🍺 Total prediction time 106.13691997528076\n",
      "tolerance 20, recall 0.9733333333333334, mae 5.246666666666667\n",
      "tolerance 15, recall 0.96, mae 5.246666666666667\n",
      "tolerance 10, recall 0.92, mae 5.246666666666667\n",
      "tolerance 5, recall 0.76, mae 5.246666666666667\n",
      "Largest Error MARCEL: 26.0\n",
      "Largest Error SYLVAIN: 102.0\n",
      "Largest Error CONRAD: 92.0\n",
      "🍺 Optimal Tolerance : 102\n",
      "============================================================\n",
      "\u001b[1mTesting Hidden_Size:256 Output_Size:200 Conv_Output_Dim:256 Dense_Output_Dim:256\u001b[0m\n",
      "\n",
      "Training model...\n",
      "Early Stop Triggered, Final Accuracy 99.52\n",
      "Total training time 31.726467847824097\n",
      "---------- Prediction With Constraint ----------\n",
      "MARCEL 6212.0 6764.0\n",
      "SYLVAIN 6441.0 7010.0\n",
      "CONRAD 6464.0 7033.0\n"
     ]
    },
    {
     "name": "stderr",
     "output_type": "stream",
     "text": [
      "Processing Wells: 100%|██████████| 50/50 [02:22<00:00,  2.85s/it]\n"
     ]
    },
    {
     "name": "stdout",
     "output_type": "stream",
     "text": [
      "🍺 Total prediction time 143.58130192756653\n",
      "tolerance 20, recall 0.9866666666666667, mae 3.026666666666667\n",
      "tolerance 15, recall 0.9866666666666667, mae 3.026666666666667\n",
      "tolerance 10, recall 0.9733333333333334, mae 3.026666666666667\n",
      "tolerance 5, recall 0.8533333333333334, mae 3.026666666666667\n",
      "Largest Error MARCEL: 24.0\n",
      "Largest Error SYLVAIN: 10.0\n",
      "Largest Error CONRAD: 12.0\n",
      "🍺 Optimal Tolerance : 24\n",
      "============================================================\n",
      "\u001b[1mTesting Hidden_Size:256 Output_Size:200 Conv_Output_Dim:256 Dense_Output_Dim:128\u001b[0m\n",
      "\n",
      "Training model...\n",
      "Early Stop Triggered, Final Accuracy 99.41\n",
      "Total training time 43.86071515083313\n",
      "---------- Prediction With Constraint ----------\n",
      "MARCEL 6212.0 6764.0\n",
      "SYLVAIN 6441.0 7010.0\n",
      "CONRAD 6464.0 7033.0\n"
     ]
    },
    {
     "name": "stderr",
     "output_type": "stream",
     "text": [
      "Processing Wells: 100%|██████████| 50/50 [02:20<00:00,  2.82s/it]\n"
     ]
    },
    {
     "name": "stdout",
     "output_type": "stream",
     "text": [
      "🍺 Total prediction time 141.89581489562988\n",
      "tolerance 20, recall 1.0, mae 4.3133333333333335\n",
      "tolerance 15, recall 0.98, mae 4.3133333333333335\n",
      "tolerance 10, recall 0.9533333333333334, mae 4.3133333333333335\n",
      "tolerance 5, recall 0.7133333333333334, mae 4.3133333333333335\n",
      "Largest Error MARCEL: 19.5\n",
      "Largest Error SYLVAIN: 18.0\n",
      "Largest Error CONRAD: 12.0\n",
      "🍺 Optimal Tolerance : 20\n",
      "============================================================\n",
      "\u001b[1mTesting Hidden_Size:256 Output_Size:200 Conv_Output_Dim:256 Dense_Output_Dim:64\u001b[0m\n",
      "\n",
      "Training model...\n",
      "Early Stop Triggered, Final Accuracy 99.64\n",
      "Total training time 58.74982571601868\n",
      "---------- Prediction With Constraint ----------\n",
      "MARCEL 6212.0 6764.0\n",
      "SYLVAIN 6441.0 7010.0\n",
      "CONRAD 6464.0 7033.0\n"
     ]
    },
    {
     "name": "stderr",
     "output_type": "stream",
     "text": [
      "Processing Wells: 100%|██████████| 50/50 [02:21<00:00,  2.83s/it]"
     ]
    },
    {
     "name": "stdout",
     "output_type": "stream",
     "text": [
      "🍺 Total prediction time 142.52780604362488\n",
      "tolerance 20, recall 0.9933333333333333, mae 2.796666666666667\n",
      "tolerance 15, recall 0.9866666666666667, mae 2.796666666666667\n",
      "tolerance 10, recall 0.9666666666666667, mae 2.796666666666667\n",
      "tolerance 5, recall 0.8933333333333333, mae 2.796666666666667\n",
      "Largest Error MARCEL: 22.0\n",
      "Largest Error SYLVAIN: 14.0\n",
      "Largest Error CONRAD: 12.0\n",
      "🍺 Optimal Tolerance : 22\n",
      "============================================================\n",
      "\u001b[1m🍺🍺Tuning Completed, Best Result is\u001b[0m\n",
      "hidden_size 256\n",
      "conv_output_dim 64\n",
      "decoder_output_size 200\n",
      "dense_output_dim 256\n",
      "optimal_tolerance 14\n"
     ]
    },
    {
     "name": "stderr",
     "output_type": "stream",
     "text": [
      "\n"
     ]
    }
   ],
   "source": [
    "wsize = 201\n",
    "input_variable=['GR']\n",
    "pred_column = ['None','Marcel', 'Sylvain', 'Conrad']\n",
    "\n",
    "best_optimal_tolerance = float('inf')\n",
    "for i in hidden_size:\n",
    "    for o in output_size:\n",
    "        for conv_dim in conv_output_dim:\n",
    "            for dense_dim in dense_output_dim:\n",
    "                print(\"=\"*60)\n",
    "                print(f\"\\033[1mTesting Hidden_Size:{i} Output_Size:{o} Conv_Output_Dim:{conv_dim} Dense_Output_Dim:{dense_dim}\\033[0m\")\n",
    "                print(\"\"*40)\n",
    "                \n",
    "                # Instantiate model\n",
    "                attention = Attention(i)\n",
    "                encoder = Encoder(input_size, i, 1)\n",
    "                decoder = Decoder(o, i, 1, attention)\n",
    "                model = CONVGRUA_SIMPLE(encoder, decoder, conv_dim, dense_dim,device,num_classes=4).to(device)\n",
    "\n",
    "                print('Training model...')\n",
    "                model=train(100,model,patience=1,verbose=0)\n",
    "\n",
    "                print('-'*10,'Prediction With Constraint','-'*10)\n",
    "                df_tops_pred = run_prediction(model,use_constraint=True)\n",
    "                optimal_tolerance,_ = apply_evaluate(df_test_tops,df_tops_pred)\n",
    "                \n",
    "                if optimal_tolerance < best_optimal_tolerance:\n",
    "                        best_optimal_tolerance = optimal_tolerance\n",
    "                        #Save Best Model\n",
    "                        torch.save(model, 'saved_model/convgrua_simple_model.pth')\n",
    "                        torch.save(model.state_dict(), 'saved_model/convgrua_simple_model_state.pth')\n",
    "                        #Save Best Configuration\n",
    "                        best_combination = {\n",
    "                            'hidden_size': i,\n",
    "                            'conv_output_dim': conv_dim,\n",
    "                            'decoder_output_size' : o,\n",
    "                            'dense_output_dim': dense_dim,\n",
    "                            'optimal_tolerance': best_optimal_tolerance\n",
    "                        }\n",
    "\n",
    "\n",
    "print(\"=\"*60)\n",
    "print(\"\\033[1m🍺🍺Tuning Completed, Best Result is\\033[0m\")\n",
    "for k,v in best_combination.items():\n",
    "    print(k,v)"
   ]
  },
  {
   "cell_type": "markdown",
   "metadata": {},
   "source": [
    "#### CONVGRUA"
   ]
  },
  {
   "cell_type": "code",
   "execution_count": null,
   "metadata": {},
   "outputs": [],
   "source": [
    "input_size = X.shape[2]\n",
    "hidden_size =[64,128,256,512]\n",
    "\n",
    "\n",
    "\n",
    "\n",
    "#TUNING\n",
    "wsize = 201\n",
    "input_variable=['GR']\n",
    "pred_column = ['None','Marcel', 'Sylvain', 'Conrad']\n",
    "best_optimal_tolerance = float('inf')\n",
    "for i in hidden_size:\n",
    "    print(\"=\"*60)\n",
    "    print(f\"\\033[1mTesting Hidden_Size:{i}\\033[0m\")\n",
    "    print(\"\"*40)\n",
    "\n",
    "    model = CONVGRUA(input_size, hidden_size)\n",
    "    print('Training model...')\n",
    "    model=train(100,model,verbose=0)\n",
    "\n",
    "    print('-'*10,'Prediction With Constraint','-'*10)\n",
    "    df_tops_pred = run_prediction(model,use_constraint=True)\n",
    "    optimal_tolerance,_ = apply_evaluate(df_test_tops,df_tops_pred)\n",
    "    \n",
    "    if optimal_tolerance < best_optimal_tolerance:\n",
    "            best_optimal_tolerance = optimal_tolerance\n",
    "            #Save Best Model\n",
    "            torch.save(model, 'saved_model/bigu_model.pth')\n",
    "            torch.save(model.state_dict(), 'saved_model/bigu_model_state.pth')\n",
    "            #Save Best Configuration\n",
    "            best_combination = {\n",
    "                'hidden_size': i,\n",
    "                'optimal_tolerance': best_optimal_tolerance\n",
    "            }\n",
    "\n",
    "    print('-'*10,'Prediction Without Constraint','-'*10)\n",
    "    df_tops_pred = run_prediction(model,use_constraint=False)\n",
    "    optimal_tolerance = apply_evaluate(df_test_tops,df_tops_pred)\n",
    "\n",
    "print(\"=\"*60)\n",
    "print(\"\\033[1m🍺🍺Tuning Completed, Best Result is\\033[0m\")\n",
    "for k,v in best_combination.items():\n",
    "    print(k,v)"
   ]
  }
 ],
 "metadata": {
  "kernelspec": {
   "display_name": "Python 3",
   "language": "python",
   "name": "python3"
  },
  "language_info": {
   "codemirror_mode": {
    "name": "ipython",
    "version": 3
   },
   "file_extension": ".py",
   "mimetype": "text/x-python",
   "name": "python",
   "nbconvert_exporter": "python",
   "pygments_lexer": "ipython3",
   "version": "3.10.7"
  }
 },
 "nbformat": 4,
 "nbformat_minor": 2
}
