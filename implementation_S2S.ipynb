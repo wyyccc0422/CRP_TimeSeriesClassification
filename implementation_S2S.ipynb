{
 "cells": [
  {
   "cell_type": "code",
   "execution_count": 1,
   "metadata": {},
   "outputs": [],
   "source": [
    "import pandas as pd\n",
    "import numpy as np\n",
    "import time\n",
    "from sklearn.model_selection import train_test_split\n",
    "import random\n",
    "import matplotlib.pyplot as plt\n",
    "import torch\n",
    "from torch.utils.data import TensorDataset, DataLoader\n",
    "from IPython.display import clear_output\n",
    "\n",
    "from utils import dfwellgr,marker_ssig,extract_signature_Xy,recall_tops, find_optimal_tolerance\n",
    "from utils import window, plot_pred_distribution\n",
    "\n",
    "torch.manual_seed(42)\n",
    "np.random.seed(42)\n"
   ]
  },
  {
   "cell_type": "markdown",
   "metadata": {},
   "source": [
    "### LOAD Traing and Testing Data"
   ]
  },
  {
   "cell_type": "code",
   "execution_count": 2,
   "metadata": {},
   "outputs": [],
   "source": [
    "#Load Prepared Training Data\n",
    "\n",
    "X = np.load('prepared_data/X_201.npy')\n",
    "y= np.load('prepared_data/y_201.npy')\n",
    "\n",
    "# X = np.load('prepared_data/X_101.npy')\n",
    "# y= np.load('prepared_data/y_101.npy')\n",
    "\n",
    "# X = np.load('prepared_data/X_51.npy')\n",
    "# y= np.load('prepared_data/y_51.npy')\n"
   ]
  },
  {
   "cell_type": "code",
   "execution_count": 3,
   "metadata": {},
   "outputs": [],
   "source": [
    "#Load Testing Data\n",
    "df_test_log = pd.read_parquet('testdata/logs_50.parquet', engine='fastparquet')\n",
    "df_test_log.loc[df_test_log['GR'] < -1, 'GR' ] = -1\n",
    "df_test_log.loc[df_test_log['GR'] > 400, 'GR' ] = 400\n",
    "\n",
    "df_test_loc = pd.read_parquet('testdata/loc_50.parquet', engine='fastparquet')\n",
    "df_test_loc = df_test_loc.reset_index()\n",
    "\n",
    "df_test_log = df_test_loc.merge(df_test_log, how = 'inner', left_on = 'wellName', right_on = 'wellName')\n",
    "\n",
    "df_test_tops = pd.read_csv('testdata/tops_50.csv')\n",
    "df_test_tops = df_test_tops.set_index('wellName')\n",
    "cols = ['MARCEL', 'SYLVAIN', 'CONRAD']\n",
    "df_test_tops = df_test_tops[cols]"
   ]
  },
  {
   "cell_type": "code",
   "execution_count": 4,
   "metadata": {},
   "outputs": [],
   "source": [
    "df_tops = pd.read_parquet('Training/tops.parquet', engine='fastparquet')\n",
    "cols = ['MARCEL', 'SYLVAIN', 'CONRAD']\n",
    "df_tops = df_tops[cols]\n",
    "df_tops.dropna(inplace = True)\n",
    "df_tops[df_tops['CONRAD'] - df_tops['SYLVAIN'] < 0] #Here we can see incorrect data\n",
    "\n",
    "well_array = np.load('hackaton_training_well_one.npy', allow_pickle=True)\n",
    "df_tops = df_tops[df_tops.index.isin(well_array[0][0])]"
   ]
  },
  {
   "cell_type": "markdown",
   "metadata": {},
   "source": [
    "### Create DataLoader"
   ]
  },
  {
   "cell_type": "code",
   "execution_count": 5,
   "metadata": {},
   "outputs": [],
   "source": [
    "#one hot for y \n",
    "y = np.eye(np.max(y) + 1)[y]\n",
    "\n",
    "#nomralization for X\n",
    "eps = 1e-6\n",
    "f_mean = X.mean(axis=0)\n",
    "f_std = X.std(axis=0) + eps  \n",
    "X_norm= (X - f_mean) / f_std\n",
    "\n",
    "#Split train & validation set\n",
    "X_train, X_valid, y_train, y_valid = train_test_split(X_norm, y, test_size=0.2, random_state=42)\n",
    "\n",
    "#Create dataloader\n",
    "X_train_tensor = torch.tensor(X_train, dtype=torch.float32)  \n",
    "y_train_tensor = torch.tensor(y_train, dtype=torch.long)  \n",
    "\n",
    "X_valid_tensor = torch.tensor(X_valid, dtype=torch.float32) \n",
    "y_valid_tensor = torch.tensor(y_valid, dtype=torch.long)  \n",
    "\n",
    "dataset_train = TensorDataset(X_train_tensor, y_train_tensor)\n",
    "dataloader_train = DataLoader(dataset_train, batch_size=64, shuffle=False)  \n",
    "\n",
    "dataset_test = TensorDataset(X_valid_tensor, y_valid_tensor)\n",
    "dataloader_test = DataLoader(dataset_test, batch_size=64, shuffle=False) "
   ]
  },
  {
   "cell_type": "markdown",
   "metadata": {},
   "source": [
    "### Training FUNCTION"
   ]
  },
  {
   "cell_type": "code",
   "execution_count": 6,
   "metadata": {},
   "outputs": [],
   "source": [
    "class EarlyStopper:\n",
    "    def __init__(self, patience=1, min_delta=0):\n",
    "        self.patience = patience\n",
    "        self.min_delta = min_delta\n",
    "        self.counter = 0\n",
    "        self.min_loss = float('inf')\n",
    "\n",
    "    def early_stop(self, validation_loss):\n",
    "        improvement = self.min_loss - validation_loss\n",
    "        if improvement > self.min_delta:\n",
    "            self.min_loss = validation_loss\n",
    "            self.counter = 0\n",
    "            return False\n",
    "        else:\n",
    "            self.counter += 1\n",
    "            if self.counter >= self.patience:\n",
    "                return True\n",
    "            return False"
   ]
  },
  {
   "cell_type": "code",
   "execution_count": 43,
   "metadata": {},
   "outputs": [],
   "source": [
    "def train(num_epochs,model,patience=2):\n",
    "   \n",
    "    start = time.time()\n",
    "       \n",
    "    optimizer = torch.optim.Adam(model.parameters(), lr=0.0001)\n",
    "    criterion = torch.nn.CrossEntropyLoss()\n",
    "    early_stopper = EarlyStopper(patience,min_delta= 1e-4)\n",
    "\n",
    "    for epoch in range(num_epochs):\n",
    "\n",
    "        #========================TRAIN===========================#\n",
    "        model.train()\n",
    "        for i, (input_tensor, target_tensor) in enumerate(dataloader_train):\n",
    "            input_tensor = input_tensor\n",
    "            target_tensor = target_tensor.float()\n",
    "            optimizer.zero_grad()\n",
    "\n",
    "            output = model(input_tensor) \n",
    "            train_loss = criterion(output, target_tensor)\n",
    "\n",
    "            train_loss.backward()\n",
    "            \n",
    "            optimizer.step()\n",
    "\n",
    "        #========================EVALUATE===========================#\n",
    "        num_correct = 0\n",
    "        num_samples = 0\n",
    "        model.eval()\n",
    "\n",
    "        with torch.no_grad():\n",
    "            for i, (input_tensor, target_tensor) in enumerate(dataloader_test):\n",
    "                \n",
    "                input_tensor = input_tensor\n",
    "                target_tensor = target_tensor.float()\n",
    "                output = model(input_tensor) \n",
    "  \n",
    "                validation_loss = criterion(output, target_tensor)\n",
    "\n",
    "                target_classes = target_tensor.long()\n",
    "                target_classes = torch.argmax(target_classes, dim=1)\n",
    "      \n",
    "                pred_classes = torch.argmax(output, dim=1)\n",
    "\n",
    "                num_correct += torch.sum(pred_classes == target_classes).item()\n",
    "                current_batch_size = input_tensor.size(0) \n",
    "                num_samples += current_batch_size\n",
    "            \n",
    "            accuracy = num_correct / num_samples\n",
    "\n",
    "            print(f'Epoch {epoch+1}/{num_epochs},   Training Loss:{train_loss.item():.5f},   Accuracy: {accuracy * 100:.2f}%,    Validation Loss: {validation_loss.item():.5f}')\n",
    "            if epoch+1 > 5:\n",
    "                if early_stopper.early_stop(validation_loss):  \n",
    "                    print(\"Early Stop Triggered\")           \n",
    "                    break\n",
    "\n",
    "    ext = time.time() - start\n",
    "    print('Total training time',ext)\n",
    "    return model"
   ]
  },
  {
   "cell_type": "markdown",
   "metadata": {},
   "source": [
    "### THREE S2S Model"
   ]
  },
  {
   "cell_type": "code",
   "execution_count": 8,
   "metadata": {},
   "outputs": [],
   "source": [
    "#import model\n",
    "from s2s_model.BiGRUA import BiGRUAttn\n",
    "from s2s_model.LSTMA import LSTMAttn\n",
    "from s2s_model.ML_model import Attention,Encoder,Decoder,Seq2Seq\n",
    "#impor testing func\n",
    "from utlis_s2s import get_markers_rocket_order\n",
    "from constraints import get_markers_rocket_order_with_constraint"
   ]
  },
  {
   "cell_type": "markdown",
   "metadata": {},
   "source": [
    "#### BIGUA MODEL"
   ]
  },
  {
   "cell_type": "code",
   "execution_count": 10,
   "metadata": {},
   "outputs": [
    {
     "name": "stdout",
     "output_type": "stream",
     "text": [
      "Epoch 1/100,   Training Loss:0.75891,   Accuracy: 98.22%,    Validation Loss: 0.75248\n",
      "Epoch 2/100,   Training Loss:0.74910,   Accuracy: 99.17%,    Validation Loss: 0.75845\n",
      "Epoch 3/100,   Training Loss:0.74716,   Accuracy: 99.05%,    Validation Loss: 0.77521\n",
      "Epoch 4/100,   Training Loss:0.74612,   Accuracy: 99.41%,    Validation Loss: 0.76994\n",
      "Epoch 5/100,   Training Loss:0.74539,   Accuracy: 99.41%,    Validation Loss: 0.77282\n",
      "Epoch 6/100,   Training Loss:0.74498,   Accuracy: 99.52%,    Validation Loss: 0.76960\n",
      "Epoch 7/100,   Training Loss:0.74524,   Accuracy: 99.41%,    Validation Loss: 0.74563\n",
      "Epoch 8/100,   Training Loss:0.74465,   Accuracy: 99.64%,    Validation Loss: 0.74588\n",
      "Epoch 9/100,   Training Loss:0.74445,   Accuracy: 99.64%,    Validation Loss: 0.74479\n",
      "Epoch 10/100,   Training Loss:0.74431,   Accuracy: 99.64%,    Validation Loss: 0.74456\n",
      "Epoch 11/100,   Training Loss:0.74422,   Accuracy: 99.64%,    Validation Loss: 0.74432\n",
      "Epoch 12/100,   Training Loss:0.74416,   Accuracy: 99.64%,    Validation Loss: 0.74416\n",
      "Epoch 13/100,   Training Loss:0.74410,   Accuracy: 99.64%,    Validation Loss: 0.74406\n",
      "Epoch 14/100,   Training Loss:0.74406,   Accuracy: 99.64%,    Validation Loss: 0.74400\n",
      "Epoch 15/100,   Training Loss:0.74402,   Accuracy: 99.64%,    Validation Loss: 0.74396\n",
      "Epoch 16/100,   Training Loss:0.74398,   Accuracy: 99.64%,    Validation Loss: 0.74392\n",
      "Early Stop Triggered\n",
      "Total training time 17.891753911972046\n"
     ]
    }
   ],
   "source": [
    "input_size = X.shape[2]\n",
    "hidden_size = 256\n",
    "model = BiGRUAttn(input_size,hidden_size)\n",
    "model=train(100,model)\n"
   ]
  },
  {
   "cell_type": "code",
   "execution_count": 10,
   "metadata": {},
   "outputs": [
    {
     "data": {
      "text/plain": [
       "<All keys matched successfully>"
      ]
     },
     "execution_count": 10,
     "metadata": {},
     "output_type": "execute_result"
    }
   ],
   "source": [
    "# torch.save(model, 'saved_model/bigu_model.pth')\n",
    "# torch.save(model.state_dict(), 'saved_model/bigu_model_state.pth')\n",
    "\n",
    "# Load the model\n",
    "model = torch.load('saved_model/bigu_model.pth')\n",
    "model.load_state_dict(torch.load('saved_model/bigu_model_state.pth'))"
   ]
  },
  {
   "cell_type": "markdown",
   "metadata": {},
   "source": [
    "#### Testing"
   ]
  },
  {
   "cell_type": "code",
   "execution_count": 12,
   "metadata": {},
   "outputs": [
    {
     "name": "stdout",
     "output_type": "stream",
     "text": [
      "Total time take 29.67664384841919\n"
     ]
    }
   ],
   "source": [
    "#Predict ALL WITHOUT CONSTRAINTS\n",
    "\n",
    "start = time.time()\n",
    "wsize = 201\n",
    "input_variable=['GR']\n",
    "pred_column = ['None','Marcel', 'Sylvain', 'Conrad']\n",
    "df_tops_pred = pd.DataFrame(pd.DataFrame(columns = ['wellName','MARCEL', 'SYLVAIN', 'CONRAD']))\n",
    "\n",
    "for well in df_test_tops.index:\n",
    "    print(well)\n",
    "    pred_m, df_wm = get_markers_rocket_order(f_mean, f_std, df_test_log, well, pred_column, wsize, input_variable, model)\n",
    "    print(pred_m)\n",
    "    row = {'wellName':well, 'MARCEL':pred_m[0], 'SYLVAIN':pred_m[1], 'CONRAD':pred_m[2]}\n",
    "    row_df = pd.DataFrame([row])\n",
    "    df_tops_pred = pd.concat([df_tops_pred, row_df], axis = 0, ignore_index = \"True\")\n",
    "\n",
    "clear_output()\n",
    "ext = time.time() - start\n",
    "print('Total time take',ext)\n",
    "df_tops_pred['wellName']  = df_tops_pred['wellName'].astype(float)\n",
    "df_tops_pred = df_tops_pred.sort_values(by = ['wellName']).reset_index().drop(['index'], axis = 1)\n",
    "df_tops_pred = df_tops_pred.set_index('wellName')\n",
    "#df_tops_pred.head()"
   ]
  },
  {
   "cell_type": "code",
   "execution_count": 13,
   "metadata": {},
   "outputs": [
    {
     "name": "stdout",
     "output_type": "stream",
     "text": [
      "tolerance 20, recall 0.9866666666666667, mae 3.79\n",
      "tolerance 15, recall 0.9866666666666667, mae 3.79\n",
      "tolerance 10, recall 0.96, mae 3.79\n",
      "tolerance 5, recall 0.8133333333333334, mae 3.79\n",
      "Largest Error MARCEL: 23.0\n",
      "Largest Error SYLVAIN: 13.0\n",
      "Largest Error CONRAD: 84.0\n",
      "Optimal Tolerance : 84\n"
     ]
    }
   ],
   "source": [
    "#call the evaluate function\n",
    "tr = [20, 15, 10, 5]\n",
    "for tolerance in tr:\n",
    "#recall is percentage of positive values that is correclty identified,\n",
    "# so true positive/ sum of num_all positive\n",
    "    recall, mae, df_result = recall_tops(df_test_tops,df_tops_pred,tolerance)\n",
    "    print(\"tolerance {0}, recall {1}, mae {2}\".format(tolerance, recall, mae))\n",
    "\n",
    "optimal_tolerance = find_optimal_tolerance(df_test_tops, df_tops_pred)\n",
    "print(f\"Largest Error MARCEL: {df_result['MARCEL_ae'].max()}\")\n",
    "print(f\"Largest Error SYLVAIN: {df_result['SYLVAIN_ae'].max()}\")\n",
    "print(f\"Largest Error CONRAD: {df_result['CONRAD_ae'].max()}\")\n",
    "print(\"Optimal Tolerance :\", optimal_tolerance)"
   ]
  },
  {
   "cell_type": "code",
   "execution_count": 14,
   "metadata": {},
   "outputs": [
    {
     "name": "stdout",
     "output_type": "stream",
     "text": [
      "Total time take 26.539350986480713\n"
     ]
    }
   ],
   "source": [
    "#Predict ALL WITHOUT CONSTRAINTS\n",
    "\n",
    "start = time.time()\n",
    "wsize = 201\n",
    "input_variable=['GR']\n",
    "pred_column = ['None','Marcel', 'Sylvain', 'Conrad']\n",
    "df_tops_pred = pd.DataFrame(pd.DataFrame(columns = ['wellName','MARCEL', 'SYLVAIN', 'CONRAD']))\n",
    "\n",
    "for well in df_test_tops.index:\n",
    "    print(well)\n",
    "    pred_m, df_wm = get_markers_rocket_order_with_constraint(f_mean, f_std,df_tops, df_test_log, well, pred_column, wsize, input_variable, \n",
    "                                             s2s = True,\n",
    "                                             model = model, \n",
    "                                             xgb = False,\n",
    "                                             rocket = None, \n",
    "                                             classifier_xgb = None, \n",
    "                                             classifier = None,\n",
    "                                             alpha=0.5, \n",
    "                                             confidence_level=0.96)\n",
    "    print(pred_m)\n",
    "    row = {'wellName':well, 'MARCEL':pred_m[0], 'SYLVAIN':pred_m[1], 'CONRAD':pred_m[2]}\n",
    "    row_df = pd.DataFrame([row])\n",
    "    df_tops_pred = pd.concat([df_tops_pred, row_df], axis = 0, ignore_index = \"True\")\n",
    "\n",
    "clear_output()\n",
    "ext = time.time() - start\n",
    "print('Total time take',ext)\n",
    "df_tops_pred['wellName']  = df_tops_pred['wellName'].astype(float)\n",
    "df_tops_pred = df_tops_pred.sort_values(by = ['wellName']).reset_index().drop(['index'], axis = 1)\n",
    "df_tops_pred = df_tops_pred.set_index('wellName')\n",
    "#df_tops_pred.head()"
   ]
  },
  {
   "cell_type": "code",
   "execution_count": 15,
   "metadata": {},
   "outputs": [
    {
     "name": "stdout",
     "output_type": "stream",
     "text": [
      "tolerance 20, recall 0.9866666666666667, mae 3.701733333333347\n",
      "tolerance 15, recall 0.98, mae 3.701733333333347\n",
      "tolerance 10, recall 0.94, mae 3.701733333333347\n",
      "tolerance 5, recall 0.7866666666666666, mae 3.701733333333347\n",
      "Largest Error MARCEL: 23.0\n",
      "Largest Error SYLVAIN: 28.840000000000146\n",
      "Largest Error CONRAD: 12.0\n",
      "Optimal Tolerance : 29\n"
     ]
    }
   ],
   "source": [
    "#call the evaluate function\n",
    "tr = [20, 15, 10, 5]\n",
    "for tolerance in tr:\n",
    "#recall is percentage of positive values that is correclty identified,\n",
    "# so true positive/ sum of num_all positive\n",
    "    recall, mae, df_result = recall_tops(df_test_tops,df_tops_pred,tolerance)\n",
    "    print(\"tolerance {0}, recall {1}, mae {2}\".format(tolerance, recall, mae))\n",
    "\n",
    "optimal_tolerance = find_optimal_tolerance(df_test_tops, df_tops_pred)\n",
    "print(f\"Largest Error MARCEL: {df_result['MARCEL_ae'].max()}\")\n",
    "print(f\"Largest Error SYLVAIN: {df_result['SYLVAIN_ae'].max()}\")\n",
    "print(f\"Largest Error CONRAD: {df_result['CONRAD_ae'].max()}\")\n",
    "print(\"Optimal Tolerance :\", optimal_tolerance)"
   ]
  },
  {
   "cell_type": "markdown",
   "metadata": {},
   "source": [
    "#### LSTM Model "
   ]
  },
  {
   "cell_type": "code",
   "execution_count": 65,
   "metadata": {},
   "outputs": [
    {
     "name": "stdout",
     "output_type": "stream",
     "text": [
      "Epoch 1/100,   Training Loss:0.99967,   Accuracy: 96.08%,    Validation Loss: 1.31952\n",
      "Epoch 2/100,   Training Loss:0.82705,   Accuracy: 97.15%,    Validation Loss: 0.76173\n",
      "Epoch 3/100,   Training Loss:0.78558,   Accuracy: 98.34%,    Validation Loss: 0.75020\n",
      "Epoch 4/100,   Training Loss:0.76309,   Accuracy: 99.05%,    Validation Loss: 0.75104\n",
      "Epoch 5/100,   Training Loss:0.75660,   Accuracy: 99.17%,    Validation Loss: 0.74757\n",
      "Epoch 6/100,   Training Loss:0.75199,   Accuracy: 99.29%,    Validation Loss: 0.74696\n",
      "Epoch 7/100,   Training Loss:0.75033,   Accuracy: 99.29%,    Validation Loss: 0.74583\n",
      "Epoch 8/100,   Training Loss:0.74907,   Accuracy: 99.29%,    Validation Loss: 0.74501\n",
      "Epoch 9/100,   Training Loss:0.74767,   Accuracy: 99.41%,    Validation Loss: 0.74467\n",
      "Epoch 10/100,   Training Loss:0.74687,   Accuracy: 99.41%,    Validation Loss: 0.74445\n",
      "Epoch 11/100,   Training Loss:0.74711,   Accuracy: 99.41%,    Validation Loss: 0.74428\n",
      "Epoch 12/100,   Training Loss:0.74636,   Accuracy: 99.41%,    Validation Loss: 0.74418\n",
      "Epoch 13/100,   Training Loss:0.74600,   Accuracy: 99.41%,    Validation Loss: 0.74408\n",
      "Epoch 14/100,   Training Loss:0.74579,   Accuracy: 99.41%,    Validation Loss: 0.74402\n",
      "Epoch 15/100,   Training Loss:0.74551,   Accuracy: 99.41%,    Validation Loss: 0.74396\n",
      "Epoch 16/100,   Training Loss:0.74525,   Accuracy: 99.41%,    Validation Loss: 0.74393\n",
      "Epoch 17/100,   Training Loss:0.74504,   Accuracy: 99.41%,    Validation Loss: 0.74389\n",
      "Early Stop Triggered\n",
      "Total training time 7.341470956802368\n"
     ]
    }
   ],
   "source": [
    "input_size = X.shape[2]\n",
    "hidden_size = 128\n",
    "output_dim = 100\n",
    "model = LSTMAttn(input_size,hidden_size,output_dim)\n",
    "model=train(100,model)"
   ]
  },
  {
   "cell_type": "code",
   "execution_count": 66,
   "metadata": {},
   "outputs": [],
   "source": [
    "torch.save(model, 'saved_model/lstm_model.pth')\n",
    "torch.save(model.state_dict(), 'saved_model/lstm_model_state.pth')\n",
    "\n",
    "## Load the model\n",
    "# model = torch.load('saved_model/lstm_model.pth'')\n",
    "# model.load_state_dict(torch.load('saved_model/lstm_model_state.pth'))"
   ]
  },
  {
   "cell_type": "markdown",
   "metadata": {},
   "source": [
    "#### Testing"
   ]
  },
  {
   "cell_type": "code",
   "execution_count": 67,
   "metadata": {},
   "outputs": [
    {
     "name": "stdout",
     "output_type": "stream",
     "text": [
      "Total time take 16.605879068374634\n"
     ]
    }
   ],
   "source": [
    "#Predict ALL WITHOUT CONSTRAINTS\n",
    "\n",
    "start = time.time()\n",
    "wsize = 201\n",
    "input_variable=['GR']\n",
    "pred_column = ['None','Marcel', 'Sylvain', 'Conrad']\n",
    "df_tops_pred = pd.DataFrame(pd.DataFrame(columns = ['wellName','MARCEL', 'SYLVAIN', 'CONRAD']))\n",
    "\n",
    "for well in df_test_tops.index:\n",
    "    print(well)\n",
    "    pred_m, df_wm = get_markers_rocket_order(f_mean, f_std, df_test_log, well, pred_column, wsize, input_variable, model)\n",
    "    print(pred_m)\n",
    "    row = {'wellName':well, 'MARCEL':pred_m[0], 'SYLVAIN':pred_m[1], 'CONRAD':pred_m[2]}\n",
    "    row_df = pd.DataFrame([row])\n",
    "    df_tops_pred = pd.concat([df_tops_pred, row_df], axis = 0, ignore_index = \"True\")\n",
    "\n",
    "clear_output()\n",
    "ext = time.time() - start\n",
    "print('Total time take',ext)\n",
    "df_tops_pred['wellName']  = df_tops_pred['wellName'].astype(float)\n",
    "df_tops_pred = df_tops_pred.sort_values(by = ['wellName']).reset_index().drop(['index'], axis = 1)\n",
    "df_tops_pred = df_tops_pred.set_index('wellName')\n",
    "#df_tops_pred.head()"
   ]
  },
  {
   "cell_type": "code",
   "execution_count": 68,
   "metadata": {},
   "outputs": [
    {
     "name": "stdout",
     "output_type": "stream",
     "text": [
      "tolerance 20, recall 0.98, mae 3.96\n",
      "tolerance 15, recall 0.98, mae 3.96\n",
      "tolerance 10, recall 0.9533333333333334, mae 3.96\n",
      "tolerance 5, recall 0.7866666666666666, mae 3.96\n",
      "Largest Error MARCEL: 27.0\n",
      "Largest Error SYLVAIN: 11.0\n",
      "Largest Error CONRAD: 86.0\n",
      "Optimal Tolerance : 86\n"
     ]
    }
   ],
   "source": [
    "#call the evaluate function\n",
    "tr = [20, 15, 10, 5]\n",
    "for tolerance in tr:\n",
    "#recall is percentage of positive values that is correclty identified,\n",
    "# so true positive/ sum of num_all positive\n",
    "    recall, mae, df_result = recall_tops(df_test_tops,df_tops_pred,tolerance)\n",
    "    print(\"tolerance {0}, recall {1}, mae {2}\".format(tolerance, recall, mae))\n",
    "\n",
    "optimal_tolerance = find_optimal_tolerance(df_test_tops, df_tops_pred)\n",
    "print(f\"Largest Error MARCEL: {df_result['MARCEL_ae'].max()}\")\n",
    "print(f\"Largest Error SYLVAIN: {df_result['SYLVAIN_ae'].max()}\")\n",
    "print(f\"Largest Error CONRAD: {df_result['CONRAD_ae'].max()}\")\n",
    "print(\"Optimal Tolerance :\", optimal_tolerance)"
   ]
  },
  {
   "cell_type": "code",
   "execution_count": 69,
   "metadata": {},
   "outputs": [
    {
     "name": "stdout",
     "output_type": "stream",
     "text": [
      "Total time take 17.276864767074585\n"
     ]
    }
   ],
   "source": [
    "#Predict ALL WITH CONSTRAINTS\n",
    "\n",
    "start = time.time()\n",
    "wsize = 201\n",
    "input_variable=['GR']\n",
    "pred_column = ['None','Marcel', 'Sylvain', 'Conrad']\n",
    "df_tops_pred = pd.DataFrame(pd.DataFrame(columns = ['wellName','MARCEL', 'SYLVAIN', 'CONRAD']))\n",
    "\n",
    "for well in df_test_tops.index:\n",
    "    print(well)\n",
    "    pred_m, df_wm = get_markers_rocket_order_with_constraint(f_mean, f_std,df_tops, df_test_log, well, pred_column, wsize, input_variable, \n",
    "                                             s2s = True,\n",
    "                                             model = model, \n",
    "                                             xgb = False,\n",
    "                                             rocket = None, \n",
    "                                             classifier_xgb = None, \n",
    "                                             classifier = None,\n",
    "                                             alpha=0.5, \n",
    "                                             confidence_level=0.96)\n",
    "    print(pred_m)\n",
    "    row = {'wellName':well, 'MARCEL':pred_m[0], 'SYLVAIN':pred_m[1], 'CONRAD':pred_m[2]}\n",
    "    row_df = pd.DataFrame([row])\n",
    "    df_tops_pred = pd.concat([df_tops_pred, row_df], axis = 0, ignore_index = \"True\")\n",
    "\n",
    "clear_output()\n",
    "ext = time.time() - start\n",
    "print('Total time take',ext)\n",
    "df_tops_pred['wellName']  = df_tops_pred['wellName'].astype(float)\n",
    "df_tops_pred = df_tops_pred.sort_values(by = ['wellName']).reset_index().drop(['index'], axis = 1)\n",
    "df_tops_pred = df_tops_pred.set_index('wellName')\n",
    "#df_tops_pred.head()"
   ]
  },
  {
   "cell_type": "code",
   "execution_count": 70,
   "metadata": {},
   "outputs": [
    {
     "name": "stdout",
     "output_type": "stream",
     "text": [
      "tolerance 20, recall 0.9866666666666667, mae 3.565600000000013\n",
      "tolerance 15, recall 0.9866666666666667, mae 3.565600000000013\n",
      "tolerance 10, recall 0.9533333333333334, mae 3.565600000000013\n",
      "tolerance 5, recall 0.78, mae 3.565600000000013\n",
      "Largest Error MARCEL: 27.0\n",
      "Largest Error SYLVAIN: 28.840000000000146\n",
      "Largest Error CONRAD: 13.700000000000728\n",
      "Optimal Tolerance : 29\n"
     ]
    }
   ],
   "source": [
    "#call the evaluate function\n",
    "tr = [20, 15, 10, 5]\n",
    "for tolerance in tr:\n",
    "#recall is percentage of positive values that is correclty identified,\n",
    "# so true positive/ sum of num_all positive\n",
    "    recall, mae, df_result = recall_tops(df_test_tops,df_tops_pred,tolerance)\n",
    "    print(\"tolerance {0}, recall {1}, mae {2}\".format(tolerance, recall, mae))\n",
    "\n",
    "optimal_tolerance = find_optimal_tolerance(df_test_tops, df_tops_pred)\n",
    "print(f\"Largest Error MARCEL: {df_result['MARCEL_ae'].max()}\")\n",
    "print(f\"Largest Error SYLVAIN: {df_result['SYLVAIN_ae'].max()}\")\n",
    "print(f\"Largest Error CONRAD: {df_result['CONRAD_ae'].max()}\")\n",
    "print(\"Optimal Tolerance :\", optimal_tolerance)"
   ]
  },
  {
   "cell_type": "markdown",
   "metadata": {},
   "source": [
    "#### ML Model"
   ]
  },
  {
   "cell_type": "code",
   "execution_count": 58,
   "metadata": {},
   "outputs": [],
   "source": [
    "input_size = X.shape[2]\n",
    "hidden_size = 128\n",
    "num_layers = 2\n",
    "output_size = 100\n",
    "conv_output_dim = 64\n",
    "dense_output_dim = 128\n",
    "num_classes = 4\n",
    "device = torch.device('cuda' if torch.cuda.is_available() else 'cpu')\n",
    "\n",
    "\n",
    "# Instantiate model\n",
    "attention = Attention(hidden_size)\n",
    "encoder = Encoder(input_size, hidden_size, num_layers)\n",
    "decoder = Decoder(output_size, hidden_size, num_layers, attention)\n",
    "model = Seq2Seq(encoder, decoder, conv_output_dim, dense_output_dim, num_classes,device).to(device)"
   ]
  },
  {
   "cell_type": "code",
   "execution_count": 59,
   "metadata": {},
   "outputs": [
    {
     "name": "stdout",
     "output_type": "stream",
     "text": [
      "Epoch 1/100,   Training Loss:1.15180,   Accuracy: 51.43%,    Validation Loss: 1.28913\n",
      "Epoch 2/100,   Training Loss:0.99481,   Accuracy: 68.29%,    Validation Loss: 1.04987\n",
      "Epoch 3/100,   Training Loss:0.89939,   Accuracy: 85.04%,    Validation Loss: 0.87446\n",
      "Epoch 4/100,   Training Loss:0.77870,   Accuracy: 99.05%,    Validation Loss: 0.77588\n",
      "Epoch 5/100,   Training Loss:0.75152,   Accuracy: 98.81%,    Validation Loss: 0.75713\n",
      "Epoch 6/100,   Training Loss:0.74759,   Accuracy: 99.17%,    Validation Loss: 0.74803\n",
      "Epoch 7/100,   Training Loss:0.74599,   Accuracy: 99.17%,    Validation Loss: 0.74638\n",
      "Epoch 8/100,   Training Loss:0.74525,   Accuracy: 99.29%,    Validation Loss: 0.74552\n",
      "Epoch 9/100,   Training Loss:0.74484,   Accuracy: 99.41%,    Validation Loss: 0.74503\n",
      "Epoch 10/100,   Training Loss:0.74457,   Accuracy: 99.41%,    Validation Loss: 0.74472\n",
      "Epoch 11/100,   Training Loss:0.74439,   Accuracy: 99.41%,    Validation Loss: 0.74451\n",
      "Epoch 12/100,   Training Loss:0.74426,   Accuracy: 99.41%,    Validation Loss: 0.74435\n",
      "Epoch 13/100,   Training Loss:0.74416,   Accuracy: 99.41%,    Validation Loss: 0.74423\n",
      "Epoch 14/100,   Training Loss:0.74409,   Accuracy: 99.41%,    Validation Loss: 0.74414\n",
      "Early Stop Triggered\n",
      "Total training time 22.99628210067749\n"
     ]
    }
   ],
   "source": [
    "model = train(100,model,patience=0)"
   ]
  },
  {
   "cell_type": "code",
   "execution_count": 60,
   "metadata": {},
   "outputs": [],
   "source": [
    "torch.save(model, 'saved_model/convgrua_model.pth')\n",
    "torch.save(model.state_dict(), 'saved_model/convgrua_model_model_state.pth')\n",
    "\n",
    "## Load the model\n",
    "# model = torch.load('saved_model/convgrua_model.pth')\n",
    "# model.load_state_dict(torch.load('saved_model/convgrua_model_model_state.pth'))"
   ]
  },
  {
   "cell_type": "code",
   "execution_count": 61,
   "metadata": {},
   "outputs": [
    {
     "name": "stdout",
     "output_type": "stream",
     "text": [
      "Total time take 72.72741603851318\n"
     ]
    }
   ],
   "source": [
    "#Predict ALL WITHOUT CONSTRAINTS\n",
    "\n",
    "start = time.time()\n",
    "wsize = 201\n",
    "input_variable=['GR']\n",
    "pred_column = ['None','Marcel', 'Sylvian', 'Conrad']\n",
    "df_tops_pred = pd.DataFrame(pd.DataFrame(columns = ['wellName','MARCEL', 'SYLVAIN', 'CONRAD']))\n",
    "\n",
    "for well in df_test_tops.index:\n",
    "    print(well)\n",
    "    pred_m, df_wm = get_markers_rocket_order(f_mean, f_std, df_test_log, well, pred_column, wsize, input_variable, model)\n",
    "    print(pred_m)\n",
    "    row = {'wellName':well, 'MARCEL':pred_m[0], 'SYLVAIN':pred_m[1], 'CONRAD':pred_m[2]}\n",
    "    row_df = pd.DataFrame([row])\n",
    "    df_tops_pred = pd.concat([df_tops_pred, row_df], axis = 0, ignore_index = \"True\")\n",
    "\n",
    "clear_output()\n",
    "ext = time.time() - start\n",
    "print('Total time take',ext)\n",
    "df_tops_pred['wellName']  = df_tops_pred['wellName'].astype(float)\n",
    "df_tops_pred = df_tops_pred.sort_values(by = ['wellName']).reset_index().drop(['index'], axis = 1)\n",
    "df_tops_pred = df_tops_pred.set_index('wellName')\n",
    "#df_tops_pred.head()"
   ]
  },
  {
   "cell_type": "code",
   "execution_count": 62,
   "metadata": {},
   "outputs": [
    {
     "name": "stdout",
     "output_type": "stream",
     "text": [
      "tolerance 20, recall 0.9866666666666667, mae 3.6933333333333334\n",
      "tolerance 15, recall 0.98, mae 3.6933333333333334\n",
      "tolerance 10, recall 0.92, mae 3.6933333333333334\n",
      "tolerance 5, recall 0.8066666666666666, mae 3.6933333333333334\n",
      "Largest Error MARCEL: 33.0\n",
      "Largest Error SYLVAIN: 18.0\n",
      "Largest Error CONRAD: 12.0\n",
      "Optimal Tolerance : 33\n"
     ]
    }
   ],
   "source": [
    "#call the evaluate function\n",
    "tr = [20, 15, 10, 5]\n",
    "for tolerance in tr:\n",
    "#recall is percentage of positive values that is correclty identified,\n",
    "# so true positive/ sum of num_all positive\n",
    "    recall, mae, df_result = recall_tops(df_test_tops,df_tops_pred,tolerance)\n",
    "    print(\"tolerance {0}, recall {1}, mae {2}\".format(tolerance, recall, mae))\n",
    "\n",
    "optimal_tolerance = find_optimal_tolerance(df_test_tops, df_tops_pred)\n",
    "print(f\"Largest Error MARCEL: {df_result['MARCEL_ae'].max()}\")\n",
    "print(f\"Largest Error SYLVAIN: {df_result['SYLVAIN_ae'].max()}\")\n",
    "print(f\"Largest Error CONRAD: {df_result['CONRAD_ae'].max()}\")\n",
    "print(\"Optimal Tolerance :\", optimal_tolerance)"
   ]
  },
  {
   "cell_type": "code",
   "execution_count": 63,
   "metadata": {},
   "outputs": [
    {
     "name": "stdout",
     "output_type": "stream",
     "text": [
      "Total time take 73.18808388710022\n"
     ]
    }
   ],
   "source": [
    "#Predict ALL WITH CONSTRAINTS\n",
    "\n",
    "start = time.time()\n",
    "wsize = 201\n",
    "input_variable=['GR']\n",
    "pred_column = ['None','Marcel', 'Sylvain', 'Conrad']\n",
    "df_tops_pred = pd.DataFrame(pd.DataFrame(columns = ['wellName','MARCEL', 'SYLVAIN', 'CONRAD']))\n",
    "\n",
    "for well in df_test_tops.index:\n",
    "    print(well)\n",
    "    pred_m, df_wm = get_markers_rocket_order_with_constraint(f_mean, f_std,df_tops, df_test_log, well, pred_column, wsize, input_variable, \n",
    "                                             s2s = True,\n",
    "                                             model = model, \n",
    "                                             xgb = False,\n",
    "                                             rocket = None, \n",
    "                                             classifier_xgb = None, \n",
    "                                             classifier = None,\n",
    "                                             alpha=0.5, \n",
    "                                             confidence_level=0.96)\n",
    "    print(pred_m)\n",
    "    row = {'wellName':well, 'MARCEL':pred_m[0], 'SYLVAIN':pred_m[1], 'CONRAD':pred_m[2]}\n",
    "    row_df = pd.DataFrame([row])\n",
    "    df_tops_pred = pd.concat([df_tops_pred, row_df], axis = 0, ignore_index = \"True\")\n",
    "\n",
    "clear_output()\n",
    "ext = time.time() - start\n",
    "print('Total time take',ext)\n",
    "df_tops_pred['wellName']  = df_tops_pred['wellName'].astype(float)\n",
    "df_tops_pred = df_tops_pred.sort_values(by = ['wellName']).reset_index().drop(['index'], axis = 1)\n",
    "df_tops_pred = df_tops_pred.set_index('wellName')\n",
    "#df_tops_pred.head()"
   ]
  },
  {
   "cell_type": "code",
   "execution_count": 64,
   "metadata": {},
   "outputs": [
    {
     "name": "stdout",
     "output_type": "stream",
     "text": [
      "tolerance 20, recall 0.98, mae 3.9622666666666797\n",
      "tolerance 15, recall 0.9733333333333334, mae 3.9622666666666797\n",
      "tolerance 10, recall 0.9133333333333333, mae 3.9622666666666797\n",
      "tolerance 5, recall 0.78, mae 3.9622666666666797\n",
      "Largest Error MARCEL: 33.0\n",
      "Largest Error SYLVAIN: 32.340000000000146\n",
      "Largest Error CONRAD: 13.200000000000728\n",
      "Optimal Tolerance : 33\n"
     ]
    }
   ],
   "source": [
    "#call the evaluate function\n",
    "tr = [20, 15, 10, 5]\n",
    "for tolerance in tr:\n",
    "#recall is percentage of positive values that is correclty identified,\n",
    "# so true positive/ sum of num_all positive\n",
    "    recall, mae, df_result = recall_tops(df_test_tops,df_tops_pred,tolerance)\n",
    "    print(\"tolerance {0}, recall {1}, mae {2}\".format(tolerance, recall, mae))\n",
    "\n",
    "optimal_tolerance = find_optimal_tolerance(df_test_tops, df_tops_pred)\n",
    "print(f\"Largest Error MARCEL: {df_result['MARCEL_ae'].max()}\")\n",
    "print(f\"Largest Error SYLVAIN: {df_result['SYLVAIN_ae'].max()}\")\n",
    "print(f\"Largest Error CONRAD: {df_result['CONRAD_ae'].max()}\")\n",
    "print(\"Optimal Tolerance :\", optimal_tolerance)"
   ]
  },
  {
   "cell_type": "code",
   "execution_count": 42,
   "metadata": {},
   "outputs": [
    {
     "name": "stdout",
     "output_type": "stream",
     "text": [
      "Prediction:[6452.0, 6594.0, 7019.299999999999]\n",
      "Real:[6460.0, 6592.0, 6620.0]\n"
     ]
    },
    {
     "data": {
      "image/png": "[encoded data removed]",
      "text/plain": [
       "<Figure size 1000x500 with 2 Axes>"
      ]
     },
     "metadata": {},
     "output_type": "display_data"
    }
   ],
   "source": [
    "# Example Testing with one well before start process prediciton on the entire testing dataset\n",
    "\n",
    "df_tops = df_tops[df_tops.index.isin(well_array[0][0])]\n",
    "\n",
    "wsize = 201 #adjust as needed\n",
    "well = 512322535\n",
    "input_variable=['GR']\n",
    "pred_column = ['None','Marcel', 'Sylvain', 'Conrad']\n",
    "\n",
    "#Predict Marker Depth without Constraint \n",
    "pred_m, df_wm = get_markers_rocket_order_with_constraint(f_mean, f_std,df_tops, df_test_log, well, pred_column, wsize, input_variable, \n",
    "                                             s2s = True,\n",
    "                                             model = model, \n",
    "                                             xgb = False,\n",
    "                                             rocket = None, \n",
    "                                             classifier_xgb = None, \n",
    "                                             classifier = None,\n",
    "                                             alpha=0.5, \n",
    "                                             confidence_level=0.96)\n",
    "\n",
    "td  = list(df_test_tops.loc[[well][0]]) \n",
    "print(f'Prediction:{pred_m}')\n",
    "print(f'Real:{td}')\n",
    "plot_pred_distribution(td, pred_m, df_wm)"
   ]
  }
 ],
 "metadata": {
  "kernelspec": {
   "display_name": "Python 3",
   "language": "python",
   "name": "python3"
  },
  "language_info": {
   "codemirror_mode": {
    "name": "ipython",
    "version": 3
   },
   "file_extension": ".py",
   "mimetype": "text/x-python",
   "name": "python",
   "nbconvert_exporter": "python",
   "pygments_lexer": "ipython3",
   "version": "3.10.7"
  }
 },
 "nbformat": 4,
 "nbformat_minor": 2
}
