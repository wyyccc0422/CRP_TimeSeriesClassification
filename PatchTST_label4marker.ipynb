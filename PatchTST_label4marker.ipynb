{
 "cells": [
  {
   "cell_type": "code",
   "execution_count": 1,
   "id": "a5c47a54",
   "metadata": {},
   "outputs": [
    {
     "name": "stderr",
     "output_type": "stream",
     "text": [
      "D:\\Anaconda_3\\envs\\GPU-pytorch\\lib\\site-packages\\tqdm\\auto.py:21: TqdmWarning: IProgress not found. Please update jupyter and ipywidgets. See https://ipywidgets.readthedocs.io/en/stable/user_install.html\n",
      "  from .autonotebook import tqdm as notebook_tqdm\n"
     ]
    }
   ],
   "source": [
    "import numpy as np\n",
    "import pandas as pd\n",
    "import matplotlib.pyplot as plt\n",
    "import statistics\n",
    "import os\n",
    "import random\n",
    "from tqdm import tqdm\n",
    "import math\n",
    "\n",
    "import torch\n",
    "import torch.nn as nn\n",
    "import torch.optim as optim\n",
    "import torch.nn.functional as F\n",
    "from torch.nn import Identity\n",
    "from transformers import PatchTSTConfig, PatchTSTForClassification\n",
    "from torch.utils.data import Dataset, DataLoader\n",
    "from torch.optim import AdamW\n",
    "from sklearn.model_selection import train_test_split\n",
    "from torch.optim.lr_scheduler import StepLR"
   ]
  },
  {
   "cell_type": "code",
   "execution_count": 2,
   "id": "1616387c",
   "metadata": {},
   "outputs": [
    {
     "name": "stdout",
     "output_type": "stream",
     "text": [
      "Using device: cuda\n"
     ]
    }
   ],
   "source": [
    "device = 'cuda' if torch.cuda.is_available() else 'cpu'\n",
    "print('Using device:', device)"
   ]
  },
  {
   "cell_type": "code",
   "execution_count": 3,
   "id": "c578a952",
   "metadata": {},
   "outputs": [],
   "source": [
    "# set random seed\n",
    "def set_seed(seed=42):\n",
    "    \"\"\"Set seed for reproducibility.\"\"\"\n",
    "    random.seed(seed)\n",
    "    np.random.seed(seed)\n",
    "    torch.manual_seed(seed)\n",
    "    torch.cuda.manual_seed_all(seed)\n",
    "\n",
    "    torch.backends.cudnn.deterministic = True\n",
    "    torch.backends.cudnn.benchmark = False\n",
    "    \n",
    "set_seed(42)"
   ]
  },
  {
   "cell_type": "markdown",
   "id": "41149b62",
   "metadata": {},
   "source": [
    "#### import training and testing data"
   ]
  },
  {
   "cell_type": "code",
   "execution_count": 4,
   "id": "f114ffca",
   "metadata": {},
   "outputs": [],
   "source": [
    "ws = 10\n",
    "file_train_samples = f'transformer_dataset/train_samples_signature_label4marker_6000_7000_ws{ws}.npy'\n",
    "file_train_tops = f'transformer_dataset/train_tops_signature_label4marker_6000_7000_ws{ws}.npy'\n",
    "file_test_samples = f'transformer_dataset/test_samples_label4marker_6000_7000_ws{ws}.npy'\n",
    "file_test_tops = f'transformer_dataset/test_tops_label4marker_6000_7000_ws{ws}.npy'"
   ]
  },
  {
   "cell_type": "code",
   "execution_count": 5,
   "id": "11efec41",
   "metadata": {},
   "outputs": [
    {
     "name": "stdout",
     "output_type": "stream",
     "text": [
      "(321, 2000, 3)\n",
      "(50, 2000, 3)\n",
      "(321, 3)\n",
      "(50, 3)\n"
     ]
    }
   ],
   "source": [
    "samples_train = np.load(file_train_samples)\n",
    "tops_train = np.load(file_train_tops)\n",
    "samples_test = np.load(file_test_samples)\n",
    "tops_test = np.load(file_test_tops)\n",
    "print(samples_train.shape)\n",
    "print(samples_test.shape)\n",
    "print(tops_train.shape)\n",
    "print(tops_test.shape)"
   ]
  },
  {
   "cell_type": "markdown",
   "id": "a4b19a73",
   "metadata": {},
   "source": [
    "#### prepare dataset and dataloader"
   ]
  },
  {
   "cell_type": "code",
   "execution_count": 6,
   "id": "e4d1e72d",
   "metadata": {},
   "outputs": [
    {
     "name": "stdout",
     "output_type": "stream",
     "text": [
      "-1.919395492846298\n"
     ]
    }
   ],
   "source": [
    "# calculate mean and std for train set\n",
    "# calculate the input padding value 0 after normalization\n",
    "# define a normlize function\n",
    "def mean_std(samples):\n",
    "    gr_values = samples[:,:,1].copy()\n",
    "    mean = np.mean(gr_values)\n",
    "    std = np.std(gr_values)\n",
    "    return mean, std\n",
    "\n",
    "def normalize(samples):\n",
    "    gr_values = samples[:,:,1].copy()\n",
    "    normalized_gr_values = (gr_values - train_mean) / train_std\n",
    "    samples[:, :, 1] = normalized_gr_values\n",
    "    return samples\n",
    "\n",
    "train_mean, train_std = mean_std(samples_train)\n",
    "input_pad_value = (0 - train_mean) / train_std\n",
    "print(input_pad_value)"
   ]
  },
  {
   "cell_type": "code",
   "execution_count": 7,
   "id": "4a631ef7",
   "metadata": {},
   "outputs": [],
   "source": [
    "class TSTDataset(Dataset):\n",
    "    def __init__(self, samples, tops):\n",
    "        super(TSTDataset, self).__init__()\n",
    "        self.samples = samples\n",
    "        self.samples = normalize(self.samples)\n",
    "    \n",
    "    def __len__(self):\n",
    "        return self.samples.shape[0]  \n",
    "    \n",
    "    def __getitem__(self, idx):\n",
    "        depth = self.samples[idx, :, 0]\n",
    "        x = torch.tensor(self.samples[idx, :, 1])\n",
    "        y = torch.tensor(self.samples[idx, :, 2])\n",
    "        \n",
    "        return depth, x, y"
   ]
  },
  {
   "cell_type": "code",
   "execution_count": 8,
   "id": "bb8fa23b",
   "metadata": {},
   "outputs": [],
   "source": [
    "batch_size = 2\n",
    "train_dataset = TSTDataset(samples_train, tops_train)\n",
    "test_dataset = TSTDataset(samples_test, tops_test)\n",
    "\n",
    "train_dataloader = DataLoader(train_dataset, batch_size = batch_size, shuffle=True)\n",
    "test_dataloader = DataLoader(test_dataset, batch_size = batch_size, shuffle=False)    "
   ]
  },
  {
   "cell_type": "markdown",
   "id": "1003e1cb",
   "metadata": {},
   "source": [
    "#### build the model"
   ]
  },
  {
   "cell_type": "code",
   "execution_count": 9,
   "id": "895cb489",
   "metadata": {},
   "outputs": [],
   "source": [
    "# build the patchTST for classification\n",
    "num_input_channels = 1\n",
    "patch_length = 128\n",
    "patch_stride = 1  #use correct stride\n",
    "num_hidden_layers = 8\n",
    "num_attention_heads = 8\n",
    "d_model = 256\n",
    "num_classes = 5        # three markers + non_marker + padding\n",
    "bias = False\n",
    "use_cls_token = False   # \n",
    "# padding the input sequence to match output length\n",
    "desired_length = patch_length - 1\n",
    "padding_needed = max(0, desired_length)\n",
    "context_length = samples_train.shape[1] + padding_needed\n",
    "\n",
    "config = PatchTSTConfig(\n",
    "    num_input_channels=num_input_channels,\n",
    "    num_targets=num_classes,\n",
    "    context_length=context_length,\n",
    "    patch_length=patch_length,\n",
    "    patch_stride=patch_stride,\n",
    "    num_hidden_layers=num_hidden_layers,\n",
    "    num_attention_heads=num_attention_heads,\n",
    "    use_cls_token=use_cls_token,\n",
    "    d_model=d_model,\n",
    "    bias=bias\n",
    ")\n",
    "model = PatchTSTForClassification(config=config).to(device)\n",
    "\n",
    "# modify the last (head) layer\n",
    "original_head = model.head\n",
    "\n",
    "class Lambda(nn.Module):\n",
    "    def __init__(self, func):\n",
    "        super(Lambda, self).__init__()\n",
    "        self.func = func\n",
    "\n",
    "    def forward(self, x):\n",
    "        return self.func(x)\n",
    "    \n",
    "model.head = nn.Sequential(\n",
    "    nn.Linear(in_features=d_model, out_features=num_classes),  \n",
    "    Lambda(lambda x: x.squeeze(1))  \n",
    ").to(device)"
   ]
  },
  {
   "cell_type": "markdown",
   "id": "927ec092",
   "metadata": {},
   "source": [
    "#### train and validate the model"
   ]
  },
  {
   "cell_type": "code",
   "execution_count": 10,
   "id": "2072a09e",
   "metadata": {},
   "outputs": [],
   "source": [
    "# set optimizer\n",
    "learning_rate = 1e-5\n",
    "adam_epsilon = 1e-8\n",
    "num_epochs = 15\n",
    "optimizer = optim.AdamW(model.parameters(), lr=learning_rate, eps=adam_epsilon)\n",
    "# set the scheduler\n",
    "scheduler = StepLR(optimizer, step_size=15, gamma=0.1)\n",
    "\n",
    "#set weight for loss function (class_0 is for padding)\n",
    "class_weights = torch.tensor([0., 0.5 , 1., 1., 1.], dtype=torch.float) \n",
    "if torch.cuda.is_available():\n",
    "    class_weights = class_weights.cuda()\n",
    "    \n",
    "criterion = nn.CrossEntropyLoss(weight=class_weights, \n",
    "                                ignore_index=0, \n",
    "                               label_smoothing=0.0)"
   ]
  },
  {
   "cell_type": "code",
   "execution_count": 11,
   "id": "afc9017c",
   "metadata": {},
   "outputs": [
    {
     "name": "stderr",
     "output_type": "stream",
     "text": [
      "  1%|          | 2/161 [00:05<05:32,  2.09s/it]"
     ]
    },
    {
     "name": "stdout",
     "output_type": "stream",
     "text": [
      "Train (epoch 1/15) [0/161 (0%)]\tLoss: 1.665571\n"
     ]
    },
    {
     "name": "stderr",
     "output_type": "stream",
     "text": [
      " 17%|█▋        | 27/161 [00:08<00:21,  6.28it/s]"
     ]
    },
    {
     "name": "stdout",
     "output_type": "stream",
     "text": [
      "Train (epoch 1/15) [25/161 (16%)]\tLoss: 1.191961\n"
     ]
    },
    {
     "name": "stderr",
     "output_type": "stream",
     "text": [
      " 32%|███▏      | 52/161 [00:12<00:17,  6.37it/s]"
     ]
    },
    {
     "name": "stdout",
     "output_type": "stream",
     "text": [
      "Train (epoch 1/15) [50/161 (31%)]\tLoss: 0.904337\n"
     ]
    },
    {
     "name": "stderr",
     "output_type": "stream",
     "text": [
      " 48%|████▊     | 77/161 [00:16<00:13,  6.24it/s]"
     ]
    },
    {
     "name": "stdout",
     "output_type": "stream",
     "text": [
      "Train (epoch 1/15) [75/161 (47%)]\tLoss: 0.970043\n"
     ]
    },
    {
     "name": "stderr",
     "output_type": "stream",
     "text": [
      " 63%|██████▎   | 102/161 [00:21<00:09,  5.93it/s]"
     ]
    },
    {
     "name": "stdout",
     "output_type": "stream",
     "text": [
      "Train (epoch 1/15) [100/161 (62%)]\tLoss: 0.641895\n"
     ]
    },
    {
     "name": "stderr",
     "output_type": "stream",
     "text": [
      " 79%|███████▉  | 127/161 [00:25<00:05,  6.10it/s]"
     ]
    },
    {
     "name": "stdout",
     "output_type": "stream",
     "text": [
      "Train (epoch 1/15) [125/161 (78%)]\tLoss: 0.766470\n"
     ]
    },
    {
     "name": "stderr",
     "output_type": "stream",
     "text": [
      " 94%|█████████▍| 152/161 [00:29<00:01,  6.01it/s]"
     ]
    },
    {
     "name": "stdout",
     "output_type": "stream",
     "text": [
      "Train (epoch 1/15) [150/161 (93%)]\tLoss: 0.536517\n"
     ]
    },
    {
     "name": "stderr",
     "output_type": "stream",
     "text": [
      "100%|██████████| 161/161 [00:30<00:00,  5.21it/s]\n",
      "100%|██████████| 25/25 [00:01<00:00, 21.15it/s]\n"
     ]
    },
    {
     "name": "stdout",
     "output_type": "stream",
     "text": [
      "TRAIN_LOSS:  0.846\n",
      "TEST_LOSS:  0.403\n",
      "---------------------------------------------\n"
     ]
    },
    {
     "name": "stderr",
     "output_type": "stream",
     "text": [
      "  1%|          | 1/161 [00:00<00:26,  6.03it/s]"
     ]
    },
    {
     "name": "stdout",
     "output_type": "stream",
     "text": [
      "Train (epoch 2/15) [0/161 (0%)]\tLoss: 0.519974\n"
     ]
    },
    {
     "name": "stderr",
     "output_type": "stream",
     "text": [
      " 17%|█▋        | 27/161 [00:04<00:22,  6.00it/s]"
     ]
    },
    {
     "name": "stdout",
     "output_type": "stream",
     "text": [
      "Train (epoch 2/15) [25/161 (16%)]\tLoss: 0.624466\n"
     ]
    },
    {
     "name": "stderr",
     "output_type": "stream",
     "text": [
      " 32%|███▏      | 52/161 [00:08<00:18,  5.96it/s]"
     ]
    },
    {
     "name": "stdout",
     "output_type": "stream",
     "text": [
      "Train (epoch 2/15) [50/161 (31%)]\tLoss: 0.388039\n"
     ]
    },
    {
     "name": "stderr",
     "output_type": "stream",
     "text": [
      " 48%|████▊     | 77/161 [00:12<00:14,  5.96it/s]"
     ]
    },
    {
     "name": "stdout",
     "output_type": "stream",
     "text": [
      "Train (epoch 2/15) [75/161 (47%)]\tLoss: 0.248194\n"
     ]
    },
    {
     "name": "stderr",
     "output_type": "stream",
     "text": [
      " 63%|██████▎   | 102/161 [00:17<00:10,  5.87it/s]"
     ]
    },
    {
     "name": "stdout",
     "output_type": "stream",
     "text": [
      "Train (epoch 2/15) [100/161 (62%)]\tLoss: 0.231335\n"
     ]
    },
    {
     "name": "stderr",
     "output_type": "stream",
     "text": [
      " 79%|███████▉  | 127/161 [00:21<00:05,  5.93it/s]"
     ]
    },
    {
     "name": "stdout",
     "output_type": "stream",
     "text": [
      "Train (epoch 2/15) [125/161 (78%)]\tLoss: 0.220811\n"
     ]
    },
    {
     "name": "stderr",
     "output_type": "stream",
     "text": [
      " 94%|█████████▍| 152/161 [00:25<00:01,  5.83it/s]"
     ]
    },
    {
     "name": "stdout",
     "output_type": "stream",
     "text": [
      "Train (epoch 2/15) [150/161 (93%)]\tLoss: 0.203956\n"
     ]
    },
    {
     "name": "stderr",
     "output_type": "stream",
     "text": [
      "100%|██████████| 161/161 [00:27<00:00,  5.94it/s]\n",
      "100%|██████████| 25/25 [00:01<00:00, 20.80it/s]\n"
     ]
    },
    {
     "name": "stdout",
     "output_type": "stream",
     "text": [
      "TRAIN_LOSS:  0.355\n",
      "TEST_LOSS:  0.211\n",
      "---------------------------------------------\n"
     ]
    },
    {
     "name": "stderr",
     "output_type": "stream",
     "text": [
      "\r\n",
      "  0%|          | 0/161 [00:00<?, ?it/s]"
     ]
    },
    {
     "name": "stdout",
     "output_type": "stream",
     "text": [
      "Train (epoch 3/15) [0/161 (0%)]\tLoss: 0.315947\n"
     ]
    },
    {
     "name": "stderr",
     "output_type": "stream",
     "text": [
      " 17%|█▋        | 27/161 [00:04<00:23,  5.81it/s]"
     ]
    },
    {
     "name": "stdout",
     "output_type": "stream",
     "text": [
      "Train (epoch 3/15) [25/161 (16%)]\tLoss: 0.441695\n"
     ]
    },
    {
     "name": "stderr",
     "output_type": "stream",
     "text": [
      " 32%|███▏      | 52/161 [00:08<00:18,  5.84it/s]"
     ]
    },
    {
     "name": "stdout",
     "output_type": "stream",
     "text": [
      "Train (epoch 3/15) [50/161 (31%)]\tLoss: 0.321150\n"
     ]
    },
    {
     "name": "stderr",
     "output_type": "stream",
     "text": [
      " 48%|████▊     | 77/161 [00:13<00:14,  5.86it/s]"
     ]
    },
    {
     "name": "stdout",
     "output_type": "stream",
     "text": [
      "Train (epoch 3/15) [75/161 (47%)]\tLoss: 0.267672\n"
     ]
    },
    {
     "name": "stderr",
     "output_type": "stream",
     "text": [
      " 63%|██████▎   | 102/161 [00:17<00:09,  5.93it/s]"
     ]
    },
    {
     "name": "stdout",
     "output_type": "stream",
     "text": [
      "Train (epoch 3/15) [100/161 (62%)]\tLoss: 0.215206\n"
     ]
    },
    {
     "name": "stderr",
     "output_type": "stream",
     "text": [
      " 79%|███████▉  | 127/161 [00:21<00:05,  5.86it/s]"
     ]
    },
    {
     "name": "stdout",
     "output_type": "stream",
     "text": [
      "Train (epoch 3/15) [125/161 (78%)]\tLoss: 1.287246\n"
     ]
    },
    {
     "name": "stderr",
     "output_type": "stream",
     "text": [
      " 94%|█████████▍| 152/161 [00:25<00:01,  5.84it/s]"
     ]
    },
    {
     "name": "stdout",
     "output_type": "stream",
     "text": [
      "Train (epoch 3/15) [150/161 (93%)]\tLoss: 0.229584\n"
     ]
    },
    {
     "name": "stderr",
     "output_type": "stream",
     "text": [
      "100%|██████████| 161/161 [00:27<00:00,  5.88it/s]\n",
      "100%|██████████| 25/25 [00:01<00:00, 20.88it/s]\n"
     ]
    },
    {
     "name": "stdout",
     "output_type": "stream",
     "text": [
      "TRAIN_LOSS:  0.243\n",
      "TEST_LOSS:  0.184\n",
      "---------------------------------------------\n"
     ]
    },
    {
     "name": "stderr",
     "output_type": "stream",
     "text": [
      "  1%|          | 1/161 [00:00<00:26,  5.97it/s]"
     ]
    },
    {
     "name": "stdout",
     "output_type": "stream",
     "text": [
      "Train (epoch 4/15) [0/161 (0%)]\tLoss: 0.208714\n"
     ]
    },
    {
     "name": "stderr",
     "output_type": "stream",
     "text": [
      " 17%|█▋        | 27/161 [00:04<00:23,  5.80it/s]"
     ]
    },
    {
     "name": "stdout",
     "output_type": "stream",
     "text": [
      "Train (epoch 4/15) [25/161 (16%)]\tLoss: 0.177771\n"
     ]
    },
    {
     "name": "stderr",
     "output_type": "stream",
     "text": [
      " 32%|███▏      | 52/161 [00:08<00:18,  5.88it/s]"
     ]
    },
    {
     "name": "stdout",
     "output_type": "stream",
     "text": [
      "Train (epoch 4/15) [50/161 (31%)]\tLoss: 0.145986\n"
     ]
    },
    {
     "name": "stderr",
     "output_type": "stream",
     "text": [
      " 48%|████▊     | 77/161 [00:13<00:14,  5.85it/s]"
     ]
    },
    {
     "name": "stdout",
     "output_type": "stream",
     "text": [
      "Train (epoch 4/15) [75/161 (47%)]\tLoss: 0.124430\n"
     ]
    },
    {
     "name": "stderr",
     "output_type": "stream",
     "text": [
      " 63%|██████▎   | 102/161 [00:17<00:10,  5.86it/s]"
     ]
    },
    {
     "name": "stdout",
     "output_type": "stream",
     "text": [
      "Train (epoch 4/15) [100/161 (62%)]\tLoss: 0.165672\n"
     ]
    },
    {
     "name": "stderr",
     "output_type": "stream",
     "text": [
      " 79%|███████▉  | 127/161 [00:21<00:05,  5.81it/s]"
     ]
    },
    {
     "name": "stdout",
     "output_type": "stream",
     "text": [
      "Train (epoch 4/15) [125/161 (78%)]\tLoss: 0.677282\n"
     ]
    },
    {
     "name": "stderr",
     "output_type": "stream",
     "text": [
      " 94%|█████████▍| 152/161 [00:26<00:01,  5.72it/s]"
     ]
    },
    {
     "name": "stdout",
     "output_type": "stream",
     "text": [
      "Train (epoch 4/15) [150/161 (93%)]\tLoss: 0.123526\n"
     ]
    },
    {
     "name": "stderr",
     "output_type": "stream",
     "text": [
      "100%|██████████| 161/161 [00:27<00:00,  5.84it/s]\n",
      "100%|██████████| 25/25 [00:01<00:00, 20.43it/s]\n"
     ]
    },
    {
     "name": "stdout",
     "output_type": "stream",
     "text": [
      "TRAIN_LOSS:  0.199\n",
      "TEST_LOSS:  0.140\n",
      "---------------------------------------------\n"
     ]
    },
    {
     "name": "stderr",
     "output_type": "stream",
     "text": [
      "  1%|          | 1/161 [00:00<00:28,  5.58it/s]"
     ]
    },
    {
     "name": "stdout",
     "output_type": "stream",
     "text": [
      "Train (epoch 5/15) [0/161 (0%)]\tLoss: 0.091989\n"
     ]
    },
    {
     "name": "stderr",
     "output_type": "stream",
     "text": [
      " 17%|█▋        | 27/161 [00:04<00:23,  5.67it/s]"
     ]
    },
    {
     "name": "stdout",
     "output_type": "stream",
     "text": [
      "Train (epoch 5/15) [25/161 (16%)]\tLoss: 0.143270\n"
     ]
    },
    {
     "name": "stderr",
     "output_type": "stream",
     "text": [
      " 32%|███▏      | 52/161 [00:09<00:19,  5.70it/s]"
     ]
    },
    {
     "name": "stdout",
     "output_type": "stream",
     "text": [
      "Train (epoch 5/15) [50/161 (31%)]\tLoss: 0.205578\n"
     ]
    },
    {
     "name": "stderr",
     "output_type": "stream",
     "text": [
      " 48%|████▊     | 77/161 [00:13<00:14,  5.63it/s]"
     ]
    },
    {
     "name": "stdout",
     "output_type": "stream",
     "text": [
      "Train (epoch 5/15) [75/161 (47%)]\tLoss: 0.138347\n"
     ]
    },
    {
     "name": "stderr",
     "output_type": "stream",
     "text": [
      " 63%|██████▎   | 102/161 [00:17<00:10,  5.77it/s]"
     ]
    },
    {
     "name": "stdout",
     "output_type": "stream",
     "text": [
      "Train (epoch 5/15) [100/161 (62%)]\tLoss: 0.184619\n"
     ]
    },
    {
     "name": "stderr",
     "output_type": "stream",
     "text": [
      " 79%|███████▉  | 127/161 [00:22<00:06,  5.63it/s]"
     ]
    },
    {
     "name": "stdout",
     "output_type": "stream",
     "text": [
      "Train (epoch 5/15) [125/161 (78%)]\tLoss: 0.083405\n"
     ]
    },
    {
     "name": "stderr",
     "output_type": "stream",
     "text": [
      " 94%|█████████▍| 152/161 [00:26<00:01,  5.72it/s]"
     ]
    },
    {
     "name": "stdout",
     "output_type": "stream",
     "text": [
      "Train (epoch 5/15) [150/161 (93%)]\tLoss: 0.112023\n"
     ]
    },
    {
     "name": "stderr",
     "output_type": "stream",
     "text": [
      "100%|██████████| 161/161 [00:28<00:00,  5.73it/s]\n",
      "100%|██████████| 25/25 [00:01<00:00, 20.71it/s]\n"
     ]
    },
    {
     "name": "stdout",
     "output_type": "stream",
     "text": [
      "TRAIN_LOSS:  0.182\n",
      "TEST_LOSS:  0.134\n",
      "---------------------------------------------\n"
     ]
    },
    {
     "name": "stderr",
     "output_type": "stream",
     "text": [
      "\r\n",
      "  0%|          | 0/161 [00:00<?, ?it/s]"
     ]
    },
    {
     "name": "stdout",
     "output_type": "stream",
     "text": [
      "Train (epoch 6/15) [0/161 (0%)]\tLoss: 0.141233\n"
     ]
    },
    {
     "name": "stderr",
     "output_type": "stream",
     "text": [
      " 17%|█▋        | 27/161 [00:04<00:23,  5.65it/s]"
     ]
    },
    {
     "name": "stdout",
     "output_type": "stream",
     "text": [
      "Train (epoch 6/15) [25/161 (16%)]\tLoss: 0.122439\n"
     ]
    },
    {
     "name": "stderr",
     "output_type": "stream",
     "text": [
      " 32%|███▏      | 52/161 [00:09<00:19,  5.72it/s]"
     ]
    },
    {
     "name": "stdout",
     "output_type": "stream",
     "text": [
      "Train (epoch 6/15) [50/161 (31%)]\tLoss: 0.148588\n"
     ]
    },
    {
     "name": "stderr",
     "output_type": "stream",
     "text": [
      " 48%|████▊     | 77/161 [00:13<00:14,  5.81it/s]"
     ]
    },
    {
     "name": "stdout",
     "output_type": "stream",
     "text": [
      "Train (epoch 6/15) [75/161 (47%)]\tLoss: 0.760752\n"
     ]
    },
    {
     "name": "stderr",
     "output_type": "stream",
     "text": [
      " 63%|██████▎   | 102/161 [00:17<00:10,  5.63it/s]"
     ]
    },
    {
     "name": "stdout",
     "output_type": "stream",
     "text": [
      "Train (epoch 6/15) [100/161 (62%)]\tLoss: 0.179557\n"
     ]
    },
    {
     "name": "stderr",
     "output_type": "stream",
     "text": [
      " 79%|███████▉  | 127/161 [00:22<00:05,  5.73it/s]"
     ]
    },
    {
     "name": "stdout",
     "output_type": "stream",
     "text": [
      "Train (epoch 6/15) [125/161 (78%)]\tLoss: 0.128436\n"
     ]
    },
    {
     "name": "stderr",
     "output_type": "stream",
     "text": [
      " 94%|█████████▍| 152/161 [00:26<00:01,  5.70it/s]"
     ]
    },
    {
     "name": "stdout",
     "output_type": "stream",
     "text": [
      "Train (epoch 6/15) [150/161 (93%)]\tLoss: 0.134394\n"
     ]
    },
    {
     "name": "stderr",
     "output_type": "stream",
     "text": [
      "100%|██████████| 161/161 [00:28<00:00,  5.70it/s]\n",
      "100%|██████████| 25/25 [00:01<00:00, 20.08it/s]\n"
     ]
    },
    {
     "name": "stdout",
     "output_type": "stream",
     "text": [
      "TRAIN_LOSS:  0.170\n",
      "TEST_LOSS:  0.129\n",
      "---------------------------------------------\n"
     ]
    },
    {
     "name": "stderr",
     "output_type": "stream",
     "text": [
      "\r\n",
      "  0%|          | 0/161 [00:00<?, ?it/s]"
     ]
    },
    {
     "name": "stdout",
     "output_type": "stream",
     "text": [
      "Train (epoch 7/15) [0/161 (0%)]\tLoss: 0.137784\n"
     ]
    },
    {
     "name": "stderr",
     "output_type": "stream",
     "text": [
      " 17%|█▋        | 27/161 [00:04<00:24,  5.49it/s]"
     ]
    },
    {
     "name": "stdout",
     "output_type": "stream",
     "text": [
      "Train (epoch 7/15) [25/161 (16%)]\tLoss: 0.089514\n"
     ]
    },
    {
     "name": "stderr",
     "output_type": "stream",
     "text": [
      " 32%|███▏      | 52/161 [00:09<00:19,  5.68it/s]"
     ]
    },
    {
     "name": "stdout",
     "output_type": "stream",
     "text": [
      "Train (epoch 7/15) [50/161 (31%)]\tLoss: 0.101254\n"
     ]
    },
    {
     "name": "stderr",
     "output_type": "stream",
     "text": [
      " 48%|████▊     | 77/161 [00:13<00:14,  5.64it/s]"
     ]
    },
    {
     "name": "stdout",
     "output_type": "stream",
     "text": [
      "Train (epoch 7/15) [75/161 (47%)]\tLoss: 0.111948\n"
     ]
    },
    {
     "name": "stderr",
     "output_type": "stream",
     "text": [
      " 63%|██████▎   | 102/161 [00:18<00:10,  5.62it/s]"
     ]
    },
    {
     "name": "stdout",
     "output_type": "stream",
     "text": [
      "Train (epoch 7/15) [100/161 (62%)]\tLoss: 0.110937\n"
     ]
    },
    {
     "name": "stderr",
     "output_type": "stream",
     "text": [
      " 79%|███████▉  | 127/161 [00:22<00:06,  5.63it/s]"
     ]
    },
    {
     "name": "stdout",
     "output_type": "stream",
     "text": [
      "Train (epoch 7/15) [125/161 (78%)]\tLoss: 0.110366\n"
     ]
    },
    {
     "name": "stderr",
     "output_type": "stream",
     "text": [
      " 94%|█████████▍| 152/161 [00:27<00:01,  5.55it/s]"
     ]
    },
    {
     "name": "stdout",
     "output_type": "stream",
     "text": [
      "Train (epoch 7/15) [150/161 (93%)]\tLoss: 0.124679\n"
     ]
    },
    {
     "name": "stderr",
     "output_type": "stream",
     "text": [
      "100%|██████████| 161/161 [00:28<00:00,  5.64it/s]\n",
      "100%|██████████| 25/25 [00:01<00:00, 19.90it/s]\n"
     ]
    },
    {
     "name": "stdout",
     "output_type": "stream",
     "text": [
      "TRAIN_LOSS:  0.164\n",
      "TEST_LOSS:  0.140\n",
      "---------------------------------------------\n"
     ]
    },
    {
     "name": "stderr",
     "output_type": "stream",
     "text": [
      "\r\n",
      "  0%|          | 0/161 [00:00<?, ?it/s]"
     ]
    },
    {
     "name": "stdout",
     "output_type": "stream",
     "text": [
      "Train (epoch 8/15) [0/161 (0%)]\tLoss: 0.121139\n"
     ]
    },
    {
     "name": "stderr",
     "output_type": "stream",
     "text": [
      " 17%|█▋        | 27/161 [00:04<00:23,  5.60it/s]"
     ]
    },
    {
     "name": "stdout",
     "output_type": "stream",
     "text": [
      "Train (epoch 8/15) [25/161 (16%)]\tLoss: 0.118393\n"
     ]
    },
    {
     "name": "stderr",
     "output_type": "stream",
     "text": [
      " 32%|███▏      | 52/161 [00:09<00:19,  5.57it/s]"
     ]
    },
    {
     "name": "stdout",
     "output_type": "stream",
     "text": [
      "Train (epoch 8/15) [50/161 (31%)]\tLoss: 0.170504\n"
     ]
    },
    {
     "name": "stderr",
     "output_type": "stream",
     "text": [
      " 48%|████▊     | 77/161 [00:13<00:15,  5.49it/s]"
     ]
    },
    {
     "name": "stdout",
     "output_type": "stream",
     "text": [
      "Train (epoch 8/15) [75/161 (47%)]\tLoss: 0.157199\n"
     ]
    },
    {
     "name": "stderr",
     "output_type": "stream",
     "text": [
      " 63%|██████▎   | 102/161 [00:18<00:10,  5.48it/s]"
     ]
    },
    {
     "name": "stdout",
     "output_type": "stream",
     "text": [
      "Train (epoch 8/15) [100/161 (62%)]\tLoss: 0.153635\n"
     ]
    },
    {
     "name": "stderr",
     "output_type": "stream",
     "text": [
      " 79%|███████▉  | 127/161 [00:22<00:06,  5.57it/s]"
     ]
    },
    {
     "name": "stdout",
     "output_type": "stream",
     "text": [
      "Train (epoch 8/15) [125/161 (78%)]\tLoss: 0.142754\n"
     ]
    },
    {
     "name": "stderr",
     "output_type": "stream",
     "text": [
      " 94%|█████████▍| 152/161 [00:27<00:01,  5.61it/s]"
     ]
    },
    {
     "name": "stdout",
     "output_type": "stream",
     "text": [
      "Train (epoch 8/15) [150/161 (93%)]\tLoss: 0.139200\n"
     ]
    },
    {
     "name": "stderr",
     "output_type": "stream",
     "text": [
      "100%|██████████| 161/161 [00:28<00:00,  5.59it/s]\n",
      "100%|██████████| 25/25 [00:01<00:00, 19.69it/s]\n"
     ]
    },
    {
     "name": "stdout",
     "output_type": "stream",
     "text": [
      "TRAIN_LOSS:  0.158\n",
      "TEST_LOSS:  0.124\n",
      "---------------------------------------------\n"
     ]
    },
    {
     "name": "stderr",
     "output_type": "stream",
     "text": [
      "\r\n",
      "  0%|          | 0/161 [00:00<?, ?it/s]"
     ]
    },
    {
     "name": "stdout",
     "output_type": "stream",
     "text": [
      "Train (epoch 9/15) [0/161 (0%)]\tLoss: 0.186220\n"
     ]
    },
    {
     "name": "stderr",
     "output_type": "stream",
     "text": [
      " 17%|█▋        | 27/161 [00:04<00:24,  5.55it/s]"
     ]
    },
    {
     "name": "stdout",
     "output_type": "stream",
     "text": [
      "Train (epoch 9/15) [25/161 (16%)]\tLoss: 0.189661\n"
     ]
    },
    {
     "name": "stderr",
     "output_type": "stream",
     "text": [
      " 32%|███▏      | 52/161 [00:09<00:19,  5.53it/s]"
     ]
    },
    {
     "name": "stdout",
     "output_type": "stream",
     "text": [
      "Train (epoch 9/15) [50/161 (31%)]\tLoss: 0.149996\n"
     ]
    },
    {
     "name": "stderr",
     "output_type": "stream",
     "text": [
      " 48%|████▊     | 77/161 [00:13<00:15,  5.50it/s]"
     ]
    },
    {
     "name": "stdout",
     "output_type": "stream",
     "text": [
      "Train (epoch 9/15) [75/161 (47%)]\tLoss: 0.118011\n"
     ]
    },
    {
     "name": "stderr",
     "output_type": "stream",
     "text": [
      " 63%|██████▎   | 102/161 [00:18<00:10,  5.40it/s]"
     ]
    },
    {
     "name": "stdout",
     "output_type": "stream",
     "text": [
      "Train (epoch 9/15) [100/161 (62%)]\tLoss: 0.127329\n"
     ]
    },
    {
     "name": "stderr",
     "output_type": "stream",
     "text": [
      " 79%|███████▉  | 127/161 [00:23<00:06,  5.39it/s]"
     ]
    },
    {
     "name": "stdout",
     "output_type": "stream",
     "text": [
      "Train (epoch 9/15) [125/161 (78%)]\tLoss: 0.165534\n"
     ]
    },
    {
     "name": "stderr",
     "output_type": "stream",
     "text": [
      " 94%|█████████▍| 152/161 [00:27<00:01,  5.42it/s]"
     ]
    },
    {
     "name": "stdout",
     "output_type": "stream",
     "text": [
      "Train (epoch 9/15) [150/161 (93%)]\tLoss: 0.096310\n"
     ]
    },
    {
     "name": "stderr",
     "output_type": "stream",
     "text": [
      "100%|██████████| 161/161 [00:29<00:00,  5.50it/s]\n",
      "100%|██████████| 25/25 [00:01<00:00, 19.49it/s]\n"
     ]
    },
    {
     "name": "stdout",
     "output_type": "stream",
     "text": [
      "TRAIN_LOSS:  0.151\n",
      "TEST_LOSS:  0.122\n",
      "---------------------------------------------\n"
     ]
    },
    {
     "name": "stderr",
     "output_type": "stream",
     "text": [
      "\r\n",
      "  0%|          | 0/161 [00:00<?, ?it/s]"
     ]
    },
    {
     "name": "stdout",
     "output_type": "stream",
     "text": [
      "Train (epoch 10/15) [0/161 (0%)]\tLoss: 0.105703\n"
     ]
    },
    {
     "name": "stderr",
     "output_type": "stream",
     "text": [
      " 17%|█▋        | 27/161 [00:04<00:24,  5.47it/s]"
     ]
    },
    {
     "name": "stdout",
     "output_type": "stream",
     "text": [
      "Train (epoch 10/15) [25/161 (16%)]\tLoss: 0.115903\n"
     ]
    },
    {
     "name": "stderr",
     "output_type": "stream",
     "text": [
      " 32%|███▏      | 51/161 [00:09<00:20,  5.49it/s]"
     ]
    },
    {
     "name": "stdout",
     "output_type": "stream",
     "text": [
      "Train (epoch 10/15) [50/161 (31%)]\tLoss: 0.142527\n"
     ]
    },
    {
     "name": "stderr",
     "output_type": "stream",
     "text": [
      " 48%|████▊     | 77/161 [00:13<00:15,  5.52it/s]"
     ]
    },
    {
     "name": "stdout",
     "output_type": "stream",
     "text": [
      "Train (epoch 10/15) [75/161 (47%)]\tLoss: 0.106488\n"
     ]
    },
    {
     "name": "stderr",
     "output_type": "stream",
     "text": [
      " 63%|██████▎   | 102/161 [00:18<00:10,  5.49it/s]"
     ]
    },
    {
     "name": "stdout",
     "output_type": "stream",
     "text": [
      "Train (epoch 10/15) [100/161 (62%)]\tLoss: 0.131322\n"
     ]
    },
    {
     "name": "stderr",
     "output_type": "stream",
     "text": [
      " 79%|███████▉  | 127/161 [00:23<00:06,  5.56it/s]"
     ]
    },
    {
     "name": "stdout",
     "output_type": "stream",
     "text": [
      "Train (epoch 10/15) [125/161 (78%)]\tLoss: 0.118414\n"
     ]
    },
    {
     "name": "stderr",
     "output_type": "stream",
     "text": [
      " 94%|█████████▍| 152/161 [00:27<00:01,  5.43it/s]"
     ]
    },
    {
     "name": "stdout",
     "output_type": "stream",
     "text": [
      "Train (epoch 10/15) [150/161 (93%)]\tLoss: 0.118888\n"
     ]
    },
    {
     "name": "stderr",
     "output_type": "stream",
     "text": [
      "100%|██████████| 161/161 [00:29<00:00,  5.53it/s]\n",
      "100%|██████████| 25/25 [00:01<00:00, 19.86it/s]\n"
     ]
    },
    {
     "name": "stdout",
     "output_type": "stream",
     "text": [
      "TRAIN_LOSS:  0.145\n",
      "TEST_LOSS:  0.127\n",
      "---------------------------------------------\n"
     ]
    },
    {
     "name": "stderr",
     "output_type": "stream",
     "text": [
      "\r\n",
      "  0%|          | 0/161 [00:00<?, ?it/s]"
     ]
    },
    {
     "name": "stdout",
     "output_type": "stream",
     "text": [
      "Train (epoch 11/15) [0/161 (0%)]\tLoss: 0.120026\n"
     ]
    },
    {
     "name": "stderr",
     "output_type": "stream",
     "text": [
      " 17%|█▋        | 27/161 [00:04<00:24,  5.53it/s]"
     ]
    },
    {
     "name": "stdout",
     "output_type": "stream",
     "text": [
      "Train (epoch 11/15) [25/161 (16%)]\tLoss: 0.096192\n"
     ]
    },
    {
     "name": "stderr",
     "output_type": "stream",
     "text": [
      " 32%|███▏      | 52/161 [00:09<00:19,  5.55it/s]"
     ]
    },
    {
     "name": "stdout",
     "output_type": "stream",
     "text": [
      "Train (epoch 11/15) [50/161 (31%)]\tLoss: 0.075840\n"
     ]
    },
    {
     "name": "stderr",
     "output_type": "stream",
     "text": [
      " 47%|████▋     | 76/161 [00:13<00:15,  5.52it/s]"
     ]
    },
    {
     "name": "stdout",
     "output_type": "stream",
     "text": [
      "Train (epoch 11/15) [75/161 (47%)]\tLoss: 0.101978\n"
     ]
    },
    {
     "name": "stderr",
     "output_type": "stream",
     "text": [
      " 63%|██████▎   | 102/161 [00:18<00:10,  5.54it/s]"
     ]
    },
    {
     "name": "stdout",
     "output_type": "stream",
     "text": [
      "Train (epoch 11/15) [100/161 (62%)]\tLoss: 0.127324\n"
     ]
    },
    {
     "name": "stderr",
     "output_type": "stream",
     "text": [
      " 79%|███████▉  | 127/161 [00:22<00:06,  5.46it/s]"
     ]
    },
    {
     "name": "stdout",
     "output_type": "stream",
     "text": [
      "Train (epoch 11/15) [125/161 (78%)]\tLoss: 0.085374\n"
     ]
    },
    {
     "name": "stderr",
     "output_type": "stream",
     "text": [
      " 94%|█████████▍| 152/161 [00:27<00:01,  5.38it/s]"
     ]
    },
    {
     "name": "stdout",
     "output_type": "stream",
     "text": [
      "Train (epoch 11/15) [150/161 (93%)]\tLoss: 0.152484\n"
     ]
    },
    {
     "name": "stderr",
     "output_type": "stream",
     "text": [
      "100%|██████████| 161/161 [00:29<00:00,  5.52it/s]\n",
      "100%|██████████| 25/25 [00:01<00:00, 19.15it/s]\n"
     ]
    },
    {
     "name": "stdout",
     "output_type": "stream",
     "text": [
      "TRAIN_LOSS:  0.142\n",
      "TEST_LOSS:  0.154\n",
      "---------------------------------------------\n"
     ]
    },
    {
     "name": "stderr",
     "output_type": "stream",
     "text": [
      "\r\n",
      "  0%|          | 0/161 [00:00<?, ?it/s]"
     ]
    },
    {
     "name": "stdout",
     "output_type": "stream",
     "text": [
      "Train (epoch 12/15) [0/161 (0%)]\tLoss: 0.123331\n"
     ]
    },
    {
     "name": "stderr",
     "output_type": "stream",
     "text": [
      " 17%|█▋        | 27/161 [00:04<00:23,  5.67it/s]"
     ]
    },
    {
     "name": "stdout",
     "output_type": "stream",
     "text": [
      "Train (epoch 12/15) [25/161 (16%)]\tLoss: 0.095301\n"
     ]
    },
    {
     "name": "stderr",
     "output_type": "stream",
     "text": [
      " 32%|███▏      | 52/161 [00:09<00:19,  5.66it/s]"
     ]
    },
    {
     "name": "stdout",
     "output_type": "stream",
     "text": [
      "Train (epoch 12/15) [50/161 (31%)]\tLoss: 0.144204\n"
     ]
    },
    {
     "name": "stderr",
     "output_type": "stream",
     "text": [
      " 48%|████▊     | 77/161 [00:13<00:15,  5.51it/s]"
     ]
    },
    {
     "name": "stdout",
     "output_type": "stream",
     "text": [
      "Train (epoch 12/15) [75/161 (47%)]\tLoss: 0.123404\n"
     ]
    },
    {
     "name": "stderr",
     "output_type": "stream",
     "text": [
      " 63%|██████▎   | 102/161 [00:18<00:10,  5.52it/s]"
     ]
    },
    {
     "name": "stdout",
     "output_type": "stream",
     "text": [
      "Train (epoch 12/15) [100/161 (62%)]\tLoss: 0.088663\n"
     ]
    },
    {
     "name": "stderr",
     "output_type": "stream",
     "text": [
      " 79%|███████▉  | 127/161 [00:22<00:06,  5.49it/s]"
     ]
    },
    {
     "name": "stdout",
     "output_type": "stream",
     "text": [
      "Train (epoch 12/15) [125/161 (78%)]\tLoss: 0.116347\n"
     ]
    },
    {
     "name": "stderr",
     "output_type": "stream",
     "text": [
      " 94%|█████████▍| 151/161 [00:27<00:01,  5.38it/s]"
     ]
    },
    {
     "name": "stdout",
     "output_type": "stream",
     "text": [
      "Train (epoch 12/15) [150/161 (93%)]\tLoss: 0.142293\n"
     ]
    },
    {
     "name": "stderr",
     "output_type": "stream",
     "text": [
      "100%|██████████| 161/161 [00:29<00:00,  5.55it/s]\n",
      "100%|██████████| 25/25 [00:01<00:00, 18.92it/s]\n"
     ]
    },
    {
     "name": "stdout",
     "output_type": "stream",
     "text": [
      "TRAIN_LOSS:  0.139\n",
      "TEST_LOSS:  0.125\n",
      "---------------------------------------------\n"
     ]
    },
    {
     "name": "stderr",
     "output_type": "stream",
     "text": [
      "\r\n",
      "  0%|          | 0/161 [00:00<?, ?it/s]"
     ]
    },
    {
     "name": "stdout",
     "output_type": "stream",
     "text": [
      "Train (epoch 13/15) [0/161 (0%)]\tLoss: 0.101157\n"
     ]
    },
    {
     "name": "stderr",
     "output_type": "stream",
     "text": [
      " 17%|█▋        | 27/161 [00:05<00:24,  5.50it/s]"
     ]
    },
    {
     "name": "stdout",
     "output_type": "stream",
     "text": [
      "Train (epoch 13/15) [25/161 (16%)]\tLoss: 0.132540\n"
     ]
    },
    {
     "name": "stderr",
     "output_type": "stream",
     "text": [
      " 32%|███▏      | 52/161 [00:09<00:20,  5.44it/s]"
     ]
    },
    {
     "name": "stdout",
     "output_type": "stream",
     "text": [
      "Train (epoch 13/15) [50/161 (31%)]\tLoss: 0.094635\n"
     ]
    },
    {
     "name": "stderr",
     "output_type": "stream",
     "text": [
      " 48%|████▊     | 77/161 [00:14<00:15,  5.35it/s]"
     ]
    },
    {
     "name": "stdout",
     "output_type": "stream",
     "text": [
      "Train (epoch 13/15) [75/161 (47%)]\tLoss: 0.142760\n"
     ]
    },
    {
     "name": "stderr",
     "output_type": "stream",
     "text": [
      " 63%|██████▎   | 102/161 [00:19<00:11,  5.27it/s]"
     ]
    },
    {
     "name": "stdout",
     "output_type": "stream",
     "text": [
      "Train (epoch 13/15) [100/161 (62%)]\tLoss: 0.183673\n"
     ]
    },
    {
     "name": "stderr",
     "output_type": "stream",
     "text": [
      " 79%|███████▉  | 127/161 [00:23<00:07,  4.83it/s]"
     ]
    },
    {
     "name": "stdout",
     "output_type": "stream",
     "text": [
      "Train (epoch 13/15) [125/161 (78%)]\tLoss: 0.084604\n"
     ]
    },
    {
     "name": "stderr",
     "output_type": "stream",
     "text": [
      " 94%|█████████▍| 152/161 [00:28<00:01,  5.73it/s]"
     ]
    },
    {
     "name": "stdout",
     "output_type": "stream",
     "text": [
      "Train (epoch 13/15) [150/161 (93%)]\tLoss: 0.122457\n"
     ]
    },
    {
     "name": "stderr",
     "output_type": "stream",
     "text": [
      "100%|██████████| 161/161 [00:29<00:00,  5.38it/s]\n",
      "100%|██████████| 25/25 [00:01<00:00, 18.77it/s]\n"
     ]
    },
    {
     "name": "stdout",
     "output_type": "stream",
     "text": [
      "TRAIN_LOSS:  0.136\n",
      "TEST_LOSS:  0.127\n",
      "---------------------------------------------\n"
     ]
    },
    {
     "name": "stderr",
     "output_type": "stream",
     "text": [
      "\r\n",
      "  0%|          | 0/161 [00:00<?, ?it/s]"
     ]
    },
    {
     "name": "stdout",
     "output_type": "stream",
     "text": [
      "Train (epoch 14/15) [0/161 (0%)]\tLoss: 0.098055\n"
     ]
    },
    {
     "name": "stderr",
     "output_type": "stream",
     "text": [
      " 17%|█▋        | 27/161 [00:05<00:25,  5.31it/s]"
     ]
    },
    {
     "name": "stdout",
     "output_type": "stream",
     "text": [
      "Train (epoch 14/15) [25/161 (16%)]\tLoss: 0.118298\n"
     ]
    },
    {
     "name": "stderr",
     "output_type": "stream",
     "text": [
      " 32%|███▏      | 51/161 [00:09<00:22,  4.95it/s]"
     ]
    },
    {
     "name": "stdout",
     "output_type": "stream",
     "text": [
      "Train (epoch 14/15) [50/161 (31%)]\tLoss: 0.065333\n"
     ]
    },
    {
     "name": "stderr",
     "output_type": "stream",
     "text": [
      " 48%|████▊     | 77/161 [00:14<00:16,  5.16it/s]"
     ]
    },
    {
     "name": "stdout",
     "output_type": "stream",
     "text": [
      "Train (epoch 14/15) [75/161 (47%)]\tLoss: 0.127803\n"
     ]
    },
    {
     "name": "stderr",
     "output_type": "stream",
     "text": [
      " 63%|██████▎   | 102/161 [00:19<00:11,  5.32it/s]"
     ]
    },
    {
     "name": "stdout",
     "output_type": "stream",
     "text": [
      "Train (epoch 14/15) [100/161 (62%)]\tLoss: 0.102665\n"
     ]
    },
    {
     "name": "stderr",
     "output_type": "stream",
     "text": [
      " 79%|███████▉  | 127/161 [00:24<00:06,  5.25it/s]"
     ]
    },
    {
     "name": "stdout",
     "output_type": "stream",
     "text": [
      "Train (epoch 14/15) [125/161 (78%)]\tLoss: 0.139661\n"
     ]
    },
    {
     "name": "stderr",
     "output_type": "stream",
     "text": [
      " 94%|█████████▍| 152/161 [00:28<00:01,  5.30it/s]"
     ]
    },
    {
     "name": "stdout",
     "output_type": "stream",
     "text": [
      "Train (epoch 14/15) [150/161 (93%)]\tLoss: 0.090757\n"
     ]
    },
    {
     "name": "stderr",
     "output_type": "stream",
     "text": [
      "100%|██████████| 161/161 [00:30<00:00,  5.27it/s]\n",
      "100%|██████████| 25/25 [00:01<00:00, 18.93it/s]\n"
     ]
    },
    {
     "name": "stdout",
     "output_type": "stream",
     "text": [
      "TRAIN_LOSS:  0.133\n",
      "TEST_LOSS:  0.111\n",
      "---------------------------------------------\n"
     ]
    },
    {
     "name": "stderr",
     "output_type": "stream",
     "text": [
      "\r\n",
      "  0%|          | 0/161 [00:00<?, ?it/s]"
     ]
    },
    {
     "name": "stdout",
     "output_type": "stream",
     "text": [
      "Train (epoch 15/15) [0/161 (0%)]\tLoss: 0.088221\n"
     ]
    },
    {
     "name": "stderr",
     "output_type": "stream",
     "text": [
      " 17%|█▋        | 27/161 [00:05<00:24,  5.44it/s]"
     ]
    },
    {
     "name": "stdout",
     "output_type": "stream",
     "text": [
      "Train (epoch 15/15) [25/161 (16%)]\tLoss: 0.070277\n"
     ]
    },
    {
     "name": "stderr",
     "output_type": "stream",
     "text": [
      " 32%|███▏      | 52/161 [00:09<00:20,  5.38it/s]"
     ]
    },
    {
     "name": "stdout",
     "output_type": "stream",
     "text": [
      "Train (epoch 15/15) [50/161 (31%)]\tLoss: 0.130095\n"
     ]
    },
    {
     "name": "stderr",
     "output_type": "stream",
     "text": [
      " 48%|████▊     | 77/161 [00:14<00:15,  5.38it/s]"
     ]
    },
    {
     "name": "stdout",
     "output_type": "stream",
     "text": [
      "Train (epoch 15/15) [75/161 (47%)]\tLoss: 0.120799\n"
     ]
    },
    {
     "name": "stderr",
     "output_type": "stream",
     "text": [
      " 63%|██████▎   | 102/161 [00:18<00:10,  5.44it/s]"
     ]
    },
    {
     "name": "stdout",
     "output_type": "stream",
     "text": [
      "Train (epoch 15/15) [100/161 (62%)]\tLoss: 0.085870\n"
     ]
    },
    {
     "name": "stderr",
     "output_type": "stream",
     "text": [
      " 79%|███████▉  | 127/161 [00:23<00:06,  5.47it/s]"
     ]
    },
    {
     "name": "stdout",
     "output_type": "stream",
     "text": [
      "Train (epoch 15/15) [125/161 (78%)]\tLoss: 0.078830\n"
     ]
    },
    {
     "name": "stderr",
     "output_type": "stream",
     "text": [
      " 94%|█████████▍| 152/161 [00:28<00:01,  5.46it/s]"
     ]
    },
    {
     "name": "stdout",
     "output_type": "stream",
     "text": [
      "Train (epoch 15/15) [150/161 (93%)]\tLoss: 0.111070\n"
     ]
    },
    {
     "name": "stderr",
     "output_type": "stream",
     "text": [
      "100%|██████████| 161/161 [00:29<00:00,  5.42it/s]\n",
      "100%|██████████| 25/25 [00:01<00:00, 19.38it/s]"
     ]
    },
    {
     "name": "stdout",
     "output_type": "stream",
     "text": [
      "TRAIN_LOSS:  0.128\n",
      "TEST_LOSS:  0.130\n",
      "---------------------------------------------\n",
      "best test result is obtained at epoch 15\n"
     ]
    },
    {
     "name": "stderr",
     "output_type": "stream",
     "text": [
      "\n"
     ]
    }
   ],
   "source": [
    "# save best test result\n",
    "best_test_loss =  float('inf')\n",
    "best_epoch = 0\n",
    "\n",
    "#train the model and validate\n",
    "total_train_losses = []\n",
    "total_test_losses = []\n",
    "\n",
    "for epoch in range(1, num_epochs+1):\n",
    "    model.train()\n",
    "    train_losses = []\n",
    "    \n",
    "    pred_list_train = []\n",
    "    y_list_train = []\n",
    "    depth_list_train = []\n",
    "    x_list_train = []    \n",
    "    #train\n",
    "    for i, batch in enumerate(tqdm(train_dataloader)):\n",
    "        depth, x, y = batch\n",
    "        # pad the input sequence if needed\n",
    "        if padding_needed > 0:\n",
    "            padding_before = padding_needed // 2\n",
    "            padding_after = padding_needed - padding_before\n",
    "            src = F.pad(x, pad=(padding_before, padding_after), mode='constant', value=input_pad_value) \n",
    "        src = src.unsqueeze(-1).to(device).float()\n",
    "        src_mask = (src != input_pad_value).to(device)\n",
    "        y = y.to(device).long()\n",
    "\n",
    "        optimizer.zero_grad()\n",
    "        outputs = model(past_values = src,\n",
    "                       past_observed_mask = src_mask)\n",
    "        preds = outputs.prediction_logits\n",
    "        preds_reshaped = preds.permute(0,2,1)\n",
    "        loss = criterion(preds_reshaped, y)\n",
    "        loss.backward()\n",
    "        optimizer.step()\n",
    "        train_losses.append(loss.item())\n",
    "\n",
    "        if i % 25 == 0:\n",
    "            print('Train (epoch {}/{}) [{}/{} ({:.0f}%)]\\tLoss: {:.6f}'.format(\n",
    "                epoch, num_epochs, i, len(train_dataloader),100.*i/len(train_dataloader), loss.item())) \n",
    "        \n",
    "        # at last epoch, save the prediction result\n",
    "        #if epoch == num_epochs:\n",
    "        current_preds = preds.detach().cpu().numpy()\n",
    "        current_y = y.detach().cpu().numpy()\n",
    "        current_depth = depth.cpu().numpy()\n",
    "        current_x = x.detach().cpu().numpy()\n",
    "\n",
    "        pred_list_train.append(current_preds)\n",
    "        y_list_train.append(current_y)\n",
    "        depth_list_train.append(current_depth)\n",
    "        x_list_train.append(current_x)\n",
    "\n",
    "    train_loss_mean = np.mean(train_losses)\n",
    "    total_train_losses.append(train_loss_mean)\n",
    "    scheduler.step()\n",
    "    \n",
    "    #validation\n",
    "    model.eval()\n",
    "    test_losses = []\n",
    "    \n",
    "    pred_list_test = []\n",
    "    y_list_test = []\n",
    "    depth_list_test = []\n",
    "    x_list_test = []   \n",
    "    for i, batch in enumerate(tqdm(test_dataloader)):\n",
    "        depth, x, y = batch\n",
    "        if padding_needed > 0:\n",
    "            padding_before = padding_needed // 2\n",
    "            padding_after = padding_needed - padding_before\n",
    "            src = F.pad(x, pad=(padding_before, padding_after), mode='constant', value=input_pad_value) \n",
    "        src = src.unsqueeze(-1).to(device).float()\n",
    "        src_mask = (src != input_pad_value).to(device)\n",
    "        y = y.to(device).long()\n",
    "\n",
    "        with torch.no_grad():\n",
    "            outputs = model(past_values = src,\n",
    "                           past_observed_mask = src_mask)\n",
    "            preds = outputs.prediction_logits\n",
    "            preds_reshaped = preds.permute(0,2,1)\n",
    "            loss = criterion(preds_reshaped, y)\n",
    "        test_losses.append(loss.item())\n",
    "        \n",
    "        # at last epoch, save the prediction result\n",
    "        # if epoch == num_epochs:\n",
    "        current_preds = preds.detach().cpu().numpy()\n",
    "        current_y = y.detach().cpu().numpy()\n",
    "        current_depth = depth.cpu().numpy()\n",
    "        current_x = x.detach().cpu().numpy()\n",
    "\n",
    "        pred_list_test.append(current_preds)\n",
    "        y_list_test.append(current_y)\n",
    "        depth_list_test.append(current_depth)\n",
    "        x_list_test.append(current_x)\n",
    "\n",
    "    test_loss_mean = np.mean(test_losses)\n",
    "    total_test_losses.append(test_loss_mean)\n",
    "\n",
    "    print('TRAIN_LOSS: ', '%.3f' % train_loss_mean)\n",
    "    print('TEST_LOSS: ', '%.3f' % test_loss_mean)\n",
    "    print('---------------------------------------------')\n",
    "\n",
    "    # check if the test loss is the smallest\n",
    "    #if test_loss_mean <= best_test_loss:\n",
    "    \n",
    "    # save the result at last epoch\n",
    "    if epoch == num_epochs:\n",
    "        best_test_loss = test_loss_mean\n",
    "        best_epoch = epoch    \n",
    "        # update prediction result\n",
    "        preds_train = np.concatenate(pred_list_train, axis = 0)\n",
    "        y_train = np.concatenate(y_list_train, axis = 0)\n",
    "        depth_train = np.concatenate(depth_list_train, axis = 0)\n",
    "        x_train = np.concatenate(x_list_train, axis = 0)\n",
    "        preds_test = np.concatenate(pred_list_test, axis = 0)\n",
    "        y_test = np.concatenate(y_list_test, axis = 0)\n",
    "        depth_test = np.concatenate(depth_list_test, axis = 0)\n",
    "        x_test = np.concatenate(x_list_test, axis = 0)\n",
    "\n",
    "result = [total_train_losses, total_test_losses]\n",
    "print(f'best test result is obtained at epoch {best_epoch}')"
   ]
  },
  {
   "cell_type": "code",
   "execution_count": 12,
   "id": "2ce7c554",
   "metadata": {},
   "outputs": [
    {
     "data": {
      "image/png": "[encoded data removed]",
      "text/plain": [
       "<Figure size 640x480 with 1 Axes>"
      ]
     },
     "metadata": {},
     "output_type": "display_data"
    }
   ],
   "source": [
    "#plot training and validation loss\n",
    "def plot_graph(train_metric, val_metric, nb_epochs, title):\n",
    "    x = [int(i) for i in range(1, nb_epochs + 1)]\n",
    "    plt.plot(x, train_metric, color = 'blue', label = 'train')\n",
    "    plt.plot(x, val_metric, color = 'orange', label = 'validation')\n",
    "    plt.legend()\n",
    "    plt.xlabel('Epochs')\n",
    "    plt.ylabel('Score')\n",
    "    x_ticks = [i for i in x if i % 5 == 0]\n",
    "    plt.title(title)\n",
    "    plt.xticks(x_ticks)\n",
    "    plt.grid(True)\n",
    "    plt.show()\n",
    "\n",
    "plot_graph(total_train_losses, total_test_losses, num_epochs, 'Loss (train vs. test)')"
   ]
  },
  {
   "cell_type": "markdown",
   "id": "1cb3fd3e",
   "metadata": {},
   "source": [
    "#### evaluation an visualization"
   ]
  },
  {
   "cell_type": "code",
   "execution_count": 13,
   "id": "b021c067",
   "metadata": {},
   "outputs": [],
   "source": [
    "def plot_prediction(sample_preds, sample_x, sample_depth, sample_distribution,\n",
    "                    pred_locations, true_locations):\n",
    "    plt.figure(figsize=(15,6))\n",
    "\n",
    "    # Plotting on the primary y-axis\n",
    "    # gamma ray\n",
    "    plt.plot(sample_depth, sample_x * train_std + train_mean, color='black')\n",
    "    # prediction\n",
    "    plt.axvline(pred_locations[0], color='red', linestyle = '--', label= 'pred_M')\n",
    "    plt.axvline(pred_locations[1], color='blue',linestyle = '--', label= 'pred_S')\n",
    "    plt.axvline(pred_locations[2], color='green', linestyle = '--', label= 'pred_C')\n",
    "    # ground truth\n",
    "    plt.axvline(true_locations[0], color='red', label= 'true_M')\n",
    "    plt.axvline(true_locations[1], color='blue', label= 'true_S')\n",
    "    plt.axvline(true_locations[2], color='green', label= 'true_C')\n",
    "    \n",
    "    plt.xlabel('Depth')\n",
    "    plt.ylabel('Gamma Ray')\n",
    "    plt.xticks([i for i in sample_depth if i % 200 == 0])\n",
    "    plt.grid(True)\n",
    "    plt.legend(loc='upper center', bbox_to_anchor=(0.5, -0.1), ncol=6)\n",
    "\n",
    "    # Creating secondary y-axis\n",
    "    ax2 = plt.gca().twinx()\n",
    "    # Use the secondary y-axis for the fill_between\n",
    "    ax2.fill_between(sample_depth, sample_distribution[:,2], color='lightcoral', alpha=0.5, label='Prob_M')\n",
    "    ax2.fill_between(sample_depth, sample_distribution[:,3], color='lightblue', alpha=0.5, label='Prob_S')\n",
    "    ax2.fill_between(sample_depth, sample_distribution[:,4], color='lightgreen', alpha=0.5, label='Prob_C')\n",
    "    ax2.set_ylim(0, 1)  # Setting the range for the secondary y-axis\n",
    "    ax2.set_ylabel('Probability')\n",
    "\n",
    "    plt.show()    "
   ]
  },
  {
   "cell_type": "code",
   "execution_count": 14,
   "id": "65f6ddf6",
   "metadata": {},
   "outputs": [],
   "source": [
    "def post_process(preds_test, y_test, depth):\n",
    "    result = []\n",
    "    for index in range(preds_test.shape[0]):\n",
    "        # get the sample result without padding\n",
    "        sample_distribution = np.array(F.softmax(torch.tensor(preds_test[index]), dim = 1))\n",
    "        sample_preds = np.argmax(sample_distribution, axis=1)\n",
    "        sample_y = y_test[index]\n",
    "        sample_depth = depth_test[index]\n",
    "\n",
    "        mask = sample_y != 0\n",
    "        sample_distribution = sample_distribution[mask]\n",
    "        sample_preds = sample_preds[mask]\n",
    "        sample_depth = sample_depth[mask]\n",
    "        sample_y = sample_y[mask]\n",
    "    \n",
    "        pred_locations = []\n",
    "        for i in range(2, 5):\n",
    "            # get the highest probability\n",
    "            max_value = np.max(sample_distribution[:,i])\n",
    "            index_loc = np.where(sample_distribution[:,i] == max_value)[0]\n",
    "            depths = sample_depth[index_loc]\n",
    "            # take the median as final prediction\n",
    "            depth = statistics.median(depths)\n",
    "            pred_locations.append(depth)\n",
    "        result.append(np.array(pred_locations))\n",
    "    return result \n",
    "    \n",
    "def combine(sample_distribution, sample_depth, search_range = 1):\n",
    "    # get dictionary for each marker {location: prob}\n",
    "    search_dicts = []\n",
    "    for marker_col in range(2, 5):\n",
    "        loc_prob_dict = {}\n",
    "        marker_probs = sample_distribution[:,marker_col]\n",
    "        sort_prob = np.sort(marker_probs)\n",
    "        top_probs = sort_prob[-search_range:]\n",
    "        for i in range(search_range):\n",
    "            prob_value = top_probs[i]\n",
    "            index_loc = np.where(marker_probs == prob_value)[0]\n",
    "            depths = sample_depth[index_loc]\n",
    "            depth = statistics.median(depths)\n",
    "            loc_prob_dict[depth] = prob_value\n",
    "        search_dicts.append(loc_prob_dict)\n",
    "\n",
    "    # compare all possible combination and give the result\n",
    "    best_combine_prob = 0\n",
    "    best_combine = None\n",
    "    combinations = [(x, y, z) \n",
    "                    for x in list(search_dicts[0].keys()) \n",
    "                    for y in list(search_dicts[1].keys()) \n",
    "                    for z in list(search_dicts[2].keys())]\n",
    "    for i in range(len(combinations)):\n",
    "        combination = combinations[i]\n",
    "        marker_M, marker_S, marker_C = combination[0], combination[1], combination[2]\n",
    "        diff_1 = marker_S - marker_M\n",
    "        diff_2 = marker_C - marker_S\n",
    "        if diff_1 > 0 and diff_2 > 0:\n",
    "            combine_prob = search_dicts[0][marker_M] * \\\n",
    "                            search_dicts[1][marker_S] * \\\n",
    "                            search_dicts[2][marker_C]\n",
    "            if combine_prob > best_combine_prob:\n",
    "                best_combine_prob = combine_prob\n",
    "                best_combine = combination\n",
    "    return best_combine\n",
    "\n",
    "def location_search(preds_test, y_test , depth):\n",
    "    result = []\n",
    "    # process for each sample\n",
    "    for index in range(preds_test.shape[0]):\n",
    "        sample_distribution = np.array(F.softmax(torch.tensor(preds_test[index]), dim = 1))\n",
    "        sample_preds = np.argmax(sample_distribution, axis=1)\n",
    "        sample_depth = depth_test[index]\n",
    "        sample_y = y_test[index]\n",
    "\n",
    "        mask = (sample_y != 0)\n",
    "        sample_distribution = sample_distribution[mask]\n",
    "        sample_preds = sample_preds[mask]\n",
    "        sample_depth = sample_depth[mask]  \n",
    "        sample_y = sample_y[mask]    \n",
    "        \n",
    "        search_range = 1\n",
    "        while True:\n",
    "            pred_locations = combine(sample_distribution, sample_depth, search_range = search_range)\n",
    "            search_range += 2\n",
    "            if pred_locations is not None:\n",
    "                break\n",
    "        result.append(np.array(pred_locations)) \n",
    "    return result"
   ]
  },
  {
   "cell_type": "code",
   "execution_count": 15,
   "id": "31d61613",
   "metadata": {},
   "outputs": [],
   "source": [
    "# evaluate for one tolerance\n",
    "def evaluate(post_process_result, tops_test, tolerance = 15):\n",
    "    correct = 0\n",
    "    total = 0\n",
    "    for index in range(len(post_process_result)): \n",
    "        pred_locations = post_process_result[index]\n",
    "        true_locations = tops_test[index,:]        \n",
    "        for i in range(3):\n",
    "            marker = true_locations[i]\n",
    "            pred_marker = pred_locations[i]\n",
    "            total += 1\n",
    "            if abs(marker - pred_marker) <= tolerance:\n",
    "                correct += 1\n",
    "                \n",
    "    accuracy = correct / total\n",
    "    print(f'Under tolerance {tolerance}, accuracy: {accuracy}')\n",
    "    return accuracy\n",
    "\n",
    "def evaluate_total(post_process_result, tops_test):\n",
    "    tolerance_list = [5, 10, 15, 20]\n",
    "    for i in range(len(tolerance_list)):\n",
    "        acc = evaluate(post_process_result, tops_test, \n",
    "                       tolerance = tolerance_list[i])\n",
    "    \n",
    "    max_error = 0\n",
    "    sum_ae = 0\n",
    "    count = 0\n",
    "    for index in range(len(post_process_result)): \n",
    "        pred_locations = post_process_result[index]\n",
    "        true_locations = tops_test[index,:]        \n",
    "        for i in range(3):\n",
    "            marker = true_locations[i]\n",
    "            pred_marker = pred_locations[i]\n",
    "            error = abs(marker - pred_marker)\n",
    "            max_error = max(max_error, error)\n",
    "            count += 1\n",
    "            sum_ae += error\n",
    "    print(f'100% accuracy tolerance: {max_error}')\n",
    "    print(f'mean absolute error: {sum_ae / count}')"
   ]
  },
  {
   "cell_type": "code",
   "execution_count": 16,
   "id": "2a53415a",
   "metadata": {},
   "outputs": [],
   "source": [
    "post_process_result = post_process(preds_test, y_test, depth_test)"
   ]
  },
  {
   "cell_type": "code",
   "execution_count": 17,
   "id": "2e73df4d",
   "metadata": {},
   "outputs": [
    {
     "name": "stdout",
     "output_type": "stream",
     "text": [
      "original post process result:\n",
      "Under tolerance 5, accuracy: 0.6866666666666666\n",
      "Under tolerance 10, accuracy: 0.9266666666666666\n",
      "Under tolerance 15, accuracy: 0.9666666666666667\n",
      "Under tolerance 20, accuracy: 0.9866666666666667\n",
      "100% accuracy tolerance: 87.0\n",
      "mean absolute error: 4.8933333333333335\n"
     ]
    }
   ],
   "source": [
    "print('original post process result:')\n",
    "evaluate_total(post_process_result, tops_test)"
   ]
  },
  {
   "cell_type": "code",
   "execution_count": 18,
   "id": "2824dafe",
   "metadata": {},
   "outputs": [
    {
     "data": {
      "image/png": "[encoded data removed]",
      "text/plain": [
       "<Figure size 1500x600 with 2 Axes>"
      ]
     },
     "metadata": {},
     "output_type": "display_data"
    }
   ],
   "source": [
    "index = 20\n",
    "\n",
    "sample_distribution = np.array(F.softmax(torch.tensor(preds_test[index]), dim = 1))\n",
    "sample_preds = np.argmax(sample_distribution, axis=1)\n",
    "sample_y = y_test[index]\n",
    "sample_depth = depth_test[index]\n",
    "sample_x = x_test[index]\n",
    "\n",
    "mask = sample_y != 0\n",
    "sample_distribution = sample_distribution[mask]\n",
    "sample_preds = sample_preds[mask]\n",
    "sample_depth = sample_depth[mask]\n",
    "sample_y = sample_y[mask]\n",
    "sample_x = sample_x[mask]\n",
    "\n",
    "# get prediction locations\n",
    "pred_locations = post_process_result[index]\n",
    "true_locations = tops_test[index,:]\n",
    "\n",
    "# plot\n",
    "plot_prediction(sample_preds, sample_x, sample_depth, sample_distribution,\n",
    "                    pred_locations, true_locations)"
   ]
  },
  {
   "cell_type": "code",
   "execution_count": 19,
   "id": "f1ebc635",
   "metadata": {},
   "outputs": [],
   "source": [
    "location_search_result = location_search(preds_test, y_test, depth_test)"
   ]
  },
  {
   "cell_type": "code",
   "execution_count": 20,
   "id": "154b155d",
   "metadata": {},
   "outputs": [
    {
     "name": "stdout",
     "output_type": "stream",
     "text": [
      "location search result:\n",
      "Under tolerance 5, accuracy: 0.6866666666666666\n",
      "Under tolerance 10, accuracy: 0.9266666666666666\n",
      "Under tolerance 15, accuracy: 0.9666666666666667\n",
      "Under tolerance 20, accuracy: 0.9866666666666667\n",
      "100% accuracy tolerance: 87.0\n",
      "mean absolute error: 4.8933333333333335\n"
     ]
    }
   ],
   "source": [
    "print('location search result:')\n",
    "evaluate_total(location_search_result, tops_test)"
   ]
  },
  {
   "cell_type": "code",
   "execution_count": 21,
   "id": "840ddbc8",
   "metadata": {},
   "outputs": [
    {
     "data": {
      "image/png": "[encoded data removed]",
      "text/plain": [
       "<Figure size 1500x600 with 2 Axes>"
      ]
     },
     "metadata": {},
     "output_type": "display_data"
    }
   ],
   "source": [
    "index = 12\n",
    "\n",
    "sample_distribution = np.array(F.softmax(torch.tensor(preds_test[index]), dim = 1))\n",
    "sample_preds = np.argmax(sample_distribution, axis=1)\n",
    "sample_y = y_test[index]\n",
    "sample_depth = depth_test[index]\n",
    "sample_x = x_test[index]\n",
    "\n",
    "mask = sample_y != 0\n",
    "sample_distribution = sample_distribution[mask]\n",
    "sample_preds = sample_preds[mask]\n",
    "sample_depth = sample_depth[mask]\n",
    "sample_y = sample_y[mask]\n",
    "sample_x = sample_x[mask]\n",
    "\n",
    "# get prediction locations\n",
    "pred_locations = location_search_result[index]\n",
    "true_locations = tops_test[index,:]\n",
    "\n",
    "# plot\n",
    "plot_prediction(sample_preds, sample_x, sample_depth, sample_distribution,\n",
    "                    pred_locations, true_locations)"
   ]
  },
  {
   "cell_type": "markdown",
   "id": "94bfb82d",
   "metadata": {},
   "source": [
    "#### save and re-evaluate the model"
   ]
  },
  {
   "cell_type": "code",
   "execution_count": 22,
   "id": "fc009867",
   "metadata": {},
   "outputs": [
    {
     "data": {
      "text/plain": [
       "\"\\n#save the trained model\\nversion = 'V1_acc_98'\\nmodel_save_folder = 'transformer_model/PatchTST_label4marker'\\nmodel_filename = f'PatchTST_label4marker_{version}.pth'\\nfull_path = os.path.join(model_save_folder, model_filename)\\n\\nif not os.path.exists(model_save_folder):\\n    os.makedirs(model_save_folder)\\n\\ntorch.save(model.state_dict(), full_path)\\n\""
      ]
     },
     "execution_count": 22,
     "metadata": {},
     "output_type": "execute_result"
    }
   ],
   "source": [
    "'''\n",
    "#save the trained model\n",
    "version = 'V1_acc_98'\n",
    "model_save_folder = 'transformer_model/PatchTST_label4marker'\n",
    "model_filename = f'PatchTST_label4marker_{version}.pth'\n",
    "full_path = os.path.join(model_save_folder, model_filename)\n",
    "\n",
    "if not os.path.exists(model_save_folder):\n",
    "    os.makedirs(model_save_folder)\n",
    "\n",
    "torch.save(model.state_dict(), full_path)\n",
    "'''"
   ]
  },
  {
   "cell_type": "code",
   "execution_count": null,
   "id": "237a71a7",
   "metadata": {},
   "outputs": [],
   "source": []
  },
  {
   "cell_type": "code",
   "execution_count": null,
   "id": "bcf8892c",
   "metadata": {},
   "outputs": [],
   "source": []
  },
  {
   "cell_type": "code",
   "execution_count": null,
   "id": "104915fa",
   "metadata": {},
   "outputs": [],
   "source": []
  }
 ],
 "metadata": {
  "kernelspec": {
   "display_name": "Python 3 (ipykernel)",
   "language": "python",
   "name": "python3"
  },
  "language_info": {
   "codemirror_mode": {
    "name": "ipython",
    "version": 3
   },
   "file_extension": ".py",
   "mimetype": "text/x-python",
   "name": "python",
   "nbconvert_exporter": "python",
   "pygments_lexer": "ipython3",
   "version": "3.9.18"
  }
 },
 "nbformat": 4,
 "nbformat_minor": 5
}
