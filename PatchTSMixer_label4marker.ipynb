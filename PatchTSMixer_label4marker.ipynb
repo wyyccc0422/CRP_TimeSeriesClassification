{
 "cells": [
  {
   "cell_type": "code",
   "execution_count": 1,
   "id": "2992f474",
   "metadata": {},
   "outputs": [
    {
     "name": "stderr",
     "output_type": "stream",
     "text": [
      "D:\\Anaconda_3\\envs\\GPU-pytorch\\lib\\site-packages\\tqdm\\auto.py:21: TqdmWarning: IProgress not found. Please update jupyter and ipywidgets. See https://ipywidgets.readthedocs.io/en/stable/user_install.html\n",
      "  from .autonotebook import tqdm as notebook_tqdm\n"
     ]
    }
   ],
   "source": [
    "import numpy as np\n",
    "import pandas as pd\n",
    "import matplotlib.pyplot as plt\n",
    "import statistics\n",
    "import os\n",
    "import random\n",
    "from tqdm import tqdm\n",
    "import math\n",
    "import time\n",
    "\n",
    "import torch\n",
    "import torch.nn as nn\n",
    "import torch.optim as optim\n",
    "import torch.nn.functional as F\n",
    "from torch.nn import Identity\n",
    "from transformers import PatchTSMixerConfig, PatchTSMixerForTimeSeriesClassification\n",
    "from torch.utils.data import Dataset, DataLoader\n",
    "from torch.optim import AdamW\n",
    "from sklearn.model_selection import train_test_split\n",
    "from torch.optim.lr_scheduler import StepLR"
   ]
  },
  {
   "cell_type": "code",
   "execution_count": 2,
   "id": "bbdf7a37",
   "metadata": {},
   "outputs": [
    {
     "name": "stdout",
     "output_type": "stream",
     "text": [
      "Using device: cuda\n"
     ]
    }
   ],
   "source": [
    "device = 'cuda' if torch.cuda.is_available() else 'cpu'\n",
    "print('Using device:', device)"
   ]
  },
  {
   "cell_type": "code",
   "execution_count": 3,
   "id": "46308947",
   "metadata": {},
   "outputs": [],
   "source": [
    "def set_seed(seed=42):\n",
    "    \"\"\"Set seed for reproducibility.\"\"\"\n",
    "    random.seed(seed)\n",
    "    np.random.seed(seed)\n",
    "    torch.manual_seed(seed)\n",
    "    torch.cuda.manual_seed_all(seed)\n",
    "\n",
    "    torch.backends.cudnn.deterministic = True\n",
    "    torch.backends.cudnn.benchmark = False\n",
    "    \n",
    "set_seed(42)"
   ]
  },
  {
   "cell_type": "markdown",
   "id": "195f2d23",
   "metadata": {},
   "source": [
    "#### import training and testing data"
   ]
  },
  {
   "cell_type": "code",
   "execution_count": 4,
   "id": "5d97463f",
   "metadata": {},
   "outputs": [],
   "source": [
    "ws = 10\n",
    "file_train_samples = f'PatchTST_dataset/train_samples_signature_label4marker_6000_7000_ws{ws}.npy'\n",
    "file_train_tops = f'PatchTST_dataset/train_tops_signature_label4marker_6000_7000_ws{ws}.npy'\n",
    "file_test_samples = f'PatchTST_dataset/test_samples_label4marker_6000_7000_ws{ws}_100.npy'\n",
    "file_test_tops = f'PatchTST_dataset/test_tops_label4marker_6000_7000_ws{ws}_100.npy'"
   ]
  },
  {
   "cell_type": "code",
   "execution_count": 5,
   "id": "5ffbb853",
   "metadata": {},
   "outputs": [
    {
     "name": "stdout",
     "output_type": "stream",
     "text": [
      "(321, 2000, 3)\n",
      "(100, 2000, 3)\n",
      "(321, 3)\n",
      "(100, 3)\n"
     ]
    }
   ],
   "source": [
    "samples_train = np.load(file_train_samples)\n",
    "tops_train = np.load(file_train_tops)\n",
    "samples_test = np.load(file_test_samples)\n",
    "tops_test = np.load(file_test_tops)\n",
    "print(samples_train.shape)\n",
    "print(samples_test.shape)\n",
    "print(tops_train.shape)\n",
    "print(tops_test.shape)"
   ]
  },
  {
   "cell_type": "markdown",
   "id": "b2a005b5",
   "metadata": {},
   "source": [
    "#### prepare dataset and dataloader"
   ]
  },
  {
   "cell_type": "code",
   "execution_count": 6,
   "id": "8a89a41e",
   "metadata": {},
   "outputs": [
    {
     "name": "stdout",
     "output_type": "stream",
     "text": [
      "-1.919395492846298\n"
     ]
    }
   ],
   "source": [
    "#### calculate mean and std for train set\n",
    "def mean_std(samples):\n",
    "    gr_values = samples[:,:,1].copy()\n",
    "    mean = np.mean(gr_values)\n",
    "    std = np.std(gr_values)\n",
    "    return mean, std\n",
    "\n",
    "def normalize(samples):\n",
    "    gr_values = samples[:,:,1].copy()\n",
    "    normalized_gr_values = (gr_values - train_mean) / train_std\n",
    "    samples[:, :, 1] = normalized_gr_values\n",
    "    return samples\n",
    "\n",
    "train_mean, train_std = mean_std(samples_train)\n",
    "input_pad_value = (0 - train_mean) / train_std\n",
    "print(input_pad_value)"
   ]
  },
  {
   "cell_type": "code",
   "execution_count": 7,
   "id": "9f2429eb",
   "metadata": {},
   "outputs": [],
   "source": [
    "class TSTDataset(Dataset):\n",
    "    def __init__(self, samples, tops):\n",
    "        super(TSTDataset, self).__init__()\n",
    "        self.samples = samples\n",
    "        #self.names = tops.index()\n",
    "        \n",
    "        self.samples = normalize(self.samples)\n",
    "    \n",
    "    def __len__(self):\n",
    "        return self.samples.shape[0]  \n",
    "    \n",
    "    def __getitem__(self, idx):\n",
    "        depth = self.samples[idx, :, 0]\n",
    "        x = torch.tensor(self.samples[idx, :, 1])\n",
    "        y = torch.tensor(self.samples[idx, :, 2])\n",
    "        #name = self.names[idx]\n",
    "        \n",
    "        return depth, x, y"
   ]
  },
  {
   "cell_type": "code",
   "execution_count": 8,
   "id": "4b9d7626",
   "metadata": {},
   "outputs": [],
   "source": [
    "batch_size = 2\n",
    "train_dataset = TSTDataset(samples_train, tops_train)\n",
    "test_dataset = TSTDataset(samples_test, tops_test)\n",
    "\n",
    "train_dataloader = DataLoader(train_dataset, batch_size = batch_size, shuffle=True)\n",
    "test_dataloader = DataLoader(test_dataset, batch_size = batch_size, shuffle=False)    "
   ]
  },
  {
   "cell_type": "code",
   "execution_count": 9,
   "id": "c4fdc3d8",
   "metadata": {},
   "outputs": [],
   "source": [
    "# build the patchTST for classification\n",
    "num_input_channels = 1\n",
    "patch_length = 128\n",
    "patch_stride = 1\n",
    "num_layers = 5\n",
    "d_model = 256\n",
    "num_classes = 5\n",
    "expansion_factor = 5\n",
    "self_attn = False\n",
    "self_attn_heads = 2\n",
    "use_positional_encoding = True\n",
    "# padding to match output length\n",
    "desired_length = patch_length - 2\n",
    "padding_needed = max(0, desired_length) + 1\n",
    "context_length = samples_train.shape[1] + padding_needed\n",
    "\n",
    "config = PatchTSMixerConfig(\n",
    "    num_input_channels=num_input_channels,\n",
    "    num_targets=num_classes,\n",
    "    context_length=context_length,\n",
    "    patch_length=patch_length,\n",
    "    patch_stride=patch_stride,\n",
    "    expansion_factor = expansion_factor,\n",
    "    num_layers=num_layers,\n",
    "    self_attn=self_attn,\n",
    "    self_attn_heads=self_attn_heads,\n",
    "    use_positional_encoding=use_positional_encoding,\n",
    "    d_model=d_model\n",
    ")\n",
    "model = PatchTSMixerForTimeSeriesClassification(config=config).to(device)\n",
    "\n",
    "# modify the last (head) layer\n",
    "original_head = model.head\n",
    "\n",
    "class Lambda(nn.Module):\n",
    "    def __init__(self, func):\n",
    "        super(Lambda, self).__init__()\n",
    "        self.func = func\n",
    "\n",
    "    def forward(self, x):\n",
    "        return self.func(x)\n",
    "    \n",
    "model.head = nn.Sequential(\n",
    "    nn.Linear(in_features=d_model, out_features=num_classes),  \n",
    "    Lambda(lambda x: x.squeeze(1))  \n",
    ").to(device)"
   ]
  },
  {
   "cell_type": "markdown",
   "id": "88b5ff7d",
   "metadata": {},
   "source": [
    "#### train and validate the model"
   ]
  },
  {
   "cell_type": "code",
   "execution_count": 10,
   "id": "a1037386",
   "metadata": {},
   "outputs": [],
   "source": [
    "#set optimizer\n",
    "learning_rate = 1e-5\n",
    "adam_epsilon = 1e-8\n",
    "num_epochs = 20\n",
    "optimizer = optim.AdamW(model.parameters(), lr=learning_rate, eps=adam_epsilon)\n",
    "# Create the scheduler\n",
    "scheduler = StepLR(optimizer, step_size=20, gamma=0.1)\n",
    "\n",
    "#set weight for loss function (class_0 is for padding)\n",
    "class_weights = torch.tensor([0., 0.5 , 1., 1., 1.], dtype=torch.float) \n",
    "if torch.cuda.is_available():\n",
    "    class_weights = class_weights.cuda()\n",
    "    \n",
    "criterion = nn.CrossEntropyLoss(weight=class_weights, \n",
    "                                ignore_index=0, \n",
    "                               label_smoothing=0.0)"
   ]
  },
  {
   "cell_type": "code",
   "execution_count": 11,
   "id": "ee1f3c60",
   "metadata": {},
   "outputs": [
    {
     "name": "stderr",
     "output_type": "stream",
     "text": [
      "  1%|          | 2/161 [00:03<03:33,  1.34s/it]"
     ]
    },
    {
     "name": "stdout",
     "output_type": "stream",
     "text": [
      "Train (epoch 1/20) [0/161 (0%)]\tLoss: 1.619084\n"
     ]
    },
    {
     "name": "stderr",
     "output_type": "stream",
     "text": [
      " 17%|█▋        | 27/161 [00:07<00:21,  6.31it/s]"
     ]
    },
    {
     "name": "stdout",
     "output_type": "stream",
     "text": [
      "Train (epoch 1/20) [25/161 (16%)]\tLoss: 1.475980\n"
     ]
    },
    {
     "name": "stderr",
     "output_type": "stream",
     "text": [
      " 32%|███▏      | 52/161 [00:11<00:18,  5.77it/s]"
     ]
    },
    {
     "name": "stdout",
     "output_type": "stream",
     "text": [
      "Train (epoch 1/20) [50/161 (31%)]\tLoss: 1.217787\n"
     ]
    },
    {
     "name": "stderr",
     "output_type": "stream",
     "text": [
      " 48%|████▊     | 77/161 [00:15<00:15,  5.50it/s]"
     ]
    },
    {
     "name": "stdout",
     "output_type": "stream",
     "text": [
      "Train (epoch 1/20) [75/161 (47%)]\tLoss: 1.253724\n"
     ]
    },
    {
     "name": "stderr",
     "output_type": "stream",
     "text": [
      " 63%|██████▎   | 102/161 [00:20<00:10,  5.39it/s]"
     ]
    },
    {
     "name": "stdout",
     "output_type": "stream",
     "text": [
      "Train (epoch 1/20) [100/161 (62%)]\tLoss: 1.161526\n"
     ]
    },
    {
     "name": "stderr",
     "output_type": "stream",
     "text": [
      " 79%|███████▉  | 127/161 [00:25<00:06,  5.13it/s]"
     ]
    },
    {
     "name": "stdout",
     "output_type": "stream",
     "text": [
      "Train (epoch 1/20) [125/161 (78%)]\tLoss: 1.139655\n"
     ]
    },
    {
     "name": "stderr",
     "output_type": "stream",
     "text": [
      " 94%|█████████▍| 151/161 [00:29<00:01,  5.22it/s]"
     ]
    },
    {
     "name": "stdout",
     "output_type": "stream",
     "text": [
      "Train (epoch 1/20) [150/161 (93%)]\tLoss: 1.235484\n"
     ]
    },
    {
     "name": "stderr",
     "output_type": "stream",
     "text": [
      "100%|██████████| 161/161 [00:31<00:00,  5.07it/s]\n",
      "100%|██████████| 50/50 [00:02<00:00, 20.73it/s]\n"
     ]
    },
    {
     "name": "stdout",
     "output_type": "stream",
     "text": [
      "TRAIN_LOSS:  1.326\n",
      "TEST_LOSS:  1.123\n",
      "---------------------------------------------\n"
     ]
    },
    {
     "name": "stderr",
     "output_type": "stream",
     "text": [
      "  1%|          | 1/161 [00:00<00:32,  4.89it/s]"
     ]
    },
    {
     "name": "stdout",
     "output_type": "stream",
     "text": [
      "Train (epoch 2/20) [0/161 (0%)]\tLoss: 1.041296\n"
     ]
    },
    {
     "name": "stderr",
     "output_type": "stream",
     "text": [
      " 16%|█▌        | 26/161 [00:05<00:27,  4.93it/s]"
     ]
    },
    {
     "name": "stdout",
     "output_type": "stream",
     "text": [
      "Train (epoch 2/20) [25/161 (16%)]\tLoss: 0.992549\n"
     ]
    },
    {
     "name": "stderr",
     "output_type": "stream",
     "text": [
      " 32%|███▏      | 52/161 [00:10<00:22,  4.91it/s]"
     ]
    },
    {
     "name": "stdout",
     "output_type": "stream",
     "text": [
      "Train (epoch 2/20) [50/161 (31%)]\tLoss: 0.997568\n"
     ]
    },
    {
     "name": "stderr",
     "output_type": "stream",
     "text": [
      " 47%|████▋     | 76/161 [00:15<00:17,  4.87it/s]"
     ]
    },
    {
     "name": "stdout",
     "output_type": "stream",
     "text": [
      "Train (epoch 2/20) [75/161 (47%)]\tLoss: 0.699195\n"
     ]
    },
    {
     "name": "stderr",
     "output_type": "stream",
     "text": [
      " 63%|██████▎   | 101/161 [00:20<00:12,  4.91it/s]"
     ]
    },
    {
     "name": "stdout",
     "output_type": "stream",
     "text": [
      "Train (epoch 2/20) [100/161 (62%)]\tLoss: 0.730267\n"
     ]
    },
    {
     "name": "stderr",
     "output_type": "stream",
     "text": [
      " 78%|███████▊  | 126/161 [00:25<00:07,  4.88it/s]"
     ]
    },
    {
     "name": "stdout",
     "output_type": "stream",
     "text": [
      "Train (epoch 2/20) [125/161 (78%)]\tLoss: 0.523381\n"
     ]
    },
    {
     "name": "stderr",
     "output_type": "stream",
     "text": [
      " 94%|█████████▍| 151/161 [00:30<00:02,  4.79it/s]"
     ]
    },
    {
     "name": "stdout",
     "output_type": "stream",
     "text": [
      "Train (epoch 2/20) [150/161 (93%)]\tLoss: 0.387003\n"
     ]
    },
    {
     "name": "stderr",
     "output_type": "stream",
     "text": [
      "100%|██████████| 161/161 [00:32<00:00,  4.96it/s]\n",
      "100%|██████████| 50/50 [00:02<00:00, 20.67it/s]\n"
     ]
    },
    {
     "name": "stdout",
     "output_type": "stream",
     "text": [
      "TRAIN_LOSS:  0.760\n",
      "TEST_LOSS:  0.348\n",
      "---------------------------------------------\n"
     ]
    },
    {
     "name": "stderr",
     "output_type": "stream",
     "text": [
      "  1%|          | 1/161 [00:00<00:32,  4.88it/s]"
     ]
    },
    {
     "name": "stdout",
     "output_type": "stream",
     "text": [
      "Train (epoch 3/20) [0/161 (0%)]\tLoss: 0.378815\n"
     ]
    },
    {
     "name": "stderr",
     "output_type": "stream",
     "text": [
      " 16%|█▌        | 26/161 [00:05<00:27,  4.93it/s]"
     ]
    },
    {
     "name": "stdout",
     "output_type": "stream",
     "text": [
      "Train (epoch 3/20) [25/161 (16%)]\tLoss: 0.325663\n"
     ]
    },
    {
     "name": "stderr",
     "output_type": "stream",
     "text": [
      " 32%|███▏      | 51/161 [00:10<00:22,  4.91it/s]"
     ]
    },
    {
     "name": "stdout",
     "output_type": "stream",
     "text": [
      "Train (epoch 3/20) [50/161 (31%)]\tLoss: 0.281789\n"
     ]
    },
    {
     "name": "stderr",
     "output_type": "stream",
     "text": [
      " 47%|████▋     | 76/161 [00:15<00:17,  4.87it/s]"
     ]
    },
    {
     "name": "stdout",
     "output_type": "stream",
     "text": [
      "Train (epoch 3/20) [75/161 (47%)]\tLoss: 0.280421\n"
     ]
    },
    {
     "name": "stderr",
     "output_type": "stream",
     "text": [
      " 63%|██████▎   | 101/161 [00:20<00:12,  4.90it/s]"
     ]
    },
    {
     "name": "stdout",
     "output_type": "stream",
     "text": [
      "Train (epoch 3/20) [100/161 (62%)]\tLoss: 0.303849\n"
     ]
    },
    {
     "name": "stderr",
     "output_type": "stream",
     "text": [
      " 78%|███████▊  | 126/161 [00:25<00:07,  4.91it/s]"
     ]
    },
    {
     "name": "stdout",
     "output_type": "stream",
     "text": [
      "Train (epoch 3/20) [125/161 (78%)]\tLoss: 0.327836\n"
     ]
    },
    {
     "name": "stderr",
     "output_type": "stream",
     "text": [
      " 94%|█████████▍| 151/161 [00:30<00:02,  4.88it/s]"
     ]
    },
    {
     "name": "stdout",
     "output_type": "stream",
     "text": [
      "Train (epoch 3/20) [150/161 (93%)]\tLoss: 0.271478\n"
     ]
    },
    {
     "name": "stderr",
     "output_type": "stream",
     "text": [
      "100%|██████████| 161/161 [00:32<00:00,  4.94it/s]\n",
      "100%|██████████| 50/50 [00:02<00:00, 19.90it/s]\n"
     ]
    },
    {
     "name": "stdout",
     "output_type": "stream",
     "text": [
      "TRAIN_LOSS:  0.295\n",
      "TEST_LOSS:  0.224\n",
      "---------------------------------------------\n"
     ]
    },
    {
     "name": "stderr",
     "output_type": "stream",
     "text": [
      "  1%|          | 1/161 [00:00<00:33,  4.82it/s]"
     ]
    },
    {
     "name": "stdout",
     "output_type": "stream",
     "text": [
      "Train (epoch 4/20) [0/161 (0%)]\tLoss: 0.255071\n"
     ]
    },
    {
     "name": "stderr",
     "output_type": "stream",
     "text": [
      " 16%|█▌        | 26/161 [00:05<00:27,  4.84it/s]"
     ]
    },
    {
     "name": "stdout",
     "output_type": "stream",
     "text": [
      "Train (epoch 4/20) [25/161 (16%)]\tLoss: 0.235318\n"
     ]
    },
    {
     "name": "stderr",
     "output_type": "stream",
     "text": [
      " 32%|███▏      | 51/161 [00:10<00:22,  4.90it/s]"
     ]
    },
    {
     "name": "stdout",
     "output_type": "stream",
     "text": [
      "Train (epoch 4/20) [50/161 (31%)]\tLoss: 0.217636\n"
     ]
    },
    {
     "name": "stderr",
     "output_type": "stream",
     "text": [
      " 47%|████▋     | 76/161 [00:15<00:18,  4.67it/s]"
     ]
    },
    {
     "name": "stdout",
     "output_type": "stream",
     "text": [
      "Train (epoch 4/20) [75/161 (47%)]\tLoss: 0.205824\n"
     ]
    },
    {
     "name": "stderr",
     "output_type": "stream",
     "text": [
      " 63%|██████▎   | 101/161 [00:21<00:12,  4.66it/s]"
     ]
    },
    {
     "name": "stdout",
     "output_type": "stream",
     "text": [
      "Train (epoch 4/20) [100/161 (62%)]\tLoss: 0.232654\n"
     ]
    },
    {
     "name": "stderr",
     "output_type": "stream",
     "text": [
      " 78%|███████▊  | 126/161 [00:26<00:07,  4.61it/s]"
     ]
    },
    {
     "name": "stdout",
     "output_type": "stream",
     "text": [
      "Train (epoch 4/20) [125/161 (78%)]\tLoss: 0.239888\n"
     ]
    },
    {
     "name": "stderr",
     "output_type": "stream",
     "text": [
      " 94%|█████████▍| 151/161 [00:31<00:02,  4.64it/s]"
     ]
    },
    {
     "name": "stdout",
     "output_type": "stream",
     "text": [
      "Train (epoch 4/20) [150/161 (93%)]\tLoss: 0.245175\n"
     ]
    },
    {
     "name": "stderr",
     "output_type": "stream",
     "text": [
      "100%|██████████| 161/161 [00:34<00:00,  4.73it/s]\n",
      "100%|██████████| 50/50 [00:02<00:00, 18.14it/s]\n"
     ]
    },
    {
     "name": "stdout",
     "output_type": "stream",
     "text": [
      "TRAIN_LOSS:  0.238\n",
      "TEST_LOSS:  0.184\n",
      "---------------------------------------------\n"
     ]
    },
    {
     "name": "stderr",
     "output_type": "stream",
     "text": [
      "  1%|          | 1/161 [00:00<00:34,  4.60it/s]"
     ]
    },
    {
     "name": "stdout",
     "output_type": "stream",
     "text": [
      "Train (epoch 5/20) [0/161 (0%)]\tLoss: 0.264141\n"
     ]
    },
    {
     "name": "stderr",
     "output_type": "stream",
     "text": [
      " 16%|█▌        | 26/161 [00:05<00:28,  4.67it/s]"
     ]
    },
    {
     "name": "stdout",
     "output_type": "stream",
     "text": [
      "Train (epoch 5/20) [25/161 (16%)]\tLoss: 0.181950\n"
     ]
    },
    {
     "name": "stderr",
     "output_type": "stream",
     "text": [
      " 32%|███▏      | 51/161 [00:10<00:23,  4.75it/s]"
     ]
    },
    {
     "name": "stdout",
     "output_type": "stream",
     "text": [
      "Train (epoch 5/20) [50/161 (31%)]\tLoss: 0.206261\n"
     ]
    },
    {
     "name": "stderr",
     "output_type": "stream",
     "text": [
      " 47%|████▋     | 76/161 [00:16<00:18,  4.67it/s]"
     ]
    },
    {
     "name": "stdout",
     "output_type": "stream",
     "text": [
      "Train (epoch 5/20) [75/161 (47%)]\tLoss: 0.201652\n"
     ]
    },
    {
     "name": "stderr",
     "output_type": "stream",
     "text": [
      " 63%|██████▎   | 101/161 [00:22<00:13,  4.40it/s]"
     ]
    },
    {
     "name": "stdout",
     "output_type": "stream",
     "text": [
      "Train (epoch 5/20) [100/161 (62%)]\tLoss: 0.171803\n"
     ]
    },
    {
     "name": "stderr",
     "output_type": "stream",
     "text": [
      " 78%|███████▊  | 126/161 [00:27<00:07,  4.41it/s]"
     ]
    },
    {
     "name": "stdout",
     "output_type": "stream",
     "text": [
      "Train (epoch 5/20) [125/161 (78%)]\tLoss: 0.234760\n"
     ]
    },
    {
     "name": "stderr",
     "output_type": "stream",
     "text": [
      " 94%|█████████▍| 151/161 [00:33<00:02,  4.45it/s]"
     ]
    },
    {
     "name": "stdout",
     "output_type": "stream",
     "text": [
      "Train (epoch 5/20) [150/161 (93%)]\tLoss: 0.158037\n"
     ]
    },
    {
     "name": "stderr",
     "output_type": "stream",
     "text": [
      "100%|██████████| 161/161 [00:35<00:00,  4.53it/s]\n",
      "100%|██████████| 50/50 [00:02<00:00, 16.86it/s]\n"
     ]
    },
    {
     "name": "stdout",
     "output_type": "stream",
     "text": [
      "TRAIN_LOSS:  0.202\n",
      "TEST_LOSS:  0.157\n",
      "---------------------------------------------\n"
     ]
    },
    {
     "name": "stderr",
     "output_type": "stream",
     "text": [
      "  1%|          | 1/161 [00:00<00:36,  4.41it/s]"
     ]
    },
    {
     "name": "stdout",
     "output_type": "stream",
     "text": [
      "Train (epoch 6/20) [0/161 (0%)]\tLoss: 0.171487\n"
     ]
    },
    {
     "name": "stderr",
     "output_type": "stream",
     "text": [
      " 16%|█▌        | 26/161 [00:05<00:30,  4.45it/s]"
     ]
    },
    {
     "name": "stdout",
     "output_type": "stream",
     "text": [
      "Train (epoch 6/20) [25/161 (16%)]\tLoss: 0.202528\n"
     ]
    },
    {
     "name": "stderr",
     "output_type": "stream",
     "text": [
      " 32%|███▏      | 51/161 [00:11<00:24,  4.46it/s]"
     ]
    },
    {
     "name": "stdout",
     "output_type": "stream",
     "text": [
      "Train (epoch 6/20) [50/161 (31%)]\tLoss: 0.275066\n"
     ]
    },
    {
     "name": "stderr",
     "output_type": "stream",
     "text": [
      " 47%|████▋     | 76/161 [00:17<00:19,  4.45it/s]"
     ]
    },
    {
     "name": "stdout",
     "output_type": "stream",
     "text": [
      "Train (epoch 6/20) [75/161 (47%)]\tLoss: 0.173901\n"
     ]
    },
    {
     "name": "stderr",
     "output_type": "stream",
     "text": [
      " 63%|██████▎   | 101/161 [00:22<00:13,  4.44it/s]"
     ]
    },
    {
     "name": "stdout",
     "output_type": "stream",
     "text": [
      "Train (epoch 6/20) [100/161 (62%)]\tLoss: 0.202521\n"
     ]
    },
    {
     "name": "stderr",
     "output_type": "stream",
     "text": [
      " 78%|███████▊  | 126/161 [00:28<00:07,  4.77it/s]"
     ]
    },
    {
     "name": "stdout",
     "output_type": "stream",
     "text": [
      "Train (epoch 6/20) [125/161 (78%)]\tLoss: 0.175513\n"
     ]
    },
    {
     "name": "stderr",
     "output_type": "stream",
     "text": [
      " 94%|█████████▍| 151/161 [00:33<00:02,  4.46it/s]"
     ]
    },
    {
     "name": "stdout",
     "output_type": "stream",
     "text": [
      "Train (epoch 6/20) [150/161 (93%)]\tLoss: 0.180394\n"
     ]
    },
    {
     "name": "stderr",
     "output_type": "stream",
     "text": [
      "100%|██████████| 161/161 [00:35<00:00,  4.54it/s]\n",
      "100%|██████████| 50/50 [00:03<00:00, 16.44it/s]\n"
     ]
    },
    {
     "name": "stdout",
     "output_type": "stream",
     "text": [
      "TRAIN_LOSS:  0.177\n",
      "TEST_LOSS:  0.140\n",
      "---------------------------------------------\n"
     ]
    },
    {
     "name": "stderr",
     "output_type": "stream",
     "text": [
      "  1%|          | 1/161 [00:00<00:36,  4.33it/s]"
     ]
    },
    {
     "name": "stdout",
     "output_type": "stream",
     "text": [
      "Train (epoch 7/20) [0/161 (0%)]\tLoss: 0.166159\n"
     ]
    },
    {
     "name": "stderr",
     "output_type": "stream",
     "text": [
      " 16%|█▌        | 26/161 [00:05<00:30,  4.38it/s]"
     ]
    },
    {
     "name": "stdout",
     "output_type": "stream",
     "text": [
      "Train (epoch 7/20) [25/161 (16%)]\tLoss: 0.200981\n"
     ]
    },
    {
     "name": "stderr",
     "output_type": "stream",
     "text": [
      " 32%|███▏      | 51/161 [00:11<00:25,  4.36it/s]"
     ]
    },
    {
     "name": "stdout",
     "output_type": "stream",
     "text": [
      "Train (epoch 7/20) [50/161 (31%)]\tLoss: 0.198516\n"
     ]
    },
    {
     "name": "stderr",
     "output_type": "stream",
     "text": [
      " 47%|████▋     | 76/161 [00:17<00:19,  4.42it/s]"
     ]
    },
    {
     "name": "stdout",
     "output_type": "stream",
     "text": [
      "Train (epoch 7/20) [75/161 (47%)]\tLoss: 0.203706\n"
     ]
    },
    {
     "name": "stderr",
     "output_type": "stream",
     "text": [
      " 63%|██████▎   | 101/161 [00:22<00:13,  4.40it/s]"
     ]
    },
    {
     "name": "stdout",
     "output_type": "stream",
     "text": [
      "Train (epoch 7/20) [100/161 (62%)]\tLoss: 0.203410\n"
     ]
    },
    {
     "name": "stderr",
     "output_type": "stream",
     "text": [
      " 78%|███████▊  | 126/161 [00:28<00:08,  4.37it/s]"
     ]
    },
    {
     "name": "stdout",
     "output_type": "stream",
     "text": [
      "Train (epoch 7/20) [125/161 (78%)]\tLoss: 0.125547\n"
     ]
    },
    {
     "name": "stderr",
     "output_type": "stream",
     "text": [
      " 94%|█████████▍| 151/161 [00:34<00:02,  4.38it/s]"
     ]
    },
    {
     "name": "stdout",
     "output_type": "stream",
     "text": [
      "Train (epoch 7/20) [150/161 (93%)]\tLoss: 0.124557\n"
     ]
    },
    {
     "name": "stderr",
     "output_type": "stream",
     "text": [
      "100%|██████████| 161/161 [00:36<00:00,  4.42it/s]\n",
      "100%|██████████| 50/50 [00:02<00:00, 18.18it/s]\n"
     ]
    },
    {
     "name": "stdout",
     "output_type": "stream",
     "text": [
      "TRAIN_LOSS:  0.160\n",
      "TEST_LOSS:  0.126\n",
      "---------------------------------------------\n"
     ]
    },
    {
     "name": "stderr",
     "output_type": "stream",
     "text": [
      "  1%|          | 1/161 [00:00<00:37,  4.27it/s]"
     ]
    },
    {
     "name": "stdout",
     "output_type": "stream",
     "text": [
      "Train (epoch 8/20) [0/161 (0%)]\tLoss: 0.143534\n"
     ]
    },
    {
     "name": "stderr",
     "output_type": "stream",
     "text": [
      " 16%|█▌        | 26/161 [00:05<00:30,  4.36it/s]"
     ]
    },
    {
     "name": "stdout",
     "output_type": "stream",
     "text": [
      "Train (epoch 8/20) [25/161 (16%)]\tLoss: 0.102531\n"
     ]
    },
    {
     "name": "stderr",
     "output_type": "stream",
     "text": [
      " 32%|███▏      | 51/161 [00:11<00:25,  4.38it/s]"
     ]
    },
    {
     "name": "stdout",
     "output_type": "stream",
     "text": [
      "Train (epoch 8/20) [50/161 (31%)]\tLoss: 0.179159\n"
     ]
    },
    {
     "name": "stderr",
     "output_type": "stream",
     "text": [
      " 47%|████▋     | 76/161 [00:17<00:19,  4.39it/s]"
     ]
    },
    {
     "name": "stdout",
     "output_type": "stream",
     "text": [
      "Train (epoch 8/20) [75/161 (47%)]\tLoss: 0.145818\n"
     ]
    },
    {
     "name": "stderr",
     "output_type": "stream",
     "text": [
      " 63%|██████▎   | 101/161 [00:23<00:13,  4.45it/s]"
     ]
    },
    {
     "name": "stdout",
     "output_type": "stream",
     "text": [
      "Train (epoch 8/20) [100/161 (62%)]\tLoss: 0.130413\n"
     ]
    },
    {
     "name": "stderr",
     "output_type": "stream",
     "text": [
      " 78%|███████▊  | 126/161 [00:28<00:07,  4.77it/s]"
     ]
    },
    {
     "name": "stdout",
     "output_type": "stream",
     "text": [
      "Train (epoch 8/20) [125/161 (78%)]\tLoss: 0.164796\n"
     ]
    },
    {
     "name": "stderr",
     "output_type": "stream",
     "text": [
      " 94%|█████████▍| 151/161 [00:34<00:02,  4.32it/s]"
     ]
    },
    {
     "name": "stdout",
     "output_type": "stream",
     "text": [
      "Train (epoch 8/20) [150/161 (93%)]\tLoss: 0.179264\n"
     ]
    },
    {
     "name": "stderr",
     "output_type": "stream",
     "text": [
      "100%|██████████| 161/161 [00:36<00:00,  4.44it/s]\n",
      "100%|██████████| 50/50 [00:03<00:00, 16.23it/s]\n"
     ]
    },
    {
     "name": "stdout",
     "output_type": "stream",
     "text": [
      "TRAIN_LOSS:  0.148\n",
      "TEST_LOSS:  0.120\n",
      "---------------------------------------------\n"
     ]
    },
    {
     "name": "stderr",
     "output_type": "stream",
     "text": [
      "  1%|          | 1/161 [00:00<00:37,  4.29it/s]"
     ]
    },
    {
     "name": "stdout",
     "output_type": "stream",
     "text": [
      "Train (epoch 9/20) [0/161 (0%)]\tLoss: 0.122511\n"
     ]
    },
    {
     "name": "stderr",
     "output_type": "stream",
     "text": [
      " 16%|█▌        | 26/161 [00:05<00:29,  4.64it/s]"
     ]
    },
    {
     "name": "stdout",
     "output_type": "stream",
     "text": [
      "Train (epoch 9/20) [25/161 (16%)]\tLoss: 0.131804\n"
     ]
    },
    {
     "name": "stderr",
     "output_type": "stream",
     "text": [
      " 32%|███▏      | 51/161 [00:11<00:22,  4.83it/s]"
     ]
    },
    {
     "name": "stdout",
     "output_type": "stream",
     "text": [
      "Train (epoch 9/20) [50/161 (31%)]\tLoss: 0.135704\n"
     ]
    },
    {
     "name": "stderr",
     "output_type": "stream",
     "text": [
      " 47%|████▋     | 76/161 [00:17<00:19,  4.27it/s]"
     ]
    },
    {
     "name": "stdout",
     "output_type": "stream",
     "text": [
      "Train (epoch 9/20) [75/161 (47%)]\tLoss: 0.102116\n"
     ]
    },
    {
     "name": "stderr",
     "output_type": "stream",
     "text": [
      " 63%|██████▎   | 101/161 [00:23<00:13,  4.32it/s]"
     ]
    },
    {
     "name": "stdout",
     "output_type": "stream",
     "text": [
      "Train (epoch 9/20) [100/161 (62%)]\tLoss: 0.179923\n"
     ]
    },
    {
     "name": "stderr",
     "output_type": "stream",
     "text": [
      " 78%|███████▊  | 126/161 [00:28<00:08,  4.31it/s]"
     ]
    },
    {
     "name": "stdout",
     "output_type": "stream",
     "text": [
      "Train (epoch 9/20) [125/161 (78%)]\tLoss: 0.112781\n"
     ]
    },
    {
     "name": "stderr",
     "output_type": "stream",
     "text": [
      " 94%|█████████▍| 151/161 [00:34<00:02,  4.36it/s]"
     ]
    },
    {
     "name": "stdout",
     "output_type": "stream",
     "text": [
      "Train (epoch 9/20) [150/161 (93%)]\tLoss: 0.087387\n"
     ]
    },
    {
     "name": "stderr",
     "output_type": "stream",
     "text": [
      "100%|██████████| 161/161 [00:37<00:00,  4.35it/s]\n",
      "100%|██████████| 50/50 [00:03<00:00, 15.93it/s]\n"
     ]
    },
    {
     "name": "stdout",
     "output_type": "stream",
     "text": [
      "TRAIN_LOSS:  0.138\n",
      "TEST_LOSS:  0.114\n",
      "---------------------------------------------\n"
     ]
    },
    {
     "name": "stderr",
     "output_type": "stream",
     "text": [
      "  1%|          | 1/161 [00:00<00:37,  4.23it/s]"
     ]
    },
    {
     "name": "stdout",
     "output_type": "stream",
     "text": [
      "Train (epoch 10/20) [0/161 (0%)]\tLoss: 0.142106\n"
     ]
    },
    {
     "name": "stderr",
     "output_type": "stream",
     "text": [
      " 16%|█▌        | 26/161 [00:06<00:31,  4.29it/s]"
     ]
    },
    {
     "name": "stdout",
     "output_type": "stream",
     "text": [
      "Train (epoch 10/20) [25/161 (16%)]\tLoss: 0.139861\n"
     ]
    },
    {
     "name": "stderr",
     "output_type": "stream",
     "text": [
      " 32%|███▏      | 51/161 [00:11<00:25,  4.32it/s]"
     ]
    },
    {
     "name": "stdout",
     "output_type": "stream",
     "text": [
      "Train (epoch 10/20) [50/161 (31%)]\tLoss: 0.128068\n"
     ]
    },
    {
     "name": "stderr",
     "output_type": "stream",
     "text": [
      " 47%|████▋     | 76/161 [00:17<00:19,  4.29it/s]"
     ]
    },
    {
     "name": "stdout",
     "output_type": "stream",
     "text": [
      "Train (epoch 10/20) [75/161 (47%)]\tLoss: 0.121647\n"
     ]
    },
    {
     "name": "stderr",
     "output_type": "stream",
     "text": [
      " 63%|██████▎   | 101/161 [00:23<00:13,  4.31it/s]"
     ]
    },
    {
     "name": "stdout",
     "output_type": "stream",
     "text": [
      "Train (epoch 10/20) [100/161 (62%)]\tLoss: 0.172174\n"
     ]
    },
    {
     "name": "stderr",
     "output_type": "stream",
     "text": [
      " 78%|███████▊  | 126/161 [00:29<00:08,  4.33it/s]"
     ]
    },
    {
     "name": "stdout",
     "output_type": "stream",
     "text": [
      "Train (epoch 10/20) [125/161 (78%)]\tLoss: 0.104795\n"
     ]
    },
    {
     "name": "stderr",
     "output_type": "stream",
     "text": [
      " 94%|█████████▍| 151/161 [00:35<00:02,  4.28it/s]"
     ]
    },
    {
     "name": "stdout",
     "output_type": "stream",
     "text": [
      "Train (epoch 10/20) [150/161 (93%)]\tLoss: 0.097182\n"
     ]
    },
    {
     "name": "stderr",
     "output_type": "stream",
     "text": [
      "100%|██████████| 161/161 [00:37<00:00,  4.31it/s]\n",
      "100%|██████████| 50/50 [00:03<00:00, 15.94it/s]\n"
     ]
    },
    {
     "name": "stdout",
     "output_type": "stream",
     "text": [
      "TRAIN_LOSS:  0.131\n",
      "TEST_LOSS:  0.105\n",
      "---------------------------------------------\n"
     ]
    },
    {
     "name": "stderr",
     "output_type": "stream",
     "text": [
      "  1%|          | 1/161 [00:00<00:38,  4.20it/s]"
     ]
    },
    {
     "name": "stdout",
     "output_type": "stream",
     "text": [
      "Train (epoch 11/20) [0/161 (0%)]\tLoss: 0.160885\n"
     ]
    },
    {
     "name": "stderr",
     "output_type": "stream",
     "text": [
      " 16%|█▌        | 26/161 [00:06<00:31,  4.31it/s]"
     ]
    },
    {
     "name": "stdout",
     "output_type": "stream",
     "text": [
      "Train (epoch 11/20) [25/161 (16%)]\tLoss: 0.164451\n"
     ]
    },
    {
     "name": "stderr",
     "output_type": "stream",
     "text": [
      " 32%|███▏      | 51/161 [00:11<00:25,  4.28it/s]"
     ]
    },
    {
     "name": "stdout",
     "output_type": "stream",
     "text": [
      "Train (epoch 11/20) [50/161 (31%)]\tLoss: 0.151775\n"
     ]
    },
    {
     "name": "stderr",
     "output_type": "stream",
     "text": [
      " 47%|████▋     | 76/161 [00:17<00:19,  4.30it/s]"
     ]
    },
    {
     "name": "stdout",
     "output_type": "stream",
     "text": [
      "Train (epoch 11/20) [75/161 (47%)]\tLoss: 0.097790\n"
     ]
    },
    {
     "name": "stderr",
     "output_type": "stream",
     "text": [
      " 63%|██████▎   | 101/161 [00:23<00:13,  4.30it/s]"
     ]
    },
    {
     "name": "stdout",
     "output_type": "stream",
     "text": [
      "Train (epoch 11/20) [100/161 (62%)]\tLoss: 0.121761\n"
     ]
    },
    {
     "name": "stderr",
     "output_type": "stream",
     "text": [
      " 78%|███████▊  | 126/161 [00:29<00:08,  4.31it/s]"
     ]
    },
    {
     "name": "stdout",
     "output_type": "stream",
     "text": [
      "Train (epoch 11/20) [125/161 (78%)]\tLoss: 0.086238\n"
     ]
    },
    {
     "name": "stderr",
     "output_type": "stream",
     "text": [
      " 94%|█████████▍| 151/161 [00:35<00:02,  4.30it/s]"
     ]
    },
    {
     "name": "stdout",
     "output_type": "stream",
     "text": [
      "Train (epoch 11/20) [150/161 (93%)]\tLoss: 0.165386\n"
     ]
    },
    {
     "name": "stderr",
     "output_type": "stream",
     "text": [
      "100%|██████████| 161/161 [00:37<00:00,  4.32it/s]\n",
      "100%|██████████| 50/50 [00:03<00:00, 16.05it/s]\n"
     ]
    },
    {
     "name": "stdout",
     "output_type": "stream",
     "text": [
      "TRAIN_LOSS:  0.126\n",
      "TEST_LOSS:  0.102\n",
      "---------------------------------------------\n"
     ]
    },
    {
     "name": "stderr",
     "output_type": "stream",
     "text": [
      "  1%|          | 1/161 [00:00<00:37,  4.23it/s]"
     ]
    },
    {
     "name": "stdout",
     "output_type": "stream",
     "text": [
      "Train (epoch 12/20) [0/161 (0%)]\tLoss: 0.106348\n"
     ]
    },
    {
     "name": "stderr",
     "output_type": "stream",
     "text": [
      " 16%|█▌        | 26/161 [00:05<00:29,  4.61it/s]"
     ]
    },
    {
     "name": "stdout",
     "output_type": "stream",
     "text": [
      "Train (epoch 12/20) [25/161 (16%)]\tLoss: 0.101275\n"
     ]
    },
    {
     "name": "stderr",
     "output_type": "stream",
     "text": [
      " 32%|███▏      | 51/161 [00:11<00:23,  4.64it/s]"
     ]
    },
    {
     "name": "stdout",
     "output_type": "stream",
     "text": [
      "Train (epoch 12/20) [50/161 (31%)]\tLoss: 0.201183\n"
     ]
    },
    {
     "name": "stderr",
     "output_type": "stream",
     "text": [
      " 47%|████▋     | 76/161 [00:16<00:18,  4.61it/s]"
     ]
    },
    {
     "name": "stdout",
     "output_type": "stream",
     "text": [
      "Train (epoch 12/20) [75/161 (47%)]\tLoss: 0.093238\n"
     ]
    },
    {
     "name": "stderr",
     "output_type": "stream",
     "text": [
      " 63%|██████▎   | 102/161 [00:22<00:10,  5.46it/s]"
     ]
    },
    {
     "name": "stdout",
     "output_type": "stream",
     "text": [
      "Train (epoch 12/20) [100/161 (62%)]\tLoss: 0.096722\n"
     ]
    },
    {
     "name": "stderr",
     "output_type": "stream",
     "text": [
      " 78%|███████▊  | 126/161 [00:27<00:08,  4.31it/s]"
     ]
    },
    {
     "name": "stdout",
     "output_type": "stream",
     "text": [
      "Train (epoch 12/20) [125/161 (78%)]\tLoss: 0.112136\n"
     ]
    },
    {
     "name": "stderr",
     "output_type": "stream",
     "text": [
      " 94%|█████████▍| 151/161 [00:33<00:02,  4.27it/s]"
     ]
    },
    {
     "name": "stdout",
     "output_type": "stream",
     "text": [
      "Train (epoch 12/20) [150/161 (93%)]\tLoss: 0.075104\n"
     ]
    },
    {
     "name": "stderr",
     "output_type": "stream",
     "text": [
      "100%|██████████| 161/161 [00:35<00:00,  4.47it/s]\n",
      "100%|██████████| 50/50 [00:03<00:00, 16.09it/s]\n"
     ]
    },
    {
     "name": "stdout",
     "output_type": "stream",
     "text": [
      "TRAIN_LOSS:  0.121\n",
      "TEST_LOSS:  0.100\n",
      "---------------------------------------------\n"
     ]
    },
    {
     "name": "stderr",
     "output_type": "stream",
     "text": [
      "  1%|          | 1/161 [00:00<00:37,  4.26it/s]"
     ]
    },
    {
     "name": "stdout",
     "output_type": "stream",
     "text": [
      "Train (epoch 13/20) [0/161 (0%)]\tLoss: 0.089988\n"
     ]
    },
    {
     "name": "stderr",
     "output_type": "stream",
     "text": [
      " 16%|█▌        | 26/161 [00:05<00:28,  4.67it/s]"
     ]
    },
    {
     "name": "stdout",
     "output_type": "stream",
     "text": [
      "Train (epoch 13/20) [25/161 (16%)]\tLoss: 0.128128\n"
     ]
    },
    {
     "name": "stderr",
     "output_type": "stream",
     "text": [
      " 32%|███▏      | 51/161 [00:11<00:23,  4.69it/s]"
     ]
    },
    {
     "name": "stdout",
     "output_type": "stream",
     "text": [
      "Train (epoch 13/20) [50/161 (31%)]\tLoss: 0.111847\n"
     ]
    },
    {
     "name": "stderr",
     "output_type": "stream",
     "text": [
      " 47%|████▋     | 76/161 [00:16<00:17,  4.75it/s]"
     ]
    },
    {
     "name": "stdout",
     "output_type": "stream",
     "text": [
      "Train (epoch 13/20) [75/161 (47%)]\tLoss: 0.086003\n"
     ]
    },
    {
     "name": "stderr",
     "output_type": "stream",
     "text": [
      " 63%|██████▎   | 101/161 [00:21<00:12,  4.67it/s]"
     ]
    },
    {
     "name": "stdout",
     "output_type": "stream",
     "text": [
      "Train (epoch 13/20) [100/161 (62%)]\tLoss: 0.100343\n"
     ]
    },
    {
     "name": "stderr",
     "output_type": "stream",
     "text": [
      " 78%|███████▊  | 126/161 [00:27<00:07,  4.64it/s]"
     ]
    },
    {
     "name": "stdout",
     "output_type": "stream",
     "text": [
      "Train (epoch 13/20) [125/161 (78%)]\tLoss: 0.082440\n"
     ]
    },
    {
     "name": "stderr",
     "output_type": "stream",
     "text": [
      " 94%|█████████▍| 151/161 [00:33<00:02,  4.10it/s]"
     ]
    },
    {
     "name": "stdout",
     "output_type": "stream",
     "text": [
      "Train (epoch 13/20) [150/161 (93%)]\tLoss: 0.098166\n"
     ]
    },
    {
     "name": "stderr",
     "output_type": "stream",
     "text": [
      "100%|██████████| 161/161 [00:35<00:00,  4.56it/s]\n",
      "100%|██████████| 50/50 [00:03<00:00, 15.19it/s]\n"
     ]
    },
    {
     "name": "stdout",
     "output_type": "stream",
     "text": [
      "TRAIN_LOSS:  0.117\n",
      "TEST_LOSS:  0.100\n",
      "---------------------------------------------\n"
     ]
    },
    {
     "name": "stderr",
     "output_type": "stream",
     "text": [
      "  1%|          | 1/161 [00:00<00:39,  4.06it/s]"
     ]
    },
    {
     "name": "stdout",
     "output_type": "stream",
     "text": [
      "Train (epoch 14/20) [0/161 (0%)]\tLoss: 0.089734\n"
     ]
    },
    {
     "name": "stderr",
     "output_type": "stream",
     "text": [
      " 16%|█▌        | 26/161 [00:06<00:32,  4.13it/s]"
     ]
    },
    {
     "name": "stdout",
     "output_type": "stream",
     "text": [
      "Train (epoch 14/20) [25/161 (16%)]\tLoss: 0.168796\n"
     ]
    },
    {
     "name": "stderr",
     "output_type": "stream",
     "text": [
      " 32%|███▏      | 51/161 [00:12<00:26,  4.17it/s]"
     ]
    },
    {
     "name": "stdout",
     "output_type": "stream",
     "text": [
      "Train (epoch 14/20) [50/161 (31%)]\tLoss: 0.085787\n"
     ]
    },
    {
     "name": "stderr",
     "output_type": "stream",
     "text": [
      " 47%|████▋     | 76/161 [00:18<00:20,  4.15it/s]"
     ]
    },
    {
     "name": "stdout",
     "output_type": "stream",
     "text": [
      "Train (epoch 14/20) [75/161 (47%)]\tLoss: 0.111386\n"
     ]
    },
    {
     "name": "stderr",
     "output_type": "stream",
     "text": [
      " 63%|██████▎   | 101/161 [00:24<00:14,  4.15it/s]"
     ]
    },
    {
     "name": "stdout",
     "output_type": "stream",
     "text": [
      "Train (epoch 14/20) [100/161 (62%)]\tLoss: 0.143875\n"
     ]
    },
    {
     "name": "stderr",
     "output_type": "stream",
     "text": [
      " 78%|███████▊  | 126/161 [00:29<00:07,  4.56it/s]"
     ]
    },
    {
     "name": "stdout",
     "output_type": "stream",
     "text": [
      "Train (epoch 14/20) [125/161 (78%)]\tLoss: 0.165844\n"
     ]
    },
    {
     "name": "stderr",
     "output_type": "stream",
     "text": [
      " 94%|█████████▍| 151/161 [00:35<00:02,  4.47it/s]"
     ]
    },
    {
     "name": "stdout",
     "output_type": "stream",
     "text": [
      "Train (epoch 14/20) [150/161 (93%)]\tLoss: 0.078541\n"
     ]
    },
    {
     "name": "stderr",
     "output_type": "stream",
     "text": [
      "100%|██████████| 161/161 [00:37<00:00,  4.27it/s]\n",
      "100%|██████████| 50/50 [00:02<00:00, 17.23it/s]\n"
     ]
    },
    {
     "name": "stdout",
     "output_type": "stream",
     "text": [
      "TRAIN_LOSS:  0.113\n",
      "TEST_LOSS:  0.094\n",
      "---------------------------------------------\n"
     ]
    },
    {
     "name": "stderr",
     "output_type": "stream",
     "text": [
      "  1%|          | 1/161 [00:00<00:40,  3.98it/s]"
     ]
    },
    {
     "name": "stdout",
     "output_type": "stream",
     "text": [
      "Train (epoch 15/20) [0/161 (0%)]\tLoss: 0.129086\n"
     ]
    },
    {
     "name": "stderr",
     "output_type": "stream",
     "text": [
      " 16%|█▌        | 26/161 [00:06<00:31,  4.22it/s]"
     ]
    },
    {
     "name": "stdout",
     "output_type": "stream",
     "text": [
      "Train (epoch 15/20) [25/161 (16%)]\tLoss: 0.078196\n"
     ]
    },
    {
     "name": "stderr",
     "output_type": "stream",
     "text": [
      " 32%|███▏      | 51/161 [00:12<00:26,  4.21it/s]"
     ]
    },
    {
     "name": "stdout",
     "output_type": "stream",
     "text": [
      "Train (epoch 15/20) [50/161 (31%)]\tLoss: 0.096307\n"
     ]
    },
    {
     "name": "stderr",
     "output_type": "stream",
     "text": [
      " 47%|████▋     | 76/161 [00:18<00:19,  4.30it/s]"
     ]
    },
    {
     "name": "stdout",
     "output_type": "stream",
     "text": [
      "Train (epoch 15/20) [75/161 (47%)]\tLoss: 0.111503\n"
     ]
    },
    {
     "name": "stderr",
     "output_type": "stream",
     "text": [
      " 63%|██████▎   | 101/161 [00:24<00:14,  4.08it/s]"
     ]
    },
    {
     "name": "stdout",
     "output_type": "stream",
     "text": [
      "Train (epoch 15/20) [100/161 (62%)]\tLoss: 0.098403\n"
     ]
    },
    {
     "name": "stderr",
     "output_type": "stream",
     "text": [
      " 78%|███████▊  | 126/161 [00:30<00:08,  4.12it/s]"
     ]
    },
    {
     "name": "stdout",
     "output_type": "stream",
     "text": [
      "Train (epoch 15/20) [125/161 (78%)]\tLoss: 0.090948\n"
     ]
    },
    {
     "name": "stderr",
     "output_type": "stream",
     "text": [
      " 94%|█████████▍| 151/161 [00:36<00:02,  4.11it/s]"
     ]
    },
    {
     "name": "stdout",
     "output_type": "stream",
     "text": [
      "Train (epoch 15/20) [150/161 (93%)]\tLoss: 0.106386\n"
     ]
    },
    {
     "name": "stderr",
     "output_type": "stream",
     "text": [
      "100%|██████████| 161/161 [00:38<00:00,  4.16it/s]\n",
      "100%|██████████| 50/50 [00:03<00:00, 14.69it/s]\n"
     ]
    },
    {
     "name": "stdout",
     "output_type": "stream",
     "text": [
      "TRAIN_LOSS:  0.110\n",
      "TEST_LOSS:  0.099\n",
      "---------------------------------------------\n"
     ]
    },
    {
     "name": "stderr",
     "output_type": "stream",
     "text": [
      "  1%|          | 1/161 [00:00<00:39,  4.07it/s]"
     ]
    },
    {
     "name": "stdout",
     "output_type": "stream",
     "text": [
      "Train (epoch 16/20) [0/161 (0%)]\tLoss: 0.102660\n"
     ]
    },
    {
     "name": "stderr",
     "output_type": "stream",
     "text": [
      " 16%|█▌        | 26/161 [00:06<00:33,  4.08it/s]"
     ]
    },
    {
     "name": "stdout",
     "output_type": "stream",
     "text": [
      "Train (epoch 16/20) [25/161 (16%)]\tLoss: 0.085931\n"
     ]
    },
    {
     "name": "stderr",
     "output_type": "stream",
     "text": [
      " 32%|███▏      | 51/161 [00:12<00:31,  3.45it/s]"
     ]
    },
    {
     "name": "stdout",
     "output_type": "stream",
     "text": [
      "Train (epoch 16/20) [50/161 (31%)]\tLoss: 0.169985\n"
     ]
    },
    {
     "name": "stderr",
     "output_type": "stream",
     "text": [
      " 47%|████▋     | 76/161 [00:20<00:24,  3.40it/s]"
     ]
    },
    {
     "name": "stdout",
     "output_type": "stream",
     "text": [
      "Train (epoch 16/20) [75/161 (47%)]\tLoss: 0.101796\n"
     ]
    },
    {
     "name": "stderr",
     "output_type": "stream",
     "text": [
      " 63%|██████▎   | 101/161 [00:27<00:17,  3.46it/s]"
     ]
    },
    {
     "name": "stdout",
     "output_type": "stream",
     "text": [
      "Train (epoch 16/20) [100/161 (62%)]\tLoss: 0.095600\n"
     ]
    },
    {
     "name": "stderr",
     "output_type": "stream",
     "text": [
      " 78%|███████▊  | 126/161 [00:34<00:10,  3.43it/s]"
     ]
    },
    {
     "name": "stdout",
     "output_type": "stream",
     "text": [
      "Train (epoch 16/20) [125/161 (78%)]\tLoss: 0.096417\n"
     ]
    },
    {
     "name": "stderr",
     "output_type": "stream",
     "text": [
      " 94%|█████████▍| 151/161 [00:42<00:02,  3.57it/s]"
     ]
    },
    {
     "name": "stdout",
     "output_type": "stream",
     "text": [
      "Train (epoch 16/20) [150/161 (93%)]\tLoss: 0.097522\n"
     ]
    },
    {
     "name": "stderr",
     "output_type": "stream",
     "text": [
      "100%|██████████| 161/161 [00:44<00:00,  3.61it/s]\n",
      "100%|██████████| 50/50 [00:03<00:00, 14.00it/s]\n"
     ]
    },
    {
     "name": "stdout",
     "output_type": "stream",
     "text": [
      "TRAIN_LOSS:  0.107\n",
      "TEST_LOSS:  0.098\n",
      "---------------------------------------------\n"
     ]
    },
    {
     "name": "stderr",
     "output_type": "stream",
     "text": [
      "  1%|          | 1/161 [00:00<00:41,  3.84it/s]"
     ]
    },
    {
     "name": "stdout",
     "output_type": "stream",
     "text": [
      "Train (epoch 17/20) [0/161 (0%)]\tLoss: 0.092490\n"
     ]
    },
    {
     "name": "stderr",
     "output_type": "stream",
     "text": [
      " 16%|█▌        | 26/161 [00:06<00:34,  3.86it/s]"
     ]
    },
    {
     "name": "stdout",
     "output_type": "stream",
     "text": [
      "Train (epoch 17/20) [25/161 (16%)]\tLoss: 0.194013\n"
     ]
    },
    {
     "name": "stderr",
     "output_type": "stream",
     "text": [
      " 32%|███▏      | 51/161 [00:13<00:31,  3.55it/s]"
     ]
    },
    {
     "name": "stdout",
     "output_type": "stream",
     "text": [
      "Train (epoch 17/20) [50/161 (31%)]\tLoss: 0.093658\n"
     ]
    },
    {
     "name": "stderr",
     "output_type": "stream",
     "text": [
      " 47%|████▋     | 76/161 [00:20<00:24,  3.54it/s]"
     ]
    },
    {
     "name": "stdout",
     "output_type": "stream",
     "text": [
      "Train (epoch 17/20) [75/161 (47%)]\tLoss: 0.060089\n"
     ]
    },
    {
     "name": "stderr",
     "output_type": "stream",
     "text": [
      " 63%|██████▎   | 101/161 [00:27<00:16,  3.55it/s]"
     ]
    },
    {
     "name": "stdout",
     "output_type": "stream",
     "text": [
      "Train (epoch 17/20) [100/161 (62%)]\tLoss: 0.161266\n"
     ]
    },
    {
     "name": "stderr",
     "output_type": "stream",
     "text": [
      " 78%|███████▊  | 126/161 [00:34<00:09,  3.81it/s]"
     ]
    },
    {
     "name": "stdout",
     "output_type": "stream",
     "text": [
      "Train (epoch 17/20) [125/161 (78%)]\tLoss: 0.106137\n"
     ]
    },
    {
     "name": "stderr",
     "output_type": "stream",
     "text": [
      " 94%|█████████▍| 151/161 [00:40<00:02,  4.05it/s]"
     ]
    },
    {
     "name": "stdout",
     "output_type": "stream",
     "text": [
      "Train (epoch 17/20) [150/161 (93%)]\tLoss: 0.060740\n"
     ]
    },
    {
     "name": "stderr",
     "output_type": "stream",
     "text": [
      "100%|██████████| 161/161 [00:43<00:00,  3.72it/s]\n",
      "100%|██████████| 50/50 [00:03<00:00, 14.55it/s]\n"
     ]
    },
    {
     "name": "stdout",
     "output_type": "stream",
     "text": [
      "TRAIN_LOSS:  0.106\n",
      "TEST_LOSS:  0.093\n",
      "---------------------------------------------\n"
     ]
    },
    {
     "name": "stderr",
     "output_type": "stream",
     "text": [
      "  1%|          | 1/161 [00:00<00:40,  3.95it/s]"
     ]
    },
    {
     "name": "stdout",
     "output_type": "stream",
     "text": [
      "Train (epoch 18/20) [0/161 (0%)]\tLoss: 0.135493\n"
     ]
    },
    {
     "name": "stderr",
     "output_type": "stream",
     "text": [
      " 16%|█▌        | 26/161 [00:06<00:33,  4.05it/s]"
     ]
    },
    {
     "name": "stdout",
     "output_type": "stream",
     "text": [
      "Train (epoch 18/20) [25/161 (16%)]\tLoss: 0.191773\n"
     ]
    },
    {
     "name": "stderr",
     "output_type": "stream",
     "text": [
      " 32%|███▏      | 51/161 [00:12<00:27,  4.06it/s]"
     ]
    },
    {
     "name": "stdout",
     "output_type": "stream",
     "text": [
      "Train (epoch 18/20) [50/161 (31%)]\tLoss: 0.110913\n"
     ]
    },
    {
     "name": "stderr",
     "output_type": "stream",
     "text": [
      " 47%|████▋     | 76/161 [00:18<00:20,  4.21it/s]"
     ]
    },
    {
     "name": "stdout",
     "output_type": "stream",
     "text": [
      "Train (epoch 18/20) [75/161 (47%)]\tLoss: 0.091565\n"
     ]
    },
    {
     "name": "stderr",
     "output_type": "stream",
     "text": [
      " 63%|██████▎   | 101/161 [00:24<00:13,  4.45it/s]"
     ]
    },
    {
     "name": "stdout",
     "output_type": "stream",
     "text": [
      "Train (epoch 18/20) [100/161 (62%)]\tLoss: 0.152457\n"
     ]
    },
    {
     "name": "stderr",
     "output_type": "stream",
     "text": [
      " 78%|███████▊  | 126/161 [00:29<00:07,  4.44it/s]"
     ]
    },
    {
     "name": "stdout",
     "output_type": "stream",
     "text": [
      "Train (epoch 18/20) [125/161 (78%)]\tLoss: 0.093553\n"
     ]
    },
    {
     "name": "stderr",
     "output_type": "stream",
     "text": [
      " 94%|█████████▍| 151/161 [00:35<00:02,  4.42it/s]"
     ]
    },
    {
     "name": "stdout",
     "output_type": "stream",
     "text": [
      "Train (epoch 18/20) [150/161 (93%)]\tLoss: 0.174527\n"
     ]
    },
    {
     "name": "stderr",
     "output_type": "stream",
     "text": [
      "100%|██████████| 161/161 [00:37<00:00,  4.26it/s]\n",
      "100%|██████████| 50/50 [00:03<00:00, 16.62it/s]\n"
     ]
    },
    {
     "name": "stdout",
     "output_type": "stream",
     "text": [
      "TRAIN_LOSS:  0.103\n",
      "TEST_LOSS:  0.092\n",
      "---------------------------------------------\n"
     ]
    },
    {
     "name": "stderr",
     "output_type": "stream",
     "text": [
      "  1%|          | 1/161 [00:00<00:36,  4.39it/s]"
     ]
    },
    {
     "name": "stdout",
     "output_type": "stream",
     "text": [
      "Train (epoch 19/20) [0/161 (0%)]\tLoss: 0.101799\n"
     ]
    },
    {
     "name": "stderr",
     "output_type": "stream",
     "text": [
      " 16%|█▌        | 26/161 [00:06<00:35,  3.84it/s]"
     ]
    },
    {
     "name": "stdout",
     "output_type": "stream",
     "text": [
      "Train (epoch 19/20) [25/161 (16%)]\tLoss: 0.075277\n"
     ]
    },
    {
     "name": "stderr",
     "output_type": "stream",
     "text": [
      " 32%|███▏      | 51/161 [00:12<00:28,  3.86it/s]"
     ]
    },
    {
     "name": "stdout",
     "output_type": "stream",
     "text": [
      "Train (epoch 19/20) [50/161 (31%)]\tLoss: 0.105905\n"
     ]
    },
    {
     "name": "stderr",
     "output_type": "stream",
     "text": [
      " 47%|████▋     | 76/161 [00:19<00:22,  3.85it/s]"
     ]
    },
    {
     "name": "stdout",
     "output_type": "stream",
     "text": [
      "Train (epoch 19/20) [75/161 (47%)]\tLoss: 0.076292\n"
     ]
    },
    {
     "name": "stderr",
     "output_type": "stream",
     "text": [
      " 63%|██████▎   | 101/161 [00:25<00:15,  3.86it/s]"
     ]
    },
    {
     "name": "stdout",
     "output_type": "stream",
     "text": [
      "Train (epoch 19/20) [100/161 (62%)]\tLoss: 0.088398\n"
     ]
    },
    {
     "name": "stderr",
     "output_type": "stream",
     "text": [
      " 78%|███████▊  | 126/161 [00:32<00:09,  3.89it/s]"
     ]
    },
    {
     "name": "stdout",
     "output_type": "stream",
     "text": [
      "Train (epoch 19/20) [125/161 (78%)]\tLoss: 0.075714\n"
     ]
    },
    {
     "name": "stderr",
     "output_type": "stream",
     "text": [
      " 94%|█████████▍| 151/161 [00:38<00:02,  3.84it/s]"
     ]
    },
    {
     "name": "stdout",
     "output_type": "stream",
     "text": [
      "Train (epoch 19/20) [150/161 (93%)]\tLoss: 0.088931\n"
     ]
    },
    {
     "name": "stderr",
     "output_type": "stream",
     "text": [
      "100%|██████████| 161/161 [00:41<00:00,  3.91it/s]\n",
      "100%|██████████| 50/50 [00:03<00:00, 13.66it/s]\n"
     ]
    },
    {
     "name": "stdout",
     "output_type": "stream",
     "text": [
      "TRAIN_LOSS:  0.102\n",
      "TEST_LOSS:  0.094\n",
      "---------------------------------------------\n"
     ]
    },
    {
     "name": "stderr",
     "output_type": "stream",
     "text": [
      "  1%|          | 1/161 [00:00<00:42,  3.78it/s]"
     ]
    },
    {
     "name": "stdout",
     "output_type": "stream",
     "text": [
      "Train (epoch 20/20) [0/161 (0%)]\tLoss: 0.067275\n"
     ]
    },
    {
     "name": "stderr",
     "output_type": "stream",
     "text": [
      " 16%|█▌        | 26/161 [00:06<00:34,  3.86it/s]"
     ]
    },
    {
     "name": "stdout",
     "output_type": "stream",
     "text": [
      "Train (epoch 20/20) [25/161 (16%)]\tLoss: 0.115320\n"
     ]
    },
    {
     "name": "stderr",
     "output_type": "stream",
     "text": [
      " 32%|███▏      | 51/161 [00:13<00:28,  3.85it/s]"
     ]
    },
    {
     "name": "stdout",
     "output_type": "stream",
     "text": [
      "Train (epoch 20/20) [50/161 (31%)]\tLoss: 0.085722\n"
     ]
    },
    {
     "name": "stderr",
     "output_type": "stream",
     "text": [
      " 47%|████▋     | 76/161 [00:19<00:22,  3.85it/s]"
     ]
    },
    {
     "name": "stdout",
     "output_type": "stream",
     "text": [
      "Train (epoch 20/20) [75/161 (47%)]\tLoss: 0.119710\n"
     ]
    },
    {
     "name": "stderr",
     "output_type": "stream",
     "text": [
      " 63%|██████▎   | 101/161 [00:25<00:14,  4.22it/s]"
     ]
    },
    {
     "name": "stdout",
     "output_type": "stream",
     "text": [
      "Train (epoch 20/20) [100/161 (62%)]\tLoss: 0.068651\n"
     ]
    },
    {
     "name": "stderr",
     "output_type": "stream",
     "text": [
      " 78%|███████▊  | 126/161 [00:32<00:09,  3.62it/s]"
     ]
    },
    {
     "name": "stdout",
     "output_type": "stream",
     "text": [
      "Train (epoch 20/20) [125/161 (78%)]\tLoss: 0.071662\n"
     ]
    },
    {
     "name": "stderr",
     "output_type": "stream",
     "text": [
      " 94%|█████████▍| 151/161 [00:38<00:02,  3.79it/s]"
     ]
    },
    {
     "name": "stdout",
     "output_type": "stream",
     "text": [
      "Train (epoch 20/20) [150/161 (93%)]\tLoss: 0.079155\n"
     ]
    },
    {
     "name": "stderr",
     "output_type": "stream",
     "text": [
      "100%|██████████| 161/161 [00:41<00:00,  3.93it/s]\n",
      "100%|██████████| 50/50 [00:03<00:00, 15.34it/s]"
     ]
    },
    {
     "name": "stdout",
     "output_type": "stream",
     "text": [
      "TRAIN_LOSS:  0.100\n",
      "TEST_LOSS:  0.091\n",
      "---------------------------------------------\n",
      "test time: 3.264024257659912\n",
      "best test result is obtained at epoch 20\n"
     ]
    },
    {
     "name": "stderr",
     "output_type": "stream",
     "text": [
      "\n"
     ]
    }
   ],
   "source": [
    "# save best test result\n",
    "best_test_loss =  float('inf')\n",
    "best_epoch = 0\n",
    "\n",
    "#train the model and validate\n",
    "total_train_losses = []\n",
    "total_test_losses = []\n",
    "for epoch in range(1, num_epochs+1):\n",
    "    model.train()\n",
    "    train_losses = []\n",
    "    \n",
    "    pred_list_train = []\n",
    "    y_list_train = []\n",
    "    depth_list_train = []\n",
    "    x_list_train = []   \n",
    "    #train\n",
    "    for i, batch in enumerate(tqdm(train_dataloader)):\n",
    "        depth, x, y = batch\n",
    "        if padding_needed > 0:\n",
    "            x = F.pad(x, pad=(0, padding_needed), mode='constant', value=input_pad_value) \n",
    "        x = x.unsqueeze(-1).to(device).float()\n",
    "        y = y.to(device).long()\n",
    "\n",
    "        optimizer.zero_grad()\n",
    "        outputs = model(past_values = x)\n",
    "        preds = outputs.prediction_outputs\n",
    "        preds_reshaped = preds.permute(0,2,1)\n",
    "        loss = criterion(preds_reshaped, y)\n",
    "        loss.backward()\n",
    "        optimizer.step()\n",
    "\n",
    "        train_losses.append(loss.item())\n",
    "\n",
    "        if i % 25 == 0:\n",
    "            print('Train (epoch {}/{}) [{}/{} ({:.0f}%)]\\tLoss: {:.6f}'.format(\n",
    "                epoch, num_epochs, i, len(train_dataloader),100.*i/len(train_dataloader), loss.item())) \n",
    "        \n",
    "        # at last epoch, save the prediction result\n",
    "        #if epoch == num_epochs:\n",
    "        current_preds = preds.detach().cpu().numpy()\n",
    "        current_y = y.detach().cpu().numpy()\n",
    "        current_depth = depth.cpu().numpy()\n",
    "        current_x = x.detach().cpu().numpy()\n",
    "\n",
    "        pred_list_train.append(current_preds)\n",
    "        y_list_train.append(current_y)\n",
    "        depth_list_train.append(current_depth)\n",
    "        x_list_train.append(current_x)\n",
    "\n",
    "    train_loss_mean = np.mean(train_losses)\n",
    "    total_train_losses.append(train_loss_mean)\n",
    "    scheduler.step()\n",
    "    \n",
    "    #validation\n",
    "    model.eval()\n",
    "    test_losses = []\n",
    "    test_time = 0\n",
    "    start_time = time.time()\n",
    "    pred_list_test = []\n",
    "    y_list_test = []\n",
    "    depth_list_test = []\n",
    "    x_list_test = []   \n",
    "    for i, batch in enumerate(tqdm(test_dataloader)):\n",
    "        depth, x, y = batch\n",
    "        if padding_needed > 0:\n",
    "            x = F.pad(x, pad=(0, padding_needed), mode='constant', value=input_pad_value)\n",
    "        x = x.unsqueeze(-1).to(device).float()\n",
    "        y = y.to(device).long()\n",
    "\n",
    "        with torch.no_grad():\n",
    "            outputs = model(past_values = x)\n",
    "            preds = outputs.prediction_outputs\n",
    "            preds_reshaped = preds.permute(0,2,1)\n",
    "            loss = criterion(preds_reshaped, y)\n",
    "        test_losses.append(loss.item())\n",
    "        \n",
    "        # at last epoch, save the prediction result\n",
    "        # if epoch == num_epochs:\n",
    "        current_preds = preds.detach().cpu().numpy()\n",
    "        current_y = y.detach().cpu().numpy()\n",
    "        current_depth = depth.cpu().numpy()\n",
    "        current_x = x.detach().cpu().numpy()\n",
    "\n",
    "        pred_list_test.append(current_preds)\n",
    "        y_list_test.append(current_y)\n",
    "        depth_list_test.append(current_depth)\n",
    "        x_list_test.append(current_x)\n",
    "    \n",
    "    end_time = time.time()\n",
    "    test_time = end_time - start_time\n",
    "    test_loss_mean = np.mean(test_losses)\n",
    "    total_test_losses.append(test_loss_mean)\n",
    "\n",
    "    print('TRAIN_LOSS: ', '%.3f' % train_loss_mean)\n",
    "    print('TEST_LOSS: ', '%.3f' % test_loss_mean)\n",
    "    print('---------------------------------------------')\n",
    "    \n",
    "    # check if the test loss is the smallest\n",
    "    #if test_loss_mean <= best_test_loss:\n",
    "    if epoch == num_epochs:\n",
    "        best_test_loss = test_loss_mean\n",
    "        best_epoch = epoch    \n",
    "        # update prediction result\n",
    "        preds_train = np.concatenate(pred_list_train, axis = 0)\n",
    "        y_train = np.concatenate(y_list_train, axis = 0)\n",
    "        depth_train = np.concatenate(depth_list_train, axis = 0)\n",
    "        x_train = np.concatenate(x_list_train, axis = 0)\n",
    "        preds_test = np.concatenate(pred_list_test, axis = 0)\n",
    "        y_test = np.concatenate(y_list_test, axis = 0)\n",
    "        depth_test = np.concatenate(depth_list_test, axis = 0)\n",
    "        x_test = np.concatenate(x_list_test, axis = 0)\n",
    "        \n",
    "result = [total_train_losses, total_test_losses]\n",
    "print(f'test time: {test_time}')\n",
    "print(f'best test result is obtained at epoch {best_epoch}')"
   ]
  },
  {
   "cell_type": "code",
   "execution_count": 12,
   "id": "b0f68f35",
   "metadata": {},
   "outputs": [
    {
     "data": {
      "image/png": "[encoded data removed]",
      "text/plain": [
       "<Figure size 640x480 with 1 Axes>"
      ]
     },
     "metadata": {},
     "output_type": "display_data"
    }
   ],
   "source": [
    "#plot training and validation loss\n",
    "def plot_graph(train_metric, val_metric, nb_epochs, title):\n",
    "    x = [int(i) for i in range(1, nb_epochs + 1)]\n",
    "    plt.plot(x, train_metric, color = 'blue', label = 'train')\n",
    "    plt.plot(x, val_metric, color = 'orange', label = 'validation')\n",
    "    plt.legend()\n",
    "    plt.xlabel('Epochs')\n",
    "    plt.ylabel('Score')\n",
    "    x_ticks = [i for i in x if i % 5 == 0]\n",
    "    plt.title(title)\n",
    "    plt.xticks(x_ticks)\n",
    "    plt.grid(True)\n",
    "    plt.show()\n",
    "\n",
    "plot_graph(total_train_losses, total_test_losses, num_epochs, 'Loss (train vs. test)')"
   ]
  },
  {
   "cell_type": "markdown",
   "id": "ffc63339",
   "metadata": {},
   "source": [
    "#### evaluation an visualization"
   ]
  },
  {
   "cell_type": "code",
   "execution_count": 13,
   "id": "d27d449f",
   "metadata": {},
   "outputs": [],
   "source": [
    "def plot_prediction(sample_preds, sample_x, sample_depth, sample_distribution,\n",
    "                    pred_locations, true_locations):\n",
    "    plt.figure(figsize=(15,6))\n",
    "\n",
    "    # Plotting on the primary y-axis\n",
    "    # gamma ray\n",
    "    plt.plot(sample_depth, sample_x * train_std + train_mean, color='black')\n",
    "    # prediction\n",
    "    plt.axvline(pred_locations[0], color='red', linestyle = '--', label= 'pred_M')\n",
    "    plt.axvline(pred_locations[1], color='blue',linestyle = '--', label= 'pred_S')\n",
    "    plt.axvline(pred_locations[2], color='green', linestyle = '--', label= 'pred_C')\n",
    "    # ground truth\n",
    "    plt.axvline(true_locations[0], color='red', label= 'true_M')\n",
    "    plt.axvline(true_locations[1], color='blue', label= 'true_S')\n",
    "    plt.axvline(true_locations[2], color='green', label= 'true_C')\n",
    "    \n",
    "    plt.xlabel('Depth')\n",
    "    plt.ylabel('Gamma Ray')\n",
    "    plt.xticks([i for i in sample_depth if i % 200 == 0])\n",
    "    plt.grid(True)\n",
    "    plt.legend(loc='upper center', bbox_to_anchor=(0.5, -0.1), ncol=6)\n",
    "\n",
    "    # Creating secondary y-axis\n",
    "    ax2 = plt.gca().twinx()\n",
    "    # Use the secondary y-axis for the fill_between\n",
    "    ax2.fill_between(sample_depth, sample_distribution[:,2], color='lightcoral', alpha=0.5, label='Prob_M')\n",
    "    ax2.fill_between(sample_depth, sample_distribution[:,3], color='lightblue', alpha=0.5, label='Prob_S')\n",
    "    ax2.fill_between(sample_depth, sample_distribution[:,4], color='lightgreen', alpha=0.5, label='Prob_C')\n",
    "    ax2.set_ylim(0, 1)  # Setting the range for the secondary y-axis\n",
    "    ax2.set_ylabel('Probability')\n",
    "\n",
    "    plt.show()    "
   ]
  },
  {
   "cell_type": "code",
   "execution_count": 14,
   "id": "d1645218",
   "metadata": {},
   "outputs": [],
   "source": [
    "def post_process(preds_test, y_test, depth):\n",
    "    result = []\n",
    "    for index in range(preds_test.shape[0]):\n",
    "        sample_distribution = np.array(F.softmax(torch.tensor(preds_test[index]), dim = 1))\n",
    "        sample_preds = np.argmax(sample_distribution, axis=1)\n",
    "        sample_y = y_test[index]\n",
    "        sample_depth = depth_test[index]\n",
    "\n",
    "        mask = sample_y != 0\n",
    "        sample_distribution = sample_distribution[mask]\n",
    "        sample_preds = sample_preds[mask]\n",
    "        sample_depth = sample_depth[mask]\n",
    "        sample_y = sample_y[mask]\n",
    "    \n",
    "        pred_locations = []\n",
    "        for i in range(2, 5):\n",
    "            max_value = np.max(sample_distribution[:,i])\n",
    "            index_loc = np.where(sample_distribution[:,i] == max_value)[0]\n",
    "            depths = sample_depth[index_loc]\n",
    "            depth = statistics.median(depths)\n",
    "            pred_locations.append(depth)\n",
    "        result.append(np.array(pred_locations))\n",
    "    return result \n",
    "    \n",
    "def combine(sample_distribution, sample_depth, search_range = 1):\n",
    "    # get dictionary for each marker {location: prob}\n",
    "    search_dicts = []\n",
    "    for marker_col in range(2, 5):\n",
    "        loc_prob_dict = {}\n",
    "        marker_probs = sample_distribution[:,marker_col]\n",
    "        sort_prob = np.sort(marker_probs)\n",
    "        top_probs = sort_prob[-search_range:]\n",
    "        for i in range(search_range):\n",
    "            prob_value = top_probs[i]\n",
    "            index_loc = np.where(marker_probs == prob_value)[0]\n",
    "            depths = sample_depth[index_loc]\n",
    "            depth = statistics.median(depths)\n",
    "            loc_prob_dict[depth] = prob_value\n",
    "        search_dicts.append(loc_prob_dict)\n",
    "\n",
    "    # compare all possible combination and give the result\n",
    "    best_combine_prob = 0\n",
    "    best_combine = None\n",
    "    combinations = [(x, y, z) \n",
    "                    for x in list(search_dicts[0].keys()) \n",
    "                    for y in list(search_dicts[1].keys()) \n",
    "                    for z in list(search_dicts[2].keys())]\n",
    "    for i in range(len(combinations)):\n",
    "        combination = combinations[i]\n",
    "        marker_M, marker_S, marker_C = combination[0], combination[1], combination[2]\n",
    "        diff_1 = marker_S - marker_M\n",
    "        diff_2 = marker_C - marker_S\n",
    "        if diff_1 > 0 and diff_2 > 0:\n",
    "            combine_prob = search_dicts[0][marker_M] * \\\n",
    "                            search_dicts[1][marker_S] * \\\n",
    "                            search_dicts[2][marker_C]\n",
    "            if combine_prob > best_combine_prob:\n",
    "                best_combine_prob = combine_prob\n",
    "                best_combine = combination\n",
    "    return best_combine\n",
    "\n",
    "def location_search(preds_test, y_test , depth):\n",
    "    result = []\n",
    "    # process for each sample\n",
    "    for index in range(preds_test.shape[0]):\n",
    "        sample_distribution = np.array(F.softmax(torch.tensor(preds_test[index]), dim = 1))\n",
    "        sample_preds = np.argmax(sample_distribution, axis=1)\n",
    "        sample_depth = depth_test[index]\n",
    "        sample_y = y_test[index]\n",
    "\n",
    "        mask = (sample_y != 0)\n",
    "        sample_distribution = sample_distribution[mask]\n",
    "        sample_preds = sample_preds[mask]\n",
    "        sample_depth = sample_depth[mask]  \n",
    "        sample_y = sample_y[mask]    \n",
    "        \n",
    "        search_range = 1\n",
    "        while True:\n",
    "            pred_locations = combine(sample_distribution, sample_depth, search_range = search_range)\n",
    "            search_range += 2\n",
    "            if pred_locations is not None:\n",
    "                break\n",
    "        result.append(np.array(pred_locations)) \n",
    "    return result"
   ]
  },
  {
   "cell_type": "code",
   "execution_count": 15,
   "id": "9071f6ad",
   "metadata": {},
   "outputs": [],
   "source": [
    "def evaluate(post_process_result, tops_test, tolerance = 15):\n",
    "    correct = 0\n",
    "    total = 0\n",
    "    for index in range(len(post_process_result)): \n",
    "        pred_locations = post_process_result[index]\n",
    "        true_locations = tops_test[index,:]        \n",
    "        for i in range(3):\n",
    "            marker = true_locations[i]\n",
    "            pred_marker = pred_locations[i]\n",
    "            total += 1\n",
    "            if abs(marker - pred_marker) <= tolerance:\n",
    "                correct += 1\n",
    "                \n",
    "    accuracy = correct / total\n",
    "    print(f'Under tolerance {tolerance}, accuracy: {accuracy}')\n",
    "    return accuracy\n",
    "\n",
    "def evaluate_total(post_process_result, tops_test):\n",
    "    tolerance_list = [5, 10, 15, 20]\n",
    "    for i in range(len(tolerance_list)):\n",
    "        acc = evaluate(post_process_result, tops_test, \n",
    "                       tolerance = tolerance_list[i])\n",
    "    \n",
    "    max_error = 0\n",
    "    error_marcel = 0\n",
    "    error_sylvain = 0\n",
    "    error_conrad = 0\n",
    "    sum_ae = 0\n",
    "    count = 0\n",
    "    for index in range(len(post_process_result)): \n",
    "        pred_locations = post_process_result[index]\n",
    "        true_locations = tops_test[index,:]        \n",
    "        for i in range(3):\n",
    "            marker = true_locations[i]\n",
    "            pred_marker = pred_locations[i]\n",
    "            error = abs(marker - pred_marker)\n",
    "            if i == 0:\n",
    "                error_marcel = max(error_marcel, error)\n",
    "            elif i == 1:\n",
    "                error_sylvain = max(error_sylvain, error)\n",
    "            elif i == 2:\n",
    "                error_conrad = max(error_conrad, error)\n",
    "            max_error = max(max_error, error)\n",
    "            count += 1\n",
    "            sum_ae += error\n",
    "    print(f'max error Marcel: {error_marcel}')\n",
    "    print(f'max error Sylvain: {error_sylvain}')\n",
    "    print(f'max error Conrad: {error_conrad}')\n",
    "    print(f'100% accuracy tolerance: {max_error}')\n",
    "    print(f'mean absolute error: {sum_ae / count}')"
   ]
  },
  {
   "cell_type": "code",
   "execution_count": 16,
   "id": "3c604de1",
   "metadata": {},
   "outputs": [],
   "source": [
    "post_process_result = post_process(preds_test, y_test, depth_test)"
   ]
  },
  {
   "cell_type": "code",
   "execution_count": 17,
   "id": "9243a2a9",
   "metadata": {},
   "outputs": [
    {
     "name": "stdout",
     "output_type": "stream",
     "text": [
      "original post process result:\n",
      "Under tolerance 5, accuracy: 0.8433333333333334\n",
      "Under tolerance 10, accuracy: 0.91\n",
      "Under tolerance 15, accuracy: 0.9333333333333333\n",
      "Under tolerance 20, accuracy: 0.94\n",
      "max error Marcel: 562.5\n",
      "max error Sylvain: 21.0\n",
      "max error Conrad: 157.5\n",
      "100% accuracy tolerance: 562.5\n",
      "mean absolute error: 12.413333333333334\n"
     ]
    }
   ],
   "source": [
    "print('original post process result:')\n",
    "evaluate_total(post_process_result, tops_test)"
   ]
  },
  {
   "cell_type": "code",
   "execution_count": 18,
   "id": "059f75c2",
   "metadata": {},
   "outputs": [
    {
     "data": {
      "image/png": "[encoded data removed]",
      "text/plain": [
       "<Figure size 1500x600 with 2 Axes>"
      ]
     },
     "metadata": {},
     "output_type": "display_data"
    }
   ],
   "source": [
    "index = 12\n",
    "\n",
    "sample_distribution = np.array(F.softmax(torch.tensor(preds_test[index]), dim = 1))\n",
    "sample_preds = np.argmax(sample_distribution, axis=1)\n",
    "sample_y = y_test[index]\n",
    "sample_depth = depth_test[index]\n",
    "\n",
    "mask = sample_y != 0\n",
    "sample_distribution = sample_distribution[mask]\n",
    "sample_preds = sample_preds[mask]\n",
    "sample_depth = sample_depth[mask]\n",
    "sample_y = sample_y[mask]\n",
    "\n",
    "# get prediction locations\n",
    "pred_locations = post_process_result[index]\n",
    "true_locations = tops_test[index,:]\n",
    "\n",
    "# plot\n",
    "plot_prediction(sample_preds, sample_y, sample_depth, sample_distribution,\n",
    "                    pred_locations, true_locations)"
   ]
  },
  {
   "cell_type": "code",
   "execution_count": 19,
   "id": "ceef8762",
   "metadata": {},
   "outputs": [],
   "source": [
    "location_search_result = location_search(preds_test, y_test, depth_test)"
   ]
  },
  {
   "cell_type": "code",
   "execution_count": 20,
   "id": "75b33d18",
   "metadata": {},
   "outputs": [
    {
     "name": "stdout",
     "output_type": "stream",
     "text": [
      "location search result:\n",
      "Under tolerance 5, accuracy: 0.8533333333333334\n",
      "Under tolerance 10, accuracy: 0.9266666666666666\n",
      "Under tolerance 15, accuracy: 0.95\n",
      "Under tolerance 20, accuracy: 0.9566666666666667\n",
      "max error Marcel: 116.5\n",
      "max error Sylvain: 21.0\n",
      "max error Conrad: 13.0\n",
      "100% accuracy tolerance: 116.5\n",
      "mean absolute error: 5.18\n"
     ]
    }
   ],
   "source": [
    "print('location search result:')\n",
    "evaluate_total(location_search_result, tops_test)"
   ]
  },
  {
   "cell_type": "code",
   "execution_count": 21,
   "id": "d49c2042",
   "metadata": {},
   "outputs": [
    {
     "data": {
      "image/png": "[encoded data removed]",
      "text/plain": [
       "<Figure size 1500x600 with 2 Axes>"
      ]
     },
     "metadata": {},
     "output_type": "display_data"
    }
   ],
   "source": [
    "index = 27\n",
    "\n",
    "sample_distribution = np.array(F.softmax(torch.tensor(preds_test[index]), dim = 1))\n",
    "sample_preds = np.argmax(sample_distribution, axis=1)\n",
    "sample_y = y_test[index]\n",
    "sample_depth = depth_test[index]\n",
    "\n",
    "mask = sample_y != 0\n",
    "sample_distribution = sample_distribution[mask]\n",
    "sample_preds = sample_preds[mask]\n",
    "sample_depth = sample_depth[mask]\n",
    "sample_y = sample_y[mask]\n",
    "\n",
    "# get prediction locations\n",
    "pred_locations = location_search_result[index]\n",
    "true_locations = tops_test[index,:]\n",
    "\n",
    "# plot\n",
    "plot_prediction(sample_preds, sample_y, sample_depth, sample_distribution,\n",
    "                    pred_locations, true_locations)"
   ]
  },
  {
   "cell_type": "code",
   "execution_count": null,
   "id": "6202ed1d",
   "metadata": {},
   "outputs": [],
   "source": []
  },
  {
   "cell_type": "code",
   "execution_count": null,
   "id": "e9dc934d",
   "metadata": {},
   "outputs": [],
   "source": []
  }
 ],
 "metadata": {
  "kernelspec": {
   "display_name": "Python 3 (ipykernel)",
   "language": "python",
   "name": "python3"
  },
  "language_info": {
   "codemirror_mode": {
    "name": "ipython",
    "version": 3
   },
   "file_extension": ".py",
   "mimetype": "text/x-python",
   "name": "python",
   "nbconvert_exporter": "python",
   "pygments_lexer": "ipython3",
   "version": "3.9.18"
  }
 },
 "nbformat": 4,
 "nbformat_minor": 5
}
