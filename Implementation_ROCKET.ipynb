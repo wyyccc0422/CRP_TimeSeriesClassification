{
 "cells": [
  {
   "cell_type": "code",
   "execution_count": 1,
   "metadata": {},
   "outputs": [],
   "source": [
    "import pandas as pd\n",
    "import numpy as np\n",
    "import time\n",
    "from utils import dfwellgr,marker_ssig,extract_signature_Xy,plot_simple\n",
    "from sklearn.model_selection import train_test_split\n",
    "import random\n",
    "import matplotlib.pyplot as plt\n",
    "\n",
    "random.seed(42)"
   ]
  },
  {
   "cell_type": "markdown",
   "metadata": {},
   "source": [
    "### Importing Data"
   ]
  },
  {
   "cell_type": "markdown",
   "metadata": {},
   "source": [
    "***About the Data***\n",
    "Parquet Data: columnar type of data\n",
    "- Training\n",
    "1. logs.parquet: wellName, DEPTH,GR --> X_data\n",
    "2. loc.parquet: wellName, Latitude, Longitude -->X_data\n",
    "3. tops.parquet: wellName, depth of 3 different marker ['MARCEL', 'SYLVAIN', 'CONRAD'], wellName is unique here(no duplication) ---> y\n",
    "\n",
    "Goal: using GR as input variable and predict the marker of a given depth "
   ]
  },
  {
   "cell_type": "code",
   "execution_count": 2,
   "metadata": {},
   "outputs": [
    {
     "data": {
      "text/html": [
       "<div>\n",
       "<style scoped>\n",
       "    .dataframe tbody tr th:only-of-type {\n",
       "        vertical-align: middle;\n",
       "    }\n",
       "\n",
       "    .dataframe tbody tr th {\n",
       "        vertical-align: top;\n",
       "    }\n",
       "\n",
       "    .dataframe thead th {\n",
       "        text-align: right;\n",
       "    }\n",
       "</style>\n",
       "<table border=\"1\" class=\"dataframe\">\n",
       "  <thead>\n",
       "    <tr style=\"text-align: right;\">\n",
       "      <th></th>\n",
       "      <th>MARCEL</th>\n",
       "      <th>SYLVAIN</th>\n",
       "      <th>CONRAD</th>\n",
       "    </tr>\n",
       "    <tr>\n",
       "      <th>wellName</th>\n",
       "      <th></th>\n",
       "      <th></th>\n",
       "      <th></th>\n",
       "    </tr>\n",
       "  </thead>\n",
       "  <tbody>\n",
       "    <tr>\n",
       "      <th>512325378.0</th>\n",
       "      <td>6509.0</td>\n",
       "      <td>6794.0</td>\n",
       "      <td>6792.0</td>\n",
       "    </tr>\n",
       "    <tr>\n",
       "      <th>512330897.0</th>\n",
       "      <td>6351.0</td>\n",
       "      <td>6617.0</td>\n",
       "      <td>6367.0</td>\n",
       "    </tr>\n",
       "  </tbody>\n",
       "</table>\n",
       "</div>"
      ],
      "text/plain": [
       "             MARCEL  SYLVAIN  CONRAD\n",
       "wellName                            \n",
       "512325378.0  6509.0   6794.0  6792.0\n",
       "512330897.0  6351.0   6617.0  6367.0"
      ]
     },
     "execution_count": 2,
     "metadata": {},
     "output_type": "execute_result"
    }
   ],
   "source": [
    "#LOAD DATA\n",
    "df_tops = pd.read_parquet('Training/tops.parquet', engine='fastparquet')\n",
    "cols = ['MARCEL', 'SYLVAIN', 'CONRAD']\n",
    "df_tops = df_tops[cols]\n",
    "df_tops.dropna(inplace = True)\n",
    "df_tops[df_tops['CONRAD'] - df_tops['SYLVAIN'] < 0] #Here we can see incorrect data"
   ]
  },
  {
   "cell_type": "code",
   "execution_count": 3,
   "metadata": {},
   "outputs": [
    {
     "data": {
      "text/plain": [
       "5900.0"
      ]
     },
     "execution_count": 3,
     "metadata": {},
     "output_type": "execute_result"
    }
   ],
   "source": [
    "df_tops['MARCEL'].min()"
   ]
  },
  {
   "cell_type": "code",
   "execution_count": 40,
   "metadata": {},
   "outputs": [
    {
     "data": {
      "text/html": [
       "<div>\n",
       "<style scoped>\n",
       "    .dataframe tbody tr th:only-of-type {\n",
       "        vertical-align: middle;\n",
       "    }\n",
       "\n",
       "    .dataframe tbody tr th {\n",
       "        vertical-align: top;\n",
       "    }\n",
       "\n",
       "    .dataframe thead th {\n",
       "        text-align: right;\n",
       "    }\n",
       "</style>\n",
       "<table border=\"1\" class=\"dataframe\">\n",
       "  <thead>\n",
       "    <tr style=\"text-align: right;\">\n",
       "      <th></th>\n",
       "      <th>wellName</th>\n",
       "      <th>Latitude</th>\n",
       "      <th>Longitude</th>\n",
       "      <th>DEPTH</th>\n",
       "      <th>GR</th>\n",
       "    </tr>\n",
       "  </thead>\n",
       "  <tbody>\n",
       "    <tr>\n",
       "      <th>0</th>\n",
       "      <td>512320698.0</td>\n",
       "      <td>48.673353</td>\n",
       "      <td>2.145178</td>\n",
       "      <td>421.0</td>\n",
       "      <td>96.9752</td>\n",
       "    </tr>\n",
       "    <tr>\n",
       "      <th>1</th>\n",
       "      <td>512320698.0</td>\n",
       "      <td>48.673353</td>\n",
       "      <td>2.145178</td>\n",
       "      <td>421.5</td>\n",
       "      <td>102.3324</td>\n",
       "    </tr>\n",
       "    <tr>\n",
       "      <th>2</th>\n",
       "      <td>512320698.0</td>\n",
       "      <td>48.673353</td>\n",
       "      <td>2.145178</td>\n",
       "      <td>422.0</td>\n",
       "      <td>104.6432</td>\n",
       "    </tr>\n",
       "    <tr>\n",
       "      <th>3</th>\n",
       "      <td>512320698.0</td>\n",
       "      <td>48.673353</td>\n",
       "      <td>2.145178</td>\n",
       "      <td>422.5</td>\n",
       "      <td>99.2187</td>\n",
       "    </tr>\n",
       "    <tr>\n",
       "      <th>4</th>\n",
       "      <td>512320698.0</td>\n",
       "      <td>48.673353</td>\n",
       "      <td>2.145178</td>\n",
       "      <td>423.0</td>\n",
       "      <td>92.0200</td>\n",
       "    </tr>\n",
       "  </tbody>\n",
       "</table>\n",
       "</div>"
      ],
      "text/plain": [
       "      wellName   Latitude  Longitude  DEPTH        GR\n",
       "0  512320698.0  48.673353   2.145178  421.0   96.9752\n",
       "1  512320698.0  48.673353   2.145178  421.5  102.3324\n",
       "2  512320698.0  48.673353   2.145178  422.0  104.6432\n",
       "3  512320698.0  48.673353   2.145178  422.5   99.2187\n",
       "4  512320698.0  48.673353   2.145178  423.0   92.0200"
      ]
     },
     "execution_count": 40,
     "metadata": {},
     "output_type": "execute_result"
    }
   ],
   "source": [
    "df_loc = pd.read_parquet('Training/loc.parquet', engine='fastparquet').reset_index()\n",
    "df_log = pd.read_parquet('Training/logs.parquet', engine='fastparquet') #read parquet as DataFrame\n",
    "df_log.loc[df_log['GR'] < -1, 'GR' ] = -1 #when GR<-1, change it to -1\n",
    "\n",
    "df_log = df_loc.merge(df_log, how = 'inner', left_on = 'wellName', right_on = 'wellName') #merge loc info and depth info\n",
    "df_log.head()"
   ]
  },
  {
   "cell_type": "code",
   "execution_count": 41,
   "metadata": {},
   "outputs": [],
   "source": [
    "# Load the training_well array from the file which contains the wells with good signature cluster\n",
    "#shape (3,1)\n",
    "well_array = np.load('hackaton_training_well_one.npy', allow_pickle=True)"
   ]
  },
  {
   "cell_type": "markdown",
   "metadata": {},
   "source": [
    "### Visulization(TO BE COMPLETED)"
   ]
  },
  {
   "cell_type": "code",
   "execution_count": 6,
   "metadata": {},
   "outputs": [
    {
     "data": {
      "image/png": "[encoded data removed]",
      "text/plain": [
       "<Figure size 800x300 with 1 Axes>"
      ]
     },
     "metadata": {},
     "output_type": "display_data"
    }
   ],
   "source": [
    "plot_simple(512320698.0,df_log,df_tops)"
   ]
  },
  {
   "cell_type": "markdown",
   "metadata": {},
   "source": [
    "### Create Dataset For Training"
   ]
  },
  {
   "cell_type": "code",
   "execution_count": 7,
   "metadata": {},
   "outputs": [
    {
     "data": {
      "application/vnd.jupyter.widget-view+json": {
       "model_id": "bb11f46fec5048cfb6735ba73ccdd503",
       "version_major": 2,
       "version_minor": 0
      },
      "text/plain": [
       "Processing wells:   0%|          | 0/534 [00:00<?, ?it/s]"
      ]
     },
     "metadata": {},
     "output_type": "display_data"
    },
    {
     "name": "stdout",
     "output_type": "stream",
     "text": [
      "Data Saved Successfully\n"
     ]
    }
   ],
   "source": [
    "#Create dataset for training with window size 200\n",
    "input_variable = ['GR']\n",
    "X, y = extract_signature_Xy(df_log,df_tops,well_array, input_variable, wsize=201 )"
   ]
  },
  {
   "cell_type": "code",
   "execution_count": 64,
   "metadata": {},
   "outputs": [
    {
     "data": {
      "application/vnd.jupyter.widget-view+json": {
       "model_id": "f290bbde770e481bb042daf216522ea3",
       "version_major": 2,
       "version_minor": 0
      },
      "text/plain": [
       "Processing wells:   0%|          | 0/534 [00:00<?, ?it/s]"
      ]
     },
     "metadata": {},
     "output_type": "display_data"
    },
    {
     "name": "stdout",
     "output_type": "stream",
     "text": [
      "Data Saved Successfully\n"
     ]
    }
   ],
   "source": [
    "#Create dataset for training with window size 100\n",
    "input_variable = ['GR']\n",
    "X, y = extract_signature_Xy(df_log,df_tops,well_array, input_variable, wsize=101 )"
   ]
  },
  {
   "cell_type": "code",
   "execution_count": 9,
   "metadata": {},
   "outputs": [
    {
     "data": {
      "application/vnd.jupyter.widget-view+json": {
       "model_id": "7c40b3535a854a6db52c052259a6d7a3",
       "version_major": 2,
       "version_minor": 0
      },
      "text/plain": [
       "Processing wells:   0%|          | 0/534 [00:00<?, ?it/s]"
      ]
     },
     "metadata": {},
     "output_type": "display_data"
    },
    {
     "name": "stdout",
     "output_type": "stream",
     "text": [
      "Data Saved Successfully\n"
     ]
    }
   ],
   "source": [
    "#Create dataset for training with window size 50\n",
    "input_variable = ['GR']\n",
    "X_50, y_50 = extract_signature_Xy(df_log,df_tops,well_array, input_variable, wsize=51 )"
   ]
  },
  {
   "cell_type": "code",
   "execution_count": 42,
   "metadata": {},
   "outputs": [
    {
     "data": {
      "application/vnd.jupyter.widget-view+json": {
       "model_id": "3ddd87a625f24fd892afd0df83c394df",
       "version_major": 2,
       "version_minor": 0
      },
      "text/plain": [
       "Processing wells:   0%|          | 0/534 [00:00<?, ?it/s]"
      ]
     },
     "metadata": {},
     "output_type": "display_data"
    },
    {
     "name": "stdout",
     "output_type": "stream",
     "text": [
      "Data Saved Successfully\n"
     ]
    }
   ],
   "source": [
    "#Create dataset for training with window size 50\n",
    "input_variable = ['GR']\n",
    "X_50, y_50 = extract_signature_Xy(df_log,df_tops,well_array, input_variable, wsize=21 )"
   ]
  },
  {
   "cell_type": "markdown",
   "metadata": {},
   "source": [
    "### LOAD Testing Data"
   ]
  },
  {
   "cell_type": "code",
   "execution_count": 4,
   "metadata": {},
   "outputs": [],
   "source": [
    "#Load Testing Data\n",
    "df_test_log = pd.read_parquet('testdata/logs_50.parquet', engine='fastparquet')\n",
    "df_test_log.loc[df_test_log['GR'] < -1, 'GR' ] = -1\n",
    "df_test_log.loc[df_test_log['GR'] > 400, 'GR' ] = 400\n",
    "\n",
    "df_test_loc = pd.read_parquet('testdata/loc_50.parquet', engine='fastparquet')\n",
    "df_test_loc = df_test_loc.reset_index()\n",
    "\n",
    "df_test_log = df_test_loc.merge(df_test_log, how = 'inner', left_on = 'wellName', right_on = 'wellName')\n",
    "\n",
    "df_test_tops = pd.read_csv('testdata/tops_50.csv')\n",
    "df_test_tops = df_test_tops.set_index('wellName')\n",
    "cols = ['MARCEL', 'SYLVAIN', 'CONRAD']\n",
    "df_test_tops = df_test_tops[cols]"
   ]
  },
  {
   "cell_type": "markdown",
   "metadata": {},
   "source": [
    "### Pyts ROCKET & Improved Pyts ROCKET"
   ]
  },
  {
   "cell_type": "code",
   "execution_count": 5,
   "metadata": {},
   "outputs": [],
   "source": [
    "import time\n",
    "from rocket.new_rocket import Rocket_Faster as ROCKET\n",
    "from pyts.transformation import ROCKET as pytsROCKET\n",
    "\n",
    "\n",
    "#Import For Classification \n",
    "from sklearn.linear_model import RidgeClassifierCV\n",
    "from sklearn.linear_model import LogisticRegression\n",
    "import xgboost as xgb\n",
    "\n",
    "#Import For Testing \n",
    "from utils import window, plot_pred_distribution\n",
    "from utils import get_markers_rocket_order, get_markers_rocket_order_with_constraints\n",
    "\n",
    "from IPython.display import clear_output\n",
    "import statistics"
   ]
  },
  {
   "cell_type": "code",
   "execution_count": 6,
   "metadata": {},
   "outputs": [],
   "source": [
    "# EVALUATION FUNCTIONS\n",
    "def recall_tops(df_tops_true, df_tops_pred, tolerance = 4):\n",
    "\n",
    "    if set(df_tops_true.columns) == set(df_tops_pred.columns) :\n",
    "        concat_df = df_tops_true.copy()\n",
    "        for col in df_tops_pred.columns:\n",
    "            concat_df[col+\"_pred\"] = df_tops_pred[col]\n",
    "        tp = 0\n",
    "        p = 0\n",
    "        mae = 0\n",
    "        for col in df_tops_true:\n",
    "            diffname = \"{0}_ae\".format(col)\n",
    "            tpname = \"{0}_tp\".format(col)\n",
    "            p += concat_df[col].count()\n",
    "            concat_df[diffname] = concat_df[col]-concat_df[str(col + \"_pred\")]\n",
    "            concat_df[diffname] = concat_df[diffname].abs()\n",
    "            concat_df[tpname] = concat_df[diffname] <= tolerance\n",
    "            tp += concat_df[tpname].sum()\n",
    "            mae += concat_df[diffname].sum()\n",
    "        return tp/p, mae/p, concat_df\n",
    "    else :\n",
    "        print(\"the tops columns are not valid\")\n",
    "    return None,None,None\n",
    "\n",
    "def find_optimal_tolerance(df_test_tops, df_tops_pred):\n",
    "    tolerance = 1\n",
    "    while True:\n",
    "        recall, mae, _ = recall_tops(df_test_tops, df_tops_pred, tolerance)\n",
    "        if recall == 1:\n",
    "            return tolerance\n",
    "        tolerance += 1"
   ]
  },
  {
   "cell_type": "markdown",
   "metadata": {},
   "source": [
    "### Wsize = 200"
   ]
  },
  {
   "cell_type": "code",
   "execution_count": 21,
   "metadata": {},
   "outputs": [],
   "source": [
    "#Load prepared Dataset\n",
    "X = np.load('prepared_data/X_201.npy')\n",
    "y = np.load('prepared_data/y_201.npy')"
   ]
  },
  {
   "cell_type": "markdown",
   "metadata": {},
   "source": [
    "#### FIT & TRANSFORM"
   ]
  },
  {
   "cell_type": "code",
   "execution_count": 29,
   "metadata": {},
   "outputs": [
    {
     "name": "stdout",
     "output_type": "stream",
     "text": [
      "Fitting time for faster ROCKET: 0.0185239315032959\n",
      "Fitting time for pyts ROCKET: 0.015083074569702148\n",
      "Transforming time for faster ROCKET: 6.922010898590088\n",
      "Transforming time for pyts ROCKET: 37.6589138507843\n"
     ]
    }
   ],
   "source": [
    "# ONLY RUN THIS CELL IF YOU WANT TO USE WSIZE 200\n",
    "#Split into Train & Validation \n",
    "X_train, X_test, y_train, y_test = train_test_split(X, y, test_size=0.2, random_state=42)\n",
    "X_train_reshaped = X_train.reshape(X_train.shape[0], -1)\n",
    "\n",
    "rocket_faster = ROCKET(n_kernels=10000)\n",
    "pyts_rocket = pytsROCKET(n_kernels=10000)\n",
    "\n",
    "## Fit --> reduced time for fitting \n",
    "start = time.time()\n",
    "rocket_faster.fit(X_train_reshaped)\n",
    "et = time.time() - start\n",
    "print(f'Fitting time for faster ROCKET: {et}')\n",
    "\n",
    "start = time.time()\n",
    "pyts_rocket.fit(X_train_reshaped)\n",
    "et = time.time() - start\n",
    "print(f'Fitting time for pyts ROCKET: {et}')\n",
    "\n",
    "## Transform --> reduced time for transforming \n",
    "start = time.time()\n",
    "X_train_transformed = rocket_faster.transform(X_train_reshaped)\n",
    "et = time.time() - start\n",
    "print(f'Transforming time for faster ROCKET: {et}')\n",
    "\n",
    "start = time.time()\n",
    "X_train_transformed_pyts = pyts_rocket.transform(X_train_reshaped)\n",
    "et = time.time() - start\n",
    "print(f'Transforming time for pyts ROCKET: {et}')\n",
    "\n",
    "#transform X_test\n",
    "X_test = X_test.reshape(X_test.shape[0], -1)\n",
    "X_test_transformed = rocket_faster.transform(X_test)\n"
   ]
  },
  {
   "cell_type": "markdown",
   "metadata": {},
   "source": [
    "#### Traditional Classification with the Fast ROCKET (TRAIN & VALIDATION)"
   ]
  },
  {
   "cell_type": "code",
   "execution_count": 9,
   "metadata": {},
   "outputs": [
    {
     "name": "stdout",
     "output_type": "stream",
     "text": [
      "(3367, 20000)\n"
     ]
    },
    {
     "name": "stderr",
     "output_type": "stream",
     "text": [
      "/Library/Frameworks/Python.framework/Versions/3.10/lib/python3.10/site-packages/sklearn/linear_model/_logistic.py:469: ConvergenceWarning: lbfgs failed to converge (status=1):\n",
      "STOP: TOTAL NO. of ITERATIONS REACHED LIMIT.\n",
      "\n",
      "Increase the number of iterations (max_iter) or scale the data as shown in:\n",
      "    https://scikit-learn.org/stable/modules/preprocessing.html\n",
      "Please also refer to the documentation for alternative solver options:\n",
      "    https://scikit-learn.org/stable/modules/linear_model.html#logistic-regression\n",
      "  n_iter_i = _check_optimize_result(\n"
     ]
    },
    {
     "name": "stdout",
     "output_type": "stream",
     "text": [
      " 1 eps: 1.00E-06  C: 1.00E-02   train_acc: 0.99851  valid_acc: 0.99169\n"
     ]
    }
   ],
   "source": [
    "#Ridge\n",
    "classifier = RidgeClassifierCV(alphas=np.logspace(-3, 3, 10))\n",
    "classifier.fit(X_train_transformed, y_train)\n",
    "\n",
    "classifier.score(X_test_transformed, y_test)\n",
    "\n",
    " #XGBoost classifier\n",
    "eps = 1e-6\n",
    "\n",
    "# normalize 'per feature'\n",
    "f_mean = X_train_transformed.mean(axis=0)\n",
    "f_std = X_train_transformed.std(axis=0) + eps\n",
    "X_train_norm = (X_train_transformed - f_mean) / f_std\n",
    "X_valid_norm = (X_test_transformed - f_mean) / f_std\n",
    "print(X_train_norm.shape)\n",
    "\n",
    "classifier_xgb = xgb.XGBClassifier(max_depth=5, n_estimators=100,n_jobs=-1)\n",
    "classifier_xgb.fit(X_train_norm, y_train)\n",
    "preds = classifier_xgb.predict(X_valid_norm)\n",
    "\n",
    "(preds == y_test).mean()\n",
    "\n",
    "##logistic regression\n",
    "\n",
    "eps = 1e-6\n",
    "C = 1e-2\n",
    "f_mean = X_train_transformed.mean(axis=0)\n",
    "f_std = X_train_transformed.std(axis=0) + eps  # epsilon to avoid dividing by 0\n",
    "X_train_tfm2 = (X_train_transformed - f_mean) / f_std\n",
    "X_valid_tfm2 = (X_test_transformed - f_mean) / f_std\n",
    "classifier = LogisticRegression(penalty='l2', C=C, n_jobs=-1)\n",
    "classifier.fit(X_train_tfm2, y_train)\n",
    "probas = classifier.predict_proba(X_train_tfm2)\n",
    "train_score = classifier.score(X_train_tfm2, y_train)\n",
    "val_score = classifier.score(X_valid_tfm2, y_test)\n",
    "print('{:2} eps: {:.2E}  C: {:.2E}   train_acc: {:.5f}  valid_acc: {:.5f}'.format(1, eps, C, train_score, val_score))"
   ]
  },
  {
   "cell_type": "markdown",
   "metadata": {},
   "source": [
    "#### Testing"
   ]
  },
  {
   "cell_type": "code",
   "execution_count": 2,
   "metadata": {},
   "outputs": [
    {
     "ename": "NameError",
     "evalue": "name 'get_markers_rocket_order' is not defined",
     "output_type": "error",
     "traceback": [
      "\u001b[0;31m---------------------------------------------------------------------------\u001b[0m",
      "\u001b[0;31mNameError\u001b[0m                                 Traceback (most recent call last)",
      "Cell \u001b[0;32mIn[2], line 9\u001b[0m\n\u001b[1;32m      6\u001b[0m pred_column \u001b[38;5;241m=\u001b[39m [\u001b[38;5;124m'\u001b[39m\u001b[38;5;124mNone\u001b[39m\u001b[38;5;124m'\u001b[39m,\u001b[38;5;124m'\u001b[39m\u001b[38;5;124mMarcel\u001b[39m\u001b[38;5;124m'\u001b[39m, \u001b[38;5;124m'\u001b[39m\u001b[38;5;124mSylvian\u001b[39m\u001b[38;5;124m'\u001b[39m, \u001b[38;5;124m'\u001b[39m\u001b[38;5;124mConrad\u001b[39m\u001b[38;5;124m'\u001b[39m]\n\u001b[1;32m      8\u001b[0m \u001b[38;5;66;03m#Predict Marker Depth without Constraint \u001b[39;00m\n\u001b[0;32m----> 9\u001b[0m pred_m, df_wm \u001b[38;5;241m=\u001b[39m \u001b[43mget_markers_rocket_order\u001b[49m(f_mean, f_std, df_test_log, well, pred_column, wsize, input_variable, rocket_faster, classifier_xgb, classifier, xgb \u001b[38;5;241m=\u001b[39m \u001b[38;5;28;01mTrue\u001b[39;00m)\n\u001b[1;32m     11\u001b[0m td  \u001b[38;5;241m=\u001b[39m \u001b[38;5;28mlist\u001b[39m(df_test_tops\u001b[38;5;241m.\u001b[39mloc[[well][\u001b[38;5;241m0\u001b[39m]]) \n\u001b[1;32m     12\u001b[0m \u001b[38;5;28mprint\u001b[39m(\u001b[38;5;124mf\u001b[39m\u001b[38;5;124m'\u001b[39m\u001b[38;5;124mPrediction:\u001b[39m\u001b[38;5;132;01m{\u001b[39;00mpred_m\u001b[38;5;132;01m}\u001b[39;00m\u001b[38;5;124m'\u001b[39m)\n",
      "\u001b[0;31mNameError\u001b[0m: name 'get_markers_rocket_order' is not defined"
     ]
    }
   ],
   "source": [
    "# Example Testing with one well before start process prediciton on the entire testing dataset\n",
    "\n",
    "wsize = 201 #adjust as needed\n",
    "well = 512325817\n",
    "input_variable=['GR']\n",
    "pred_column = ['None','Marcel', 'Sylvian', 'Conrad']\n",
    "\n",
    "#Predict Marker Depth without Constraint \n",
    "pred_m, df_wm = get_markers_rocket_order(f_mean, f_std, df_test_log, well, pred_column, wsize, input_variable, rocket_faster, classifier_xgb, classifier, xgb = True)\n",
    "\n",
    "td  = list(df_test_tops.loc[[well][0]]) \n",
    "print(f'Prediction:{pred_m}')\n",
    "print(f'Real:{td}')\n",
    "plot_pred_distribution(td, pred_m, df_wm)"
   ]
  },
  {
   "cell_type": "markdown",
   "metadata": {},
   "source": [
    "Error in the training data:<br>\n",
    "The order of the starting depth of different type of soil(marker) does not follow the logical facts[MARCEL-SYLVAIN-CONARD]<br>\n",
    "But for the two given wells, the depth of CONRAD is higher than the depth of SYLVAIN, whereas it should be found below SYLVAIN. <br>\n",
    "***Thus we will apply a Constraint to the prediciton.***"
   ]
  },
  {
   "cell_type": "code",
   "execution_count": 17,
   "metadata": {},
   "outputs": [
    {
     "name": "stdout",
     "output_type": "stream",
     "text": [
      "Prediction:[6461, 6601, 6628]\n",
      "Real:[6460.0, 6592.0, 6620.0]\n"
     ]
    },
    {
     "data": {
      "image/png": "[encoded data removed]",
      "text/plain": [
       "<Figure size 1000x500 with 2 Axes>"
      ]
     },
     "metadata": {},
     "output_type": "display_data"
    }
   ],
   "source": [
    "#Predict Marker Depth with Constraint \n",
    "pred_m, df_wm = get_markers_rocket_order_with_constraints(f_mean, f_std, df_test_log, well, pred_column, wsize, input_variable, rocket_faster, classifier_xgb, classifier, xgb = True)\n",
    "print(f'Prediction:{pred_m}')\n",
    "print(f'Real:{td}')\n",
    "plot_pred_distribution(td, pred_m, df_wm)"
   ]
  },
  {
   "cell_type": "code",
   "execution_count": 12,
   "metadata": {},
   "outputs": [
    {
     "name": "stdout",
     "output_type": "stream",
     "text": [
      "Total time take 626.5661308765411\n"
     ]
    }
   ],
   "source": [
    "#Predict ALL WITHOUT CONSTRAINTS\n",
    "#create the predicted_tops for all well, by looping trough the list\n",
    "start = time.time()\n",
    "wsize = 201\n",
    "input_variable=['GR']\n",
    "pred_column = ['None','Marcel', 'Sylvian', 'Conrad']\n",
    "df_tops_pred = pd.DataFrame(pd.DataFrame(columns = ['wellName','MARCEL', 'SYLVAIN', 'CONRAD']))\n",
    "\n",
    "for well in df_test_tops.index:\n",
    "    print(well)\n",
    "    pred_m, df_wm = get_markers_rocket_order(f_mean, f_std, df_test_log, well, pred_column, wsize, input_variable, rocket_faster, classifier_xgb, classifier,xgb = True)\n",
    "    print(pred_m)\n",
    "    row = {'wellName':well, 'MARCEL':pred_m[0], 'SYLVAIN':pred_m[1], 'CONRAD':pred_m[2]}\n",
    "    row_df = pd.DataFrame([row])\n",
    "    df_tops_pred = pd.concat([df_tops_pred, row_df], axis = 0, ignore_index = \"True\")\n",
    "\n",
    "clear_output()\n",
    "ext = time.time() - start\n",
    "print('Total time take',ext)\n",
    "df_tops_pred['wellName']  = df_tops_pred['wellName'].astype(float)\n",
    "df_tops_pred = df_tops_pred.sort_values(by = ['wellName']).reset_index().drop(['index'], axis = 1)\n",
    "df_tops_pred = df_tops_pred.set_index('wellName')\n",
    "#df_tops_pred.head()"
   ]
  },
  {
   "cell_type": "code",
   "execution_count": 18,
   "metadata": {},
   "outputs": [
    {
     "name": "stdout",
     "output_type": "stream",
     "text": [
      "tolerance 20, recall 0.9866666666666667, mae 7.76\n",
      "tolerance 15, recall 0.98, mae 7.76\n",
      "tolerance 10, recall 0.9666666666666667, mae 7.76\n",
      "tolerance 5, recall 0.8933333333333333, mae 7.76\n",
      "Largest Error MARCEL: 25.0\n",
      "Largest Error SYLVAIN: 770.0\n",
      "Largest Error CONRAD: 17.0\n",
      "Optimal Tolerance : 770\n"
     ]
    }
   ],
   "source": [
    "#call the evaluate function\n",
    "tr = [20, 15, 10, 5]\n",
    "for tolerance in tr:\n",
    "#recall is percentage of positive values that is correclty identified,\n",
    "# so true positive/ sum of num_all positive\n",
    "    recall, mae, df_result = recall_tops(df_test_tops,df_tops_pred,tolerance)\n",
    "    print(\"tolerance {0}, recall {1}, mae {2}\".format(tolerance, recall, mae))\n",
    "\n",
    "optimal_tolerance = find_optimal_tolerance(df_test_tops, df_tops_pred)\n",
    "print(f\"Largest Error MARCEL: {df_result['MARCEL_ae'].max()}\")\n",
    "print(f\"Largest Error SYLVAIN: {df_result['SYLVAIN_ae'].max()}\")\n",
    "print(f\"Largest Error CONRAD: {df_result['CONRAD_ae'].max()}\")\n",
    "print(\"Optimal Tolerance :\", optimal_tolerance)"
   ]
  },
  {
   "cell_type": "code",
   "execution_count": 19,
   "metadata": {},
   "outputs": [
    {
     "name": "stdout",
     "output_type": "stream",
     "text": [
      "Total time take 619.0301849842072\n"
     ]
    }
   ],
   "source": [
    "#Predict ALL WITHOUT CONSTRAINTS\n",
    "#create the predicted_tops for all well, by looping trough the list\n",
    "start = time.time()\n",
    "wsize = 201\n",
    "input_variable=['GR']\n",
    "pred_column = ['None','Marcel', 'Sylvian', 'Conrad']\n",
    "df_tops_pred = pd.DataFrame(pd.DataFrame(columns = ['wellName','MARCEL', 'SYLVAIN', 'CONRAD']))\n",
    "\n",
    "for well in df_test_tops.index:\n",
    "    print(well)\n",
    "    pred_m, df_wm = get_markers_rocket_order_with_constraints(f_mean, f_std, df_test_log, well, pred_column, wsize, input_variable, rocket_faster, classifier_xgb, classifier,xgb = True)\n",
    "    print(pred_m)\n",
    "    row = {'wellName':well, 'MARCEL':pred_m[0], 'SYLVAIN':pred_m[1], 'CONRAD':pred_m[2]}\n",
    "    row_df = pd.DataFrame([row])\n",
    "    df_tops_pred = pd.concat([df_tops_pred, row_df], axis = 0, ignore_index = \"True\")\n",
    "\n",
    "clear_output()\n",
    "ext = time.time() - start\n",
    "print('Total time take',ext)\n",
    "df_tops_pred['wellName']  = df_tops_pred['wellName'].astype(float)\n",
    "df_tops_pred = df_tops_pred.sort_values(by = ['wellName']).reset_index().drop(['index'], axis = 1)\n",
    "df_tops_pred = df_tops_pred.set_index('wellName')\n",
    "#df_tops_pred.head()"
   ]
  },
  {
   "cell_type": "code",
   "execution_count": 20,
   "metadata": {},
   "outputs": [
    {
     "name": "stdout",
     "output_type": "stream",
     "text": [
      "tolerance 20, recall 0.9933333333333333, mae 2.6866666666666665\n",
      "tolerance 15, recall 0.9866666666666667, mae 2.6866666666666665\n",
      "tolerance 10, recall 0.9733333333333334, mae 2.6866666666666665\n",
      "tolerance 5, recall 0.8933333333333333, mae 2.6866666666666665\n",
      "Largest Error MARCEL: 25.0\n",
      "Largest Error SYLVAIN: 13.0\n",
      "Largest Error CONRAD: 17.0\n",
      "Optimal Tolerance : 25\n"
     ]
    }
   ],
   "source": [
    "#call the evaluate function\n",
    "tr = [20, 15, 10, 5]\n",
    "for tolerance in tr:\n",
    "#recall is percentage of positive values that is correclty identified,\n",
    "# so true positive/ sum of num_all positive\n",
    "    recall, mae, df_result = recall_tops(df_test_tops,df_tops_pred,tolerance)\n",
    "    print(\"tolerance {0}, recall {1}, mae {2}\".format(tolerance, recall, mae))\n",
    "\n",
    "optimal_tolerance = find_optimal_tolerance(df_test_tops, df_tops_pred)\n",
    "print(f\"Largest Error MARCEL: {df_result['MARCEL_ae'].max()}\")\n",
    "print(f\"Largest Error SYLVAIN: {df_result['SYLVAIN_ae'].max()}\")\n",
    "print(f\"Largest Error CONRAD: {df_result['CONRAD_ae'].max()}\")\n",
    "print(\"Optimal Tolerance :\", optimal_tolerance)"
   ]
  },
  {
   "cell_type": "markdown",
   "metadata": {},
   "source": [
    "### Wsize = 100"
   ]
  },
  {
   "cell_type": "code",
   "execution_count": 21,
   "metadata": {},
   "outputs": [],
   "source": [
    "#Load prepared Dataset\n",
    "X = np.load('prepared_data/X_101.npy')\n",
    "y = np.load('prepared_data/y_101.npy')"
   ]
  },
  {
   "cell_type": "markdown",
   "metadata": {},
   "source": [
    "#### FIT & TRANSFORM"
   ]
  },
  {
   "cell_type": "code",
   "execution_count": 22,
   "metadata": {},
   "outputs": [
    {
     "name": "stdout",
     "output_type": "stream",
     "text": [
      "Fitting time for faster ROCKET: 0.013289928436279297\n",
      "Fitting time for pyts ROCKET: 0.007931947708129883\n",
      "Transforming time for faster ROCKET: 3.778454065322876\n",
      "Transforming time for pyts ROCKET: 23.94534397125244\n"
     ]
    }
   ],
   "source": [
    "#Split into Train & Validation \n",
    "X_train, X_test, y_train, y_test = train_test_split(X, y, test_size=0.2, random_state=42)\n",
    "X_train_reshaped = X_train.reshape(X_train.shape[0], -1)\n",
    "\n",
    "rocket_faster = ROCKET()\n",
    "pyts_rocket = pytsROCKET()\n",
    "\n",
    "## Fit --> reduced time for fitting \n",
    "start = time.time()\n",
    "rocket_faster.fit(X_train_reshaped)\n",
    "et = time.time() - start\n",
    "print(f'Fitting time for faster ROCKET: {et}')\n",
    "\n",
    "start = time.time()\n",
    "pyts_rocket.fit(X_train_reshaped)\n",
    "et = time.time() - start\n",
    "print(f'Fitting time for pyts ROCKET: {et}')\n",
    "\n",
    "## Transform --> reduced time for transforming \n",
    "start = time.time()\n",
    "X_train_transformed = rocket_faster.transform(X_train_reshaped)\n",
    "et = time.time() - start\n",
    "print(f'Transforming time for faster ROCKET: {et}')\n",
    "\n",
    "start = time.time()\n",
    "X_train_transformed_pyts = pyts_rocket.transform(X_train_reshaped)\n",
    "et = time.time() - start\n",
    "print(f'Transforming time for pyts ROCKET: {et}')\n",
    "\n",
    "#transform X_test\n",
    "X_test = X_test.reshape(X_test.shape[0], -1)\n",
    "X_test_transformed = rocket_faster.transform(X_test)"
   ]
  },
  {
   "cell_type": "markdown",
   "metadata": {},
   "source": [
    "#### Fit & Transform for Wsize = 50"
   ]
  },
  {
   "cell_type": "code",
   "execution_count": 4,
   "metadata": {},
   "outputs": [
    {
     "name": "stdout",
     "output_type": "stream",
     "text": [
      "Fitting time for faster ROCKET: 1.0264039039611816\n",
      "Fitting time for pyts ROCKET: 1.2617368698120117\n",
      "Transforming time for faster ROCKET: 3.808624029159546\n",
      "Transforming time for pyts ROCKET: 14.15451717376709\n"
     ]
    }
   ],
   "source": [
    "# ONLY RUN THIS CELL IF YOU WANT TO USE WSIZE 50\n",
    "#Split into Train & Validation \n",
    "X_train, X_test, y_train, y_test = train_test_split(X_50, y_50, test_size=0.2, random_state=42)\n",
    "X_train_reshaped = X_train.reshape(X_train.shape[0], -1)\n",
    "\n",
    "rocket_faster = ROCKET()\n",
    "pyts_rocket = pytsROCKET()\n",
    "\n",
    "## Fit --> reduced time for fitting \n",
    "start = time.time()\n",
    "rocket_faster.fit(X_train_reshaped)\n",
    "et = time.time() - start\n",
    "print(f'Fitting time for faster ROCKET: {et}')\n",
    "\n",
    "start = time.time()\n",
    "pyts_rocket.fit(X_train_reshaped)\n",
    "et = time.time() - start\n",
    "print(f'Fitting time for pyts ROCKET: {et}')\n",
    "\n",
    "## Transform --> reduced time for transforming \n",
    "start = time.time()\n",
    "X_train_transformed = rocket_faster.transform(X_train_reshaped)\n",
    "et = time.time() - start\n",
    "print(f'Transforming time for faster ROCKET: {et}')\n",
    "\n",
    "start = time.time()\n",
    "X_train_transformed_pyts = pyts_rocket.transform(X_train_reshaped)\n",
    "et = time.time() - start\n",
    "print(f'Transforming time for pyts ROCKET: {et}')\n",
    "\n",
    "#transform X_test\n",
    "X_test = X_test.reshape(X_test.shape[0], -1)\n",
    "X_test_transformed = rocket_faster.transform(X_test)\n"
   ]
  },
  {
   "cell_type": "markdown",
   "metadata": {},
   "source": [
    "#### Traditional Classification with the Fast ROCKET (TRAIN & VALIDATION)"
   ]
  },
  {
   "cell_type": "code",
   "execution_count": 23,
   "metadata": {},
   "outputs": [
    {
     "name": "stdout",
     "output_type": "stream",
     "text": [
      "(3369, 20000)\n",
      "0.9988137603795967\n"
     ]
    },
    {
     "name": "stderr",
     "output_type": "stream",
     "text": [
      "/Library/Frameworks/Python.framework/Versions/3.10/lib/python3.10/site-packages/sklearn/linear_model/_logistic.py:469: ConvergenceWarning: lbfgs failed to converge (status=1):\n",
      "STOP: TOTAL NO. of ITERATIONS REACHED LIMIT.\n",
      "\n",
      "Increase the number of iterations (max_iter) or scale the data as shown in:\n",
      "    https://scikit-learn.org/stable/modules/preprocessing.html\n",
      "Please also refer to the documentation for alternative solver options:\n",
      "    https://scikit-learn.org/stable/modules/linear_model.html#logistic-regression\n",
      "  n_iter_i = _check_optimize_result(\n"
     ]
    },
    {
     "name": "stdout",
     "output_type": "stream",
     "text": [
      " 1 eps: 1.00E-06  C: 1.00E-02   train_acc: 0.99970  valid_acc: 0.99763\n"
     ]
    }
   ],
   "source": [
    "#Ridge\n",
    "classifier = RidgeClassifierCV(alphas=np.logspace(-3, 3, 10))\n",
    "classifier.fit(X_train_transformed, y_train)\n",
    "\n",
    "classifier.score(X_test_transformed, y_test)\n",
    "\n",
    "#XGBoost classifier\n",
    "eps = 1e-6\n",
    "\n",
    "# normalize 'per feature'\n",
    "f_mean = X_train_transformed.mean(axis=0)\n",
    "f_std = X_train_transformed.std(axis=0) + eps\n",
    "X_train_norm = (X_train_transformed - f_mean) / f_std\n",
    "X_valid_norm = (X_test_transformed - f_mean) / f_std\n",
    "print(X_train_norm.shape)\n",
    "\n",
    "classifier_xgb = xgb.XGBClassifier(max_depth=5, n_estimators=100,n_jobs=-1)\n",
    "classifier_xgb.fit(X_train_norm, y_train)\n",
    "preds = classifier_xgb.predict(X_valid_norm)\n",
    "\n",
    "print((preds == y_test).mean())\n",
    "\n",
    "##logistic regression\n",
    "\n",
    "eps = 1e-6\n",
    "C = 1e-2\n",
    "f_mean = X_train_transformed.mean(axis=0)\n",
    "f_std = X_train_transformed.std(axis=0) + eps  # epsilon to avoid dividing by 0\n",
    "X_train_tfm2 = (X_train_transformed - f_mean) / f_std\n",
    "X_valid_tfm2 = (X_test_transformed - f_mean) / f_std\n",
    "classifier = LogisticRegression(penalty='l2', C=C, n_jobs=-1)\n",
    "classifier.fit(X_train_tfm2, y_train)\n",
    "probas = classifier.predict_proba(X_train_tfm2)\n",
    "train_score = classifier.score(X_train_tfm2, y_train)\n",
    "val_score = classifier.score(X_valid_tfm2, y_test)\n",
    "print('{:2} eps: {:.2E}  C: {:.2E}   train_acc: {:.5f}  valid_acc: {:.5f}'.format(1, eps, C, train_score, val_score))"
   ]
  },
  {
   "cell_type": "markdown",
   "metadata": {},
   "source": [
    "#### Testing"
   ]
  },
  {
   "cell_type": "code",
   "execution_count": 25,
   "metadata": {},
   "outputs": [
    {
     "name": "stdout",
     "output_type": "stream",
     "text": [
      "Total time take 450.959801197052\n"
     ]
    }
   ],
   "source": [
    "#Predict ALL WITHOUT CONSTRAINTS\n",
    "#create the predicted_tops for all well, by looping trough the list\n",
    "start = time.time()\n",
    "wsize = 101\n",
    "input_variable=['GR']\n",
    "pred_column = ['None','Marcel', 'Sylvian', 'Conrad']\n",
    "df_tops_pred = pd.DataFrame(pd.DataFrame(columns = ['wellName','MARCEL', 'SYLVAIN', 'CONRAD']))\n",
    "\n",
    "for well in df_test_tops.index:\n",
    "    print(well)\n",
    "    pred_m, df_wm = get_markers_rocket_order(f_mean, f_std, df_test_log, well, pred_column, wsize, input_variable, rocket_faster, classifier_xgb, classifier,xgb = True)\n",
    "    print(pred_m)\n",
    "    row = {'wellName':well, 'MARCEL':pred_m[0], 'SYLVAIN':pred_m[1], 'CONRAD':pred_m[2]}\n",
    "    row_df = pd.DataFrame([row])\n",
    "    df_tops_pred = pd.concat([df_tops_pred, row_df], axis = 0, ignore_index = \"True\")\n",
    "\n",
    "clear_output()\n",
    "ext = time.time() - start\n",
    "print('Total time take',ext)\n",
    "df_tops_pred['wellName']  = df_tops_pred['wellName'].astype(float)\n",
    "df_tops_pred = df_tops_pred.sort_values(by = ['wellName']).reset_index().drop(['index'], axis = 1)\n",
    "df_tops_pred = df_tops_pred.set_index('wellName')\n",
    "#df_tops_pred.head()"
   ]
  },
  {
   "cell_type": "code",
   "execution_count": 26,
   "metadata": {},
   "outputs": [
    {
     "name": "stdout",
     "output_type": "stream",
     "text": [
      "tolerance 20, recall 0.9733333333333334, mae 3.7133333333333334\n",
      "tolerance 15, recall 0.9733333333333334, mae 3.7133333333333334\n",
      "tolerance 10, recall 0.9666666666666667, mae 3.7133333333333334\n",
      "tolerance 5, recall 0.9333333333333333, mae 3.7133333333333334\n",
      "Largest Error MARCEL: 123.0\n",
      "Largest Error SYLVAIN: 24.0\n",
      "Largest Error CONRAD: 9.0\n",
      "Optimal Tolerance : 123\n"
     ]
    }
   ],
   "source": [
    "#call the evaluate function\n",
    "tr = [20, 15, 10, 5]\n",
    "for tolerance in tr:\n",
    "#recall is percentage of positive values that is correclty identified,\n",
    "# so true positive/ sum of num_all positive\n",
    "    recall, mae, df_result = recall_tops(df_test_tops,df_tops_pred,tolerance)\n",
    "    print(\"tolerance {0}, recall {1}, mae {2}\".format(tolerance, recall, mae))\n",
    "\n",
    "optimal_tolerance = find_optimal_tolerance(df_test_tops, df_tops_pred)\n",
    "print(f\"Largest Error MARCEL: {df_result['MARCEL_ae'].max()}\")\n",
    "print(f\"Largest Error SYLVAIN: {df_result['SYLVAIN_ae'].max()}\")\n",
    "print(f\"Largest Error CONRAD: {df_result['CONRAD_ae'].max()}\")\n",
    "print(\"Optimal Tolerance :\", optimal_tolerance)"
   ]
  },
  {
   "cell_type": "code",
   "execution_count": 28,
   "metadata": {},
   "outputs": [
    {
     "name": "stdout",
     "output_type": "stream",
     "text": [
      "Total time take 451.16542172431946\n"
     ]
    }
   ],
   "source": [
    "#Predict ALL WITHOUT CONSTRAINTS\n",
    "#create the predicted_tops for all well, by looping trough the list\n",
    "start = time.time()\n",
    "wsize = 101\n",
    "input_variable=['GR']\n",
    "pred_column = ['None','Marcel', 'Sylvian', 'Conrad']\n",
    "df_tops_pred = pd.DataFrame(pd.DataFrame(columns = ['wellName','MARCEL', 'SYLVAIN', 'CONRAD']))\n",
    "\n",
    "for well in df_test_tops.index:\n",
    "    print(well)\n",
    "    pred_m, df_wm = get_markers_rocket_order_with_constraints(f_mean, f_std, df_test_log, well, pred_column, wsize, input_variable, rocket_faster, classifier_xgb, classifier,xgb = True)\n",
    "    print(pred_m)\n",
    "    row = {'wellName':well, 'MARCEL':pred_m[0], 'SYLVAIN':pred_m[1], 'CONRAD':pred_m[2]}\n",
    "    row_df = pd.DataFrame([row])\n",
    "    df_tops_pred = pd.concat([df_tops_pred, row_df], axis = 0, ignore_index = \"True\")\n",
    "\n",
    "clear_output()\n",
    "ext = time.time() - start\n",
    "print('Total time take',ext)\n",
    "df_tops_pred['wellName']  = df_tops_pred['wellName'].astype(float)\n",
    "df_tops_pred = df_tops_pred.sort_values(by = ['wellName']).reset_index().drop(['index'], axis = 1)\n",
    "df_tops_pred = df_tops_pred.set_index('wellName')\n",
    "#df_tops_pred.head()"
   ]
  },
  {
   "cell_type": "code",
   "execution_count": 29,
   "metadata": {},
   "outputs": [
    {
     "name": "stdout",
     "output_type": "stream",
     "text": [
      "tolerance 20, recall 0.9733333333333334, mae 3.7133333333333334\n",
      "tolerance 15, recall 0.9733333333333334, mae 3.7133333333333334\n",
      "tolerance 10, recall 0.9666666666666667, mae 3.7133333333333334\n",
      "tolerance 5, recall 0.9333333333333333, mae 3.7133333333333334\n",
      "Largest Error MARCEL: 123.0\n",
      "Largest Error SYLVAIN: 24.0\n",
      "Largest Error CONRAD: 9.0\n",
      "Optimal Tolerance : 123\n"
     ]
    }
   ],
   "source": [
    "#call the evaluate function\n",
    "tr = [20, 15, 10, 5]\n",
    "for tolerance in tr:\n",
    "#recall is percentage of positive values that is correclty identified,\n",
    "# so true positive/ sum of num_all positive\n",
    "    recall, mae, df_result = recall_tops(df_test_tops,df_tops_pred,tolerance)\n",
    "    print(\"tolerance {0}, recall {1}, mae {2}\".format(tolerance, recall, mae))\n",
    "\n",
    "optimal_tolerance = find_optimal_tolerance(df_test_tops, df_tops_pred)\n",
    "print(f\"Largest Error MARCEL: {df_result['MARCEL_ae'].max()}\")\n",
    "print(f\"Largest Error SYLVAIN: {df_result['SYLVAIN_ae'].max()}\")\n",
    "print(f\"Largest Error CONRAD: {df_result['CONRAD_ae'].max()}\")\n",
    "print(\"Optimal Tolerance :\", optimal_tolerance)"
   ]
  },
  {
   "cell_type": "markdown",
   "metadata": {},
   "source": [
    "### Wsize = 50"
   ]
  },
  {
   "cell_type": "code",
   "execution_count": 30,
   "metadata": {},
   "outputs": [],
   "source": [
    "#Load prepared Dataset\n",
    "X = np.load('prepared_data/X_51.npy')\n",
    "y = np.load('prepared_data/y_51.npy')"
   ]
  },
  {
   "cell_type": "markdown",
   "metadata": {},
   "source": [
    "#### FIT & TRANSFORM"
   ]
  },
  {
   "cell_type": "code",
   "execution_count": 33,
   "metadata": {},
   "outputs": [
    {
     "name": "stdout",
     "output_type": "stream",
     "text": [
      "Fitting time for faster ROCKET: 0.01300811767578125\n",
      "Fitting time for pyts ROCKET: 0.006494045257568359\n",
      "Transforming time for faster ROCKET: 2.794752836227417\n",
      "Transforming time for pyts ROCKET: 16.462060928344727\n"
     ]
    }
   ],
   "source": [
    "#Split into Train & Validation \n",
    "X_train, X_test, y_train, y_test = train_test_split(X, y, test_size=0.2, random_state=42)\n",
    "X_train_reshaped = X_train.reshape(X_train.shape[0], -1)\n",
    "\n",
    "rocket_faster = ROCKET()\n",
    "pyts_rocket = pytsROCKET()\n",
    "\n",
    "## Fit --> reduced time for fitting \n",
    "start = time.time()\n",
    "rocket_faster.fit(X_train_reshaped)\n",
    "et = time.time() - start\n",
    "print(f'Fitting time for faster ROCKET: {et}')\n",
    "\n",
    "start = time.time()\n",
    "pyts_rocket.fit(X_train_reshaped)\n",
    "et = time.time() - start\n",
    "print(f'Fitting time for pyts ROCKET: {et}')\n",
    "\n",
    "## Transform --> reduced time for transforming \n",
    "start = time.time()\n",
    "X_train_transformed = rocket_faster.transform(X_train_reshaped)\n",
    "et = time.time() - start\n",
    "print(f'Transforming time for faster ROCKET: {et}')\n",
    "\n",
    "start = time.time()\n",
    "X_train_transformed_pyts = pyts_rocket.transform(X_train_reshaped)\n",
    "et = time.time() - start\n",
    "print(f'Transforming time for pyts ROCKET: {et}')\n",
    "\n",
    "#transform X_test\n",
    "X_test = X_test.reshape(X_test.shape[0], -1)\n",
    "X_test_transformed = rocket_faster.transform(X_test)"
   ]
  },
  {
   "cell_type": "markdown",
   "metadata": {},
   "source": [
    "#### Traditional Classification with the Fast ROCKET (TRAIN & VALIDATION)"
   ]
  },
  {
   "cell_type": "code",
   "execution_count": 34,
   "metadata": {},
   "outputs": [
    {
     "name": "stdout",
     "output_type": "stream",
     "text": [
      "(3369, 20000)\n",
      "0.9893238434163701\n"
     ]
    },
    {
     "name": "stderr",
     "output_type": "stream",
     "text": [
      "/Library/Frameworks/Python.framework/Versions/3.10/lib/python3.10/site-packages/sklearn/linear_model/_logistic.py:469: ConvergenceWarning: lbfgs failed to converge (status=1):\n",
      "STOP: TOTAL NO. of ITERATIONS REACHED LIMIT.\n",
      "\n",
      "Increase the number of iterations (max_iter) or scale the data as shown in:\n",
      "    https://scikit-learn.org/stable/modules/preprocessing.html\n",
      "Please also refer to the documentation for alternative solver options:\n",
      "    https://scikit-learn.org/stable/modules/linear_model.html#logistic-regression\n",
      "  n_iter_i = _check_optimize_result(\n"
     ]
    },
    {
     "name": "stdout",
     "output_type": "stream",
     "text": [
      " 1 eps: 1.00E-06  C: 1.00E-02   train_acc: 0.99763  valid_acc: 0.99051\n"
     ]
    }
   ],
   "source": [
    "#Ridge\n",
    "classifier = RidgeClassifierCV(alphas=np.logspace(-3, 3, 10))\n",
    "classifier.fit(X_train_transformed, y_train)\n",
    "\n",
    "classifier.score(X_test_transformed, y_test)\n",
    "\n",
    "#XGBoost classifier\n",
    "eps = 1e-6\n",
    "\n",
    "# normalize 'per feature'\n",
    "f_mean = X_train_transformed.mean(axis=0)\n",
    "f_std = X_train_transformed.std(axis=0) + eps\n",
    "X_train_norm = (X_train_transformed - f_mean) / f_std\n",
    "X_valid_norm = (X_test_transformed - f_mean) / f_std\n",
    "print(X_train_norm.shape)\n",
    "\n",
    "classifier_xgb = xgb.XGBClassifier(max_depth=5, n_estimators=100,n_jobs=-1)\n",
    "classifier_xgb.fit(X_train_norm, y_train)\n",
    "preds = classifier_xgb.predict(X_valid_norm)\n",
    "\n",
    "print((preds == y_test).mean())\n",
    "\n",
    "##logistic regression\n",
    "\n",
    "eps = 1e-6\n",
    "C = 1e-2\n",
    "f_mean = X_train_transformed.mean(axis=0)\n",
    "f_std = X_train_transformed.std(axis=0) + eps  # epsilon to avoid dividing by 0\n",
    "X_train_tfm2 = (X_train_transformed - f_mean) / f_std\n",
    "X_valid_tfm2 = (X_test_transformed - f_mean) / f_std\n",
    "classifier = LogisticRegression(penalty='l2', C=C, n_jobs=-1)\n",
    "classifier.fit(X_train_tfm2, y_train)\n",
    "probas = classifier.predict_proba(X_train_tfm2)\n",
    "train_score = classifier.score(X_train_tfm2, y_train)\n",
    "val_score = classifier.score(X_valid_tfm2, y_test)\n",
    "print('{:2} eps: {:.2E}  C: {:.2E}   train_acc: {:.5f}  valid_acc: {:.5f}'.format(1, eps, C, train_score, val_score))"
   ]
  },
  {
   "cell_type": "markdown",
   "metadata": {},
   "source": [
    "#### Testing"
   ]
  },
  {
   "cell_type": "code",
   "execution_count": 35,
   "metadata": {},
   "outputs": [
    {
     "name": "stdout",
     "output_type": "stream",
     "text": [
      "Total time take 348.1744656562805\n"
     ]
    }
   ],
   "source": [
    "#Predict ALL WITHOUT CONSTRAINTS\n",
    "#create the predicted_tops for all well, by looping trough the list\n",
    "start = time.time()\n",
    "wsize = 51\n",
    "input_variable=['GR']\n",
    "pred_column = ['None','Marcel', 'Sylvian', 'Conrad']\n",
    "df_tops_pred = pd.DataFrame(pd.DataFrame(columns = ['wellName','MARCEL', 'SYLVAIN', 'CONRAD']))\n",
    "\n",
    "for well in df_test_tops.index:\n",
    "    print(well)\n",
    "    pred_m, df_wm = get_markers_rocket_order(f_mean, f_std, df_test_log, well, pred_column, wsize, input_variable, rocket_faster, classifier_xgb, classifier,xgb = True)\n",
    "    print(pred_m)\n",
    "    row = {'wellName':well, 'MARCEL':pred_m[0], 'SYLVAIN':pred_m[1], 'CONRAD':pred_m[2]}\n",
    "    row_df = pd.DataFrame([row])\n",
    "    df_tops_pred = pd.concat([df_tops_pred, row_df], axis = 0, ignore_index = \"True\")\n",
    "\n",
    "clear_output()\n",
    "ext = time.time() - start\n",
    "print('Total time take',ext)\n",
    "df_tops_pred['wellName']  = df_tops_pred['wellName'].astype(float)\n",
    "df_tops_pred = df_tops_pred.sort_values(by = ['wellName']).reset_index().drop(['index'], axis = 1)\n",
    "df_tops_pred = df_tops_pred.set_index('wellName')\n",
    "#df_tops_pred.head()"
   ]
  },
  {
   "cell_type": "code",
   "execution_count": 36,
   "metadata": {},
   "outputs": [
    {
     "name": "stdout",
     "output_type": "stream",
     "text": [
      "tolerance 20, recall 0.96, mae 4.8966666666666665\n",
      "tolerance 15, recall 0.96, mae 4.8966666666666665\n",
      "tolerance 10, recall 0.9333333333333333, mae 4.8966666666666665\n",
      "tolerance 5, recall 0.9133333333333333, mae 4.8966666666666665\n",
      "Largest Error MARCEL: 117.0\n",
      "Largest Error SYLVAIN: 14.0\n",
      "Largest Error CONRAD: 10.0\n",
      "Optimal Tolerance : 117\n"
     ]
    }
   ],
   "source": [
    "#call the evaluate function\n",
    "tr = [20, 15, 10, 5]\n",
    "for tolerance in tr:\n",
    "#recall is percentage of positive values that is correclty identified,\n",
    "# so true positive/ sum of num_all positive\n",
    "    recall, mae, df_result = recall_tops(df_test_tops,df_tops_pred,tolerance)\n",
    "    print(\"tolerance {0}, recall {1}, mae {2}\".format(tolerance, recall, mae))\n",
    "\n",
    "optimal_tolerance = find_optimal_tolerance(df_test_tops, df_tops_pred)\n",
    "print(f\"Largest Error MARCEL: {df_result['MARCEL_ae'].max()}\")\n",
    "print(f\"Largest Error SYLVAIN: {df_result['SYLVAIN_ae'].max()}\")\n",
    "print(f\"Largest Error CONRAD: {df_result['CONRAD_ae'].max()}\")\n",
    "print(\"Optimal Tolerance :\", optimal_tolerance)"
   ]
  },
  {
   "cell_type": "markdown",
   "metadata": {},
   "source": [
    "### Mix_Wsize(200 & 50)"
   ]
  },
  {
   "cell_type": "code",
   "execution_count": 23,
   "metadata": {},
   "outputs": [],
   "source": [
    "#Load prepared Dataset\n",
    "X_200 = np.load('prepared_data/X_201.npy')\n",
    "y_200 = np.load('prepared_data/y_201.npy')\n",
    "\n",
    "X_50 = np.load('prepared_data/X_51.npy')\n",
    "y_50 = np.load('prepared_data/y_51.npy')"
   ]
  },
  {
   "cell_type": "code",
   "execution_count": 24,
   "metadata": {},
   "outputs": [],
   "source": [
    "#Split X_200 y_200 into Train & Validation \n",
    "X_train1, X_test1, y_train1, y_test1 = train_test_split(X_200, y_200, test_size=0.2, random_state=42)\n",
    "X_train_reshaped1 = X_train1.reshape(X_train1.shape[0], -1)\n",
    "\n",
    "rocket_faster1 = ROCKET()\n",
    "rocket_faster1.fit(X_train_reshaped1)\n",
    "X_train_transformed1 = rocket_faster1.transform(X_train_reshaped1)\n",
    "\n",
    "#Split X_50 y_50 into Train & Validation \n",
    "X_train2, X_test2, y_train2, y_test2 = train_test_split(X_50, y_50, test_size=0.2, random_state=42)\n",
    "X_train_reshaped2 = X_train2.reshape(X_train2.shape[0], -1)\n",
    "\n",
    "rocket_faster2 = ROCKET()\n",
    "rocket_faster2.fit(X_train_reshaped2)\n",
    "X_train_transformed2 = rocket_faster2.transform(X_train_reshaped2)"
   ]
  },
  {
   "cell_type": "code",
   "execution_count": 25,
   "metadata": {},
   "outputs": [
    {
     "name": "stderr",
     "output_type": "stream",
     "text": [
      "/Library/Frameworks/Python.framework/Versions/3.10/lib/python3.10/site-packages/sklearn/linear_model/_logistic.py:469: ConvergenceWarning: lbfgs failed to converge (status=1):\n",
      "STOP: TOTAL NO. of ITERATIONS REACHED LIMIT.\n",
      "\n",
      "Increase the number of iterations (max_iter) or scale the data as shown in:\n",
      "    https://scikit-learn.org/stable/modules/preprocessing.html\n",
      "Please also refer to the documentation for alternative solver options:\n",
      "    https://scikit-learn.org/stable/modules/linear_model.html#logistic-regression\n",
      "  n_iter_i = _check_optimize_result(\n"
     ]
    },
    {
     "data": {
      "text/html": [
       "<style>#sk-container-id-1 {\n",
       "  /* Definition of color scheme common for light and dark mode */\n",
       "  --sklearn-color-text: black;\n",
       "  --sklearn-color-line: gray;\n",
       "  /* Definition of color scheme for unfitted estimators */\n",
       "  --sklearn-color-unfitted-level-0: #fff5e6;\n",
       "  --sklearn-color-unfitted-level-1: #f6e4d2;\n",
       "  --sklearn-color-unfitted-level-2: #ffe0b3;\n",
       "  --sklearn-color-unfitted-level-3: chocolate;\n",
       "  /* Definition of color scheme for fitted estimators */\n",
       "  --sklearn-color-fitted-level-0: #f0f8ff;\n",
       "  --sklearn-color-fitted-level-1: #d4ebff;\n",
       "  --sklearn-color-fitted-level-2: #b3dbfd;\n",
       "  --sklearn-color-fitted-level-3: cornflowerblue;\n",
       "\n",
       "  /* Specific color for light theme */\n",
       "  --sklearn-color-text-on-default-background: var(--sg-text-color, var(--theme-code-foreground, var(--jp-content-font-color1, black)));\n",
       "  --sklearn-color-background: var(--sg-background-color, var(--theme-background, var(--jp-layout-color0, white)));\n",
       "  --sklearn-color-border-box: var(--sg-text-color, var(--theme-code-foreground, var(--jp-content-font-color1, black)));\n",
       "  --sklearn-color-icon: #696969;\n",
       "\n",
       "  @media (prefers-color-scheme: dark) {\n",
       "    /* Redefinition of color scheme for dark theme */\n",
       "    --sklearn-color-text-on-default-background: var(--sg-text-color, var(--theme-code-foreground, var(--jp-content-font-color1, white)));\n",
       "    --sklearn-color-background: var(--sg-background-color, var(--theme-background, var(--jp-layout-color0, #111)));\n",
       "    --sklearn-color-border-box: var(--sg-text-color, var(--theme-code-foreground, var(--jp-content-font-color1, white)));\n",
       "    --sklearn-color-icon: #878787;\n",
       "  }\n",
       "}\n",
       "\n",
       "#sk-container-id-1 {\n",
       "  color: var(--sklearn-color-text);\n",
       "}\n",
       "\n",
       "#sk-container-id-1 pre {\n",
       "  padding: 0;\n",
       "}\n",
       "\n",
       "#sk-container-id-1 input.sk-hidden--visually {\n",
       "  border: 0;\n",
       "  clip: rect(1px 1px 1px 1px);\n",
       "  clip: rect(1px, 1px, 1px, 1px);\n",
       "  height: 1px;\n",
       "  margin: -1px;\n",
       "  overflow: hidden;\n",
       "  padding: 0;\n",
       "  position: absolute;\n",
       "  width: 1px;\n",
       "}\n",
       "\n",
       "#sk-container-id-1 div.sk-dashed-wrapped {\n",
       "  border: 1px dashed var(--sklearn-color-line);\n",
       "  margin: 0 0.4em 0.5em 0.4em;\n",
       "  box-sizing: border-box;\n",
       "  padding-bottom: 0.4em;\n",
       "  background-color: var(--sklearn-color-background);\n",
       "}\n",
       "\n",
       "#sk-container-id-1 div.sk-container {\n",
       "  /* jupyter's `normalize.less` sets `[hidden] { display: none; }`\n",
       "     but bootstrap.min.css set `[hidden] { display: none !important; }`\n",
       "     so we also need the `!important` here to be able to override the\n",
       "     default hidden behavior on the sphinx rendered scikit-learn.org.\n",
       "     See: https://github.com/scikit-learn/scikit-learn/issues/21755 */\n",
       "  display: inline-block !important;\n",
       "  position: relative;\n",
       "}\n",
       "\n",
       "#sk-container-id-1 div.sk-text-repr-fallback {\n",
       "  display: none;\n",
       "}\n",
       "\n",
       "div.sk-parallel-item,\n",
       "div.sk-serial,\n",
       "div.sk-item {\n",
       "  /* draw centered vertical line to link estimators */\n",
       "  background-image: linear-gradient(var(--sklearn-color-text-on-default-background), var(--sklearn-color-text-on-default-background));\n",
       "  background-size: 2px 100%;\n",
       "  background-repeat: no-repeat;\n",
       "  background-position: center center;\n",
       "}\n",
       "\n",
       "/* Parallel-specific style estimator block */\n",
       "\n",
       "#sk-container-id-1 div.sk-parallel-item::after {\n",
       "  content: \"\";\n",
       "  width: 100%;\n",
       "  border-bottom: 2px solid var(--sklearn-color-text-on-default-background);\n",
       "  flex-grow: 1;\n",
       "}\n",
       "\n",
       "#sk-container-id-1 div.sk-parallel {\n",
       "  display: flex;\n",
       "  align-items: stretch;\n",
       "  justify-content: center;\n",
       "  background-color: var(--sklearn-color-background);\n",
       "  position: relative;\n",
       "}\n",
       "\n",
       "#sk-container-id-1 div.sk-parallel-item {\n",
       "  display: flex;\n",
       "  flex-direction: column;\n",
       "}\n",
       "\n",
       "#sk-container-id-1 div.sk-parallel-item:first-child::after {\n",
       "  align-self: flex-end;\n",
       "  width: 50%;\n",
       "}\n",
       "\n",
       "#sk-container-id-1 div.sk-parallel-item:last-child::after {\n",
       "  align-self: flex-start;\n",
       "  width: 50%;\n",
       "}\n",
       "\n",
       "#sk-container-id-1 div.sk-parallel-item:only-child::after {\n",
       "  width: 0;\n",
       "}\n",
       "\n",
       "/* Serial-specific style estimator block */\n",
       "\n",
       "#sk-container-id-1 div.sk-serial {\n",
       "  display: flex;\n",
       "  flex-direction: column;\n",
       "  align-items: center;\n",
       "  background-color: var(--sklearn-color-background);\n",
       "  padding-right: 1em;\n",
       "  padding-left: 1em;\n",
       "}\n",
       "\n",
       "\n",
       "/* Toggleable style: style used for estimator/Pipeline/ColumnTransformer box that is\n",
       "clickable and can be expanded/collapsed.\n",
       "- Pipeline and ColumnTransformer use this feature and define the default style\n",
       "- Estimators will overwrite some part of the style using the `sk-estimator` class\n",
       "*/\n",
       "\n",
       "/* Pipeline and ColumnTransformer style (default) */\n",
       "\n",
       "#sk-container-id-1 div.sk-toggleable {\n",
       "  /* Default theme specific background. It is overwritten whether we have a\n",
       "  specific estimator or a Pipeline/ColumnTransformer */\n",
       "  background-color: var(--sklearn-color-background);\n",
       "}\n",
       "\n",
       "/* Toggleable label */\n",
       "#sk-container-id-1 label.sk-toggleable__label {\n",
       "  cursor: pointer;\n",
       "  display: block;\n",
       "  width: 100%;\n",
       "  margin-bottom: 0;\n",
       "  padding: 0.5em;\n",
       "  box-sizing: border-box;\n",
       "  text-align: center;\n",
       "}\n",
       "\n",
       "#sk-container-id-1 label.sk-toggleable__label-arrow:before {\n",
       "  /* Arrow on the left of the label */\n",
       "  content: \"▸\";\n",
       "  float: left;\n",
       "  margin-right: 0.25em;\n",
       "  color: var(--sklearn-color-icon);\n",
       "}\n",
       "\n",
       "#sk-container-id-1 label.sk-toggleable__label-arrow:hover:before {\n",
       "  color: var(--sklearn-color-text);\n",
       "}\n",
       "\n",
       "/* Toggleable content - dropdown */\n",
       "\n",
       "#sk-container-id-1 div.sk-toggleable__content {\n",
       "  max-height: 0;\n",
       "  max-width: 0;\n",
       "  overflow: hidden;\n",
       "  text-align: left;\n",
       "  /* unfitted */\n",
       "  background-color: var(--sklearn-color-unfitted-level-0);\n",
       "}\n",
       "\n",
       "#sk-container-id-1 div.sk-toggleable__content.fitted {\n",
       "  /* fitted */\n",
       "  background-color: var(--sklearn-color-fitted-level-0);\n",
       "}\n",
       "\n",
       "#sk-container-id-1 div.sk-toggleable__content pre {\n",
       "  margin: 0.2em;\n",
       "  border-radius: 0.25em;\n",
       "  color: var(--sklearn-color-text);\n",
       "  /* unfitted */\n",
       "  background-color: var(--sklearn-color-unfitted-level-0);\n",
       "}\n",
       "\n",
       "#sk-container-id-1 div.sk-toggleable__content.fitted pre {\n",
       "  /* unfitted */\n",
       "  background-color: var(--sklearn-color-fitted-level-0);\n",
       "}\n",
       "\n",
       "#sk-container-id-1 input.sk-toggleable__control:checked~div.sk-toggleable__content {\n",
       "  /* Expand drop-down */\n",
       "  max-height: 200px;\n",
       "  max-width: 100%;\n",
       "  overflow: auto;\n",
       "}\n",
       "\n",
       "#sk-container-id-1 input.sk-toggleable__control:checked~label.sk-toggleable__label-arrow:before {\n",
       "  content: \"▾\";\n",
       "}\n",
       "\n",
       "/* Pipeline/ColumnTransformer-specific style */\n",
       "\n",
       "#sk-container-id-1 div.sk-label input.sk-toggleable__control:checked~label.sk-toggleable__label {\n",
       "  color: var(--sklearn-color-text);\n",
       "  background-color: var(--sklearn-color-unfitted-level-2);\n",
       "}\n",
       "\n",
       "#sk-container-id-1 div.sk-label.fitted input.sk-toggleable__control:checked~label.sk-toggleable__label {\n",
       "  background-color: var(--sklearn-color-fitted-level-2);\n",
       "}\n",
       "\n",
       "/* Estimator-specific style */\n",
       "\n",
       "/* Colorize estimator box */\n",
       "#sk-container-id-1 div.sk-estimator input.sk-toggleable__control:checked~label.sk-toggleable__label {\n",
       "  /* unfitted */\n",
       "  background-color: var(--sklearn-color-unfitted-level-2);\n",
       "}\n",
       "\n",
       "#sk-container-id-1 div.sk-estimator.fitted input.sk-toggleable__control:checked~label.sk-toggleable__label {\n",
       "  /* fitted */\n",
       "  background-color: var(--sklearn-color-fitted-level-2);\n",
       "}\n",
       "\n",
       "#sk-container-id-1 div.sk-label label.sk-toggleable__label,\n",
       "#sk-container-id-1 div.sk-label label {\n",
       "  /* The background is the default theme color */\n",
       "  color: var(--sklearn-color-text-on-default-background);\n",
       "}\n",
       "\n",
       "/* On hover, darken the color of the background */\n",
       "#sk-container-id-1 div.sk-label:hover label.sk-toggleable__label {\n",
       "  color: var(--sklearn-color-text);\n",
       "  background-color: var(--sklearn-color-unfitted-level-2);\n",
       "}\n",
       "\n",
       "/* Label box, darken color on hover, fitted */\n",
       "#sk-container-id-1 div.sk-label.fitted:hover label.sk-toggleable__label.fitted {\n",
       "  color: var(--sklearn-color-text);\n",
       "  background-color: var(--sklearn-color-fitted-level-2);\n",
       "}\n",
       "\n",
       "/* Estimator label */\n",
       "\n",
       "#sk-container-id-1 div.sk-label label {\n",
       "  font-family: monospace;\n",
       "  font-weight: bold;\n",
       "  display: inline-block;\n",
       "  line-height: 1.2em;\n",
       "}\n",
       "\n",
       "#sk-container-id-1 div.sk-label-container {\n",
       "  text-align: center;\n",
       "}\n",
       "\n",
       "/* Estimator-specific */\n",
       "#sk-container-id-1 div.sk-estimator {\n",
       "  font-family: monospace;\n",
       "  border: 1px dotted var(--sklearn-color-border-box);\n",
       "  border-radius: 0.25em;\n",
       "  box-sizing: border-box;\n",
       "  margin-bottom: 0.5em;\n",
       "  /* unfitted */\n",
       "  background-color: var(--sklearn-color-unfitted-level-0);\n",
       "}\n",
       "\n",
       "#sk-container-id-1 div.sk-estimator.fitted {\n",
       "  /* fitted */\n",
       "  background-color: var(--sklearn-color-fitted-level-0);\n",
       "}\n",
       "\n",
       "/* on hover */\n",
       "#sk-container-id-1 div.sk-estimator:hover {\n",
       "  /* unfitted */\n",
       "  background-color: var(--sklearn-color-unfitted-level-2);\n",
       "}\n",
       "\n",
       "#sk-container-id-1 div.sk-estimator.fitted:hover {\n",
       "  /* fitted */\n",
       "  background-color: var(--sklearn-color-fitted-level-2);\n",
       "}\n",
       "\n",
       "/* Specification for estimator info (e.g. \"i\" and \"?\") */\n",
       "\n",
       "/* Common style for \"i\" and \"?\" */\n",
       "\n",
       ".sk-estimator-doc-link,\n",
       "a:link.sk-estimator-doc-link,\n",
       "a:visited.sk-estimator-doc-link {\n",
       "  float: right;\n",
       "  font-size: smaller;\n",
       "  line-height: 1em;\n",
       "  font-family: monospace;\n",
       "  background-color: var(--sklearn-color-background);\n",
       "  border-radius: 1em;\n",
       "  height: 1em;\n",
       "  width: 1em;\n",
       "  text-decoration: none !important;\n",
       "  margin-left: 1ex;\n",
       "  /* unfitted */\n",
       "  border: var(--sklearn-color-unfitted-level-1) 1pt solid;\n",
       "  color: var(--sklearn-color-unfitted-level-1);\n",
       "}\n",
       "\n",
       ".sk-estimator-doc-link.fitted,\n",
       "a:link.sk-estimator-doc-link.fitted,\n",
       "a:visited.sk-estimator-doc-link.fitted {\n",
       "  /* fitted */\n",
       "  border: var(--sklearn-color-fitted-level-1) 1pt solid;\n",
       "  color: var(--sklearn-color-fitted-level-1);\n",
       "}\n",
       "\n",
       "/* On hover */\n",
       "div.sk-estimator:hover .sk-estimator-doc-link:hover,\n",
       ".sk-estimator-doc-link:hover,\n",
       "div.sk-label-container:hover .sk-estimator-doc-link:hover,\n",
       ".sk-estimator-doc-link:hover {\n",
       "  /* unfitted */\n",
       "  background-color: var(--sklearn-color-unfitted-level-3);\n",
       "  color: var(--sklearn-color-background);\n",
       "  text-decoration: none;\n",
       "}\n",
       "\n",
       "div.sk-estimator.fitted:hover .sk-estimator-doc-link.fitted:hover,\n",
       ".sk-estimator-doc-link.fitted:hover,\n",
       "div.sk-label-container:hover .sk-estimator-doc-link.fitted:hover,\n",
       ".sk-estimator-doc-link.fitted:hover {\n",
       "  /* fitted */\n",
       "  background-color: var(--sklearn-color-fitted-level-3);\n",
       "  color: var(--sklearn-color-background);\n",
       "  text-decoration: none;\n",
       "}\n",
       "\n",
       "/* Span, style for the box shown on hovering the info icon */\n",
       ".sk-estimator-doc-link span {\n",
       "  display: none;\n",
       "  z-index: 9999;\n",
       "  position: relative;\n",
       "  font-weight: normal;\n",
       "  right: .2ex;\n",
       "  padding: .5ex;\n",
       "  margin: .5ex;\n",
       "  width: min-content;\n",
       "  min-width: 20ex;\n",
       "  max-width: 50ex;\n",
       "  color: var(--sklearn-color-text);\n",
       "  box-shadow: 2pt 2pt 4pt #999;\n",
       "  /* unfitted */\n",
       "  background: var(--sklearn-color-unfitted-level-0);\n",
       "  border: .5pt solid var(--sklearn-color-unfitted-level-3);\n",
       "}\n",
       "\n",
       ".sk-estimator-doc-link.fitted span {\n",
       "  /* fitted */\n",
       "  background: var(--sklearn-color-fitted-level-0);\n",
       "  border: var(--sklearn-color-fitted-level-3);\n",
       "}\n",
       "\n",
       ".sk-estimator-doc-link:hover span {\n",
       "  display: block;\n",
       "}\n",
       "\n",
       "/* \"?\"-specific style due to the `<a>` HTML tag */\n",
       "\n",
       "#sk-container-id-1 a.estimator_doc_link {\n",
       "  float: right;\n",
       "  font-size: 1rem;\n",
       "  line-height: 1em;\n",
       "  font-family: monospace;\n",
       "  background-color: var(--sklearn-color-background);\n",
       "  border-radius: 1rem;\n",
       "  height: 1rem;\n",
       "  width: 1rem;\n",
       "  text-decoration: none;\n",
       "  /* unfitted */\n",
       "  color: var(--sklearn-color-unfitted-level-1);\n",
       "  border: var(--sklearn-color-unfitted-level-1) 1pt solid;\n",
       "}\n",
       "\n",
       "#sk-container-id-1 a.estimator_doc_link.fitted {\n",
       "  /* fitted */\n",
       "  border: var(--sklearn-color-fitted-level-1) 1pt solid;\n",
       "  color: var(--sklearn-color-fitted-level-1);\n",
       "}\n",
       "\n",
       "/* On hover */\n",
       "#sk-container-id-1 a.estimator_doc_link:hover {\n",
       "  /* unfitted */\n",
       "  background-color: var(--sklearn-color-unfitted-level-3);\n",
       "  color: var(--sklearn-color-background);\n",
       "  text-decoration: none;\n",
       "}\n",
       "\n",
       "#sk-container-id-1 a.estimator_doc_link.fitted:hover {\n",
       "  /* fitted */\n",
       "  background-color: var(--sklearn-color-fitted-level-3);\n",
       "}\n",
       "</style><div id=\"sk-container-id-1\" class=\"sk-top-container\"><div class=\"sk-text-repr-fallback\"><pre>LogisticRegression(C=0.01, n_jobs=-1)</pre><b>In a Jupyter environment, please rerun this cell to show the HTML representation or trust the notebook. <br />On GitHub, the HTML representation is unable to render, please try loading this page with nbviewer.org.</b></div><div class=\"sk-container\" hidden><div class=\"sk-item\"><div class=\"sk-estimator fitted sk-toggleable\"><input class=\"sk-toggleable__control sk-hidden--visually\" id=\"sk-estimator-id-1\" type=\"checkbox\" checked><label for=\"sk-estimator-id-1\" class=\"sk-toggleable__label fitted sk-toggleable__label-arrow fitted\">&nbsp;&nbsp;LogisticRegression<a class=\"sk-estimator-doc-link fitted\" rel=\"noreferrer\" target=\"_blank\" href=\"https://scikit-learn.org/1.4/modules/generated/sklearn.linear_model.LogisticRegression.html\">?<span>Documentation for LogisticRegression</span></a><span class=\"sk-estimator-doc-link fitted\">i<span>Fitted</span></span></label><div class=\"sk-toggleable__content fitted\"><pre>LogisticRegression(C=0.01, n_jobs=-1)</pre></div> </div></div></div></div>"
      ],
      "text/plain": [
       "LogisticRegression(C=0.01, n_jobs=-1)"
      ]
     },
     "execution_count": 25,
     "metadata": {},
     "output_type": "execute_result"
    }
   ],
   "source": [
    "#Classifier For Wsize200\n",
    "\n",
    "eps = 1e-6\n",
    "C = 1e-2\n",
    "# normalize 'per feature'\n",
    "f_mean1 = X_train_transformed1.mean(axis=0)\n",
    "f_std1 = X_train_transformed1.std(axis=0) + eps\n",
    "X_train_norm1 = (X_train_transformed1 - f_mean1) / f_std1\n",
    "\n",
    "#XGBoost classifier\n",
    "classifier_xgb1 = xgb.XGBClassifier(max_depth=5, n_estimators=100,n_jobs=-1)\n",
    "classifier_xgb1.fit(X_train_norm1, y_train1)\n",
    "\n",
    "##logistic regression\n",
    "classifier1 = LogisticRegression(penalty='l2', C=C, n_jobs=-1)\n",
    "classifier1.fit(X_train_norm1, y_train1)"
   ]
  },
  {
   "cell_type": "code",
   "execution_count": 26,
   "metadata": {},
   "outputs": [
    {
     "name": "stderr",
     "output_type": "stream",
     "text": [
      "/Library/Frameworks/Python.framework/Versions/3.10/lib/python3.10/site-packages/sklearn/linear_model/_logistic.py:469: ConvergenceWarning: lbfgs failed to converge (status=1):\n",
      "STOP: TOTAL NO. of ITERATIONS REACHED LIMIT.\n",
      "\n",
      "Increase the number of iterations (max_iter) or scale the data as shown in:\n",
      "    https://scikit-learn.org/stable/modules/preprocessing.html\n",
      "Please also refer to the documentation for alternative solver options:\n",
      "    https://scikit-learn.org/stable/modules/linear_model.html#logistic-regression\n",
      "  n_iter_i = _check_optimize_result(\n"
     ]
    },
    {
     "data": {
      "text/html": [
       "<style>#sk-container-id-2 {\n",
       "  /* Definition of color scheme common for light and dark mode */\n",
       "  --sklearn-color-text: black;\n",
       "  --sklearn-color-line: gray;\n",
       "  /* Definition of color scheme for unfitted estimators */\n",
       "  --sklearn-color-unfitted-level-0: #fff5e6;\n",
       "  --sklearn-color-unfitted-level-1: #f6e4d2;\n",
       "  --sklearn-color-unfitted-level-2: #ffe0b3;\n",
       "  --sklearn-color-unfitted-level-3: chocolate;\n",
       "  /* Definition of color scheme for fitted estimators */\n",
       "  --sklearn-color-fitted-level-0: #f0f8ff;\n",
       "  --sklearn-color-fitted-level-1: #d4ebff;\n",
       "  --sklearn-color-fitted-level-2: #b3dbfd;\n",
       "  --sklearn-color-fitted-level-3: cornflowerblue;\n",
       "\n",
       "  /* Specific color for light theme */\n",
       "  --sklearn-color-text-on-default-background: var(--sg-text-color, var(--theme-code-foreground, var(--jp-content-font-color1, black)));\n",
       "  --sklearn-color-background: var(--sg-background-color, var(--theme-background, var(--jp-layout-color0, white)));\n",
       "  --sklearn-color-border-box: var(--sg-text-color, var(--theme-code-foreground, var(--jp-content-font-color1, black)));\n",
       "  --sklearn-color-icon: #696969;\n",
       "\n",
       "  @media (prefers-color-scheme: dark) {\n",
       "    /* Redefinition of color scheme for dark theme */\n",
       "    --sklearn-color-text-on-default-background: var(--sg-text-color, var(--theme-code-foreground, var(--jp-content-font-color1, white)));\n",
       "    --sklearn-color-background: var(--sg-background-color, var(--theme-background, var(--jp-layout-color0, #111)));\n",
       "    --sklearn-color-border-box: var(--sg-text-color, var(--theme-code-foreground, var(--jp-content-font-color1, white)));\n",
       "    --sklearn-color-icon: #878787;\n",
       "  }\n",
       "}\n",
       "\n",
       "#sk-container-id-2 {\n",
       "  color: var(--sklearn-color-text);\n",
       "}\n",
       "\n",
       "#sk-container-id-2 pre {\n",
       "  padding: 0;\n",
       "}\n",
       "\n",
       "#sk-container-id-2 input.sk-hidden--visually {\n",
       "  border: 0;\n",
       "  clip: rect(1px 1px 1px 1px);\n",
       "  clip: rect(1px, 1px, 1px, 1px);\n",
       "  height: 1px;\n",
       "  margin: -1px;\n",
       "  overflow: hidden;\n",
       "  padding: 0;\n",
       "  position: absolute;\n",
       "  width: 1px;\n",
       "}\n",
       "\n",
       "#sk-container-id-2 div.sk-dashed-wrapped {\n",
       "  border: 1px dashed var(--sklearn-color-line);\n",
       "  margin: 0 0.4em 0.5em 0.4em;\n",
       "  box-sizing: border-box;\n",
       "  padding-bottom: 0.4em;\n",
       "  background-color: var(--sklearn-color-background);\n",
       "}\n",
       "\n",
       "#sk-container-id-2 div.sk-container {\n",
       "  /* jupyter's `normalize.less` sets `[hidden] { display: none; }`\n",
       "     but bootstrap.min.css set `[hidden] { display: none !important; }`\n",
       "     so we also need the `!important` here to be able to override the\n",
       "     default hidden behavior on the sphinx rendered scikit-learn.org.\n",
       "     See: https://github.com/scikit-learn/scikit-learn/issues/21755 */\n",
       "  display: inline-block !important;\n",
       "  position: relative;\n",
       "}\n",
       "\n",
       "#sk-container-id-2 div.sk-text-repr-fallback {\n",
       "  display: none;\n",
       "}\n",
       "\n",
       "div.sk-parallel-item,\n",
       "div.sk-serial,\n",
       "div.sk-item {\n",
       "  /* draw centered vertical line to link estimators */\n",
       "  background-image: linear-gradient(var(--sklearn-color-text-on-default-background), var(--sklearn-color-text-on-default-background));\n",
       "  background-size: 2px 100%;\n",
       "  background-repeat: no-repeat;\n",
       "  background-position: center center;\n",
       "}\n",
       "\n",
       "/* Parallel-specific style estimator block */\n",
       "\n",
       "#sk-container-id-2 div.sk-parallel-item::after {\n",
       "  content: \"\";\n",
       "  width: 100%;\n",
       "  border-bottom: 2px solid var(--sklearn-color-text-on-default-background);\n",
       "  flex-grow: 1;\n",
       "}\n",
       "\n",
       "#sk-container-id-2 div.sk-parallel {\n",
       "  display: flex;\n",
       "  align-items: stretch;\n",
       "  justify-content: center;\n",
       "  background-color: var(--sklearn-color-background);\n",
       "  position: relative;\n",
       "}\n",
       "\n",
       "#sk-container-id-2 div.sk-parallel-item {\n",
       "  display: flex;\n",
       "  flex-direction: column;\n",
       "}\n",
       "\n",
       "#sk-container-id-2 div.sk-parallel-item:first-child::after {\n",
       "  align-self: flex-end;\n",
       "  width: 50%;\n",
       "}\n",
       "\n",
       "#sk-container-id-2 div.sk-parallel-item:last-child::after {\n",
       "  align-self: flex-start;\n",
       "  width: 50%;\n",
       "}\n",
       "\n",
       "#sk-container-id-2 div.sk-parallel-item:only-child::after {\n",
       "  width: 0;\n",
       "}\n",
       "\n",
       "/* Serial-specific style estimator block */\n",
       "\n",
       "#sk-container-id-2 div.sk-serial {\n",
       "  display: flex;\n",
       "  flex-direction: column;\n",
       "  align-items: center;\n",
       "  background-color: var(--sklearn-color-background);\n",
       "  padding-right: 1em;\n",
       "  padding-left: 1em;\n",
       "}\n",
       "\n",
       "\n",
       "/* Toggleable style: style used for estimator/Pipeline/ColumnTransformer box that is\n",
       "clickable and can be expanded/collapsed.\n",
       "- Pipeline and ColumnTransformer use this feature and define the default style\n",
       "- Estimators will overwrite some part of the style using the `sk-estimator` class\n",
       "*/\n",
       "\n",
       "/* Pipeline and ColumnTransformer style (default) */\n",
       "\n",
       "#sk-container-id-2 div.sk-toggleable {\n",
       "  /* Default theme specific background. It is overwritten whether we have a\n",
       "  specific estimator or a Pipeline/ColumnTransformer */\n",
       "  background-color: var(--sklearn-color-background);\n",
       "}\n",
       "\n",
       "/* Toggleable label */\n",
       "#sk-container-id-2 label.sk-toggleable__label {\n",
       "  cursor: pointer;\n",
       "  display: block;\n",
       "  width: 100%;\n",
       "  margin-bottom: 0;\n",
       "  padding: 0.5em;\n",
       "  box-sizing: border-box;\n",
       "  text-align: center;\n",
       "}\n",
       "\n",
       "#sk-container-id-2 label.sk-toggleable__label-arrow:before {\n",
       "  /* Arrow on the left of the label */\n",
       "  content: \"▸\";\n",
       "  float: left;\n",
       "  margin-right: 0.25em;\n",
       "  color: var(--sklearn-color-icon);\n",
       "}\n",
       "\n",
       "#sk-container-id-2 label.sk-toggleable__label-arrow:hover:before {\n",
       "  color: var(--sklearn-color-text);\n",
       "}\n",
       "\n",
       "/* Toggleable content - dropdown */\n",
       "\n",
       "#sk-container-id-2 div.sk-toggleable__content {\n",
       "  max-height: 0;\n",
       "  max-width: 0;\n",
       "  overflow: hidden;\n",
       "  text-align: left;\n",
       "  /* unfitted */\n",
       "  background-color: var(--sklearn-color-unfitted-level-0);\n",
       "}\n",
       "\n",
       "#sk-container-id-2 div.sk-toggleable__content.fitted {\n",
       "  /* fitted */\n",
       "  background-color: var(--sklearn-color-fitted-level-0);\n",
       "}\n",
       "\n",
       "#sk-container-id-2 div.sk-toggleable__content pre {\n",
       "  margin: 0.2em;\n",
       "  border-radius: 0.25em;\n",
       "  color: var(--sklearn-color-text);\n",
       "  /* unfitted */\n",
       "  background-color: var(--sklearn-color-unfitted-level-0);\n",
       "}\n",
       "\n",
       "#sk-container-id-2 div.sk-toggleable__content.fitted pre {\n",
       "  /* unfitted */\n",
       "  background-color: var(--sklearn-color-fitted-level-0);\n",
       "}\n",
       "\n",
       "#sk-container-id-2 input.sk-toggleable__control:checked~div.sk-toggleable__content {\n",
       "  /* Expand drop-down */\n",
       "  max-height: 200px;\n",
       "  max-width: 100%;\n",
       "  overflow: auto;\n",
       "}\n",
       "\n",
       "#sk-container-id-2 input.sk-toggleable__control:checked~label.sk-toggleable__label-arrow:before {\n",
       "  content: \"▾\";\n",
       "}\n",
       "\n",
       "/* Pipeline/ColumnTransformer-specific style */\n",
       "\n",
       "#sk-container-id-2 div.sk-label input.sk-toggleable__control:checked~label.sk-toggleable__label {\n",
       "  color: var(--sklearn-color-text);\n",
       "  background-color: var(--sklearn-color-unfitted-level-2);\n",
       "}\n",
       "\n",
       "#sk-container-id-2 div.sk-label.fitted input.sk-toggleable__control:checked~label.sk-toggleable__label {\n",
       "  background-color: var(--sklearn-color-fitted-level-2);\n",
       "}\n",
       "\n",
       "/* Estimator-specific style */\n",
       "\n",
       "/* Colorize estimator box */\n",
       "#sk-container-id-2 div.sk-estimator input.sk-toggleable__control:checked~label.sk-toggleable__label {\n",
       "  /* unfitted */\n",
       "  background-color: var(--sklearn-color-unfitted-level-2);\n",
       "}\n",
       "\n",
       "#sk-container-id-2 div.sk-estimator.fitted input.sk-toggleable__control:checked~label.sk-toggleable__label {\n",
       "  /* fitted */\n",
       "  background-color: var(--sklearn-color-fitted-level-2);\n",
       "}\n",
       "\n",
       "#sk-container-id-2 div.sk-label label.sk-toggleable__label,\n",
       "#sk-container-id-2 div.sk-label label {\n",
       "  /* The background is the default theme color */\n",
       "  color: var(--sklearn-color-text-on-default-background);\n",
       "}\n",
       "\n",
       "/* On hover, darken the color of the background */\n",
       "#sk-container-id-2 div.sk-label:hover label.sk-toggleable__label {\n",
       "  color: var(--sklearn-color-text);\n",
       "  background-color: var(--sklearn-color-unfitted-level-2);\n",
       "}\n",
       "\n",
       "/* Label box, darken color on hover, fitted */\n",
       "#sk-container-id-2 div.sk-label.fitted:hover label.sk-toggleable__label.fitted {\n",
       "  color: var(--sklearn-color-text);\n",
       "  background-color: var(--sklearn-color-fitted-level-2);\n",
       "}\n",
       "\n",
       "/* Estimator label */\n",
       "\n",
       "#sk-container-id-2 div.sk-label label {\n",
       "  font-family: monospace;\n",
       "  font-weight: bold;\n",
       "  display: inline-block;\n",
       "  line-height: 1.2em;\n",
       "}\n",
       "\n",
       "#sk-container-id-2 div.sk-label-container {\n",
       "  text-align: center;\n",
       "}\n",
       "\n",
       "/* Estimator-specific */\n",
       "#sk-container-id-2 div.sk-estimator {\n",
       "  font-family: monospace;\n",
       "  border: 1px dotted var(--sklearn-color-border-box);\n",
       "  border-radius: 0.25em;\n",
       "  box-sizing: border-box;\n",
       "  margin-bottom: 0.5em;\n",
       "  /* unfitted */\n",
       "  background-color: var(--sklearn-color-unfitted-level-0);\n",
       "}\n",
       "\n",
       "#sk-container-id-2 div.sk-estimator.fitted {\n",
       "  /* fitted */\n",
       "  background-color: var(--sklearn-color-fitted-level-0);\n",
       "}\n",
       "\n",
       "/* on hover */\n",
       "#sk-container-id-2 div.sk-estimator:hover {\n",
       "  /* unfitted */\n",
       "  background-color: var(--sklearn-color-unfitted-level-2);\n",
       "}\n",
       "\n",
       "#sk-container-id-2 div.sk-estimator.fitted:hover {\n",
       "  /* fitted */\n",
       "  background-color: var(--sklearn-color-fitted-level-2);\n",
       "}\n",
       "\n",
       "/* Specification for estimator info (e.g. \"i\" and \"?\") */\n",
       "\n",
       "/* Common style for \"i\" and \"?\" */\n",
       "\n",
       ".sk-estimator-doc-link,\n",
       "a:link.sk-estimator-doc-link,\n",
       "a:visited.sk-estimator-doc-link {\n",
       "  float: right;\n",
       "  font-size: smaller;\n",
       "  line-height: 1em;\n",
       "  font-family: monospace;\n",
       "  background-color: var(--sklearn-color-background);\n",
       "  border-radius: 1em;\n",
       "  height: 1em;\n",
       "  width: 1em;\n",
       "  text-decoration: none !important;\n",
       "  margin-left: 1ex;\n",
       "  /* unfitted */\n",
       "  border: var(--sklearn-color-unfitted-level-1) 1pt solid;\n",
       "  color: var(--sklearn-color-unfitted-level-1);\n",
       "}\n",
       "\n",
       ".sk-estimator-doc-link.fitted,\n",
       "a:link.sk-estimator-doc-link.fitted,\n",
       "a:visited.sk-estimator-doc-link.fitted {\n",
       "  /* fitted */\n",
       "  border: var(--sklearn-color-fitted-level-1) 1pt solid;\n",
       "  color: var(--sklearn-color-fitted-level-1);\n",
       "}\n",
       "\n",
       "/* On hover */\n",
       "div.sk-estimator:hover .sk-estimator-doc-link:hover,\n",
       ".sk-estimator-doc-link:hover,\n",
       "div.sk-label-container:hover .sk-estimator-doc-link:hover,\n",
       ".sk-estimator-doc-link:hover {\n",
       "  /* unfitted */\n",
       "  background-color: var(--sklearn-color-unfitted-level-3);\n",
       "  color: var(--sklearn-color-background);\n",
       "  text-decoration: none;\n",
       "}\n",
       "\n",
       "div.sk-estimator.fitted:hover .sk-estimator-doc-link.fitted:hover,\n",
       ".sk-estimator-doc-link.fitted:hover,\n",
       "div.sk-label-container:hover .sk-estimator-doc-link.fitted:hover,\n",
       ".sk-estimator-doc-link.fitted:hover {\n",
       "  /* fitted */\n",
       "  background-color: var(--sklearn-color-fitted-level-3);\n",
       "  color: var(--sklearn-color-background);\n",
       "  text-decoration: none;\n",
       "}\n",
       "\n",
       "/* Span, style for the box shown on hovering the info icon */\n",
       ".sk-estimator-doc-link span {\n",
       "  display: none;\n",
       "  z-index: 9999;\n",
       "  position: relative;\n",
       "  font-weight: normal;\n",
       "  right: .2ex;\n",
       "  padding: .5ex;\n",
       "  margin: .5ex;\n",
       "  width: min-content;\n",
       "  min-width: 20ex;\n",
       "  max-width: 50ex;\n",
       "  color: var(--sklearn-color-text);\n",
       "  box-shadow: 2pt 2pt 4pt #999;\n",
       "  /* unfitted */\n",
       "  background: var(--sklearn-color-unfitted-level-0);\n",
       "  border: .5pt solid var(--sklearn-color-unfitted-level-3);\n",
       "}\n",
       "\n",
       ".sk-estimator-doc-link.fitted span {\n",
       "  /* fitted */\n",
       "  background: var(--sklearn-color-fitted-level-0);\n",
       "  border: var(--sklearn-color-fitted-level-3);\n",
       "}\n",
       "\n",
       ".sk-estimator-doc-link:hover span {\n",
       "  display: block;\n",
       "}\n",
       "\n",
       "/* \"?\"-specific style due to the `<a>` HTML tag */\n",
       "\n",
       "#sk-container-id-2 a.estimator_doc_link {\n",
       "  float: right;\n",
       "  font-size: 1rem;\n",
       "  line-height: 1em;\n",
       "  font-family: monospace;\n",
       "  background-color: var(--sklearn-color-background);\n",
       "  border-radius: 1rem;\n",
       "  height: 1rem;\n",
       "  width: 1rem;\n",
       "  text-decoration: none;\n",
       "  /* unfitted */\n",
       "  color: var(--sklearn-color-unfitted-level-1);\n",
       "  border: var(--sklearn-color-unfitted-level-1) 1pt solid;\n",
       "}\n",
       "\n",
       "#sk-container-id-2 a.estimator_doc_link.fitted {\n",
       "  /* fitted */\n",
       "  border: var(--sklearn-color-fitted-level-1) 1pt solid;\n",
       "  color: var(--sklearn-color-fitted-level-1);\n",
       "}\n",
       "\n",
       "/* On hover */\n",
       "#sk-container-id-2 a.estimator_doc_link:hover {\n",
       "  /* unfitted */\n",
       "  background-color: var(--sklearn-color-unfitted-level-3);\n",
       "  color: var(--sklearn-color-background);\n",
       "  text-decoration: none;\n",
       "}\n",
       "\n",
       "#sk-container-id-2 a.estimator_doc_link.fitted:hover {\n",
       "  /* fitted */\n",
       "  background-color: var(--sklearn-color-fitted-level-3);\n",
       "}\n",
       "</style><div id=\"sk-container-id-2\" class=\"sk-top-container\"><div class=\"sk-text-repr-fallback\"><pre>LogisticRegression(C=0.01, n_jobs=-1)</pre><b>In a Jupyter environment, please rerun this cell to show the HTML representation or trust the notebook. <br />On GitHub, the HTML representation is unable to render, please try loading this page with nbviewer.org.</b></div><div class=\"sk-container\" hidden><div class=\"sk-item\"><div class=\"sk-estimator fitted sk-toggleable\"><input class=\"sk-toggleable__control sk-hidden--visually\" id=\"sk-estimator-id-2\" type=\"checkbox\" checked><label for=\"sk-estimator-id-2\" class=\"sk-toggleable__label fitted sk-toggleable__label-arrow fitted\">&nbsp;&nbsp;LogisticRegression<a class=\"sk-estimator-doc-link fitted\" rel=\"noreferrer\" target=\"_blank\" href=\"https://scikit-learn.org/1.4/modules/generated/sklearn.linear_model.LogisticRegression.html\">?<span>Documentation for LogisticRegression</span></a><span class=\"sk-estimator-doc-link fitted\">i<span>Fitted</span></span></label><div class=\"sk-toggleable__content fitted\"><pre>LogisticRegression(C=0.01, n_jobs=-1)</pre></div> </div></div></div></div>"
      ],
      "text/plain": [
       "LogisticRegression(C=0.01, n_jobs=-1)"
      ]
     },
     "execution_count": 26,
     "metadata": {},
     "output_type": "execute_result"
    }
   ],
   "source": [
    "#Classifier For Wsize50\n",
    "\n",
    "# normalize 'per feature'\n",
    "f_mean2 = X_train_transformed2.mean(axis=0)\n",
    "f_std2 = X_train_transformed2.std(axis=0) + eps\n",
    "X_train_norm2 = (X_train_transformed2 - f_mean2) / f_std2\n",
    "\n",
    "#XGBoost classifier\n",
    "classifier_xgb2 = xgb.XGBClassifier(max_depth=5, n_estimators=100,n_jobs=-1)\n",
    "classifier_xgb2.fit(X_train_norm2, y_train2)\n",
    "\n",
    "##logistic regression\n",
    "classifier2 = LogisticRegression(penalty='l2', C=C, n_jobs=-1)\n",
    "classifier2.fit(X_train_norm2, y_train2)"
   ]
  },
  {
   "cell_type": "code",
   "execution_count": 27,
   "metadata": {},
   "outputs": [
    {
     "name": "stdout",
     "output_type": "stream",
     "text": [
      "[6464, 7367, 6624]\n",
      "[6464, 6595, 6619]\n",
      "Prediction:[6464, 6595, 6619]\n",
      "Real:[6460.0, 6592.0, 6620.0]\n"
     ]
    },
    {
     "data": {
      "image/png": "[encoded data removed]",
      "text/plain": [
       "<Figure size 1000x500 with 2 Axes>"
      ]
     },
     "metadata": {},
     "output_type": "display_data"
    }
   ],
   "source": [
    "# Example Testing with one well before start process prediciton on the entire testing dataset\n",
    "\n",
    "wsize1 = 201 \n",
    "wsize2 = 51\n",
    "well = 512322535\n",
    "input_variable=['GR']\n",
    "pred_column = ['None','Marcel','Sylvian', 'Conrad']\n",
    "\n",
    "#Predict Marker Depth without Constraint \n",
    "pred_m1, df_wm1 = get_markers_rocket_order(f_mean1, f_std1, df_test_log, well, pred_column, wsize1, input_variable, rocket_faster1, classifier_xgb1, classifier1, xgb = True)\n",
    "pred_m2, df_wm2 = get_markers_rocket_order(f_mean2, f_std2, df_test_log, well, pred_column, wsize2, input_variable, rocket_faster2, classifier_xgb2, classifier2, xgb = True)\n",
    "print(pred_m1)\n",
    "print(pred_m2)\n",
    "pred_m = [pred_m1[0]] + pred_m2[1:3]\n",
    "df_wm = df_wm1[['GR','Depth','None','Marcel']].merge(df_wm2[['Depth','Sylvian','Conrad']],how='left',on='Depth')\n",
    "td  = list(df_test_tops.loc[[well][0]]) \n",
    "print(f'Prediction:{pred_m}')\n",
    "print(f'Real:{td}')\n",
    "plot_pred_distribution(td, pred_m, df_wm)"
   ]
  },
  {
   "cell_type": "code",
   "execution_count": 15,
   "metadata": {},
   "outputs": [
    {
     "name": "stdout",
     "output_type": "stream",
     "text": [
      "Total time take 1031.0859670639038\n"
     ]
    }
   ],
   "source": [
    "#Predict ALL WITHOUT CONSTRAINTS\n",
    "#create the predicted_tops for all well, by looping trough the list\n",
    "start = time.time()\n",
    "wsize1 = 201\n",
    "wsize2 = 51\n",
    "input_variable=['GR']\n",
    "pred_column = ['None','Marcel', 'Sylvian', 'Conrad']\n",
    "df_tops_pred = pd.DataFrame(pd.DataFrame(columns = ['wellName','MARCEL', 'SYLVAIN', 'CONRAD']))\n",
    "\n",
    "for well in df_test_tops.index:\n",
    "    print(well)\n",
    "    pred_m1, df_wm1 = get_markers_rocket_order(f_mean1, f_std1, df_test_log, well, pred_column, wsize1, input_variable, rocket_faster1, classifier_xgb1, classifier1, xgb = True)\n",
    "    pred_m2, df_wm2 = get_markers_rocket_order(f_mean2, f_std2, df_test_log, well, pred_column, wsize2, input_variable, rocket_faster2, classifier_xgb2, classifier2, xgb = True)\n",
    "    pred_m = [pred_m1[0]] + pred_m2[1:3]\n",
    "    print(pred_m)\n",
    "    row = {'wellName':well, 'MARCEL':pred_m[0], 'SYLVAIN':pred_m[1], 'CONRAD':pred_m[2]}\n",
    "    row_df = pd.DataFrame([row])\n",
    "    df_tops_pred = pd.concat([df_tops_pred, row_df], axis = 0, ignore_index = \"True\")\n",
    "\n",
    "clear_output()\n",
    "ext = time.time() - start\n",
    "print('Total time take',ext)\n",
    "df_tops_pred['wellName']  = df_tops_pred['wellName'].astype(float)\n",
    "df_tops_pred = df_tops_pred.sort_values(by = ['wellName']).reset_index().drop(['index'], axis = 1)\n",
    "df_tops_pred = df_tops_pred.set_index('wellName')\n",
    "#df_tops_pred.head()"
   ]
  },
  {
   "cell_type": "code",
   "execution_count": 22,
   "metadata": {},
   "outputs": [
    {
     "name": "stdout",
     "output_type": "stream",
     "text": [
      "tolerance 20, recall 0.9866666666666667, mae 2.6433333333333335\n",
      "tolerance 15, recall 0.9866666666666667, mae 2.6433333333333335\n",
      "tolerance 10, recall 0.9666666666666667, mae 2.6433333333333335\n",
      "tolerance 5, recall 0.9066666666666666, mae 2.6433333333333335\n",
      "Largest Error MARCEL: 29.0\n",
      "Largest Error SYLVAIN: 11.0\n",
      "Largest Error CONRAD: 8.0\n",
      "Optimal Tolerance : 29\n"
     ]
    }
   ],
   "source": [
    "#call the evaluate function\n",
    "tr = [20, 15, 10, 5]\n",
    "for tolerance in tr:\n",
    "#recall is percentage of positive values that is correclty identified,\n",
    "# so true positive/ sum of num_all positive\n",
    "    recall, mae, df_result = recall_tops(df_test_tops,df_tops_pred,tolerance)\n",
    "    print(\"tolerance {0}, recall {1}, mae {2}\".format(tolerance, recall, mae))\n",
    "\n",
    "optimal_tolerance = find_optimal_tolerance(df_test_tops, df_tops_pred)\n",
    "print(f\"Largest Error MARCEL: {df_result['MARCEL_ae'].max()}\")\n",
    "print(f\"Largest Error SYLVAIN: {df_result['SYLVAIN_ae'].max()}\")\n",
    "print(f\"Largest Error CONRAD: {df_result['CONRAD_ae'].max()}\")\n",
    "print(\"Optimal Tolerance :\", optimal_tolerance)"
   ]
  }
 ],
 "metadata": {
  "kernelspec": {
   "display_name": "Python 3",
   "language": "python",
   "name": "python3"
  },
  "language_info": {
   "codemirror_mode": {
    "name": "ipython",
    "version": 3
   },
   "file_extension": ".py",
   "mimetype": "text/x-python",
   "name": "python",
   "nbconvert_exporter": "python",
   "pygments_lexer": "ipython3",
   "version": "3.10.7"
  }
 },
 "nbformat": 4,
 "nbformat_minor": 2
}
